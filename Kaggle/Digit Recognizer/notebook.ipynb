{
 "cells": [
  {
   "cell_type": "code",
   "execution_count": 1,
   "id": "4db8d6ff",
   "metadata": {},
   "outputs": [],
   "source": [
    "import pandas as pd\n",
    "import numpy as np"
   ]
  },
  {
   "cell_type": "code",
   "execution_count": 2,
   "id": "36178ed3",
   "metadata": {},
   "outputs": [],
   "source": [
    "train = pd.read_csv(\"Data/train.csv\")\n",
    "test = pd.read_csv(\"Data/test.csv\")"
   ]
  },
  {
   "cell_type": "code",
   "execution_count": 32,
   "id": "0d158377",
   "metadata": {},
   "outputs": [
    {
     "ename": "AttributeError",
     "evalue": "'numpy.ndarray' object has no attribute 'head'",
     "output_type": "error",
     "traceback": [
      "\u001b[1;31m---------------------------------------------------------------------------\u001b[0m",
      "\u001b[1;31mAttributeError\u001b[0m                            Traceback (most recent call last)",
      "\u001b[1;32m~\\AppData\\Local\\Temp/ipykernel_16620/642956413.py\u001b[0m in \u001b[0;36m<module>\u001b[1;34m\u001b[0m\n\u001b[1;32m----> 1\u001b[1;33m \u001b[0mtrain\u001b[0m\u001b[1;33m.\u001b[0m\u001b[0mhead\u001b[0m\u001b[1;33m(\u001b[0m\u001b[1;33m)\u001b[0m\u001b[1;33m\u001b[0m\u001b[1;33m\u001b[0m\u001b[0m\n\u001b[0m",
      "\u001b[1;31mAttributeError\u001b[0m: 'numpy.ndarray' object has no attribute 'head'"
     ]
    }
   ],
   "source": [
    "train.head()"
   ]
  },
  {
   "cell_type": "code",
   "execution_count": 9,
   "id": "e155df0e",
   "metadata": {},
   "outputs": [],
   "source": [
    "Y = train[\"label\"]\n",
    "train = train.drop(columns=\"label\", axis=1)"
   ]
  },
  {
   "cell_type": "code",
   "execution_count": 14,
   "id": "675eefd1",
   "metadata": {},
   "outputs": [
    {
     "data": {
      "text/plain": [
       "False"
      ]
     },
     "execution_count": 14,
     "metadata": {},
     "output_type": "execute_result"
    }
   ],
   "source": [
    "train.isnull().sum().any()"
   ]
  },
  {
   "cell_type": "code",
   "execution_count": 15,
   "id": "aa00635e",
   "metadata": {},
   "outputs": [
    {
     "data": {
      "text/plain": [
       "False"
      ]
     },
     "execution_count": 15,
     "metadata": {},
     "output_type": "execute_result"
    }
   ],
   "source": [
    "test.isnull().sum().any()"
   ]
  },
  {
   "cell_type": "code",
   "execution_count": 16,
   "id": "113b7db0",
   "metadata": {},
   "outputs": [],
   "source": [
    "train /= 255\n",
    "test /= 255"
   ]
  },
  {
   "cell_type": "code",
   "execution_count": 18,
   "id": "a64bb6d7",
   "metadata": {},
   "outputs": [],
   "source": [
    "import seaborn as sns"
   ]
  },
  {
   "cell_type": "code",
   "execution_count": 28,
   "id": "20b61bb2",
   "metadata": {},
   "outputs": [
    {
     "data": {
      "image/png": "[encoded data removed]",
      "text/plain": [
       "<Figure size 432x288 with 1 Axes>"
      ]
     },
     "metadata": {
      "needs_background": "light"
     },
     "output_type": "display_data"
    }
   ],
   "source": [
    "sns.countplot(y=Y);"
   ]
  },
  {
   "cell_type": "code",
   "execution_count": 29,
   "id": "55a45b4b",
   "metadata": {},
   "outputs": [],
   "source": [
    "train = train.values.reshape(-1, 28, 28, 1)\n",
    "test = test.values.reshape(-1, 28, 28, 1)"
   ]
  },
  {
   "cell_type": "code",
   "execution_count": 33,
   "id": "a0492b8f",
   "metadata": {},
   "outputs": [],
   "source": [
    "from keras.utils.np_utils import to_categorical"
   ]
  },
  {
   "cell_type": "code",
   "execution_count": 34,
   "id": "b089554a",
   "metadata": {},
   "outputs": [],
   "source": [
    "Y = to_categorical(Y, num_classes=10)"
   ]
  },
  {
   "cell_type": "code",
   "execution_count": 38,
   "id": "f973d83f",
   "metadata": {},
   "outputs": [
    {
     "data": {
      "text/plain": [
       "array([[0., 1., 0., ..., 0., 0., 0.],\n",
       "       [1., 0., 0., ..., 0., 0., 0.],\n",
       "       [0., 1., 0., ..., 0., 0., 0.],\n",
       "       ...,\n",
       "       [0., 0., 0., ..., 1., 0., 0.],\n",
       "       [0., 0., 0., ..., 0., 0., 0.],\n",
       "       [0., 0., 0., ..., 0., 0., 1.]], dtype=float32)"
      ]
     },
     "execution_count": 38,
     "metadata": {},
     "output_type": "execute_result"
    }
   ],
   "source": [
    "Y"
   ]
  },
  {
   "cell_type": "code",
   "execution_count": 40,
   "id": "d05f05a3",
   "metadata": {},
   "outputs": [
    {
     "data": {
      "text/plain": [
       "(42000, 10)"
      ]
     },
     "execution_count": 40,
     "metadata": {},
     "output_type": "execute_result"
    }
   ],
   "source": [
    "Y.shape"
   ]
  },
  {
   "cell_type": "code",
   "execution_count": 43,
   "id": "a4625e52",
   "metadata": {},
   "outputs": [],
   "source": [
    "from sklearn.model_selection import train_test_split"
   ]
  },
  {
   "cell_type": "code",
   "execution_count": 44,
   "id": "0acaf524",
   "metadata": {},
   "outputs": [],
   "source": [
    "x_train, x_val, y_train, y_val = train_test_split(train, Y, test_size=.15)"
   ]
  },
  {
   "cell_type": "code",
   "execution_count": 45,
   "id": "d2afc79f",
   "metadata": {},
   "outputs": [],
   "source": [
    "import matplotlib.pyplot as plt"
   ]
  },
  {
   "cell_type": "code",
   "execution_count": 50,
   "id": "ff469496",
   "metadata": {},
   "outputs": [
    {
     "data": {
      "image/png": "[encoded data removed]",
      "text/plain": [
       "<Figure size 864x576 with 10 Axes>"
      ]
     },
     "metadata": {
      "needs_background": "light"
     },
     "output_type": "display_data"
    }
   ],
   "source": [
    "fig = plt.figure(figsize=(12, 8))\n",
    "\n",
    "for i in range(10):\n",
    "    fig.add_subplot(2, 5, i + 1)\n",
    "    plt.imshow(x_train[i])\n",
    "    plt.axis(\"off\")"
   ]
  },
  {
   "cell_type": "markdown",
   "id": "165243c7",
   "metadata": {},
   "source": [
    " ## Building Model"
   ]
  },
  {
   "cell_type": "code",
   "execution_count": 52,
   "id": "30b1e412",
   "metadata": {},
   "outputs": [],
   "source": [
    "import tensorflow as tf"
   ]
  },
  {
   "cell_type": "code",
   "execution_count": 76,
   "id": "7c7b8e98",
   "metadata": {},
   "outputs": [],
   "source": [
    "model = tf.keras.models.Sequential()\n",
    "model.add(tf.keras.layers.Conv2D(32, kernel_size=(5, 5), padding=\"same\",\n",
    "                                activation=\"relu\", input_shape=(28, 28, 1)))\n",
    "model.add(tf.keras.layers.Conv2D(32, kernel_size=5, padding=\"same\",\n",
    "         activation=\"relu\"))\n",
    "model.add(tf.keras.layers.MaxPooling2D(pool_size=2, strides=2))\n",
    "model.add(tf.keras.layers.Conv2D(64, kernel_size=3, padding=\"same\",\n",
    "                                 activation=\"relu\"))\n",
    "model.add(tf.keras.layers.Conv2D(64, kernel_size=3, padding=\"same\",\n",
    "                                 activation=\"relu\"))\n",
    "model.add(tf.keras.layers.MaxPooling2D(pool_size=2, strides=2))\n",
    "model.add(tf.keras.layers.Dropout(0.30))\n",
    "\n",
    "model.add(tf.keras.layers.Flatten())\n",
    "model.add(tf.keras.layers.Dense(256, activation=\"relu\"))\n",
    "model.add(tf.keras.layers.Dense(256, activation=\"relu\"))\n",
    "model.add(tf.keras.layers.Dropout(0.5))\n",
    "model.add(tf.keras.layers.Dense(10, activation=\"softmax\"))"
   ]
  },
  {
   "cell_type": "code",
   "execution_count": 77,
   "id": "1c075e73",
   "metadata": {},
   "outputs": [
    {
     "name": "stdout",
     "output_type": "stream",
     "text": [
      "Model: \"sequential_12\"\n",
      "_________________________________________________________________\n",
      " Layer (type)                Output Shape              Param #   \n",
      "=================================================================\n",
      " conv2d_20 (Conv2D)          (None, 28, 28, 32)        832       \n",
      "                                                                 \n",
      " conv2d_21 (Conv2D)          (None, 28, 28, 32)        25632     \n",
      "                                                                 \n",
      " max_pooling2d_3 (MaxPooling  (None, 14, 14, 32)       0         \n",
      " 2D)                                                             \n",
      "                                                                 \n",
      " conv2d_22 (Conv2D)          (None, 14, 14, 64)        18496     \n",
      "                                                                 \n",
      " conv2d_23 (Conv2D)          (None, 14, 14, 64)        36928     \n",
      "                                                                 \n",
      " max_pooling2d_4 (MaxPooling  (None, 7, 7, 64)         0         \n",
      " 2D)                                                             \n",
      "                                                                 \n",
      " dropout (Dropout)           (None, 7, 7, 64)          0         \n",
      "                                                                 \n",
      " flatten (Flatten)           (None, 3136)              0         \n",
      "                                                                 \n",
      " dense (Dense)               (None, 256)               803072    \n",
      "                                                                 \n",
      " dense_1 (Dense)             (None, 256)               65792     \n",
      "                                                                 \n",
      " dropout_1 (Dropout)         (None, 256)               0         \n",
      "                                                                 \n",
      " dense_2 (Dense)             (None, 10)                2570      \n",
      "                                                                 \n",
      "=================================================================\n",
      "Total params: 953,322\n",
      "Trainable params: 953,322\n",
      "Non-trainable params: 0\n",
      "_________________________________________________________________\n"
     ]
    }
   ],
   "source": [
    "model.summary()"
   ]
  },
  {
   "cell_type": "code",
   "execution_count": 80,
   "id": "5344c53f",
   "metadata": {},
   "outputs": [],
   "source": [
    "model.compile(loss=tf.keras.losses.BinaryCrossentropy(),\n",
    "             metrics=[\"accuracy\"],\n",
    "             optimizer=tf.keras.optimizers.Adamax(beta_1=0.9, beta_2=0.999,\n",
    "                                                 epsilon=1e-07))"
   ]
  },
  {
   "cell_type": "code",
   "execution_count": 81,
   "id": "6e3317cd",
   "metadata": {},
   "outputs": [],
   "source": [
    "from keras.callbacks import ReduceLROnPlateau"
   ]
  },
  {
   "cell_type": "code",
   "execution_count": 82,
   "id": "6f765cd3",
   "metadata": {},
   "outputs": [],
   "source": [
    "learning_rate_reduction = ReduceLROnPlateau(monitor=\"val_acc\",\n",
    "                                           patience=3,\n",
    "                                           verbose=1,\n",
    "                                           factor=0.6,\n",
    "                                           min_lr=0.00001)"
   ]
  },
  {
   "cell_type": "code",
   "execution_count": 84,
   "id": "0abb5b4f",
   "metadata": {},
   "outputs": [],
   "source": [
    "from tensorflow.keras.preprocessing.image import ImageDataGenerator"
   ]
  },
  {
   "cell_type": "code",
   "execution_count": 86,
   "id": "f41f7a25",
   "metadata": {},
   "outputs": [],
   "source": [
    "dataGen = ImageDataGenerator(featurewise_center=False,\n",
    "                            samplewise_center=False,\n",
    "                            featurewise_std_normalization=False,\n",
    "                            samplewise_std_normalization=False,\n",
    "                            zca_whitening=False,\n",
    "                            rotation_range=5,\n",
    "                            zoom_range=0.1,\n",
    "                            width_shift_range=0.1,\n",
    "                            height_shift_range=0.1,\n",
    "                            horizontal_flip=False,\n",
    "                            vertical_flip=False)\n",
    "dataGen.fit(x_train)"
   ]
  },
  {
   "cell_type": "code",
   "execution_count": 88,
   "id": "63eea5d3",
   "metadata": {},
   "outputs": [
    {
     "name": "stdout",
     "output_type": "stream",
     "text": [
      "Epoch 1/25\n",
      "\r",
      "  1/396 [..............................] - ETA: 44s - loss: 0.0173 - accuracy: 0.9667"
     ]
    },
    {
     "name": "stderr",
     "output_type": "stream",
     "text": [
      "C:\\Users\\hdotd\\AppData\\Local\\Temp/ipykernel_16620/1761776565.py:1: UserWarning: `Model.fit_generator` is deprecated and will be removed in a future version. Please use `Model.fit`, which supports generators.\n",
      "  model_his = model.fit_generator(dataGen.flow(x_train, y_train, batch_size=90),\n"
     ]
    },
    {
     "name": "stdout",
     "output_type": "stream",
     "text": [
      "396/396 [==============================] - ETA: 0s - loss: 0.0232 - accuracy: 0.9675WARNING:tensorflow:Learning rate reduction is conditioned on metric `val_acc` which is not available. Available metrics are: loss,accuracy,val_loss,val_accuracy,lr\n",
      "396/396 [==============================] - 10s 24ms/step - loss: 0.0232 - accuracy: 0.9675 - val_loss: 0.0105 - val_accuracy: 0.9816 - lr: 0.0010\n",
      "Epoch 2/25\n",
      "394/396 [============================>.] - ETA: 0s - loss: 0.0191 - accuracy: 0.9729WARNING:tensorflow:Learning rate reduction is conditioned on metric `val_acc` which is not available. Available metrics are: loss,accuracy,val_loss,val_accuracy,lr\n",
      "396/396 [==============================] - 9s 23ms/step - loss: 0.0191 - accuracy: 0.9730 - val_loss: 0.0077 - val_accuracy: 0.9868 - lr: 0.0010\n",
      "Epoch 3/25\n",
      "396/396 [==============================] - ETA: 0s - loss: 0.0167 - accuracy: 0.9751WARNING:tensorflow:Learning rate reduction is conditioned on metric `val_acc` which is not available. Available metrics are: loss,accuracy,val_loss,val_accuracy,lr\n",
      "396/396 [==============================] - 9s 24ms/step - loss: 0.0167 - accuracy: 0.9751 - val_loss: 0.0067 - val_accuracy: 0.9889 - lr: 0.0010\n",
      "Epoch 4/25\n",
      "394/396 [============================>.] - ETA: 0s - loss: 0.0146 - accuracy: 0.9795WARNING:tensorflow:Learning rate reduction is conditioned on metric `val_acc` which is not available. Available metrics are: loss,accuracy,val_loss,val_accuracy,lr\n",
      "396/396 [==============================] - 9s 23ms/step - loss: 0.0147 - accuracy: 0.9794 - val_loss: 0.0060 - val_accuracy: 0.9905 - lr: 0.0010\n",
      "Epoch 5/25\n",
      "394/396 [============================>.] - ETA: 0s - loss: 0.0132 - accuracy: 0.9811WARNING:tensorflow:Learning rate reduction is conditioned on metric `val_acc` which is not available. Available metrics are: loss,accuracy,val_loss,val_accuracy,lr\n",
      "396/396 [==============================] - 9s 23ms/step - loss: 0.0132 - accuracy: 0.9810 - val_loss: 0.0066 - val_accuracy: 0.9890 - lr: 0.0010\n",
      "Epoch 6/25\n",
      "394/396 [============================>.] - ETA: 0s - loss: 0.0121 - accuracy: 0.9824WARNING:tensorflow:Learning rate reduction is conditioned on metric `val_acc` which is not available. Available metrics are: loss,accuracy,val_loss,val_accuracy,lr\n",
      "396/396 [==============================] - 9s 23ms/step - loss: 0.0120 - accuracy: 0.9825 - val_loss: 0.0054 - val_accuracy: 0.9916 - lr: 0.0010\n",
      "Epoch 7/25\n",
      "394/396 [============================>.] - ETA: 0s - loss: 0.0112 - accuracy: 0.9840WARNING:tensorflow:Learning rate reduction is conditioned on metric `val_acc` which is not available. Available metrics are: loss,accuracy,val_loss,val_accuracy,lr\n",
      "396/396 [==============================] - 9s 23ms/step - loss: 0.0112 - accuracy: 0.9840 - val_loss: 0.0068 - val_accuracy: 0.9902 - lr: 0.0010\n",
      "Epoch 8/25\n",
      "395/396 [============================>.] - ETA: 0s - loss: 0.0102 - accuracy: 0.9848WARNING:tensorflow:Learning rate reduction is conditioned on metric `val_acc` which is not available. Available metrics are: loss,accuracy,val_loss,val_accuracy,lr\n",
      "396/396 [==============================] - 9s 24ms/step - loss: 0.0102 - accuracy: 0.9848 - val_loss: 0.0055 - val_accuracy: 0.9911 - lr: 0.0010\n",
      "Epoch 9/25\n",
      "394/396 [============================>.] - ETA: 0s - loss: 0.0097 - accuracy: 0.9865WARNING:tensorflow:Learning rate reduction is conditioned on metric `val_acc` which is not available. Available metrics are: loss,accuracy,val_loss,val_accuracy,lr\n",
      "396/396 [==============================] - 9s 23ms/step - loss: 0.0097 - accuracy: 0.9864 - val_loss: 0.0053 - val_accuracy: 0.9924 - lr: 0.0010\n",
      "Epoch 10/25\n",
      "394/396 [============================>.] - ETA: 0s - loss: 0.0091 - accuracy: 0.9864WARNING:tensorflow:Learning rate reduction is conditioned on metric `val_acc` which is not available. Available metrics are: loss,accuracy,val_loss,val_accuracy,lr\n",
      "396/396 [==============================] - 9s 23ms/step - loss: 0.0091 - accuracy: 0.9865 - val_loss: 0.0049 - val_accuracy: 0.9917 - lr: 0.0010\n",
      "Epoch 11/25\n",
      "394/396 [============================>.] - ETA: 0s - loss: 0.0082 - accuracy: 0.9883WARNING:tensorflow:Learning rate reduction is conditioned on metric `val_acc` which is not available. Available metrics are: loss,accuracy,val_loss,val_accuracy,lr\n",
      "396/396 [==============================] - 9s 24ms/step - loss: 0.0081 - accuracy: 0.9883 - val_loss: 0.0048 - val_accuracy: 0.9917 - lr: 0.0010\n",
      "Epoch 12/25\n",
      "394/396 [============================>.] - ETA: 0s - loss: 0.0077 - accuracy: 0.9880WARNING:tensorflow:Learning rate reduction is conditioned on metric `val_acc` which is not available. Available metrics are: loss,accuracy,val_loss,val_accuracy,lr\n",
      "396/396 [==============================] - 9s 23ms/step - loss: 0.0077 - accuracy: 0.9880 - val_loss: 0.0041 - val_accuracy: 0.9932 - lr: 0.0010\n",
      "Epoch 13/25\n",
      "396/396 [==============================] - ETA: 0s - loss: 0.0074 - accuracy: 0.9891WARNING:tensorflow:Learning rate reduction is conditioned on metric `val_acc` which is not available. Available metrics are: loss,accuracy,val_loss,val_accuracy,lr\n",
      "396/396 [==============================] - 9s 23ms/step - loss: 0.0074 - accuracy: 0.9891 - val_loss: 0.0044 - val_accuracy: 0.9929 - lr: 0.0010\n",
      "Epoch 14/25\n",
      "394/396 [============================>.] - ETA: 0s - loss: 0.0070 - accuracy: 0.9905WARNING:tensorflow:Learning rate reduction is conditioned on metric `val_acc` which is not available. Available metrics are: loss,accuracy,val_loss,val_accuracy,lr\n",
      "396/396 [==============================] - 9s 23ms/step - loss: 0.0070 - accuracy: 0.9905 - val_loss: 0.0043 - val_accuracy: 0.9930 - lr: 0.0010\n",
      "Epoch 15/25\n",
      "396/396 [==============================] - ETA: 0s - loss: 0.0067 - accuracy: 0.9900WARNING:tensorflow:Learning rate reduction is conditioned on metric `val_acc` which is not available. Available metrics are: loss,accuracy,val_loss,val_accuracy,lr\n",
      "396/396 [==============================] - 9s 24ms/step - loss: 0.0067 - accuracy: 0.9900 - val_loss: 0.0039 - val_accuracy: 0.9940 - lr: 0.0010\n",
      "Epoch 16/25\n",
      "394/396 [============================>.] - ETA: 0s - loss: 0.0061 - accuracy: 0.9911WARNING:tensorflow:Learning rate reduction is conditioned on metric `val_acc` which is not available. Available metrics are: loss,accuracy,val_loss,val_accuracy,lr\n",
      "396/396 [==============================] - 9s 23ms/step - loss: 0.0061 - accuracy: 0.9911 - val_loss: 0.0042 - val_accuracy: 0.9937 - lr: 0.0010\n",
      "Epoch 17/25\n",
      "394/396 [============================>.] - ETA: 0s - loss: 0.0062 - accuracy: 0.9909WARNING:tensorflow:Learning rate reduction is conditioned on metric `val_acc` which is not available. Available metrics are: loss,accuracy,val_loss,val_accuracy,lr\n",
      "396/396 [==============================] - 9s 23ms/step - loss: 0.0062 - accuracy: 0.9909 - val_loss: 0.0042 - val_accuracy: 0.9935 - lr: 0.0010\n",
      "Epoch 18/25\n",
      "394/396 [============================>.] - ETA: 0s - loss: 0.0059 - accuracy: 0.9912WARNING:tensorflow:Learning rate reduction is conditioned on metric `val_acc` which is not available. Available metrics are: loss,accuracy,val_loss,val_accuracy,lr\n",
      "396/396 [==============================] - 9s 23ms/step - loss: 0.0059 - accuracy: 0.9912 - val_loss: 0.0045 - val_accuracy: 0.9937 - lr: 0.0010\n",
      "Epoch 19/25\n",
      "394/396 [============================>.] - ETA: 0s - loss: 0.0058 - accuracy: 0.9911WARNING:tensorflow:Learning rate reduction is conditioned on metric `val_acc` which is not available. Available metrics are: loss,accuracy,val_loss,val_accuracy,lr\n",
      "396/396 [==============================] - 9s 23ms/step - loss: 0.0058 - accuracy: 0.9911 - val_loss: 0.0037 - val_accuracy: 0.9948 - lr: 0.0010\n",
      "Epoch 20/25\n",
      "396/396 [==============================] - ETA: 0s - loss: 0.0053 - accuracy: 0.9923WARNING:tensorflow:Learning rate reduction is conditioned on metric `val_acc` which is not available. Available metrics are: loss,accuracy,val_loss,val_accuracy,lr\n",
      "396/396 [==============================] - 9s 24ms/step - loss: 0.0053 - accuracy: 0.9923 - val_loss: 0.0041 - val_accuracy: 0.9933 - lr: 0.0010\n",
      "Epoch 21/25\n",
      "396/396 [==============================] - ETA: 0s - loss: 0.0054 - accuracy: 0.9922WARNING:tensorflow:Learning rate reduction is conditioned on metric `val_acc` which is not available. Available metrics are: loss,accuracy,val_loss,val_accuracy,lr\n"
     ]
    },
    {
     "name": "stdout",
     "output_type": "stream",
     "text": [
      "396/396 [==============================] - 9s 23ms/step - loss: 0.0054 - accuracy: 0.9922 - val_loss: 0.0040 - val_accuracy: 0.9940 - lr: 0.0010\n",
      "Epoch 22/25\n",
      "394/396 [============================>.] - ETA: 0s - loss: 0.0051 - accuracy: 0.9926WARNING:tensorflow:Learning rate reduction is conditioned on metric `val_acc` which is not available. Available metrics are: loss,accuracy,val_loss,val_accuracy,lr\n",
      "396/396 [==============================] - 9s 23ms/step - loss: 0.0051 - accuracy: 0.9926 - val_loss: 0.0041 - val_accuracy: 0.9944 - lr: 0.0010\n",
      "Epoch 23/25\n",
      "395/396 [============================>.] - ETA: 0s - loss: 0.0049 - accuracy: 0.9931WARNING:tensorflow:Learning rate reduction is conditioned on metric `val_acc` which is not available. Available metrics are: loss,accuracy,val_loss,val_accuracy,lr\n",
      "396/396 [==============================] - 10s 24ms/step - loss: 0.0050 - accuracy: 0.9931 - val_loss: 0.0041 - val_accuracy: 0.9937 - lr: 0.0010\n",
      "Epoch 24/25\n",
      "394/396 [============================>.] - ETA: 0s - loss: 0.0049 - accuracy: 0.9931WARNING:tensorflow:Learning rate reduction is conditioned on metric `val_acc` which is not available. Available metrics are: loss,accuracy,val_loss,val_accuracy,lr\n",
      "396/396 [==============================] - 9s 23ms/step - loss: 0.0049 - accuracy: 0.9931 - val_loss: 0.0035 - val_accuracy: 0.9946 - lr: 0.0010\n",
      "Epoch 25/25\n",
      "396/396 [==============================] - ETA: 0s - loss: 0.0047 - accuracy: 0.9934WARNING:tensorflow:Learning rate reduction is conditioned on metric `val_acc` which is not available. Available metrics are: loss,accuracy,val_loss,val_accuracy,lr\n",
      "396/396 [==============================] - 9s 24ms/step - loss: 0.0047 - accuracy: 0.9934 - val_loss: 0.0038 - val_accuracy: 0.9943 - lr: 0.0010\n"
     ]
    }
   ],
   "source": [
    "model_his = model.fit_generator(dataGen.flow(x_train, y_train, batch_size=90),\n",
    "                               validation_data=(x_val, y_val),\n",
    "                               steps_per_epoch=x_train.shape[0] // 90,\n",
    "                               callbacks=[learning_rate_reduction],\n",
    "                               epochs=25)"
   ]
  },
  {
   "cell_type": "code",
   "execution_count": 110,
   "id": "8ad748c7",
   "metadata": {},
   "outputs": [
    {
     "data": {
      "image/png": "[encoded data removed]",
      "text/plain": [
       "<Figure size 864x432 with 1 Axes>"
      ]
     },
     "metadata": {
      "needs_background": "light"
     },
     "output_type": "display_data"
    }
   ],
   "source": [
    "fig = plt.figure(figsize=(12, 6))\n",
    "plt.plot(model_his.history['accuracy'],color='b', label=\"Training accuracy\")\n",
    "plt.plot(model_his.history['val_accuracy'],color='r', label=\"Validation accuracy\")\n",
    "plt.title('Model accuracy')\n",
    "plt.ylabel('Accuracy')\n",
    "plt.xlabel('Epoch')\n",
    "plt.legend([\"Train\"], loc='upper left')\n",
    "plt.show()"
   ]
  },
  {
   "cell_type": "code",
   "execution_count": 114,
   "id": "6d96d694",
   "metadata": {},
   "outputs": [
    {
     "data": {
      "image/png": "[encoded data removed]",
      "text/plain": [
       "<Figure size 864x432 with 1 Axes>"
      ]
     },
     "metadata": {
      "needs_background": "light"
     },
     "output_type": "display_data"
    }
   ],
   "source": [
    "fig = plt.figure(figsize=(12, 6))\n",
    "plt.plot(model_his.epoch,model_his.history['loss'],color='b', label=\"Training loss\")\n",
    "plt.plot(model_his.epoch,model_his.history['val_loss'],color='r', label=\"Validation loss\")\n",
    "plt.title('Model loss')\n",
    "plt.ylabel('Loss')\n",
    "plt.xlabel('Epoch')\n",
    "plt.legend([\"Train\"], loc='upper left')\n",
    "plt.show()"
   ]
  },
  {
   "cell_type": "code",
   "execution_count": 115,
   "id": "5ce988b5",
   "metadata": {},
   "outputs": [],
   "source": [
    "y_preds = model.predict(x_val)"
   ]
  },
  {
   "cell_type": "code",
   "execution_count": 118,
   "id": "c2b9b3f1",
   "metadata": {},
   "outputs": [],
   "source": [
    "y_pred_classes = np.argmax(y_preds, axis=1)"
   ]
  },
  {
   "cell_type": "code",
   "execution_count": 122,
   "id": "a408c1dc",
   "metadata": {},
   "outputs": [
    {
     "data": {
      "text/plain": [
       "array([6, 6, 0, ..., 0, 5, 2], dtype=int64)"
      ]
     },
     "execution_count": 122,
     "metadata": {},
     "output_type": "execute_result"
    }
   ],
   "source": [
    "y_pred_classes"
   ]
  },
  {
   "cell_type": "code",
   "execution_count": 123,
   "id": "304bf013",
   "metadata": {},
   "outputs": [],
   "source": [
    "y_true = np.argmax(y_val, axis = 1)"
   ]
  },
  {
   "cell_type": "code",
   "execution_count": 124,
   "id": "ff921036",
   "metadata": {},
   "outputs": [],
   "source": [
    "from sklearn.metrics import confusion_matrix"
   ]
  },
  {
   "cell_type": "code",
   "execution_count": 127,
   "id": "f69280b2",
   "metadata": {},
   "outputs": [
    {
     "data": {
      "image/png": "[encoded data removed]",
      "text/plain": [
       "<Figure size 576x576 with 2 Axes>"
      ]
     },
     "metadata": {
      "needs_background": "light"
     },
     "output_type": "display_data"
    }
   ],
   "source": [
    "confusion_mtx = confusion_matrix(y_true, y_pred_classes) \n",
    "# plot the confusion matrix\n",
    "f,ax = plt.subplots(figsize=(8, 8))\n",
    "sns.heatmap(confusion_mtx, annot=True, linewidths=0.01,\n",
    "            linecolor=\"gray\", fmt= '.1f',ax=ax)\n",
    "plt.xlabel(\"Predicted label\")\n",
    "plt.ylabel(\"True label\")\n",
    "plt.title(\"Confusion Matrix\")\n",
    "plt.show()"
   ]
  },
  {
   "cell_type": "code",
   "execution_count": 128,
   "id": "ca9468c4",
   "metadata": {},
   "outputs": [
    {
     "name": "stdout",
     "output_type": "stream",
     "text": [
      "197/197 [==============================] - 1s 5ms/step - loss: 0.0038 - accuracy: 0.9943\n"
     ]
    }
   ],
   "source": [
    "eva = model.evaluate(x_val, y_val)"
   ]
  },
  {
   "cell_type": "code",
   "execution_count": 129,
   "id": "6eb3577a",
   "metadata": {},
   "outputs": [
    {
     "data": {
      "text/plain": [
       "[0.003778688609600067, 0.9942857027053833]"
      ]
     },
     "execution_count": 129,
     "metadata": {},
     "output_type": "execute_result"
    }
   ],
   "source": [
    "eva"
   ]
  }
 ],
 "metadata": {
  "kernelspec": {
   "display_name": "tfgpu",
   "language": "python",
   "name": "tfgpu"
  },
  "language_info": {
   "codemirror_mode": {
    "name": "ipython",
    "version": 3
   },
   "file_extension": ".py",
   "mimetype": "text/x-python",
   "name": "python",
   "nbconvert_exporter": "python",
   "pygments_lexer": "ipython3",
   "version": "3.9.7"
  }
 },
 "nbformat": 4,
 "nbformat_minor": 5
}
