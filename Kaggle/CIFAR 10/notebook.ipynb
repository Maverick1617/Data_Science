{
  "cells": [
    {
      "cell_type": "markdown",
      "id": "7293d0b8",
      "metadata": {
        "id": "7293d0b8"
      },
      "source": [
        "# CIFAR-10 Python - Kaggle"
      ]
    },
    {
      "cell_type": "code",
      "execution_count": 1,
      "id": "53a222a5",
      "metadata": {
        "id": "53a222a5"
      },
      "outputs": [],
      "source": [
        "import torch\n",
        "import torch.nn as nn\n",
        "import numpy as np\n",
        "import pandas as pd\n",
        "import matplotlib.pyplot as plt\n",
        "import seaborn as sns\n",
        "from sklearn.model_selection import train_test_split\n",
        "from torch.utils.data import DataLoader, TensorDataset\n",
        "import torchvision\n",
        "import torchvision.transforms as T\n",
        "from torchvision import datasets\n",
        "import os\n",
        "import time\n",
        "import torch.nn.functional as F\n",
        "import warnings\n",
        "warnings.filterwarnings(\"ignore\")"
      ]
    },
    {
      "cell_type": "code",
      "execution_count": 2,
      "id": "44810354",
      "metadata": {
        "colab": {
          "base_uri": "https://localhost:8080/",
          "height": 36
        },
        "id": "44810354",
        "outputId": "d82b6003-8c9a-4a7a-a02b-f2338da6adfa"
      },
      "outputs": [
        {
          "output_type": "execute_result",
          "data": {
            "text/plain": [
              "'cuda:0'"
            ],
            "application/vnd.google.colaboratory.intrinsic+json": {
              "type": "string"
            }
          },
          "metadata": {},
          "execution_count": 2
        }
      ],
      "source": [
        "device = \"cuda:0\" if torch.cuda.is_available() else \"cpu\"\n",
        "device"
      ]
    },
    {
      "cell_type": "markdown",
      "id": "61a11d35",
      "metadata": {
        "id": "61a11d35"
      },
      "source": [
        "## Preparing DataLoaders"
      ]
    },
    {
      "cell_type": "code",
      "execution_count": 3,
      "id": "266f163a",
      "metadata": {
        "id": "266f163a"
      },
      "outputs": [],
      "source": [
        "train_transform = T.Compose([\n",
        "    T.RandomHorizontalFlip(p=.40),\n",
        "    T.RandomRotation(30),\n",
        "    T.ToTensor(),\n",
        "    T.Normalize([0.5, 0.5, 0.5], [0.5, 0.5, 0.5])\n",
        "])\n",
        "\n",
        "test_transform = T.Compose([\n",
        "    T.ToTensor(),\n",
        "    T.Normalize([0.5, 0.5, 0.5], [0.5, 0.5, 0.5])\n",
        "])\n",
        "\n",
        "def get_data_loaders(train_t, test_t, batch_size=32, num_workers=0, shuffle=True):\n",
        "    \n",
        "    \n",
        "    train_data = torchvision.datasets.CIFAR10(root=\".\", train=True,\n",
        "                                             download=True, transform=train_t)\n",
        "    train_loader = DataLoader(train_data, batch_size=batch_size, shuffle=shuffle, num_workers=num_workers)\n",
        "    \n",
        "    \n",
        "    test_data = torchvision.datasets.CIFAR10(root=\".\", train=False,\n",
        "                                         download=True, transform=test_t)\n",
        "    test_loader = DataLoader(test_data, batch_size=batch_size, num_workers=num_workers, shuffle=shuffle)\n",
        "    \n",
        "    return train_loader, test_loader"
      ]
    },
    {
      "cell_type": "code",
      "execution_count": 4,
      "id": "42d63b44",
      "metadata": {
        "colab": {
          "base_uri": "https://localhost:8080/",
          "height": 101,
          "referenced_widgets": [
            "6da60f7537b9412bbfdfcb7c718ceb50",
            "e2d972f821d843c0bb5e132f21b08925",
            "c314359b0bd041618a2bac55a9f910e9",
            "7deca6fb12574789bdd8d159adecb8b5",
            "d9f84be92cbe42f6a904a5120ba7695c",
            "df53f280d15b4afb9e8aff4f66480e8e",
            "a13b6f75de7944b88052b63e9cf6cc03",
            "3dec26aef6ee49028dbe979b68d39e4d",
            "f4eb6e19f06d40ffb88a254228febdf5",
            "975d2316614f4b6d9d53f2ea0e4eb720",
            "a64185bff6664f4f8a5e87dcf6b1f7a5"
          ]
        },
        "id": "42d63b44",
        "outputId": "3368647a-aee6-4b8a-ed6a-5fc070f9ef4b"
      },
      "outputs": [
        {
          "output_type": "stream",
          "name": "stdout",
          "text": [
            "Downloading https://www.cs.toronto.edu/~kriz/cifar-10-python.tar.gz to ./cifar-10-python.tar.gz\n"
          ]
        },
        {
          "output_type": "display_data",
          "data": {
            "text/plain": [
              "  0%|          | 0/170498071 [00:00<?, ?it/s]"
            ],
            "application/vnd.jupyter.widget-view+json": {
              "version_major": 2,
              "version_minor": 0,
              "model_id": "6da60f7537b9412bbfdfcb7c718ceb50"
            }
          },
          "metadata": {}
        },
        {
          "output_type": "stream",
          "name": "stdout",
          "text": [
            "Extracting ./cifar-10-python.tar.gz to .\n",
            "Files already downloaded and verified\n"
          ]
        }
      ],
      "source": [
        "trainloader, testloader = get_data_loaders(train_transform, test_transform)"
      ]
    },
    {
      "cell_type": "code",
      "execution_count": 5,
      "id": "b44ad552",
      "metadata": {
        "id": "b44ad552"
      },
      "outputs": [],
      "source": [
        "classes_dict = {0 : 'airplane', \n",
        "                1 : 'automobile', 2: 'bird', 3 : 'cat', \n",
        "                4 : 'deer', 5: 'dog', 6:'frog', \n",
        "                7 : 'horse', 8 : 'ship', 9 : 'truck'}"
      ]
    },
    {
      "cell_type": "markdown",
      "id": "52715528",
      "metadata": {
        "id": "52715528"
      },
      "source": [
        "## Building Model"
      ]
    },
    {
      "cell_type": "code",
      "execution_count": 6,
      "id": "6e8e6203",
      "metadata": {
        "id": "6e8e6203"
      },
      "outputs": [],
      "source": [
        "class Bottleneck(nn.Module):\n",
        "    def __init__(self, in_channels, growth_rate):\n",
        "        super().__init__()\n",
        "        inner_channel = 4 * growth_rate\n",
        "        \n",
        "        self.bottle_neck = nn.Sequential(\n",
        "            nn.BatchNorm2d(in_channels),\n",
        "            nn.ReLU(inplace = True),\n",
        "            nn.Conv2d(in_channels, inner_channel, kernel_size = 1, bias = False),\n",
        "            nn.BatchNorm2d(inner_channel),\n",
        "            nn.ReLU(inplace = True),\n",
        "            nn.Conv2d(inner_channel, growth_rate, kernel_size = 3, padding = 1, bias = False)\n",
        "        )\n",
        "        \n",
        "    def forward(self, x):\n",
        "        return torch.cat([x, self.bottle_neck(x)], 1)\n",
        "    \n",
        "class Transition(nn.Module):\n",
        "    def __init__(self, in_channels, out_channels):\n",
        "        super().__init__()\n",
        "        self.down_sample = nn.Sequential(\n",
        "            nn.BatchNorm2d(in_channels),\n",
        "            nn.Conv2d(in_channels, out_channels, 1, bias = False),\n",
        "            nn.AvgPool2d(2, stride = 2)\n",
        "        )\n",
        "        \n",
        "    def forward(self, x):\n",
        "        return self.down_sample(x)\n",
        "\n",
        "    \n",
        "class DenseNet(nn.Module):\n",
        "    def __init__(self, block, nblocks, growth_rate = 12, reduction = 0.5, num_class = 10):\n",
        "        super().__init__()\n",
        "        self.growth_rate = growth_rate\n",
        "        \n",
        "        inner_channels = 2 * growth_rate\n",
        "        \n",
        "        self.conv1 = nn.Conv2d(3, inner_channels, kernel_size = 3, padding = 1, bias = False)\n",
        "        self.features = nn.Sequential()\n",
        "        \n",
        "        for index in range(len(nblocks) - 1):\n",
        "            self.features.add_module('dense_block_layer_{}'.format(index), self._make_dense_layers(block, inner_channels, nblocks[index]))\n",
        "            inner_channels += growth_rate * nblocks[index]\n",
        "            \n",
        "            out_channels = int(reduction * inner_channels)\n",
        "            \n",
        "            self.features.add_module('transition_layer_{}'.format(index), Transition(inner_channels, out_channels))\n",
        "            inner_channels = out_channels\n",
        "            \n",
        "        self.features.add_module('dense_block{}'.format(len(nblocks) - 1), self._make_dense_layers(block, inner_channels, nblocks[len(nblocks) - 1]))\n",
        "        inner_channels += growth_rate * nblocks[len(nblocks) - 1]\n",
        "        self.features.add_module('bn', nn.BatchNorm2d(inner_channels))\n",
        "        self.features.add_module('activation', nn.ReLU(inplace = True))\n",
        "        \n",
        "        self.avgpool = nn.AdaptiveAvgPool2d((1, 1))\n",
        "        \n",
        "        self.linear = nn.Linear(inner_channels, num_class)\n",
        "        \n",
        "    def forward(self, x):\n",
        "        output = self.conv1(x)\n",
        "        output = self.features(output)\n",
        "        output = self.avgpool(output)\n",
        "        output = output.view(output.size()[0], -1)\n",
        "        output = self.linear(output)\n",
        "        return output\n",
        "    \n",
        "    def _make_dense_layers(self, block, in_channels, nblocks):\n",
        "        dense_block = nn.Sequential()\n",
        "        for index in range(nblocks):\n",
        "            dense_block.add_module('bottle_neck_layer_{}'.format(index), block(in_channels, self.growth_rate))\n",
        "            in_channels += self.growth_rate\n",
        "        return dense_block\n",
        "    \n",
        "def densenet121(activation = 'relu'):\n",
        "    return DenseNet(Bottleneck, [6, 12, 24, 16], growth_rate = 32)\n",
        "\n",
        "def densenet169(activation = 'relu'):\n",
        "    return DenseNet(Bottleneck, [6, 12, 32, 32], growth_rate = 32)\n",
        "\n",
        "def densenet201(activation = 'relu'):\n",
        "    return DenseNet(Bottleneck, [6, 12, 48, 32], growth_rate = 32)\n",
        "\n",
        "def densenet161(activation = 'relu'):\n",
        "    return DenseNet(Bottleneck, [6, 12, 36, 24], growth_rate = 48)"
      ]
    },
    {
      "cell_type": "code",
      "execution_count": 7,
      "id": "ca84720d",
      "metadata": {
        "id": "ca84720d"
      },
      "outputs": [],
      "source": [
        "epochs = 5\n",
        "lr = 0.001\n",
        "model = densenet121()"
      ]
    },
    {
      "cell_type": "code",
      "execution_count": 8,
      "id": "629e9f4f",
      "metadata": {
        "id": "629e9f4f"
      },
      "outputs": [],
      "source": [
        "train_stats = pd.DataFrame(columns = ['Epoch', 'Time per epoch', \n",
        "                                      'Avg time per step', 'Train loss',\n",
        "                                     'Train Accuracy', \n",
        "                                      'Train Top-3 Accuracy', \n",
        "                                      'Test Loss', \n",
        "                                      'Test Accuracy', \n",
        "                                      'Test Top-3 Accuracy'])\n",
        "criterion = nn.CrossEntropyLoss()\n",
        "optimizer = torch.optim.Adam(model.parameters(), lr=lr)"
      ]
    },
    {
      "cell_type": "code",
      "execution_count": 9,
      "id": "93878f8d",
      "metadata": {
        "colab": {
          "base_uri": "https://localhost:8080/"
        },
        "id": "93878f8d",
        "outputId": "1d176b2c-cca8-429c-d4c0-97a098cf5bb2"
      },
      "outputs": [
        {
          "output_type": "stream",
          "name": "stdout",
          "text": [
            "Epoch 1 / 5.. Time per epoch : 588.5239..Average time per step : 0.3765..Train loss : 1.5590..Train Accuracy : 0.4264..Top-3 train Accuracy : 0.7629..Test loss : 1.3045..Test Accuracy : 0.5388..Top-3 test Accuracy : 0.8336..\n",
            "Epoch 2 / 5.. Time per epoch : 586.2432..Average time per step : 0.3751..Train loss : 1.1631..Train Accuracy : 0.5796..Top-3 train Accuracy : 0.8691..Test loss : 0.9386..Test Accuracy : 0.6682..Top-3 test Accuracy : 0.9130..\n",
            "Epoch 3 / 5.. Time per epoch : 589.4126..Average time per step : 0.3771..Train loss : 0.9889..Train Accuracy : 0.6478..Top-3 train Accuracy : 0.9007..Test loss : 0.8617..Test Accuracy : 0.6932..Top-3 test Accuracy : 0.9251..\n",
            "Epoch 4 / 5.. Time per epoch : 585.1671..Average time per step : 0.3744..Train loss : 0.8813..Train Accuracy : 0.6898..Top-3 train Accuracy : 0.9175..Test loss : 0.7881..Test Accuracy : 0.7202..Top-3 test Accuracy : 0.9378..\n",
            "Epoch 5 / 5.. Time per epoch : 587.7517..Average time per step : 0.3760..Train loss : 0.7797..Train Accuracy : 0.7237..Top-3 train Accuracy : 0.9334..Test loss : 0.7093..Test Accuracy : 0.7537..Top-3 test Accuracy : 0.9463..\n"
          ]
        }
      ],
      "source": [
        "model.to(device)\n",
        "\n",
        "steps = 0\n",
        "running_loss = 0\n",
        "for epoch in range(epochs):\n",
        "    \n",
        "    since = time.time()\n",
        "    \n",
        "    train_accuracy = 0\n",
        "    top3_train_accuracy = 0\n",
        "    for inputs, labels in trainloader:\n",
        "        steps += 1\n",
        "        inputs, labels = inputs.to(device), labels.to(device)\n",
        "        \n",
        "        optimizer.zero_grad()\n",
        "        \n",
        "        logps = model.forward(inputs)\n",
        "        loss = criterion(logps, labels)\n",
        "        loss.backward()\n",
        "        optimizer.step()\n",
        "        \n",
        "        running_loss += loss.item()\n",
        "        \n",
        "        ps = torch.exp(logps)\n",
        "        top_p, top_class = ps.topk(1, dim = 1)\n",
        "        equals = top_class == labels.view(*top_class.shape)\n",
        "        train_accuracy += torch.mean(equals.type(torch.FloatTensor)).item()\n",
        "        \n",
        "        np_top3_class = ps.topk(3, dim = 1)[1].cpu().numpy()\n",
        "        target_numpy = labels.cpu().numpy()\n",
        "        top3_train_accuracy += np.mean([1 if target_numpy[i] in np_top3_class[i] else 0 for i in range(0, len(target_numpy))])\n",
        "    \n",
        "    time_elapsed = time.time() - since\n",
        "    \n",
        "    test_loss = 0\n",
        "    test_accuracy = 0\n",
        "    top3_test_accuracy = 0\n",
        "    model.eval()\n",
        "    with torch.no_grad():\n",
        "        for inputs, labels in testloader:\n",
        "            inputs, labels = inputs.to(device), labels.to(device)\n",
        "            logps = model.forward(inputs)\n",
        "            batch_loss = criterion(logps, labels)\n",
        "            \n",
        "            test_loss += batch_loss.item()\n",
        "            \n",
        "            ps = torch.exp(logps)\n",
        "            top_p, top_class = ps.topk(1, dim = 1)\n",
        "            equals = top_class == labels.view(*top_class.shape)\n",
        "            test_accuracy += torch.mean(equals.type(torch.FloatTensor)).item()\n",
        "            \n",
        "            np_top3_class = ps.topk(3, dim = 1)[1].cpu().numpy()\n",
        "            target_numpy = labels.cpu().numpy()\n",
        "            top3_test_accuracy += np.mean([1 if target_numpy[i] in np_top3_class[i] else 0 for i in range(0, len(target_numpy))])\n",
        "            \n",
        "        print(f'Epoch {epoch+1} / {epochs}.. '\n",
        "             f'Time per epoch : {time_elapsed:.4f}..'\n",
        "             f'Average time per step : {time_elapsed/len(trainloader):.4f}..'\n",
        "             f'Train loss : {running_loss/len(trainloader):.4f}..'\n",
        "             f'Train Accuracy : {train_accuracy/len(trainloader):.4f}..'\n",
        "             f'Top-3 train Accuracy : {top3_train_accuracy/len(trainloader):.4f}..'\n",
        "             f'Test loss : {test_loss/len(testloader):.4f}..'\n",
        "             f'Test Accuracy : {test_accuracy/len(testloader):.4f}..'\n",
        "             f'Top-3 test Accuracy : {top3_test_accuracy/len(testloader):.4f}..')\n",
        "        \n",
        "        train_stats = train_stats.append({'Epoch' : epoch, 'Time per epoch' : time_elapsed, 'Avg time per step' : time_elapsed/len(trainloader),\n",
        "                                         'Train loss' : running_loss/len(trainloader), 'Train accuracy' : train_accuracy/len(trainloader),\n",
        "                                         'Train top-3 accuracy' : top3_train_accuracy/len(trainloader), 'Test loss' : test_loss/len(testloader),\n",
        "                                         'Test accuracy' : test_accuracy/len(testloader), 'Test top-3 accuracy' : top3_test_accuracy/len(testloader)}, ignore_index = True)\n",
        "        \n",
        "        running_loss = 0\n",
        "        model.train()"
      ]
    },
    {
      "cell_type": "code",
      "execution_count": 10,
      "id": "b7ae0c1b",
      "metadata": {
        "colab": {
          "base_uri": "https://localhost:8080/",
          "height": 475
        },
        "id": "b7ae0c1b",
        "outputId": "ffb14d12-eb22-4f80-a7d0-fb1d316016c9"
      },
      "outputs": [
        {
          "output_type": "execute_result",
          "data": {
            "text/plain": [
              "<matplotlib.legend.Legend at 0x7f929eb1a610>"
            ]
          },
          "metadata": {},
          "execution_count": 10
        },
        {
          "output_type": "display_data",
          "data": {
            "text/plain": [
              "<Figure size 720x504 with 1 Axes>"
            ],
            "image/png": "[encoded data removed]"
          },
          "metadata": {
            "needs_background": "light"
          }
        }
      ],
      "source": [
        "fig = plt.figure(figsize = (10, 7))\n",
        "ax = plt.axes()\n",
        "\n",
        "plt.title('Loss')\n",
        "plt.xlabel('Epochs')\n",
        "plt.ylabel('Loss')\n",
        "\n",
        "x = range(1, len(train_stats['Train loss'].values) + 1)\n",
        "ax.plot(x, train_stats['Train loss'].values, '-g', label = 'train loss');\n",
        "ax.plot(x, train_stats['Test loss'].values, '-b', label = 'test loss');\n",
        "\n",
        "plt.legend()"
      ]
    },
    {
      "cell_type": "code",
      "execution_count": 11,
      "id": "b54035c7",
      "metadata": {
        "colab": {
          "base_uri": "https://localhost:8080/",
          "height": 475
        },
        "id": "b54035c7",
        "outputId": "8039d284-7782-4d97-c045-08eb776b2918"
      },
      "outputs": [
        {
          "output_type": "execute_result",
          "data": {
            "text/plain": [
              "<matplotlib.legend.Legend at 0x7f929f492990>"
            ]
          },
          "metadata": {},
          "execution_count": 11
        },
        {
          "output_type": "display_data",
          "data": {
            "text/plain": [
              "<Figure size 720x504 with 1 Axes>"
            ],
            "image/png": "[encoded data removed]"
          },
          "metadata": {
            "needs_background": "light"
          }
        }
      ],
      "source": [
        "fig = plt.figure(figsize = (10, 7))\n",
        "ax = plt.axes()\n",
        "\n",
        "plt.title('Accuracy')\n",
        "plt.xlabel('Epochs')\n",
        "plt.ylabel('Accuracy')\n",
        "\n",
        "x = range(1, len(train_stats['Train accuracy'].values) + 1)\n",
        "ax.plot(x, train_stats['Train accuracy'].values, '-g', label = 'train accuracy');\n",
        "ax.plot(x, train_stats['Test accuracy'].values, '-b', label = 'test accuracy');\n",
        "\n",
        "plt.legend()\n"
      ]
    }
  ],
  "metadata": {
    "kernelspec": {
      "display_name": "Python 3",
      "name": "python3"
    },
    "language_info": {
      "name": "python"
    },
    "colab": {
      "name": "notebook.ipynb",
      "provenance": [],
      "collapsed_sections": []
    },
    "accelerator": "GPU",
    "widgets": {
      "application/vnd.jupyter.widget-state+json": {
        "6da60f7537b9412bbfdfcb7c718ceb50": {
          "model_module": "@jupyter-widgets/controls",
          "model_name": "HBoxModel",
          "model_module_version": "1.5.0",
          "state": {
            "_dom_classes": [],
            "_model_module": "@jupyter-widgets/controls",
            "_model_module_version": "1.5.0",
            "_model_name": "HBoxModel",
            "_view_count": null,
            "_view_module": "@jupyter-widgets/controls",
            "_view_module_version": "1.5.0",
            "_view_name": "HBoxView",
            "box_style": "",
            "children": [
              "IPY_MODEL_e2d972f821d843c0bb5e132f21b08925",
              "IPY_MODEL_c314359b0bd041618a2bac55a9f910e9",
              "IPY_MODEL_7deca6fb12574789bdd8d159adecb8b5"
            ],
            "layout": "IPY_MODEL_d9f84be92cbe42f6a904a5120ba7695c"
          }
        },
        "e2d972f821d843c0bb5e132f21b08925": {
          "model_module": "@jupyter-widgets/controls",
          "model_name": "HTMLModel",
          "model_module_version": "1.5.0",
          "state": {
            "_dom_classes": [],
            "_model_module": "@jupyter-widgets/controls",
            "_model_module_version": "1.5.0",
            "_model_name": "HTMLModel",
            "_view_count": null,
            "_view_module": "@jupyter-widgets/controls",
            "_view_module_version": "1.5.0",
            "_view_name": "HTMLView",
            "description": "",
            "description_tooltip": null,
            "layout": "IPY_MODEL_df53f280d15b4afb9e8aff4f66480e8e",
            "placeholder": "​",
            "style": "IPY_MODEL_a13b6f75de7944b88052b63e9cf6cc03",
            "value": ""
          }
        },
        "c314359b0bd041618a2bac55a9f910e9": {
          "model_module": "@jupyter-widgets/controls",
          "model_name": "FloatProgressModel",
          "model_module_version": "1.5.0",
          "state": {
            "_dom_classes": [],
            "_model_module": "@jupyter-widgets/controls",
            "_model_module_version": "1.5.0",
            "_model_name": "FloatProgressModel",
            "_view_count": null,
            "_view_module": "@jupyter-widgets/controls",
            "_view_module_version": "1.5.0",
            "_view_name": "ProgressView",
            "bar_style": "success",
            "description": "",
            "description_tooltip": null,
            "layout": "IPY_MODEL_3dec26aef6ee49028dbe979b68d39e4d",
            "max": 170498071,
            "min": 0,
            "orientation": "horizontal",
            "style": "IPY_MODEL_f4eb6e19f06d40ffb88a254228febdf5",
            "value": 170498071
          }
        },
        "7deca6fb12574789bdd8d159adecb8b5": {
          "model_module": "@jupyter-widgets/controls",
          "model_name": "HTMLModel",
          "model_module_version": "1.5.0",
          "state": {
            "_dom_classes": [],
            "_model_module": "@jupyter-widgets/controls",
            "_model_module_version": "1.5.0",
            "_model_name": "HTMLModel",
            "_view_count": null,
            "_view_module": "@jupyter-widgets/controls",
            "_view_module_version": "1.5.0",
            "_view_name": "HTMLView",
            "description": "",
            "description_tooltip": null,
            "layout": "IPY_MODEL_975d2316614f4b6d9d53f2ea0e4eb720",
            "placeholder": "​",
            "style": "IPY_MODEL_a64185bff6664f4f8a5e87dcf6b1f7a5",
            "value": " 170499072/? [00:06&lt;00:00, 18686472.57it/s]"
          }
        },
        "d9f84be92cbe42f6a904a5120ba7695c": {
          "model_module": "@jupyter-widgets/base",
          "model_name": "LayoutModel",
          "model_module_version": "1.2.0",
          "state": {
            "_model_module": "@jupyter-widgets/base",
            "_model_module_version": "1.2.0",
            "_model_name": "LayoutModel",
            "_view_count": null,
            "_view_module": "@jupyter-widgets/base",
            "_view_module_version": "1.2.0",
            "_view_name": "LayoutView",
            "align_content": null,
            "align_items": null,
            "align_self": null,
            "border": null,
            "bottom": null,
            "display": null,
            "flex": null,
            "flex_flow": null,
            "grid_area": null,
            "grid_auto_columns": null,
            "grid_auto_flow": null,
            "grid_auto_rows": null,
            "grid_column": null,
            "grid_gap": null,
            "grid_row": null,
            "grid_template_areas": null,
            "grid_template_columns": null,
            "grid_template_rows": null,
            "height": null,
            "justify_content": null,
            "justify_items": null,
            "left": null,
            "margin": null,
            "max_height": null,
            "max_width": null,
            "min_height": null,
            "min_width": null,
            "object_fit": null,
            "object_position": null,
            "order": null,
            "overflow": null,
            "overflow_x": null,
            "overflow_y": null,
            "padding": null,
            "right": null,
            "top": null,
            "visibility": null,
            "width": null
          }
        },
        "df53f280d15b4afb9e8aff4f66480e8e": {
          "model_module": "@jupyter-widgets/base",
          "model_name": "LayoutModel",
          "model_module_version": "1.2.0",
          "state": {
            "_model_module": "@jupyter-widgets/base",
            "_model_module_version": "1.2.0",
            "_model_name": "LayoutModel",
            "_view_count": null,
            "_view_module": "@jupyter-widgets/base",
            "_view_module_version": "1.2.0",
            "_view_name": "LayoutView",
            "align_content": null,
            "align_items": null,
            "align_self": null,
            "border": null,
            "bottom": null,
            "display": null,
            "flex": null,
            "flex_flow": null,
            "grid_area": null,
            "grid_auto_columns": null,
            "grid_auto_flow": null,
            "grid_auto_rows": null,
            "grid_column": null,
            "grid_gap": null,
            "grid_row": null,
            "grid_template_areas": null,
            "grid_template_columns": null,
            "grid_template_rows": null,
            "height": null,
            "justify_content": null,
            "justify_items": null,
            "left": null,
            "margin": null,
            "max_height": null,
            "max_width": null,
            "min_height": null,
            "min_width": null,
            "object_fit": null,
            "object_position": null,
            "order": null,
            "overflow": null,
            "overflow_x": null,
            "overflow_y": null,
            "padding": null,
            "right": null,
            "top": null,
            "visibility": null,
            "width": null
          }
        },
        "a13b6f75de7944b88052b63e9cf6cc03": {
          "model_module": "@jupyter-widgets/controls",
          "model_name": "DescriptionStyleModel",
          "model_module_version": "1.5.0",
          "state": {
            "_model_module": "@jupyter-widgets/controls",
            "_model_module_version": "1.5.0",
            "_model_name": "DescriptionStyleModel",
            "_view_count": null,
            "_view_module": "@jupyter-widgets/base",
            "_view_module_version": "1.2.0",
            "_view_name": "StyleView",
            "description_width": ""
          }
        },
        "3dec26aef6ee49028dbe979b68d39e4d": {
          "model_module": "@jupyter-widgets/base",
          "model_name": "LayoutModel",
          "model_module_version": "1.2.0",
          "state": {
            "_model_module": "@jupyter-widgets/base",
            "_model_module_version": "1.2.0",
            "_model_name": "LayoutModel",
            "_view_count": null,
            "_view_module": "@jupyter-widgets/base",
            "_view_module_version": "1.2.0",
            "_view_name": "LayoutView",
            "align_content": null,
            "align_items": null,
            "align_self": null,
            "border": null,
            "bottom": null,
            "display": null,
            "flex": null,
            "flex_flow": null,
            "grid_area": null,
            "grid_auto_columns": null,
            "grid_auto_flow": null,
            "grid_auto_rows": null,
            "grid_column": null,
            "grid_gap": null,
            "grid_row": null,
            "grid_template_areas": null,
            "grid_template_columns": null,
            "grid_template_rows": null,
            "height": null,
            "justify_content": null,
            "justify_items": null,
            "left": null,
            "margin": null,
            "max_height": null,
            "max_width": null,
            "min_height": null,
            "min_width": null,
            "object_fit": null,
            "object_position": null,
            "order": null,
            "overflow": null,
            "overflow_x": null,
            "overflow_y": null,
            "padding": null,
            "right": null,
            "top": null,
            "visibility": null,
            "width": null
          }
        },
        "f4eb6e19f06d40ffb88a254228febdf5": {
          "model_module": "@jupyter-widgets/controls",
          "model_name": "ProgressStyleModel",
          "model_module_version": "1.5.0",
          "state": {
            "_model_module": "@jupyter-widgets/controls",
            "_model_module_version": "1.5.0",
            "_model_name": "ProgressStyleModel",
            "_view_count": null,
            "_view_module": "@jupyter-widgets/base",
            "_view_module_version": "1.2.0",
            "_view_name": "StyleView",
            "bar_color": null,
            "description_width": ""
          }
        },
        "975d2316614f4b6d9d53f2ea0e4eb720": {
          "model_module": "@jupyter-widgets/base",
          "model_name": "LayoutModel",
          "model_module_version": "1.2.0",
          "state": {
            "_model_module": "@jupyter-widgets/base",
            "_model_module_version": "1.2.0",
            "_model_name": "LayoutModel",
            "_view_count": null,
            "_view_module": "@jupyter-widgets/base",
            "_view_module_version": "1.2.0",
            "_view_name": "LayoutView",
            "align_content": null,
            "align_items": null,
            "align_self": null,
            "border": null,
            "bottom": null,
            "display": null,
            "flex": null,
            "flex_flow": null,
            "grid_area": null,
            "grid_auto_columns": null,
            "grid_auto_flow": null,
            "grid_auto_rows": null,
            "grid_column": null,
            "grid_gap": null,
            "grid_row": null,
            "grid_template_areas": null,
            "grid_template_columns": null,
            "grid_template_rows": null,
            "height": null,
            "justify_content": null,
            "justify_items": null,
            "left": null,
            "margin": null,
            "max_height": null,
            "max_width": null,
            "min_height": null,
            "min_width": null,
            "object_fit": null,
            "object_position": null,
            "order": null,
            "overflow": null,
            "overflow_x": null,
            "overflow_y": null,
            "padding": null,
            "right": null,
            "top": null,
            "visibility": null,
            "width": null
          }
        },
        "a64185bff6664f4f8a5e87dcf6b1f7a5": {
          "model_module": "@jupyter-widgets/controls",
          "model_name": "DescriptionStyleModel",
          "model_module_version": "1.5.0",
          "state": {
            "_model_module": "@jupyter-widgets/controls",
            "_model_module_version": "1.5.0",
            "_model_name": "DescriptionStyleModel",
            "_view_count": null,
            "_view_module": "@jupyter-widgets/base",
            "_view_module_version": "1.2.0",
            "_view_name": "StyleView",
            "description_width": ""
          }
        }
      }
    }
  },
  "nbformat": 4,
  "nbformat_minor": 5
}