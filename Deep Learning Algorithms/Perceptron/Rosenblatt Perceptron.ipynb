{
 "cells": [
  {
   "cell_type": "markdown",
   "id": "76252d80",
   "metadata": {},
   "source": [
    "# Rosenblatt Perceptron Code"
   ]
  },
  {
   "cell_type": "markdown",
   "id": "5cf02d91",
   "metadata": {},
   "source": [
    "## Perceptron algorithm\n",
    "**Working of the algorthm:**\n",
    "\n",
    "y = f(z), where\n",
    "\n",
    "z = sum(wi.xi)\n",
    "\n",
    "f(z) = -1 if z < 0 else 1\n",
    "\n",
    "x0 = 1 (bias term)"
   ]
  },
  {
   "cell_type": "code",
   "execution_count": 38,
   "id": "0defe2aa",
   "metadata": {},
   "outputs": [],
   "source": [
    "def perceptron_computation(w, x):\n",
    "    z = 0.0\n",
    "    for i in range(len(w)):\n",
    "        z += w[i] * x[i]\n",
    "    return -1 if z < 0 else 1"
   ]
  },
  {
   "cell_type": "markdown",
   "id": "f1e10a2c",
   "metadata": {},
   "source": [
    "`Example`"
   ]
  },
  {
   "cell_type": "code",
   "execution_count": 39,
   "id": "afede8ca",
   "metadata": {},
   "outputs": [
    {
     "data": {
      "text/plain": [
       "1"
      ]
     },
     "execution_count": 39,
     "metadata": {},
     "output_type": "execute_result"
    }
   ],
   "source": [
    "w = [0.9, -0.6, -0.5]\n",
    "x = [1, -1, -1]\n",
    "perceptron_computation(w, x)"
   ]
  },
  {
   "cell_type": "markdown",
   "id": "659f8bfb",
   "metadata": {},
   "source": [
    "## Perceptron Learning Algorithm\n",
    "`Also called supervised learning algorithm`\n",
    "\n",
    "**Working of the algorthm:**\n",
    "\n",
    "1. Randombly initialize the weights.\n",
    "2. Select one input/output pair at random\n",
    "3. Present the values, [x1, x2,...,xn] to the perceptron to compute the output y\n",
    "4. If the output y is different from the ground truth of this input/output pair, adjust the weights in the following way:\n",
    "    * if y < 0 add learning rate * xi to each wi\n",
    "    * if y > 0, subtract learning rate * xi to wi\n",
    "5. Repeat steps 2, 3, and 4 until the perceptron predicts all examples correctly or can't improve further."
   ]
  },
  {
   "cell_type": "code",
   "execution_count": 60,
   "id": "ec699bb9",
   "metadata": {},
   "outputs": [],
   "source": [
    "import random\n",
    "\n",
    "# View the weights\n",
    "def view_weights(w):\n",
    "    for i in range(len(w)):\n",
    "        print(\"w{0}: {1}\".format(i, round(w[i], 5)), end=\", \")\n",
    "    print()\n",
    "    return\n",
    "\n",
    "# Setting up learning rate\n",
    "lr = 0.1\n",
    "\n",
    "# Creating data\n",
    "x_train = [[1.0, -1.0, 1.0],\n",
    "          [1.0, -1.0, -1.0],\n",
    "          [1.0, 1.0, 1.0],\n",
    "          [1.0, 1.0, -1.0]]\n",
    "\n",
    "y_train = [1.0, 1, 1, -1]\n",
    "\n",
    "# index_orders\n",
    "index = [0, 1, 2, 3]\n",
    "\n",
    "w = [0.1, -0.8, 0.45] # Initialize to some random numbers\n",
    "\n",
    "def perceptron_training_loop(X, Y, w):\n",
    "    all_correct = False\n",
    "    prev_w = w\n",
    "    while not all_correct:\n",
    "        all_correct = True\n",
    "        random.shuffle(index)\n",
    "        for i in index:\n",
    "            x = X[i]\n",
    "            y = Y[i]\n",
    "            y_cap = perceptron_computation(w, x)\n",
    "            \n",
    "            if y != y_cap:\n",
    "                for j in range(0, len(w)):\n",
    "                    w[j] += (y * lr * x[j])\n",
    "            all_correct = False\n",
    "            view_weights(w)\n",
    "        if prev_w == w:\n",
    "            break\n",
    "        prev_w = w"
   ]
  },
  {
   "cell_type": "code",
   "execution_count": 61,
   "id": "12df7644",
   "metadata": {},
   "outputs": [
    {
     "name": "stdout",
     "output_type": "stream",
     "text": [
      "w0: 0.1, w1: -0.8, w2: 0.45, \n",
      "w0: 0.1, w1: -0.8, w2: 0.45, \n",
      "w0: 0.2, w1: -0.7, w2: 0.55, \n",
      "w0: 0.2, w1: -0.7, w2: 0.55, \n"
     ]
    }
   ],
   "source": [
    "perceptron_training_loop(x_train, y_train, w)"
   ]
  },
  {
   "cell_type": "code",
   "execution_count": null,
   "id": "66f635d0",
   "metadata": {},
   "outputs": [],
   "source": []
  }
 ],
 "metadata": {
  "kernelspec": {
   "display_name": "tfgpu",
   "language": "python",
   "name": "tfgpu"
  },
  "language_info": {
   "codemirror_mode": {
    "name": "ipython",
    "version": 3
   },
   "file_extension": ".py",
   "mimetype": "text/x-python",
   "name": "python",
   "nbconvert_exporter": "python",
   "pygments_lexer": "ipython3",
   "version": "3.9.7"
  }
 },
 "nbformat": 4,
 "nbformat_minor": 5
}
