{
 "cells": [
  {
   "cell_type": "markdown",
   "id": "bb5fd6ba",
   "metadata": {},
   "source": [
    "# PubMed 200k RCT: Dataset for Sequential Sentence Classification\n",
    "\n",
    "**Main model architecture:** https://arxiv.org/pdf/1612.05251.pdf"
   ]
  },
  {
   "cell_type": "code",
   "execution_count": 1,
   "id": "e9b23eca",
   "metadata": {},
   "outputs": [],
   "source": [
    "# Importing modules\n",
    "import tensorflow as tf\n",
    "from sklearn.preprocessing import OneHotEncoder\n",
    "import pandas as pd\n",
    "from sklearn.preprocessing import LabelEncoder\n",
    "from sklearn.feature_extraction.text import TfidfVectorizer\n",
    "from sklearn.naive_bayes import MultinomialNB\n",
    "from sklearn.pipeline import Pipeline\n",
    "import numpy as np\n",
    "import matplotlib.pyplot as plt\n",
    "\n",
    "# Custom\n",
    "from helper_function.preprocessing import get_raw_data\n",
    "from helper_function.niffo_helper import calculate_result\n",
    "from helper_function import niffo_plotter"
   ]
  },
  {
   "cell_type": "markdown",
   "id": "c3c25182",
   "metadata": {},
   "source": [
    "## Getting Data Ready\n",
    "**Link:** https://github.com/Franck-Dernoncourt/pubmed-rct\n",
    "\n",
    "`!git clone https://github.com/Franck-Dernoncourt/pubmed-rct.git`"
   ]
  },
  {
   "cell_type": "code",
   "execution_count": 2,
   "id": "e2272be1",
   "metadata": {},
   "outputs": [],
   "source": [
    "# Using 20k dataset for the initial model\n",
    "data_dir = \"Data/pubmed-rct/PubMed_20k_RCT_numbers_replaced_with_at_sign/\""
   ]
  },
  {
   "cell_type": "markdown",
   "id": "283d9d98",
   "metadata": {},
   "source": [
    "### Preprocessing Data"
   ]
  },
  {
   "cell_type": "code",
   "execution_count": 3,
   "id": "450acb0a",
   "metadata": {},
   "outputs": [],
   "source": [
    "train_data = get_raw_data(data_dir + \"train.txt\")\n",
    "val_data = get_raw_data(data_dir + \"dev.txt\")\n",
    "test_data = get_raw_data(data_dir + \"test.txt\")"
   ]
  },
  {
   "cell_type": "code",
   "execution_count": 4,
   "id": "4f156017",
   "metadata": {},
   "outputs": [
    {
     "data": {
      "text/plain": [
       "(180040, 30212, 30135)"
      ]
     },
     "execution_count": 4,
     "metadata": {},
     "output_type": "execute_result"
    }
   ],
   "source": [
    "len(train_data), len(val_data), len(test_data)"
   ]
  },
  {
   "cell_type": "code",
   "execution_count": 5,
   "id": "f72295b7",
   "metadata": {},
   "outputs": [
    {
     "data": {
      "text/plain": [
       "{'target': 'OBJECTIVE',\n",
       " 'text': 'to investigate the efficacy of @ weeks of daily low-dose oral prednisolone in improving pain , mobility , and systemic low-grade inflammation in the short term and whether the effect would be sustained at @ weeks in older adults with moderate to severe knee osteoarthritis ( oa ) .',\n",
       " 'line_number': 0,\n",
       " 'total_lines': 11}"
      ]
     },
     "execution_count": 5,
     "metadata": {},
     "output_type": "execute_result"
    }
   ],
   "source": [
    "train_data[0]"
   ]
  },
  {
   "cell_type": "markdown",
   "id": "e4f243b7",
   "metadata": {},
   "source": [
    "### Making pandas DataFrame"
   ]
  },
  {
   "cell_type": "code",
   "execution_count": 6,
   "id": "3f4aad80",
   "metadata": {},
   "outputs": [],
   "source": [
    "train_df = pd.DataFrame(train_data)\n",
    "test_df = pd.DataFrame(test_data)\n",
    "val_df = pd.DataFrame(val_data)"
   ]
  },
  {
   "cell_type": "code",
   "execution_count": 7,
   "id": "39ccdc4c",
   "metadata": {},
   "outputs": [
    {
     "data": {
      "text/html": [
       "<div>\n",
       "<style scoped>\n",
       "    .dataframe tbody tr th:only-of-type {\n",
       "        vertical-align: middle;\n",
       "    }\n",
       "\n",
       "    .dataframe tbody tr th {\n",
       "        vertical-align: top;\n",
       "    }\n",
       "\n",
       "    .dataframe thead th {\n",
       "        text-align: right;\n",
       "    }\n",
       "</style>\n",
       "<table border=\"1\" class=\"dataframe\">\n",
       "  <thead>\n",
       "    <tr style=\"text-align: right;\">\n",
       "      <th></th>\n",
       "      <th>target</th>\n",
       "      <th>text</th>\n",
       "      <th>line_number</th>\n",
       "      <th>total_lines</th>\n",
       "    </tr>\n",
       "  </thead>\n",
       "  <tbody>\n",
       "    <tr>\n",
       "      <th>0</th>\n",
       "      <td>OBJECTIVE</td>\n",
       "      <td>to investigate the efficacy of @ weeks of dail...</td>\n",
       "      <td>0</td>\n",
       "      <td>11</td>\n",
       "    </tr>\n",
       "    <tr>\n",
       "      <th>1</th>\n",
       "      <td>METHODS</td>\n",
       "      <td>a total of @ patients with primary knee oa wer...</td>\n",
       "      <td>1</td>\n",
       "      <td>11</td>\n",
       "    </tr>\n",
       "    <tr>\n",
       "      <th>2</th>\n",
       "      <td>METHODS</td>\n",
       "      <td>outcome measures included pain reduction and i...</td>\n",
       "      <td>2</td>\n",
       "      <td>11</td>\n",
       "    </tr>\n",
       "    <tr>\n",
       "      <th>3</th>\n",
       "      <td>METHODS</td>\n",
       "      <td>pain was assessed using the visual analog pain...</td>\n",
       "      <td>3</td>\n",
       "      <td>11</td>\n",
       "    </tr>\n",
       "    <tr>\n",
       "      <th>4</th>\n",
       "      <td>METHODS</td>\n",
       "      <td>secondary outcome measures included the wester...</td>\n",
       "      <td>4</td>\n",
       "      <td>11</td>\n",
       "    </tr>\n",
       "  </tbody>\n",
       "</table>\n",
       "</div>"
      ],
      "text/plain": [
       "      target                                               text  line_number  \\\n",
       "0  OBJECTIVE  to investigate the efficacy of @ weeks of dail...            0   \n",
       "1    METHODS  a total of @ patients with primary knee oa wer...            1   \n",
       "2    METHODS  outcome measures included pain reduction and i...            2   \n",
       "3    METHODS  pain was assessed using the visual analog pain...            3   \n",
       "4    METHODS  secondary outcome measures included the wester...            4   \n",
       "\n",
       "   total_lines  \n",
       "0           11  \n",
       "1           11  \n",
       "2           11  \n",
       "3           11  \n",
       "4           11  "
      ]
     },
     "execution_count": 7,
     "metadata": {},
     "output_type": "execute_result"
    }
   ],
   "source": [
    "train_df.head()"
   ]
  },
  {
   "cell_type": "code",
   "execution_count": 8,
   "id": "cbf88643",
   "metadata": {},
   "outputs": [
    {
     "data": {
      "text/html": [
       "<div>\n",
       "<style scoped>\n",
       "    .dataframe tbody tr th:only-of-type {\n",
       "        vertical-align: middle;\n",
       "    }\n",
       "\n",
       "    .dataframe tbody tr th {\n",
       "        vertical-align: top;\n",
       "    }\n",
       "\n",
       "    .dataframe thead th {\n",
       "        text-align: right;\n",
       "    }\n",
       "</style>\n",
       "<table border=\"1\" class=\"dataframe\">\n",
       "  <thead>\n",
       "    <tr style=\"text-align: right;\">\n",
       "      <th></th>\n",
       "      <th>target</th>\n",
       "      <th>text</th>\n",
       "      <th>line_number</th>\n",
       "      <th>total_lines</th>\n",
       "    </tr>\n",
       "  </thead>\n",
       "  <tbody>\n",
       "    <tr>\n",
       "      <th>0</th>\n",
       "      <td>BACKGROUND</td>\n",
       "      <td>this study analyzed liver function abnormaliti...</td>\n",
       "      <td>0</td>\n",
       "      <td>8</td>\n",
       "    </tr>\n",
       "    <tr>\n",
       "      <th>1</th>\n",
       "      <td>RESULTS</td>\n",
       "      <td>a post hoc analysis was conducted with the use...</td>\n",
       "      <td>1</td>\n",
       "      <td>8</td>\n",
       "    </tr>\n",
       "    <tr>\n",
       "      <th>2</th>\n",
       "      <td>RESULTS</td>\n",
       "      <td>liver function tests ( lfts ) were measured at...</td>\n",
       "      <td>2</td>\n",
       "      <td>8</td>\n",
       "    </tr>\n",
       "    <tr>\n",
       "      <th>3</th>\n",
       "      <td>RESULTS</td>\n",
       "      <td>survival analyses were used to assess the asso...</td>\n",
       "      <td>3</td>\n",
       "      <td>8</td>\n",
       "    </tr>\n",
       "    <tr>\n",
       "      <th>4</th>\n",
       "      <td>RESULTS</td>\n",
       "      <td>the percentage of patients with abnormal lfts ...</td>\n",
       "      <td>4</td>\n",
       "      <td>8</td>\n",
       "    </tr>\n",
       "  </tbody>\n",
       "</table>\n",
       "</div>"
      ],
      "text/plain": [
       "       target                                               text  line_number  \\\n",
       "0  BACKGROUND  this study analyzed liver function abnormaliti...            0   \n",
       "1     RESULTS  a post hoc analysis was conducted with the use...            1   \n",
       "2     RESULTS  liver function tests ( lfts ) were measured at...            2   \n",
       "3     RESULTS  survival analyses were used to assess the asso...            3   \n",
       "4     RESULTS  the percentage of patients with abnormal lfts ...            4   \n",
       "\n",
       "   total_lines  \n",
       "0            8  \n",
       "1            8  \n",
       "2            8  \n",
       "3            8  \n",
       "4            8  "
      ]
     },
     "execution_count": 8,
     "metadata": {},
     "output_type": "execute_result"
    }
   ],
   "source": [
    "test_df.head()"
   ]
  },
  {
   "cell_type": "code",
   "execution_count": 9,
   "id": "3a2d1f54",
   "metadata": {},
   "outputs": [
    {
     "data": {
      "text/html": [
       "<div>\n",
       "<style scoped>\n",
       "    .dataframe tbody tr th:only-of-type {\n",
       "        vertical-align: middle;\n",
       "    }\n",
       "\n",
       "    .dataframe tbody tr th {\n",
       "        vertical-align: top;\n",
       "    }\n",
       "\n",
       "    .dataframe thead th {\n",
       "        text-align: right;\n",
       "    }\n",
       "</style>\n",
       "<table border=\"1\" class=\"dataframe\">\n",
       "  <thead>\n",
       "    <tr style=\"text-align: right;\">\n",
       "      <th></th>\n",
       "      <th>target</th>\n",
       "      <th>text</th>\n",
       "      <th>line_number</th>\n",
       "      <th>total_lines</th>\n",
       "    </tr>\n",
       "  </thead>\n",
       "  <tbody>\n",
       "    <tr>\n",
       "      <th>0</th>\n",
       "      <td>BACKGROUND</td>\n",
       "      <td>ige sensitization to aspergillus fumigatus and...</td>\n",
       "      <td>0</td>\n",
       "      <td>9</td>\n",
       "    </tr>\n",
       "    <tr>\n",
       "      <th>1</th>\n",
       "      <td>BACKGROUND</td>\n",
       "      <td>it is not clear whether these patients would b...</td>\n",
       "      <td>1</td>\n",
       "      <td>9</td>\n",
       "    </tr>\n",
       "    <tr>\n",
       "      <th>2</th>\n",
       "      <td>OBJECTIVE</td>\n",
       "      <td>we sought to determine whether a @-month cours...</td>\n",
       "      <td>2</td>\n",
       "      <td>9</td>\n",
       "    </tr>\n",
       "    <tr>\n",
       "      <th>3</th>\n",
       "      <td>METHODS</td>\n",
       "      <td>asthmatic patients who were ige sensitized to ...</td>\n",
       "      <td>3</td>\n",
       "      <td>9</td>\n",
       "    </tr>\n",
       "    <tr>\n",
       "      <th>4</th>\n",
       "      <td>METHODS</td>\n",
       "      <td>primary outcomes were improvement in quality o...</td>\n",
       "      <td>4</td>\n",
       "      <td>9</td>\n",
       "    </tr>\n",
       "  </tbody>\n",
       "</table>\n",
       "</div>"
      ],
      "text/plain": [
       "       target                                               text  line_number  \\\n",
       "0  BACKGROUND  ige sensitization to aspergillus fumigatus and...            0   \n",
       "1  BACKGROUND  it is not clear whether these patients would b...            1   \n",
       "2   OBJECTIVE  we sought to determine whether a @-month cours...            2   \n",
       "3     METHODS  asthmatic patients who were ige sensitized to ...            3   \n",
       "4     METHODS  primary outcomes were improvement in quality o...            4   \n",
       "\n",
       "   total_lines  \n",
       "0            9  \n",
       "1            9  \n",
       "2            9  \n",
       "3            9  \n",
       "4            9  "
      ]
     },
     "execution_count": 9,
     "metadata": {},
     "output_type": "execute_result"
    }
   ],
   "source": [
    "val_df.head()"
   ]
  },
  {
   "cell_type": "markdown",
   "id": "6a710784",
   "metadata": {},
   "source": [
    "### Getting the sentences"
   ]
  },
  {
   "cell_type": "code",
   "execution_count": 10,
   "id": "ad700f04",
   "metadata": {},
   "outputs": [],
   "source": [
    "train_sen = train_df[\"text\"].tolist()\n",
    "val_sen = val_df[\"text\"].tolist()\n",
    "test_sen = test_df[\"text\"].tolist()"
   ]
  },
  {
   "cell_type": "code",
   "execution_count": 11,
   "id": "e8e5a1a0",
   "metadata": {},
   "outputs": [
    {
     "data": {
      "text/plain": [
       "['to investigate the efficacy of @ weeks of daily low-dose oral prednisolone in improving pain , mobility , and systemic low-grade inflammation in the short term and whether the effect would be sustained at @ weeks in older adults with moderate to severe knee osteoarthritis ( oa ) .',\n",
       " 'a total of @ patients with primary knee oa were randomized @:@ ; @ received @ mg/day of prednisolone and @ received placebo for @ weeks .',\n",
       " 'outcome measures included pain reduction and improvement in function scores and systemic inflammation markers .',\n",
       " 'pain was assessed using the visual analog pain scale ( @-@ mm ) .',\n",
       " 'secondary outcome measures included the western ontario and mcmaster universities osteoarthritis index scores , patient global assessment ( pga ) of the severity of knee oa , and @-min walk distance ( @mwd ) .']"
      ]
     },
     "execution_count": 11,
     "metadata": {},
     "output_type": "execute_result"
    }
   ],
   "source": [
    "train_sen[:5]"
   ]
  },
  {
   "cell_type": "markdown",
   "id": "e69a493d",
   "metadata": {},
   "source": [
    "### Making numerical labels"
   ]
  },
  {
   "cell_type": "code",
   "execution_count": 12,
   "id": "c67cb5ca",
   "metadata": {},
   "outputs": [],
   "source": [
    "ohe = OneHotEncoder(sparse=False)\n",
    "train_labels = ohe.fit_transform(train_df[\"target\"].to_numpy().reshape(-1, 1))\n",
    "test_labels = ohe.fit_transform(test_df[\"target\"].to_numpy().reshape(-1, 1))\n",
    "val_labels = ohe.fit_transform(val_df[\"target\"].to_numpy().reshape(-1, 1))"
   ]
  },
  {
   "cell_type": "code",
   "execution_count": 13,
   "id": "131dd401",
   "metadata": {},
   "outputs": [
    {
     "data": {
      "text/plain": [
       "<tf.Tensor: shape=(180040, 5), dtype=float64, numpy=\n",
       "array([[0., 0., 0., 1., 0.],\n",
       "       [0., 0., 1., 0., 0.],\n",
       "       [0., 0., 1., 0., 0.],\n",
       "       ...,\n",
       "       [0., 0., 0., 0., 1.],\n",
       "       [0., 1., 0., 0., 0.],\n",
       "       [0., 1., 0., 0., 0.]])>"
      ]
     },
     "execution_count": 13,
     "metadata": {},
     "output_type": "execute_result"
    }
   ],
   "source": [
    "tf.constant(train_labels)"
   ]
  },
  {
   "cell_type": "markdown",
   "id": "55170f24",
   "metadata": {},
   "source": [
    "### Encoding labels"
   ]
  },
  {
   "cell_type": "code",
   "execution_count": 14,
   "id": "fa281b1c",
   "metadata": {},
   "outputs": [],
   "source": [
    "label_encoder = LabelEncoder()\n",
    "etrain_labels = label_encoder.fit_transform(train_df[\"target\"].to_numpy())\n",
    "etest_labels = label_encoder.fit_transform(test_df[\"target\"].to_numpy())\n",
    "eval_labels = label_encoder.fit_transform(val_df[\"target\"].to_numpy())"
   ]
  },
  {
   "cell_type": "code",
   "execution_count": 15,
   "id": "58ba69b5",
   "metadata": {},
   "outputs": [
    {
     "data": {
      "text/plain": [
       "(array([3, 2, 2, ..., 4, 1, 1]),\n",
       " array([0, 4, 4, ..., 4, 4, 1]),\n",
       " array([0, 0, 3, ..., 4, 1, 1]))"
      ]
     },
     "execution_count": 15,
     "metadata": {},
     "output_type": "execute_result"
    }
   ],
   "source": [
    "etrain_labels, etest_labels, eval_labels"
   ]
  },
  {
   "cell_type": "code",
   "execution_count": 16,
   "id": "a29bfba3",
   "metadata": {},
   "outputs": [
    {
     "data": {
      "text/plain": [
       "array(['BACKGROUND', 'CONCLUSIONS', 'METHODS', 'OBJECTIVE', 'RESULTS'],\n",
       "      dtype=object)"
      ]
     },
     "execution_count": 16,
     "metadata": {},
     "output_type": "execute_result"
    }
   ],
   "source": [
    "num_classes = len(label_encoder.classes_)\n",
    "class_names = label_encoder.classes_\n",
    "class_names"
   ]
  },
  {
   "cell_type": "markdown",
   "id": "35e2fbcd",
   "metadata": {},
   "source": [
    "## Model 0: BaseLine model\n",
    "\n",
    "(TF-IDF Multinomial Naive Bayes Classifier).\n",
    "\n",
    "**Score:**\n",
    "\n",
    "`accuracy': 71.66%`\n",
    "\n",
    "`precision': 0.7124322482375202`\n",
    "\n",
    "`recall': 0.716674962667994,`\n",
    "\n",
    "`f1-score': 0.6925101703856846`"
   ]
  },
  {
   "cell_type": "code",
   "execution_count": 17,
   "id": "189c6d1c",
   "metadata": {},
   "outputs": [
    {
     "data": {
      "text/plain": [
       "Pipeline(steps=[('tf-idf', TfidfVectorizer()), ('clf', MultinomialNB())])"
      ]
     },
     "execution_count": 17,
     "metadata": {},
     "output_type": "execute_result"
    }
   ],
   "source": [
    "model_0 = Pipeline([\n",
    "    (\"tf-idf\", TfidfVectorizer()),\n",
    "    (\"clf\", MultinomialNB()),\n",
    "])\n",
    "model_0.fit(train_sen, etrain_labels)"
   ]
  },
  {
   "cell_type": "code",
   "execution_count": 67,
   "id": "0dcff05f",
   "metadata": {},
   "outputs": [
    {
     "data": {
      "text/plain": [
       "0.7218323844829869"
      ]
     },
     "execution_count": 67,
     "metadata": {},
     "output_type": "execute_result"
    }
   ],
   "source": [
    "model_0.score(val_sen, eval_labels)"
   ]
  },
  {
   "cell_type": "code",
   "execution_count": 68,
   "id": "04d779af",
   "metadata": {},
   "outputs": [],
   "source": [
    "model_0_preds = model_0.predict(test_sen)"
   ]
  },
  {
   "cell_type": "code",
   "execution_count": 69,
   "id": "614eae3a",
   "metadata": {},
   "outputs": [
    {
     "data": {
      "text/plain": [
       "{'accuracy': 71.6674962667994,\n",
       " 'precision': 0.7124322482375202,\n",
       " 'recall': 0.716674962667994,\n",
       " 'f1-score': 0.6925101703856846}"
      ]
     },
     "execution_count": 69,
     "metadata": {},
     "output_type": "execute_result"
    }
   ],
   "source": [
    "model_0_res = calculate_result(y_true=etest_labels, y_predict=model_0_preds)\n",
    "model_0_res"
   ]
  },
  {
   "cell_type": "markdown",
   "id": "0f08bbb9",
   "metadata": {},
   "source": [
    "## Model 1: Convolutional 1-D model\n",
    "(Conv1D with token embeddings)\n",
    "\n",
    "**Score:**\n",
    "\n",
    "`accuracy': 78.52%`\n",
    "\n",
    "`precision': 0.7817069791201003`\n",
    "\n",
    "`recall': 0.7852663016426082`\n",
    " \n",
    "`f1-score': 0.782223028043873`"
   ]
  },
  {
   "cell_type": "code",
   "execution_count": 21,
   "id": "8972cd42",
   "metadata": {},
   "outputs": [
    {
     "data": {
      "text/plain": [
       "26.338269273494777"
      ]
     },
     "execution_count": 21,
     "metadata": {},
     "output_type": "execute_result"
    }
   ],
   "source": [
    "sen_len = [len(sen.split()) for sen in train_sen]\n",
    "np.mean(sen_len)"
   ]
  },
  {
   "cell_type": "code",
   "execution_count": 22,
   "id": "95a2e6a7",
   "metadata": {},
   "outputs": [
    {
     "data": {
      "image/png": "[encoded data removed]",
      "text/plain": [
       "<Figure size 864x432 with 1 Axes>"
      ]
     },
     "metadata": {},
     "output_type": "display_data"
    }
   ],
   "source": [
    "niffo_plotter.plot_histogram(data=sen_len,\n",
    "                             xlabel=\"Number of tokens per sentence\",\n",
    "                             ylabel=\"Number of occurrences\",\n",
    "                             title=\"Distribution of the tokens sentence\",\n",
    "                             bins=20)"
   ]
  },
  {
   "cell_type": "code",
   "execution_count": 23,
   "id": "57d43e78",
   "metadata": {},
   "outputs": [
    {
     "data": {
      "text/plain": [
       "55"
      ]
     },
     "execution_count": 23,
     "metadata": {},
     "output_type": "execute_result"
    }
   ],
   "source": [
    "# The graph represents taking 95% of the data is safe for the sequences length output\n",
    "out_seq_len = int(np.percentile(sen_len, 95))\n",
    "out_seq_len"
   ]
  },
  {
   "cell_type": "code",
   "execution_count": 24,
   "id": "ed448316",
   "metadata": {},
   "outputs": [
    {
     "data": {
      "text/plain": [
       "296"
      ]
     },
     "execution_count": 24,
     "metadata": {},
     "output_type": "execute_result"
    }
   ],
   "source": [
    "max(sen_len) # Outlier"
   ]
  },
  {
   "cell_type": "markdown",
   "id": "452e6135",
   "metadata": {},
   "source": [
    "### Creating text vector and embedding layer"
   ]
  },
  {
   "cell_type": "code",
   "execution_count": 25,
   "id": "0e46a65d",
   "metadata": {},
   "outputs": [],
   "source": [
    "# Preparing text vector\n",
    "text_vector = tf.keras.layers.experimental.preprocessing.TextVectorization(max_tokens=68000,\n",
    "                                                                          output_sequence_length=out_seq_len)\n",
    "text_vector.adapt(train_sen)"
   ]
  },
  {
   "cell_type": "code",
   "execution_count": 26,
   "id": "198f3c83",
   "metadata": {},
   "outputs": [],
   "source": [
    "embed = tf.keras.layers.Embedding(input_dim=68000,\n",
    "                                 output_dim=128,\n",
    "                                 input_length=out_seq_len)"
   ]
  },
  {
   "cell_type": "code",
   "execution_count": 27,
   "id": "63a590b7",
   "metadata": {},
   "outputs": [
    {
     "data": {
      "text/plain": [
       "<tf.Tensor: shape=(1, 55), dtype=int64, numpy=\n",
       "array([[61684,   324,   185,    20,  1615,     0,     0,     0,     0,\n",
       "            0,     0,     0,     0,     0,     0,     0,     0,     0,\n",
       "            0,     0,     0,     0,     0,     0,     0,     0,     0,\n",
       "            0,     0,     0,     0,     0,     0,     0,     0,     0,\n",
       "            0,     0,     0,     0,     0,     0,     0,     0,     0,\n",
       "            0,     0,     0,     0,     0,     0,     0,     0,     0,\n",
       "            0]], dtype=int64)>"
      ]
     },
     "execution_count": 27,
     "metadata": {},
     "output_type": "execute_result"
    }
   ],
   "source": [
    "text_vector([\"checking if it is working\"])"
   ]
  },
  {
   "cell_type": "markdown",
   "id": "ab2ccb1d",
   "metadata": {},
   "source": [
    "### Creating datasets for loading the data efficiently"
   ]
  },
  {
   "cell_type": "code",
   "execution_count": 28,
   "id": "f76209a5",
   "metadata": {},
   "outputs": [],
   "source": [
    "train_dataset = tf.data.Dataset.from_tensor_slices((train_sen, train_labels)).batch(32).prefetch(tf.data.AUTOTUNE)\n",
    "valid_dataset = tf.data.Dataset.from_tensor_slices((val_sen, val_labels)).batch(32).prefetch(tf.data.AUTOTUNE)\n",
    "test_dataset = tf.data.Dataset.from_tensor_slices((test_sen, test_labels)).batch(32).prefetch(tf.data.AUTOTUNE)"
   ]
  },
  {
   "cell_type": "code",
   "execution_count": 29,
   "id": "f13ed679",
   "metadata": {},
   "outputs": [
    {
     "data": {
      "text/plain": [
       "<PrefetchDataset shapes: ((None,), (None, 5)), types: (tf.string, tf.float64)>"
      ]
     },
     "execution_count": 29,
     "metadata": {},
     "output_type": "execute_result"
    }
   ],
   "source": [
    "train_dataset"
   ]
  },
  {
   "cell_type": "markdown",
   "id": "27ae46f1",
   "metadata": {},
   "source": [
    "### Preparing convolutional model architecture"
   ]
  },
  {
   "cell_type": "code",
   "execution_count": 30,
   "id": "6770cb76",
   "metadata": {},
   "outputs": [],
   "source": [
    "# Input layer\n",
    "inputs = tf.keras.layers.Input(shape=(1,), dtype=tf.string, name=\"input_layer\")\n",
    "\n",
    "# Text Vectorization\n",
    "x = tf.keras.layers.experimental.preprocessing.TextVectorization(max_tokens=68000,\n",
    "                                                                output_sequence_length=55)\n",
    "x.adapt(train_sen)\n",
    "\n",
    "# Apply text vectorization on inputs\n",
    "x = x(inputs)\n",
    "\n",
    "# Adding Embedding layer\n",
    "x = tf.keras.layers.Embedding(input_dim=68000,\n",
    "                             output_dim=128,\n",
    "                             input_length=55)(x)\n",
    "# Adding Conv1D layer\n",
    "x = tf.keras.layers.Conv1D(filters=64,\n",
    "                           kernel_size=5,\n",
    "                           activation=\"relu\",\n",
    "                           name=\"conv1D_layer\",\n",
    "                           padding=\"same\")(x)\n",
    "# Applying pooling layer\n",
    "x = tf.keras.layers.GlobalAveragePooling1D()(x)\n",
    "\n",
    "# Adding output layer\n",
    "outputs = tf.keras.layers.Dense(num_classes, activation=\"softmax\", name=\"output_layer\")(x)\n",
    "\n",
    "# Combining into model_1\n",
    "model_1 = tf.keras.Model(inputs, outputs)\n",
    "\n",
    "# Compiling the model\n",
    "model_1.compile(loss=tf.keras.losses.CategoricalCrossentropy(),\n",
    "               optimizer=tf.keras.optimizers.Adam(),\n",
    "               metrics=[\"accuracy\"])"
   ]
  },
  {
   "cell_type": "code",
   "execution_count": 31,
   "id": "eb8d73e4",
   "metadata": {},
   "outputs": [
    {
     "name": "stdout",
     "output_type": "stream",
     "text": [
      "Model: \"model\"\n",
      "_________________________________________________________________\n",
      " Layer (type)                Output Shape              Param #   \n",
      "=================================================================\n",
      " input_layer (InputLayer)    [(None, 1)]               0         \n",
      "                                                                 \n",
      " text_vectorization_1 (TextV  (None, 55)               0         \n",
      " ectorization)                                                   \n",
      "                                                                 \n",
      " embedding_1 (Embedding)     (None, 55, 128)           8704000   \n",
      "                                                                 \n",
      " conv1D_layer (Conv1D)       (None, 55, 64)            41024     \n",
      "                                                                 \n",
      " global_average_pooling1d (G  (None, 64)               0         \n",
      " lobalAveragePooling1D)                                          \n",
      "                                                                 \n",
      " output_layer (Dense)        (None, 5)                 325       \n",
      "                                                                 \n",
      "=================================================================\n",
      "Total params: 8,745,349\n",
      "Trainable params: 8,745,349\n",
      "Non-trainable params: 0\n",
      "_________________________________________________________________\n"
     ]
    }
   ],
   "source": [
    "model_1.summary()"
   ]
  },
  {
   "cell_type": "code",
   "execution_count": 32,
   "id": "979f4257",
   "metadata": {},
   "outputs": [
    {
     "name": "stdout",
     "output_type": "stream",
     "text": [
      "Epoch 1/5\n",
      "5627/5627 [==============================] - 69s 12ms/step - loss: 0.6134 - accuracy: 0.7772 - val_loss: 0.5337 - val_accuracy: 0.8103\n",
      "Epoch 2/5\n",
      "5627/5627 [==============================] - 63s 11ms/step - loss: 0.4509 - accuracy: 0.8418 - val_loss: 0.5331 - val_accuracy: 0.8107\n",
      "Epoch 3/5\n",
      "5627/5627 [==============================] - 64s 11ms/step - loss: 0.3705 - accuracy: 0.8734 - val_loss: 0.5689 - val_accuracy: 0.8060\n",
      "Epoch 4/5\n",
      "5627/5627 [==============================] - 63s 11ms/step - loss: 0.3061 - accuracy: 0.8986 - val_loss: 0.6316 - val_accuracy: 0.7998\n",
      "Epoch 5/5\n",
      "5627/5627 [==============================] - 64s 11ms/step - loss: 0.2519 - accuracy: 0.9189 - val_loss: 0.7133 - val_accuracy: 0.7927\n"
     ]
    }
   ],
   "source": [
    "# Fitting the data into the model\n",
    "his_1 = model_1.fit(train_dataset,\n",
    "            epochs=5,\n",
    "            validation_data=valid_dataset)"
   ]
  },
  {
   "cell_type": "code",
   "execution_count": 33,
   "id": "fb7e39e6",
   "metadata": {},
   "outputs": [
    {
     "data": {
      "image/png": "[encoded data removed]",
      "text/plain": [
       "<Figure size 720x432 with 1 Axes>"
      ]
     },
     "metadata": {},
     "output_type": "display_data"
    },
    {
     "data": {
      "image/png": "[encoded data removed]",
      "text/plain": [
       "<Figure size 720x432 with 1 Axes>"
      ]
     },
     "metadata": {},
     "output_type": "display_data"
    }
   ],
   "source": [
    "niffo_plotter.plot_model_history_accuracy(his_1, model_name=\"Model 1\")\n",
    "niffo_plotter.plot_model_history_loss(his_1, model_name=\"Model 1\")"
   ]
  },
  {
   "cell_type": "code",
   "execution_count": 63,
   "id": "b6154194",
   "metadata": {},
   "outputs": [
    {
     "data": {
      "text/plain": [
       "array([[4.7201574e-01, 4.4827137e-02, 7.2766118e-02, 2.8386712e-01,\n",
       "        1.2652382e-01],\n",
       "       [5.1982719e-03, 1.7382787e-03, 3.3681342e-01, 5.7915307e-04,\n",
       "        6.5567094e-01],\n",
       "       [5.5592158e-05, 3.4187187e-04, 9.5717043e-01, 2.3903153e-04,\n",
       "        4.2193085e-02],\n",
       "       ...,\n",
       "       [1.4535477e-05, 5.7711485e-03, 1.1701442e-04, 4.2504785e-06,\n",
       "        9.9409300e-01],\n",
       "       [9.3992049e-04, 8.7802019e-03, 1.5146021e-03, 2.5831844e-04,\n",
       "        9.8850691e-01],\n",
       "       [1.4891597e-03, 5.4237027e-02, 3.7600681e-02, 6.9373018e-06,\n",
       "        9.0666622e-01]], dtype=float32)"
      ]
     },
     "execution_count": 63,
     "metadata": {},
     "output_type": "execute_result"
    }
   ],
   "source": [
    "# Predicting test data\n",
    "model_1_preds = model_1.predict(test_dataset)\n",
    "model_1_preds"
   ]
  },
  {
   "cell_type": "code",
   "execution_count": 64,
   "id": "d87d9408",
   "metadata": {},
   "outputs": [
    {
     "data": {
      "text/plain": [
       "array([0, 4, 2, ..., 4, 4, 4], dtype=int64)"
      ]
     },
     "execution_count": 64,
     "metadata": {},
     "output_type": "execute_result"
    }
   ],
   "source": [
    "model_1_preds = np.argmax(model_1_preds, axis=1)\n",
    "model_1_preds"
   ]
  },
  {
   "cell_type": "code",
   "execution_count": 65,
   "id": "d6032d87",
   "metadata": {},
   "outputs": [
    {
     "data": {
      "text/plain": [
       "{'accuracy': 78.52663016426082,\n",
       " 'precision': 0.7817069791201003,\n",
       " 'recall': 0.7852663016426082,\n",
       " 'f1-score': 0.782223028043873}"
      ]
     },
     "execution_count": 65,
     "metadata": {},
     "output_type": "execute_result"
    }
   ],
   "source": [
    "calculate_result(y_true=etest_labels, y_predict=model_1_preds)"
   ]
  },
  {
   "cell_type": "markdown",
   "id": "b0cc0faa",
   "metadata": {},
   "source": [
    "## Model 2: Transfer learning Feature Extraction model"
   ]
  },
  {
   "cell_type": "code",
   "execution_count": null,
   "id": "6004d2e1",
   "metadata": {},
   "outputs": [],
   "source": []
  }
 ],
 "metadata": {
  "kernelspec": {
   "display_name": "tfgpu",
   "language": "python",
   "name": "tfgpu"
  },
  "language_info": {
   "codemirror_mode": {
    "name": "ipython",
    "version": 3
   },
   "file_extension": ".py",
   "mimetype": "text/x-python",
   "name": "python",
   "nbconvert_exporter": "python",
   "pygments_lexer": "ipython3",
   "version": "3.9.7"
  }
 },
 "nbformat": 4,
 "nbformat_minor": 5
}
