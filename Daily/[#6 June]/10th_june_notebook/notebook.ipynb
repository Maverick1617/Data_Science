{
 "cells": [
  {
   "cell_type": "markdown",
   "metadata": {
    "pycharm": {
     "name": "#%% md\n"
    }
   },
   "source": [
    "# 10th June Notebook (chat bot)"
   ]
  },
  {
   "cell_type": "code",
   "execution_count": 29,
   "metadata": {
    "pycharm": {
     "name": "#%%\n"
    }
   },
   "outputs": [],
   "source": [
    "import torch\n",
    "import torch.nn as nn\n",
    "import torch.nn.functional as F\n",
    "\n",
    "import os\n",
    "import re\n",
    "import csv\n",
    "import unicodedata\n",
    "import codecs\n",
    "import itertools"
   ]
  },
  {
   "cell_type": "code",
   "execution_count": 30,
   "metadata": {
    "pycharm": {
     "name": "#%%\n"
    }
   },
   "outputs": [
    {
     "data": {
      "text/plain": [
       "'cuda:0'"
      ]
     },
     "execution_count": 30,
     "metadata": {},
     "output_type": "execute_result"
    }
   ],
   "source": [
    "device = \"cuda:0\" if torch.cuda.is_available() else \"cpu\"\n",
    "device"
   ]
  },
  {
   "cell_type": "markdown",
   "metadata": {
    "pycharm": {
     "name": "#%% md\n"
    }
   },
   "source": [
    "## Data Preprocessing"
   ]
  },
  {
   "cell_type": "code",
   "execution_count": 3,
   "metadata": {
    "pycharm": {
     "name": "#%%\n"
    }
   },
   "outputs": [],
   "source": [
    "movie_lines_path = os.path.join(\"Data\", \"movie_lines.txt\")\n",
    "movie_conv_path = os.path.join(\"Data\", \"movie_conversations.txt\")"
   ]
  },
  {
   "cell_type": "code",
   "execution_count": 4,
   "metadata": {
    "pycharm": {
     "name": "#%%\n"
    }
   },
   "outputs": [
    {
     "name": "stdout",
     "output_type": "stream",
     "text": [
      "L1045 +++$+++ u0 +++$+++ m0 +++$+++ BIANCA +++$+++ They do not!\n",
      "L1044 +++$+++ u2 +++$+++ m0 +++$+++ CAMERON +++$+++ They do to!\n",
      "L985 +++$+++ u0 +++$+++ m0 +++$+++ BIANCA +++$+++ I hope so.\n",
      "L984 +++$+++ u2 +++$+++ m0 +++$+++ CAMERON +++$+++ She okay?\n",
      "L925 +++$+++ u0 +++$+++ m0 +++$+++ BIANCA +++$+++ Let's go.\n"
     ]
    }
   ],
   "source": [
    "# Checking text format\n",
    "with open(movie_lines_path, \"r\") as f:\n",
    "    txt = f.readlines()\n",
    "    for i in txt[:5]:\n",
    "        print(i, end=\"\")"
   ]
  },
  {
   "cell_type": "code",
   "execution_count": 5,
   "metadata": {
    "pycharm": {
     "name": "#%%\n"
    }
   },
   "outputs": [
    {
     "name": "stdout",
     "output_type": "stream",
     "text": [
      "Completed!\n"
     ]
    }
   ],
   "source": [
    "line_fields = [\"line_id\", \"character_id\", \"movie_id\", \"character_name\", \"logs\"]\n",
    "dialogues = {}\n",
    "\n",
    "with open(movie_lines_path, \"r\") as f:\n",
    "    for line in f:\n",
    "        string = line.split(\" +++$+++ \")\n",
    "        current_line = {}\n",
    "        for i, col in enumerate(line_fields):\n",
    "            current_line[col] = string[i]\n",
    "        dialogues[string[0]] = current_line\n",
    "f.close()\n",
    "print(\"Completed!\")"
   ]
  },
  {
   "cell_type": "code",
   "execution_count": 6,
   "metadata": {
    "pycharm": {
     "name": "#%%\n"
    }
   },
   "outputs": [
    {
     "data": {
      "text/plain": [
       "304713"
      ]
     },
     "execution_count": 6,
     "metadata": {},
     "output_type": "execute_result"
    }
   ],
   "source": [
    "len(dialogues)"
   ]
  },
  {
   "cell_type": "code",
   "execution_count": 7,
   "metadata": {
    "pycharm": {
     "name": "#%%\n"
    }
   },
   "outputs": [
    {
     "data": {
      "text/plain": [
       "{'line_id': 'L1044',\n",
       " 'character_id': 'u2',\n",
       " 'movie_id': 'm0',\n",
       " 'character_name': 'CAMERON',\n",
       " 'logs': 'They do to!\\n'}"
      ]
     },
     "execution_count": 7,
     "metadata": {},
     "output_type": "execute_result"
    }
   ],
   "source": [
    "dialogues[\"L1044\"]"
   ]
  },
  {
   "cell_type": "code",
   "execution_count": 8,
   "metadata": {
    "pycharm": {
     "name": "#%%\n"
    }
   },
   "outputs": [
    {
     "name": "stdout",
     "output_type": "stream",
     "text": [
      "u0 +++$+++ u2 +++$+++ m0 +++$+++ ['L194', 'L195', 'L196', 'L197']\n",
      "u0 +++$+++ u2 +++$+++ m0 +++$+++ ['L198', 'L199']\n",
      "u0 +++$+++ u2 +++$+++ m0 +++$+++ ['L200', 'L201', 'L202', 'L203']\n",
      "u0 +++$+++ u2 +++$+++ m0 +++$+++ ['L204', 'L205', 'L206']\n",
      "u0 +++$+++ u2 +++$+++ m0 +++$+++ ['L207', 'L208']\n"
     ]
    }
   ],
   "source": [
    "with open(movie_conv_path, \"r\") as f:\n",
    "    string = f.readlines()\n",
    "    for i in string[:5]:\n",
    "        print(i, end=\"\")\n",
    "f.close()"
   ]
  },
  {
   "cell_type": "code",
   "execution_count": 9,
   "metadata": {
    "pycharm": {
     "name": "#%%\n"
    }
   },
   "outputs": [],
   "source": [
    "conv_fields = [\"character1_id\", \"character2_id\", \"movie_id\", \"utterance_ids\"]\n",
    "conversations = []\n",
    "\n",
    "with open(movie_conv_path, \"r\") as f:\n",
    "    for line in f:\n",
    "        string = line.split(\" +++$+++ \")\n",
    "        current_conv = {}\n",
    "        for i, col in enumerate(conv_fields):\n",
    "            current_conv[col] = string[i]\n",
    "        line_ids = eval(current_conv[\"utterance_ids\"])\n",
    "        current_conv[\"lines\"] = []\n",
    "        for line_id in line_ids:\n",
    "            current_conv[\"lines\"].append(dialogues[line_id])\n",
    "        conversations.append(current_conv)\n",
    "f.close()"
   ]
  },
  {
   "cell_type": "code",
   "execution_count": 10,
   "metadata": {
    "pycharm": {
     "name": "#%%\n"
    }
   },
   "outputs": [
    {
     "data": {
      "text/plain": [
       "{'character1_id': 'u0',\n",
       " 'character2_id': 'u2',\n",
       " 'movie_id': 'm0',\n",
       " 'utterance_ids': \"['L194', 'L195', 'L196', 'L197']\\n\",\n",
       " 'lines': [{'line_id': 'L194',\n",
       "   'character_id': 'u0',\n",
       "   'movie_id': 'm0',\n",
       "   'character_name': 'BIANCA',\n",
       "   'logs': 'Can we make this quick?  Roxanne Korrine and Andrew Barrett are having an incredibly horrendous public break- up on the quad.  Again.\\n'},\n",
       "  {'line_id': 'L195',\n",
       "   'character_id': 'u2',\n",
       "   'movie_id': 'm0',\n",
       "   'character_name': 'CAMERON',\n",
       "   'logs': \"Well, I thought we'd start with pronunciation, if that's okay with you.\\n\"},\n",
       "  {'line_id': 'L196',\n",
       "   'character_id': 'u0',\n",
       "   'movie_id': 'm0',\n",
       "   'character_name': 'BIANCA',\n",
       "   'logs': 'Not the hacking and gagging and spitting part.  Please.\\n'},\n",
       "  {'line_id': 'L197',\n",
       "   'character_id': 'u2',\n",
       "   'movie_id': 'm0',\n",
       "   'character_name': 'CAMERON',\n",
       "   'logs': \"Okay... then how 'bout we try out some French cuisine.  Saturday?  Night?\\n\"}]}"
      ]
     },
     "execution_count": 10,
     "metadata": {},
     "output_type": "execute_result"
    }
   ],
   "source": [
    "conversations[0]"
   ]
  },
  {
   "cell_type": "code",
   "execution_count": 11,
   "metadata": {
    "pycharm": {
     "name": "#%%\n"
    }
   },
   "outputs": [
    {
     "name": "stdout",
     "output_type": "stream",
     "text": [
      "Execution Finished!\n"
     ]
    }
   ],
   "source": [
    "qa_pairs = []\n",
    "for c in conversations:\n",
    "    for i in range(len(c[\"lines\"]) - 1):\n",
    "        inputs_text = c[\"lines\"][i][\"logs\"].strip()\n",
    "        target_text = c[\"lines\"][i + 1][\"logs\"].strip()\n",
    "        if inputs_text and target_text:\n",
    "            qa_pairs.append([inputs_text, target_text])\n",
    "print(\"Execution Finished!\")"
   ]
  },
  {
   "cell_type": "code",
   "execution_count": 12,
   "metadata": {
    "pycharm": {
     "name": "#%%\n"
    }
   },
   "outputs": [
    {
     "data": {
      "text/plain": [
       "[['Can we make this quick?  Roxanne Korrine and Andrew Barrett are having an incredibly horrendous public break- up on the quad.  Again.',\n",
       "  \"Well, I thought we'd start with pronunciation, if that's okay with you.\"],\n",
       " [\"Well, I thought we'd start with pronunciation, if that's okay with you.\",\n",
       "  'Not the hacking and gagging and spitting part.  Please.'],\n",
       " ['Not the hacking and gagging and spitting part.  Please.',\n",
       "  \"Okay... then how 'bout we try out some French cuisine.  Saturday?  Night?\"],\n",
       " [\"You're asking me out.  That's so cute. What's your name again?\",\n",
       "  'Forget it.'],\n",
       " [\"No, no, it's my fault -- we didn't have a proper introduction ---\",\n",
       "  'Cameron.']]"
      ]
     },
     "execution_count": 12,
     "metadata": {},
     "output_type": "execute_result"
    }
   ],
   "source": [
    "qa_pairs[:5]"
   ]
  },
  {
   "cell_type": "code",
   "execution_count": null,
   "metadata": {
    "pycharm": {
     "name": "#%%\n"
    }
   },
   "outputs": [],
   "source": [
    "save_file = os.path.join(\"Data\", \"processed_lines.txt\")\n",
    "delimiter = '\\t'\n",
    "delimiter = str(codecs.decode(delimiter, \"unicode_escape\"))\n",
    "with open(save_file, \"w\", encoding=\"utf-8\") as of:\n",
    "    write = csv.writer(of, delimiter=delimiter)\n",
    "    for i in qa_pairs:\n",
    "        write.writerow(i)\n",
    "of.close()"
   ]
  },
  {
   "cell_type": "code",
   "execution_count": 31,
   "metadata": {
    "pycharm": {
     "name": "#%%\n"
    }
   },
   "outputs": [
    {
     "name": "stdout",
     "output_type": "stream",
     "text": [
      "b\"Can we make this quick?  Roxanne Korrine and Andrew Barrett are having an incredibly horrendous public break- up on the quad.  Again.\\tWell, I thought we'd start with pronunciation, if that's okay with you.\\r\\r\\n\"\n",
      "b\"Well, I thought we'd start with pronunciation, if that's okay with you.\\tNot the hacking and gagging and spitting part.  Please.\\r\\r\\n\"\n",
      "b\"Not the hacking and gagging and spitting part.  Please.\\tOkay... then how 'bout we try out some French cuisine.  Saturday?  Night?\\r\\r\\n\"\n",
      "b\"You're asking me out.  That's so cute. What's your name again?\\tForget it.\\r\\r\\n\"\n",
      "b\"No, no, it's my fault -- we didn't have a proper introduction ---\\tCameron.\\r\\r\\n\"\n"
     ]
    }
   ],
   "source": [
    "data_path = os.path.join(\"Data\", \"processed_lines.txt\")\n",
    "with open(data_path, \"rb\") as f:\n",
    "    string = f.readlines()\n",
    "    for i in string[:5]:\n",
    "        print(i)\n",
    "f.close()"
   ]
  },
  {
   "cell_type": "code",
   "execution_count": 32,
   "metadata": {
    "pycharm": {
     "name": "#%%\n"
    }
   },
   "outputs": [],
   "source": [
    "padding_token = 0\n",
    "start_sen_token = 1\n",
    "end_sen_token = 2"
   ]
  },
  {
   "cell_type": "code",
   "execution_count": 45,
   "metadata": {
    "pycharm": {
     "name": "#%%\n"
    }
   },
   "outputs": [],
   "source": [
    "class TextProcessing:\n",
    "    def __init__(self, name):\n",
    "        self.name = name\n",
    "        self.word_to_index = {}\n",
    "        self.word_to_count = {}\n",
    "        self.index_to_word = {padding_token: \"PAD\", start_sen_token: \"SOS\", end_sen_token: \"EOS\"}\n",
    "        self.index = 3\n",
    "\n",
    "    def add_text(self, text):\n",
    "        for i in text.split():\n",
    "            self.__word__(i)\n",
    "\n",
    "    def __word__(self, word):\n",
    "        if word not in self.word_to_index:\n",
    "            self.word_to_index[word] = self.index\n",
    "            self.word_to_count[word] = 1\n",
    "            self.index_to_word[self.index] = word\n",
    "            self.index += 1\n",
    "        else:\n",
    "            self.word_to_count[word] += 1\n",
    "\n",
    "    def clean(self, min_counts):\n",
    "        text = []\n",
    "        for key, val in self.word_to_count:\n",
    "            if val >= min_counts:\n",
    "                text.append(key)\n",
    "        print(\"After removing text size reduced from {} to {}\".format(len(self.word_to_index), len(text)))\n",
    "        self.word_to_index.clear()\n",
    "        self.word_to_count.clear()\n",
    "        self.index_to_word = {padding_token: \"PAD\", start_sen_token: \"SOS\", end_sen_token: \"EOS\"}\n",
    "        self.index = 3\n",
    "        for i in text:\n",
    "            self.__word__(i)"
   ]
  },
  {
   "cell_type": "code",
   "execution_count": 34,
   "metadata": {
    "pycharm": {
     "name": "#%%\n"
    }
   },
   "outputs": [],
   "source": [
    "def get_ascii(text):\n",
    "    return \"\".join(i for i in unicodedata.normalize(\"NFD\", text) if unicodedata.category(i) != \"Mn\")"
   ]
  },
  {
   "cell_type": "code",
   "execution_count": 35,
   "metadata": {
    "pycharm": {
     "name": "#%%\n"
    }
   },
   "outputs": [],
   "source": [
    "def normalize_text(text: str):\n",
    "    text = get_ascii(text.lower().strip())\n",
    "    text = re.sub(r\"([.!?])\", r\" \\1\", text)\n",
    "    text = re.sub(r\"[^a-zA-Z.!?]+\", r\" \", text)\n",
    "    text = re.sub(r\"\\s+\", r\" \", text).strip()\n",
    "    return text"
   ]
  },
  {
   "cell_type": "code",
   "execution_count": 36,
   "metadata": {
    "pycharm": {
     "name": "#%%\n"
    }
   },
   "outputs": [
    {
     "name": "stdout",
     "output_type": "stream",
     "text": [
      "Finished!\n"
     ]
    }
   ],
   "source": [
    "texts = open(data_path, \"r\", encoding=\"utf-8\").read().strip().split(\"\\n\")\n",
    "qa_pairs = [[normalize_text(i) for i in pair.split(\"\\t\")] for pair in texts]\n",
    "print(\"Finished!\")"
   ]
  },
  {
   "cell_type": "code",
   "execution_count": 37,
   "metadata": {
    "pycharm": {
     "name": "#%%\n"
    }
   },
   "outputs": [
    {
     "data": {
      "text/plain": [
       "[['can we make this quick ? roxanne korrine and andrew barrett are having an incredibly horrendous public break up on the quad . again .',\n",
       "  'well i thought we d start with pronunciation if that s okay with you .'],\n",
       " [''],\n",
       " ['well i thought we d start with pronunciation if that s okay with you .',\n",
       "  'not the hacking and gagging and spitting part . please .'],\n",
       " [''],\n",
       " ['not the hacking and gagging and spitting part . please .',\n",
       "  'okay . . . then how bout we try out some french cuisine . saturday ? night ?']]"
      ]
     },
     "execution_count": 37,
     "metadata": {},
     "output_type": "execute_result"
    }
   ],
   "source": [
    "qa_pairs[:5]"
   ]
  },
  {
   "cell_type": "code",
   "execution_count": 46,
   "metadata": {
    "pycharm": {
     "name": "#%%\n"
    }
   },
   "outputs": [],
   "source": [
    "text_process = TextProcessing(\"Movie dialogues\")"
   ]
  },
  {
   "cell_type": "code",
   "execution_count": 39,
   "metadata": {
    "pycharm": {
     "name": "#%%\n"
    }
   },
   "outputs": [],
   "source": [
    "len_threshold = 10\n",
    "\n",
    "def comp(x: str, y: str):\n",
    "    return len(x.split()) < len_threshold and len(y.split()) < len_threshold\n",
    "\n",
    "def filter_qa(text):\n",
    "    return [t for t in text if comp(t[0], t[1])]"
   ]
  },
  {
   "cell_type": "code",
   "execution_count": 40,
   "metadata": {
    "pycharm": {
     "name": "#%%\n"
    }
   },
   "outputs": [],
   "source": [
    "qa_pairs = [t for t in qa_pairs if len(t) > 1]"
   ]
  },
  {
   "cell_type": "code",
   "execution_count": 51,
   "metadata": {},
   "outputs": [
    {
     "data": {
      "text/plain": [
       "221282"
      ]
     },
     "execution_count": 51,
     "metadata": {},
     "output_type": "execute_result"
    }
   ],
   "source": [
    "len(qa_pairs)"
   ]
  },
  {
   "cell_type": "code",
   "execution_count": 41,
   "metadata": {
    "pycharm": {
     "name": "#%%\n"
    }
   },
   "outputs": [
    {
     "data": {
      "text/plain": [
       "[['can we make this quick ? roxanne korrine and andrew barrett are having an incredibly horrendous public break up on the quad . again .',\n",
       "  'well i thought we d start with pronunciation if that s okay with you .'],\n",
       " ['well i thought we d start with pronunciation if that s okay with you .',\n",
       "  'not the hacking and gagging and spitting part . please .'],\n",
       " ['not the hacking and gagging and spitting part . please .',\n",
       "  'okay . . . then how bout we try out some french cuisine . saturday ? night ?'],\n",
       " ['you re asking me out . that s so cute . what s your name again ?',\n",
       "  'forget it .'],\n",
       " ['no no it s my fault we didn t have a proper introduction', 'cameron .']]"
      ]
     },
     "execution_count": 41,
     "metadata": {},
     "output_type": "execute_result"
    }
   ],
   "source": [
    "qa_pairs[:5]"
   ]
  },
  {
   "cell_type": "code",
   "execution_count": 42,
   "metadata": {
    "pycharm": {
     "name": "#%%\n"
    }
   },
   "outputs": [],
   "source": [
    "cleaned_text = filter_qa(qa_pairs)"
   ]
  },
  {
   "cell_type": "code",
   "execution_count": 43,
   "metadata": {
    "pycharm": {
     "name": "#%%\n"
    }
   },
   "outputs": [
    {
     "data": {
      "text/plain": [
       "[['there .', 'where ?'],\n",
       " ['you have my word . as a gentleman', 'you re sweet .'],\n",
       " ['hi .', 'looks like things worked out tonight huh ?'],\n",
       " ['you know chastity ?', 'i believe we share an art instructor'],\n",
       " ['have fun tonight ?', 'tons']]"
      ]
     },
     "execution_count": 43,
     "metadata": {},
     "output_type": "execute_result"
    }
   ],
   "source": [
    "cleaned_text[:5]"
   ]
  },
  {
   "cell_type": "code",
   "execution_count": 49,
   "metadata": {
    "pycharm": {
     "name": "#%%\n"
    }
   },
   "outputs": [],
   "source": [
    "for i in cleaned_text:\n",
    "    text_process.add_text(i[0])\n",
    "    text_process.add_text(i[1])"
   ]
  },
  {
   "cell_type": "code",
   "execution_count": 50,
   "metadata": {},
   "outputs": [
    {
     "data": {
      "text/plain": [
       "18007"
      ]
     },
     "execution_count": 50,
     "metadata": {},
     "output_type": "execute_result"
    }
   ],
   "source": [
    "text_process.index"
   ]
  },
  {
   "cell_type": "code",
   "execution_count": null,
   "metadata": {},
   "outputs": [],
   "source": []
  }
 ],
 "metadata": {
  "kernelspec": {
   "display_name": "Python 3 (ipykernel)",
   "language": "python",
   "name": "python3"
  },
  "language_info": {
   "codemirror_mode": {
    "name": "ipython",
    "version": 3
   },
   "file_extension": ".py",
   "mimetype": "text/x-python",
   "name": "python",
   "nbconvert_exporter": "python",
   "pygments_lexer": "ipython3",
   "version": "3.7.13"
  }
 },
 "nbformat": 4,
 "nbformat_minor": 1
}
