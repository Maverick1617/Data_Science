{
 "cells": [
  {
   "cell_type": "markdown",
   "metadata": {
    "pycharm": {
     "name": "#%% md\n"
    }
   },
   "source": [
    "# 10th June Notebook (chat bot)"
   ]
  },
  {
   "cell_type": "code",
   "execution_count": 123,
   "metadata": {
    "pycharm": {
     "name": "#%%\n"
    }
   },
   "outputs": [],
   "source": [
    "import torch\n",
    "import torch.nn as nn\n",
    "import torch.nn.functional as F\n",
    "\n",
    "import os\n",
    "import re\n",
    "import csv\n",
    "import unicodedata\n",
    "import random\n",
    "import codecs\n",
    "import itertools"
   ]
  },
  {
   "cell_type": "code",
   "execution_count": 2,
   "metadata": {
    "pycharm": {
     "name": "#%%\n"
    }
   },
   "outputs": [
    {
     "data": {
      "text/plain": "'cuda:0'"
     },
     "execution_count": 2,
     "metadata": {},
     "output_type": "execute_result"
    }
   ],
   "source": [
    "device = \"cuda:0\" if torch.cuda.is_available() else \"cpu\"\n",
    "device"
   ]
  },
  {
   "cell_type": "markdown",
   "metadata": {
    "pycharm": {
     "name": "#%% md\n"
    }
   },
   "source": [
    "## Data Preprocessing"
   ]
  },
  {
   "cell_type": "code",
   "execution_count": 3,
   "metadata": {
    "pycharm": {
     "name": "#%%\n"
    }
   },
   "outputs": [],
   "source": [
    "movie_lines_path = os.path.join(\"Data\", \"movie_lines.txt\")\n",
    "movie_conv_path = os.path.join(\"Data\", \"movie_conversations.txt\")"
   ]
  },
  {
   "cell_type": "code",
   "execution_count": 4,
   "metadata": {
    "pycharm": {
     "name": "#%%\n"
    }
   },
   "outputs": [
    {
     "name": "stdout",
     "output_type": "stream",
     "text": [
      "L1045 +++$+++ u0 +++$+++ m0 +++$+++ BIANCA +++$+++ They do not!\n",
      "L1044 +++$+++ u2 +++$+++ m0 +++$+++ CAMERON +++$+++ They do to!\n",
      "L985 +++$+++ u0 +++$+++ m0 +++$+++ BIANCA +++$+++ I hope so.\n",
      "L984 +++$+++ u2 +++$+++ m0 +++$+++ CAMERON +++$+++ She okay?\n",
      "L925 +++$+++ u0 +++$+++ m0 +++$+++ BIANCA +++$+++ Let's go.\n"
     ]
    }
   ],
   "source": [
    "# Checking text format\n",
    "with open(movie_lines_path, \"r\") as f:\n",
    "    txt = f.readlines()\n",
    "    for i in txt[:5]:\n",
    "        print(i, end=\"\")"
   ]
  },
  {
   "cell_type": "code",
   "execution_count": 5,
   "metadata": {
    "pycharm": {
     "name": "#%%\n"
    }
   },
   "outputs": [
    {
     "name": "stdout",
     "output_type": "stream",
     "text": [
      "Completed!\n"
     ]
    }
   ],
   "source": [
    "line_fields = [\"line_id\", \"character_id\", \"movie_id\", \"character_name\", \"logs\"]\n",
    "dialogues = {}\n",
    "\n",
    "with open(movie_lines_path, \"r\") as f:\n",
    "    for line in f:\n",
    "        string = line.split(\" +++$+++ \")\n",
    "        current_line = {}\n",
    "        for i, col in enumerate(line_fields):\n",
    "            current_line[col] = string[i]\n",
    "        dialogues[string[0]] = current_line\n",
    "f.close()\n",
    "print(\"Completed!\")"
   ]
  },
  {
   "cell_type": "code",
   "execution_count": 6,
   "metadata": {
    "pycharm": {
     "name": "#%%\n"
    }
   },
   "outputs": [
    {
     "data": {
      "text/plain": [
       "304713"
      ]
     },
     "execution_count": 6,
     "metadata": {},
     "output_type": "execute_result"
    }
   ],
   "source": [
    "len(dialogues)"
   ]
  },
  {
   "cell_type": "code",
   "execution_count": 7,
   "metadata": {
    "pycharm": {
     "name": "#%%\n"
    }
   },
   "outputs": [
    {
     "data": {
      "text/plain": [
       "{'line_id': 'L1044',\n",
       " 'character_id': 'u2',\n",
       " 'movie_id': 'm0',\n",
       " 'character_name': 'CAMERON',\n",
       " 'logs': 'They do to!\\n'}"
      ]
     },
     "execution_count": 7,
     "metadata": {},
     "output_type": "execute_result"
    }
   ],
   "source": [
    "dialogues[\"L1044\"]"
   ]
  },
  {
   "cell_type": "code",
   "execution_count": 8,
   "metadata": {
    "pycharm": {
     "name": "#%%\n"
    }
   },
   "outputs": [
    {
     "name": "stdout",
     "output_type": "stream",
     "text": [
      "u0 +++$+++ u2 +++$+++ m0 +++$+++ ['L194', 'L195', 'L196', 'L197']\n",
      "u0 +++$+++ u2 +++$+++ m0 +++$+++ ['L198', 'L199']\n",
      "u0 +++$+++ u2 +++$+++ m0 +++$+++ ['L200', 'L201', 'L202', 'L203']\n",
      "u0 +++$+++ u2 +++$+++ m0 +++$+++ ['L204', 'L205', 'L206']\n",
      "u0 +++$+++ u2 +++$+++ m0 +++$+++ ['L207', 'L208']\n"
     ]
    }
   ],
   "source": [
    "with open(movie_conv_path, \"r\") as f:\n",
    "    string = f.readlines()\n",
    "    for i in string[:5]:\n",
    "        print(i, end=\"\")\n",
    "f.close()"
   ]
  },
  {
   "cell_type": "code",
   "execution_count": 9,
   "metadata": {
    "pycharm": {
     "name": "#%%\n"
    }
   },
   "outputs": [],
   "source": [
    "conv_fields = [\"character1_id\", \"character2_id\", \"movie_id\", \"utterance_ids\"]\n",
    "conversations = []\n",
    "\n",
    "with open(movie_conv_path, \"r\") as f:\n",
    "    for line in f:\n",
    "        string = line.split(\" +++$+++ \")\n",
    "        current_conv = {}\n",
    "        for i, col in enumerate(conv_fields):\n",
    "            current_conv[col] = string[i]\n",
    "        line_ids = eval(current_conv[\"utterance_ids\"])\n",
    "        current_conv[\"lines\"] = []\n",
    "        for line_id in line_ids:\n",
    "            current_conv[\"lines\"].append(dialogues[line_id])\n",
    "        conversations.append(current_conv)\n",
    "f.close()"
   ]
  },
  {
   "cell_type": "code",
   "execution_count": 10,
   "metadata": {
    "pycharm": {
     "name": "#%%\n"
    }
   },
   "outputs": [
    {
     "data": {
      "text/plain": [
       "{'character1_id': 'u0',\n",
       " 'character2_id': 'u2',\n",
       " 'movie_id': 'm0',\n",
       " 'utterance_ids': \"['L194', 'L195', 'L196', 'L197']\\n\",\n",
       " 'lines': [{'line_id': 'L194',\n",
       "   'character_id': 'u0',\n",
       "   'movie_id': 'm0',\n",
       "   'character_name': 'BIANCA',\n",
       "   'logs': 'Can we make this quick?  Roxanne Korrine and Andrew Barrett are having an incredibly horrendous public break- up on the quad.  Again.\\n'},\n",
       "  {'line_id': 'L195',\n",
       "   'character_id': 'u2',\n",
       "   'movie_id': 'm0',\n",
       "   'character_name': 'CAMERON',\n",
       "   'logs': \"Well, I thought we'd start with pronunciation, if that's okay with you.\\n\"},\n",
       "  {'line_id': 'L196',\n",
       "   'character_id': 'u0',\n",
       "   'movie_id': 'm0',\n",
       "   'character_name': 'BIANCA',\n",
       "   'logs': 'Not the hacking and gagging and spitting part.  Please.\\n'},\n",
       "  {'line_id': 'L197',\n",
       "   'character_id': 'u2',\n",
       "   'movie_id': 'm0',\n",
       "   'character_name': 'CAMERON',\n",
       "   'logs': \"Okay... then how 'bout we try out some French cuisine.  Saturday?  Night?\\n\"}]}"
      ]
     },
     "execution_count": 10,
     "metadata": {},
     "output_type": "execute_result"
    }
   ],
   "source": [
    "conversations[0]"
   ]
  },
  {
   "cell_type": "code",
   "execution_count": 11,
   "metadata": {
    "pycharm": {
     "name": "#%%\n"
    }
   },
   "outputs": [
    {
     "name": "stdout",
     "output_type": "stream",
     "text": [
      "Execution Finished!\n"
     ]
    }
   ],
   "source": [
    "qa_pairs = []\n",
    "for c in conversations:\n",
    "    for i in range(len(c[\"lines\"]) - 1):\n",
    "        inputs_text = c[\"lines\"][i][\"logs\"].strip()\n",
    "        target_text = c[\"lines\"][i + 1][\"logs\"].strip()\n",
    "        if inputs_text and target_text:\n",
    "            qa_pairs.append([inputs_text, target_text])\n",
    "print(\"Execution Finished!\")"
   ]
  },
  {
   "cell_type": "code",
   "execution_count": 12,
   "metadata": {
    "pycharm": {
     "name": "#%%\n"
    }
   },
   "outputs": [
    {
     "data": {
      "text/plain": [
       "[['Can we make this quick?  Roxanne Korrine and Andrew Barrett are having an incredibly horrendous public break- up on the quad.  Again.',\n",
       "  \"Well, I thought we'd start with pronunciation, if that's okay with you.\"],\n",
       " [\"Well, I thought we'd start with pronunciation, if that's okay with you.\",\n",
       "  'Not the hacking and gagging and spitting part.  Please.'],\n",
       " ['Not the hacking and gagging and spitting part.  Please.',\n",
       "  \"Okay... then how 'bout we try out some French cuisine.  Saturday?  Night?\"],\n",
       " [\"You're asking me out.  That's so cute. What's your name again?\",\n",
       "  'Forget it.'],\n",
       " [\"No, no, it's my fault -- we didn't have a proper introduction ---\",\n",
       "  'Cameron.']]"
      ]
     },
     "execution_count": 12,
     "metadata": {},
     "output_type": "execute_result"
    }
   ],
   "source": [
    "qa_pairs[:5]"
   ]
  },
  {
   "cell_type": "code",
   "execution_count": null,
   "metadata": {
    "pycharm": {
     "name": "#%%\n"
    }
   },
   "outputs": [],
   "source": [
    "save_file = os.path.join(\"Data\", \"processed_lines.txt\")\n",
    "delimiter = '\\t'\n",
    "delimiter = str(codecs.decode(delimiter, \"unicode_escape\"))\n",
    "with open(save_file, \"w\", encoding=\"utf-8\") as of:\n",
    "    write = csv.writer(of, delimiter=delimiter)\n",
    "    for i in qa_pairs:\n",
    "        write.writerow(i)\n",
    "of.close()"
   ]
  },
  {
   "cell_type": "code",
   "execution_count": 3,
   "metadata": {
    "pycharm": {
     "name": "#%%\n"
    }
   },
   "outputs": [
    {
     "name": "stdout",
     "output_type": "stream",
     "text": [
      "b\"Can we make this quick?  Roxanne Korrine and Andrew Barrett are having an incredibly horrendous public break- up on the quad.  Again.\\tWell, I thought we'd start with pronunciation, if that's okay with you.\\r\\r\\n\"\n",
      "b\"Well, I thought we'd start with pronunciation, if that's okay with you.\\tNot the hacking and gagging and spitting part.  Please.\\r\\r\\n\"\n",
      "b\"Not the hacking and gagging and spitting part.  Please.\\tOkay... then how 'bout we try out some French cuisine.  Saturday?  Night?\\r\\r\\n\"\n",
      "b\"You're asking me out.  That's so cute. What's your name again?\\tForget it.\\r\\r\\n\"\n",
      "b\"No, no, it's my fault -- we didn't have a proper introduction ---\\tCameron.\\r\\r\\n\"\n"
     ]
    }
   ],
   "source": [
    "data_path = os.path.join(\"Data\", \"processed_lines.txt\")\n",
    "with open(data_path, \"rb\") as f:\n",
    "    string = f.readlines()\n",
    "    for i in string[:5]:\n",
    "        print(i)\n",
    "f.close()"
   ]
  },
  {
   "cell_type": "code",
   "execution_count": 24,
   "metadata": {
    "pycharm": {
     "name": "#%%\n"
    }
   },
   "outputs": [],
   "source": [
    "padding_token = 0\n",
    "start_sen_token = 1\n",
    "end_sen_token = 2"
   ]
  },
  {
   "cell_type": "code",
   "execution_count": 75,
   "outputs": [],
   "source": [
    "class TextProcessing:\n",
    "    def __init__(self, name):\n",
    "        self.name = name\n",
    "        self.word_to_index = {}\n",
    "        self.word_to_count = {}\n",
    "        self.index_to_word = {padding_token: \"PAD\", start_sen_token: \"SOS\", end_sen_token: \"EOS\"}\n",
    "        self.index = 3\n",
    "\n",
    "    def add_text(self, text):\n",
    "        for i in text.split():\n",
    "            self.__word__(i)\n",
    "\n",
    "    def __word__(self, word):\n",
    "        if word not in self.word_to_index:\n",
    "            self.word_to_index[word] = self.index\n",
    "            self.word_to_count[word] = 1\n",
    "            self.index_to_word[self.index] = word\n",
    "            self.index += 1\n",
    "        else:\n",
    "            self.word_to_count[word] += 1\n",
    "\n",
    "    def clean(self, min_counts, debug=False):\n",
    "        text = []\n",
    "        if debug:\n",
    "            print(self.word_to_index)\n",
    "        for key, val in self.word_to_count.items():\n",
    "            if val >= min_counts:\n",
    "                text.append(key)\n",
    "        print(\"After removing text size reduced from {} to {}\".format(len(self.word_to_index), len(text)))\n",
    "        self.word_to_index.clear()\n",
    "        self.word_to_count.clear()\n",
    "        self.index_to_word = {padding_token: \"PAD\", start_sen_token: \"SOS\", end_sen_token: \"EOS\"}\n",
    "        self.index = 3\n",
    "        for i in text:\n",
    "            self.__word__(i)"
   ],
   "metadata": {
    "collapsed": false,
    "pycharm": {
     "name": "#%%\n"
    }
   }
  },
  {
   "cell_type": "code",
   "execution_count": 76,
   "outputs": [],
   "source": [
    "def get_ascii(text):\n",
    "    return \"\".join(i for i in unicodedata.normalize(\"NFD\", text) if unicodedata.category(i) != \"Mn\")"
   ],
   "metadata": {
    "collapsed": false,
    "pycharm": {
     "name": "#%%\n"
    }
   }
  },
  {
   "cell_type": "code",
   "execution_count": 77,
   "outputs": [],
   "source": [
    "def normalize_text(text: str):\n",
    "    text = get_ascii(text.lower().strip())\n",
    "    text = re.sub(r\"([.!?])\", r\" \\1\", text)\n",
    "    text = re.sub(r\"[^a-zA-Z.!?]+\", r\" \", text)\n",
    "    text = re.sub(r\"\\s+\", r\" \", text).strip()\n",
    "    return text"
   ],
   "metadata": {
    "collapsed": false,
    "pycharm": {
     "name": "#%%\n"
    }
   }
  },
  {
   "cell_type": "code",
   "execution_count": 78,
   "outputs": [
    {
     "name": "stdout",
     "output_type": "stream",
     "text": [
      "Finished!\n"
     ]
    }
   ],
   "source": [
    "texts = open(data_path, \"r\", encoding=\"utf-8\").read().strip().split(\"\\n\")\n",
    "qa_pairs = [[normalize_text(i) for i in pair.split(\"\\t\")] for pair in texts]\n",
    "print(\"Finished!\")"
   ],
   "metadata": {
    "collapsed": false,
    "pycharm": {
     "name": "#%%\n"
    }
   }
  },
  {
   "cell_type": "code",
   "execution_count": 79,
   "outputs": [
    {
     "data": {
      "text/plain": "[['can we make this quick ? roxanne korrine and andrew barrett are having an incredibly horrendous public break up on the quad . again .',\n  'well i thought we d start with pronunciation if that s okay with you .'],\n [''],\n ['well i thought we d start with pronunciation if that s okay with you .',\n  'not the hacking and gagging and spitting part . please .'],\n [''],\n ['not the hacking and gagging and spitting part . please .',\n  'okay . . . then how bout we try out some french cuisine . saturday ? night ?']]"
     },
     "execution_count": 79,
     "metadata": {},
     "output_type": "execute_result"
    }
   ],
   "source": [
    "qa_pairs[:5]"
   ],
   "metadata": {
    "collapsed": false,
    "pycharm": {
     "name": "#%%\n"
    }
   }
  },
  {
   "cell_type": "code",
   "execution_count": 80,
   "outputs": [],
   "source": [
    "text_process = TextProcessing(\"Movie dialogues\")"
   ],
   "metadata": {
    "collapsed": false,
    "pycharm": {
     "name": "#%%\n"
    }
   }
  },
  {
   "cell_type": "code",
   "execution_count": 81,
   "outputs": [],
   "source": [
    "len_threshold = 10\n",
    "\n",
    "def comp(x: str, y: str):\n",
    "    return len(x.split()) < len_threshold and len(y.split()) < len_threshold\n",
    "\n",
    "def filter_qa(text):\n",
    "    return [t for t in text if comp(t[0], t[1])]"
   ],
   "metadata": {
    "collapsed": false,
    "pycharm": {
     "name": "#%%\n"
    }
   }
  },
  {
   "cell_type": "code",
   "execution_count": 82,
   "outputs": [],
   "source": [
    "qa_pairs = [t for t in qa_pairs if len(t) > 1]"
   ],
   "metadata": {
    "collapsed": false,
    "pycharm": {
     "name": "#%%\n"
    }
   }
  },
  {
   "cell_type": "code",
   "execution_count": 83,
   "outputs": [
    {
     "data": {
      "text/plain": "221282"
     },
     "execution_count": 83,
     "metadata": {},
     "output_type": "execute_result"
    }
   ],
   "source": [
    "len(qa_pairs)"
   ],
   "metadata": {
    "collapsed": false,
    "pycharm": {
     "name": "#%%\n"
    }
   }
  },
  {
   "cell_type": "code",
   "execution_count": 84,
   "outputs": [
    {
     "data": {
      "text/plain": "[['can we make this quick ? roxanne korrine and andrew barrett are having an incredibly horrendous public break up on the quad . again .',\n  'well i thought we d start with pronunciation if that s okay with you .'],\n ['well i thought we d start with pronunciation if that s okay with you .',\n  'not the hacking and gagging and spitting part . please .'],\n ['not the hacking and gagging and spitting part . please .',\n  'okay . . . then how bout we try out some french cuisine . saturday ? night ?'],\n ['you re asking me out . that s so cute . what s your name again ?',\n  'forget it .'],\n ['no no it s my fault we didn t have a proper introduction', 'cameron .']]"
     },
     "execution_count": 84,
     "metadata": {},
     "output_type": "execute_result"
    }
   ],
   "source": [
    "qa_pairs[:5]"
   ],
   "metadata": {
    "collapsed": false,
    "pycharm": {
     "name": "#%%\n"
    }
   }
  },
  {
   "cell_type": "code",
   "execution_count": 85,
   "outputs": [],
   "source": [
    "cleaned_text = filter_qa(qa_pairs)"
   ],
   "metadata": {
    "collapsed": false,
    "pycharm": {
     "name": "#%%\n"
    }
   }
  },
  {
   "cell_type": "code",
   "execution_count": 86,
   "outputs": [
    {
     "data": {
      "text/plain": "[['there .', 'where ?'],\n ['you have my word . as a gentleman', 'you re sweet .'],\n ['hi .', 'looks like things worked out tonight huh ?'],\n ['you know chastity ?', 'i believe we share an art instructor'],\n ['have fun tonight ?', 'tons']]"
     },
     "execution_count": 86,
     "metadata": {},
     "output_type": "execute_result"
    }
   ],
   "source": [
    "cleaned_text[:5]"
   ],
   "metadata": {
    "collapsed": false,
    "pycharm": {
     "name": "#%%\n"
    }
   }
  },
  {
   "cell_type": "code",
   "execution_count": 87,
   "outputs": [],
   "source": [
    "for i in cleaned_text:\n",
    "    text_process.add_text(i[0])\n",
    "    text_process.add_text(i[1])"
   ],
   "metadata": {
    "collapsed": false,
    "pycharm": {
     "name": "#%%\n"
    }
   }
  },
  {
   "cell_type": "code",
   "execution_count": 88,
   "outputs": [
    {
     "data": {
      "text/plain": "18007"
     },
     "execution_count": 88,
     "metadata": {},
     "output_type": "execute_result"
    }
   ],
   "source": [
    "text_process.index"
   ],
   "metadata": {
    "collapsed": false,
    "pycharm": {
     "name": "#%%\n"
    }
   }
  },
  {
   "cell_type": "code",
   "execution_count": 89,
   "metadata": {
    "pycharm": {
     "name": "#%%\n"
    }
   },
   "outputs": [],
   "source": [
    "for i in cleaned_text:\n",
    "    text_process.add_text(i[0])\n",
    "    text_process.add_text(i[1])"
   ]
  },
  {
   "cell_type": "code",
   "execution_count": 90,
   "metadata": {
    "pycharm": {
     "name": "#%%\n"
    }
   },
   "outputs": [
    {
     "data": {
      "text/plain": "18007"
     },
     "execution_count": 90,
     "metadata": {},
     "output_type": "execute_result"
    }
   ],
   "source": [
    "text_process.index"
   ]
  },
  {
   "cell_type": "code",
   "execution_count": 91,
   "outputs": [],
   "source": [
    "def remove_min(voc, pairs, min_count=3):\n",
    "    voc.clean(min_count, False)\n",
    "    new_pairs = []\n",
    "\n",
    "    for pair in pairs:\n",
    "        inputs = pair[0]\n",
    "        outputs = pair[1]\n",
    "        left, right = True, True\n",
    "        for word in inputs.split():\n",
    "            if word not in voc.word_to_index:\n",
    "                left = False\n",
    "                break\n",
    "        for word in outputs.split():\n",
    "            if word not in voc.word_to_index:\n",
    "                right = False\n",
    "                break\n",
    "        if left and right:\n",
    "            new_pairs.append(pair)\n",
    "    print(\"Original size: {}, current size: {}\".format(len(pairs), len(new_pairs)))\n",
    "    return new_pairs"
   ],
   "metadata": {
    "collapsed": false,
    "pycharm": {
     "name": "#%%\n"
    }
   }
  },
  {
   "cell_type": "code",
   "execution_count": 92,
   "outputs": [
    {
     "name": "stdout",
     "output_type": "stream",
     "text": [
      "After removing text size reduced from 18004 to 11353\n",
      "Original size: 64271, current size: 58499\n"
     ]
    }
   ],
   "source": [
    "new_qa = remove_min(text_process, cleaned_text)"
   ],
   "metadata": {
    "collapsed": false,
    "pycharm": {
     "name": "#%%\n"
    }
   }
  },
  {
   "cell_type": "code",
   "execution_count": 93,
   "outputs": [
    {
     "data": {
      "text/plain": "[['there .', 'where ?'],\n ['you have my word . as a gentleman', 'you re sweet .'],\n ['hi .', 'looks like things worked out tonight huh ?'],\n ['have fun tonight ?', 'tons'],\n ['well no . . .', 'then that s all you had to say .']]"
     },
     "execution_count": 93,
     "metadata": {},
     "output_type": "execute_result"
    }
   ],
   "source": [
    "new_qa[:5]"
   ],
   "metadata": {
    "collapsed": false,
    "pycharm": {
     "name": "#%%\n"
    }
   }
  },
  {
   "cell_type": "markdown",
   "source": [
    "## Data Prepration"
   ],
   "metadata": {
    "collapsed": false,
    "pycharm": {
     "name": "#%% md\n"
    }
   }
  },
  {
   "cell_type": "code",
   "execution_count": 94,
   "outputs": [],
   "source": [
    "def ind_from_sen(voc, sen):\n",
    "    return [voc.word_to_index[word] for word in sen.split()] + [end_sen_token]"
   ],
   "metadata": {
    "collapsed": false,
    "pycharm": {
     "name": "#%%\n"
    }
   }
  },
  {
   "cell_type": "code",
   "execution_count": 97,
   "outputs": [
    {
     "data": {
      "text/plain": "[7, 8, 9, 10, 4, 11, 12, 13, 2]"
     },
     "execution_count": 97,
     "metadata": {},
     "output_type": "execute_result"
    }
   ],
   "source": [
    "ind_from_sen(text_process, new_qa[1][0])"
   ],
   "metadata": {
    "collapsed": false,
    "pycharm": {
     "name": "#%%\n"
    }
   }
  },
  {
   "cell_type": "code",
   "execution_count": 100,
   "outputs": [
    {
     "data": {
      "text/plain": "'you have my word . as a gentleman <eos>'"
     },
     "execution_count": 100,
     "metadata": {},
     "output_type": "execute_result"
    }
   ],
   "source": [
    "new_qa[1][0] + \" <eos>\""
   ],
   "metadata": {
    "collapsed": false,
    "pycharm": {
     "name": "#%%\n"
    }
   }
  },
  {
   "cell_type": "code",
   "execution_count": 113,
   "outputs": [
    {
     "name": "stdout",
     "output_type": "stream",
     "text": [
      "10\n",
      "['there .', 'you have my word . as a gentleman', 'hi .', 'have fun tonight ?', 'well no . . .', 'then that s all you had to say .', 'but', 'do you listen to this crap ?', 'what good stuff ?', 'wow']\n"
     ]
    }
   ],
   "source": [
    "inputs, outputs = [], []\n",
    "\n",
    "for i in new_qa[:10]:\n",
    "    inputs.append(i[0])\n",
    "    outputs.append(i[1])\n",
    "print(len(inputs))\n",
    "print(inputs)"
   ],
   "metadata": {
    "collapsed": false,
    "pycharm": {
     "name": "#%%\n"
    }
   }
  },
  {
   "cell_type": "code",
   "execution_count": 114,
   "outputs": [
    {
     "data": {
      "text/plain": "[[3, 4, 2],\n [7, 8, 9, 10, 4, 11, 12, 13, 2],\n [16, 4, 2],\n [8, 32, 22, 6, 2],\n [34, 35, 4, 4, 4, 2],\n [36, 37, 38, 39, 7, 40, 41, 42, 4, 2],\n [43, 2],\n [48, 7, 49, 41, 46, 50, 6, 2],\n [51, 52, 53, 6, 2],\n [59, 2]]"
     },
     "execution_count": 114,
     "metadata": {},
     "output_type": "execute_result"
    }
   ],
   "source": [
    "testing = [ind_from_sen(text_process, i) for i in inputs]\n",
    "testing"
   ],
   "metadata": {
    "collapsed": false,
    "pycharm": {
     "name": "#%%\n"
    }
   }
  },
  {
   "cell_type": "code",
   "execution_count": 115,
   "outputs": [],
   "source": [
    "def zero_padding(lst, fill_val=0):\n",
    "    return list(itertools.zip_longest(*lst, fillvalue=fill_val))"
   ],
   "metadata": {
    "collapsed": false,
    "pycharm": {
     "name": "#%%\n"
    }
   }
  },
  {
   "cell_type": "code",
   "execution_count": 116,
   "outputs": [
    {
     "data": {
      "text/plain": "10"
     },
     "execution_count": 116,
     "metadata": {},
     "output_type": "execute_result"
    }
   ],
   "source": [
    "testing_2 = [len(i) for i in testing]\n",
    "max(testing_2)"
   ],
   "metadata": {
    "collapsed": false,
    "pycharm": {
     "name": "#%%\n"
    }
   }
  },
  {
   "cell_type": "code",
   "execution_count": 117,
   "outputs": [
    {
     "name": "stdout",
     "output_type": "stream",
     "text": [
      "10\n"
     ]
    },
    {
     "data": {
      "text/plain": "[(3, 7, 16, 8, 34, 36, 43, 48, 51, 59),\n (4, 8, 4, 32, 35, 37, 2, 7, 52, 2),\n (2, 9, 2, 22, 4, 38, 0, 49, 53, 0),\n (0, 10, 0, 6, 4, 39, 0, 41, 6, 0),\n (0, 4, 0, 2, 4, 7, 0, 46, 2, 0),\n (0, 11, 0, 0, 2, 40, 0, 50, 0, 0),\n (0, 12, 0, 0, 0, 41, 0, 6, 0, 0),\n (0, 13, 0, 0, 0, 42, 0, 2, 0, 0),\n (0, 2, 0, 0, 0, 4, 0, 0, 0, 0),\n (0, 0, 0, 0, 0, 2, 0, 0, 0, 0)]"
     },
     "execution_count": 117,
     "metadata": {},
     "output_type": "execute_result"
    }
   ],
   "source": [
    "testing_3 = zero_padding(testing)\n",
    "print(len(testing_3))\n",
    "testing_3"
   ],
   "metadata": {
    "collapsed": false,
    "pycharm": {
     "name": "#%%\n"
    }
   }
  },
  {
   "cell_type": "code",
   "execution_count": 118,
   "outputs": [],
   "source": [
    "def bin_matt(lst, val=90):\n",
    "    hot = []\n",
    "    for k, seq, in enumerate(lst):\n",
    "        hot.append([])\n",
    "        for j in seq:\n",
    "            if j == padding_token:\n",
    "                hot[k].append(0)\n",
    "            else:\n",
    "                hot[k].append(1)\n",
    "    return hot"
   ],
   "metadata": {
    "collapsed": false,
    "pycharm": {
     "name": "#%%\n"
    }
   }
  },
  {
   "cell_type": "code",
   "execution_count": 119,
   "outputs": [
    {
     "data": {
      "text/plain": "[[1, 1, 1, 1, 1, 1, 1, 1, 1, 1],\n [1, 1, 1, 1, 1, 1, 1, 1, 1, 1],\n [1, 1, 1, 1, 1, 1, 0, 1, 1, 0],\n [0, 1, 0, 1, 1, 1, 0, 1, 1, 0],\n [0, 1, 0, 1, 1, 1, 0, 1, 1, 0],\n [0, 1, 0, 0, 1, 1, 0, 1, 0, 0],\n [0, 1, 0, 0, 0, 1, 0, 1, 0, 0],\n [0, 1, 0, 0, 0, 1, 0, 1, 0, 0],\n [0, 1, 0, 0, 0, 1, 0, 0, 0, 0],\n [0, 0, 0, 0, 0, 1, 0, 0, 0, 0]]"
     },
     "execution_count": 119,
     "metadata": {},
     "output_type": "execute_result"
    }
   ],
   "source": [
    "testing_4 = bin_matt(testing_3)\n",
    "testing_4"
   ],
   "metadata": {
    "collapsed": false,
    "pycharm": {
     "name": "#%%\n"
    }
   }
  },
  {
   "cell_type": "code",
   "execution_count": 120,
   "outputs": [],
   "source": [
    "def input_var(lst, voc):\n",
    "    ind_batch = [ind_from_sen(voc, i) for i in lst]\n",
    "    ln = torch.tensor([len(i) for i in ind_batch])\n",
    "    pad_list = zero_padding(ind_batch)\n",
    "    pad_var = torch.LongTensor(pad_list)\n",
    "    return pad_var, ln"
   ],
   "metadata": {
    "collapsed": false,
    "pycharm": {
     "name": "#%%\n"
    }
   }
  },
  {
   "cell_type": "code",
   "execution_count": 125,
   "outputs": [],
   "source": [
    "def out_var(lst, voc):\n",
    "    ind_batch = [ind_from_sen(voc, i) for i in lst]\n",
    "    max_target = max([len(i) for i in ind_batch])\n",
    "    pad_list = zero_padding(ind_batch)\n",
    "    mask = bin_matt(pad_list)\n",
    "    mask = torch.ByteTensor(mask)\n",
    "    pad_var = torch.LongTensor(pad_list)\n",
    "    return pad_var, mask, max_target"
   ],
   "metadata": {
    "collapsed": false,
    "pycharm": {
     "name": "#%%\n"
    }
   }
  },
  {
   "cell_type": "code",
   "execution_count": 126,
   "outputs": [],
   "source": [
    "def train_data(voc, qa_batch):\n",
    "    qa_batch.sort(key=lambda x: len(x[0].split()), reverse=True)\n",
    "    input_data, output_data = [], []\n",
    "    for i in qa_batch:\n",
    "        input_data.append(i[0])\n",
    "        output_data.append(i[1])\n",
    "    ins, ln = input_var(input_data, voc)\n",
    "    outs, mask, max_tar = out_var(output_data, voc)\n",
    "    return ins, ln, outs, mask, max_tar"
   ],
   "metadata": {
    "collapsed": false,
    "pycharm": {
     "name": "#%%\n"
    }
   }
  },
  {
   "cell_type": "code",
   "execution_count": 127,
   "outputs": [
    {
     "data": {
      "text/plain": "(tensor([[  89,  820,  933, 7784, 1619],\n         [1958,   41,    4, 6118,    6],\n         [   4, 1086, 8814,    4,    2],\n         [ 160, 2930,    4,    2,    0],\n         [  12,    4,    2,    0,    0],\n         [4467,    2,    0,    0,    0],\n         [  57,    0,    0,    0,    0],\n         [  46,    0,    0,    0,    0],\n         [   4,    0,    0,    0,    0],\n         [   2,    0,    0,    0,    0]]),\n tensor([10,  6,  5,  4,  3]),\n tensor([[  51,   60,   69, 6243, 2805],\n         [   6,   38,  102,   51,    4],\n         [   2,  793,   24,  232,    2],\n         [   0,   21,    6,  116,    0],\n         [   0,   67,    2,   77,    0],\n         [   0,    2,    0,    6,    0],\n         [   0,    0,    0,    2,    0]]),\n tensor([[1, 1, 1, 1, 1],\n         [1, 1, 1, 1, 1],\n         [1, 1, 1, 1, 1],\n         [0, 1, 1, 1, 0],\n         [0, 1, 1, 1, 0],\n         [0, 1, 0, 1, 0],\n         [0, 0, 0, 1, 0]], dtype=torch.uint8),\n 7)"
     },
     "execution_count": 127,
     "metadata": {},
     "output_type": "execute_result"
    }
   ],
   "source": [
    "# Testing\n",
    "train_data(text_process, [random.choice(new_qa) for i in range(5)])"
   ],
   "metadata": {
    "collapsed": false,
    "pycharm": {
     "name": "#%%\n"
    }
   }
  },
  {
   "cell_type": "code",
   "execution_count": null,
   "outputs": [],
   "source": [],
   "metadata": {
    "collapsed": false,
    "pycharm": {
     "name": "#%%\n"
    }
   }
  }
 ],
 "metadata": {
  "kernelspec": {
   "display_name": "Python 3 (ipykernel)",
   "language": "python",
   "name": "python3"
  },
  "language_info": {
   "codemirror_mode": {
    "name": "ipython",
    "version": 3
   },
   "file_extension": ".py",
   "mimetype": "text/x-python",
   "name": "python",
   "nbconvert_exporter": "python",
   "pygments_lexer": "ipython3",
   "version": "3.7.13"
  }
 },
 "nbformat": 4,
 "nbformat_minor": 1
}