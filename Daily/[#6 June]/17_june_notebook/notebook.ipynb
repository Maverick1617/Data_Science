{
 "cells": [
  {
   "cell_type": "markdown",
   "source": [
    "# Text Processing"
   ],
   "metadata": {
    "collapsed": false,
    "pycharm": {
     "name": "#%% md\n"
    }
   },
   "execution_count": 1
  },
  {
   "cell_type": "markdown",
   "source": [
    "## Fetching data from website"
   ],
   "metadata": {
    "collapsed": false,
    "pycharm": {
     "name": "#%% md\n"
    }
   }
  },
  {
   "cell_type": "code",
   "execution_count": 1,
   "outputs": [],
   "source": [
    "import newspaper"
   ],
   "metadata": {
    "collapsed": false,
    "pycharm": {
     "name": "#%%\n"
    }
   }
  },
  {
   "cell_type": "code",
   "execution_count": 2,
   "outputs": [],
   "source": [
    "times_url = \"https://timesofindia.indiatimes.com/\""
   ],
   "metadata": {
    "collapsed": false,
    "pycharm": {
     "name": "#%%\n"
    }
   }
  },
  {
   "cell_type": "code",
   "execution_count": 3,
   "outputs": [],
   "source": [
    "times_papers = newspaper.build(url=times_url)"
   ],
   "metadata": {
    "collapsed": false,
    "pycharm": {
     "name": "#%%\n"
    }
   }
  },
  {
   "cell_type": "code",
   "execution_count": 4,
   "outputs": [
    {
     "name": "stdout",
     "output_type": "stream",
     "text": [
      "https://www.femina.in/food/recipes/fun-dishes-to-cook-with-your-dad-229546.html?utm_source=TOInewHP_TILwidget&utm_medium=referral&utm_campaign=TOInewHP\n",
      "https://www.femina.in/beauty/how-to-apply-eyeshadow-for-the-best-eye-makeup-228503.html?utm_source=TOInewHP_TILwidget&utm_medium=referral&utm_campaign=TOInewHP\n",
      "https://www.indiatimes.com/news/india/how-land-of-saints-kashmir-is-reconnecting-with-the-centuries-old-values-of-sufism-572490.html\n",
      "https://www.indiatimes.com/news/india/kanika-tekriwal-private-jets-572576.html\n",
      "https://www.indiatimes.com/explainers/news/why-cheetahs-are-being-brought-back-to-india-after-1952-572242.html\n",
      "https://www.indiatimes.com/trending/social-relevance/neeraj-chopra-wins-gold-86-69-m-throw-kuortane-games-572567.html\n",
      "https://www.mediawire.in/blog/seo/twitter-removes-nofollow-link-attribute-from-twitter-posts-tweets-in-its-source-code-80548778.html?utm_source=etweb&utm_medium=referral&utm_campaign=etweb_hpwidget\n",
      "https://www.mediawire.in/blog/seo/google-rolls-out-eight-updates-to-ad-manager-and-announces-more-features-36997325.html?utm_source=etweb&utm_medium=referral&utm_campaign=etweb_hpwidget\n",
      "https://www.mediawire.in/blog/seo/googles-core-algorithm-update-began-rolling-out-on-may-25-and-completed-on-june-9-82117518.html?utm_source=etweb&utm_medium=referral&utm_campaign=etweb_hpwidget\n"
     ]
    }
   ],
   "source": [
    "# Getting articles from times of india\n",
    "for i in times_papers.articles:\n",
    "    print(i.url)"
   ],
   "metadata": {
    "collapsed": false,
    "pycharm": {
     "name": "#%%\n"
    }
   }
  },
  {
   "cell_type": "code",
   "execution_count": 5,
   "outputs": [],
   "source": [
    "# working with only one article\n",
    "art_1 = times_papers.articles[0]"
   ],
   "metadata": {
    "collapsed": false,
    "pycharm": {
     "name": "#%%\n"
    }
   }
  },
  {
   "cell_type": "code",
   "execution_count": 6,
   "outputs": [],
   "source": [
    "art_1.download()"
   ],
   "metadata": {
    "collapsed": false,
    "pycharm": {
     "name": "#%%\n"
    }
   }
  },
  {
   "cell_type": "code",
   "execution_count": 7,
   "outputs": [],
   "source": [
    "art_1.parse()"
   ],
   "metadata": {
    "collapsed": false,
    "pycharm": {
     "name": "#%%\n"
    }
   }
  },
  {
   "cell_type": "code",
   "execution_count": 8,
   "outputs": [
    {
     "data": {
      "text/plain": "'Fun Dishes To Cook With Your Dad This Father’s Day'"
     },
     "execution_count": 8,
     "metadata": {},
     "output_type": "execute_result"
    }
   ],
   "source": [
    "art_1.title"
   ],
   "metadata": {
    "collapsed": false,
    "pycharm": {
     "name": "#%%\n"
    }
   }
  },
  {
   "cell_type": "code",
   "execution_count": 9,
   "outputs": [
    {
     "data": {
      "text/plain": "''"
     },
     "execution_count": 9,
     "metadata": {},
     "output_type": "execute_result"
    }
   ],
   "source": [
    "art_1.summary"
   ],
   "metadata": {
    "collapsed": false,
    "pycharm": {
     "name": "#%%\n"
    }
   }
  },
  {
   "cell_type": "code",
   "execution_count": 10,
   "outputs": [
    {
     "data": {
      "text/plain": "'Prep 30 mins Cooking - mins Category Soup Cuisine Western SERVINGS 2 servings NUTRITIONal VAlues Calories 190 FATS 14 Cholesterol 0\\n\\n\\n\\n\\n\\n\\n\\n\\n\\nAlso read: Coolers To Beat The Heat\\n\\nAlready know what you are getting for your dad this Father’s Day? Sorted with all else? Well, we have an idea that is just what you need for a fun bonding session with him. How about an easy cooking session? These recipes shared by Mansi Zaveri, Founder & CEO of kidsstoppress.com are sure to be a hit!30 minutes2 cucumbers – peeled, deseeded and chopped2 avocados chopped2 tsp Thai green curry paste2 tsp sugar2 tsp finely-grated lemon zest1-2 jalapeno/fresh red chillies, chopped200 ml (1 pack) unsweetened coconut milk3 tbsp fresh lime juiceSalt to taste½ cup coconut flakesCoriander sprigs for garnish3½ cups water1. Puree the cucumbers in a blender or food processor until smooth.2. Add the avocados, sugar, lime zest, curry paste and jalapeno/green chilli. Process until blended.3. Pour in the water, coconut milk and lime juice and blend again.4. Pour the soup in a bowl and add salt according to taste.5. Cover and leave it on the fridge to chill for about 15 minutes.6. Toast the coconut flakes over low heat until lightly browned and let them cool.7. Ladle the soup into bowls and top with the toasted coconut flakes and fresh coriander leaves and serve.5 medium tomatoes, seeds removed1 small cucumber, peeled and deseeded1 small onion1 small red bell pepper, roughly chopped (about 1 cup)¼ cup olive oil¼ cup water, plus more as needed¼ cup + 1 tbsp fresh lime juice, divided usage1 medium-size fresh red chilli roughly chopped (about 2 tbsp)2 medium garlic cloves1-2 bread slices roughly torn (about 1 cup)½ tsp crushed black pepper, plus more to taste¾ tsp cumin powder, divided usage¾ tsp coriander powder, divided usage2 tbsp fresh coriander leaves¼ tsp Kashmiri chilli powder2 tbsp red wine vinegar1 tsp garam masalaSalt to taste¼ tsp chaat masala (optional)¼ cup sev/crispy noodles for garnish1. Finely chop the tomatoes, cucumber and onion. Keep one-fourth cup of each aside for later. Cover and refrigerate them.2. Wash the remaining chopped onions under cold water for five seconds; drain well.3. Place the washed onions, and remaining tomatoes and cucumber with the bell pepper in a blender jar. Add one-fourth cup lime juice, the bread, olive oil, one-fourth cup of water and all the masalas. Process until smooth.4. Adjust the seasoning and chill, covered, until cold, at least one hour.5. Place the Kashmiri chilli powder, chaat masala (if using), the remaining lime juice, cumin powder and coriander powder along with the coriander leaves in a bowl with the reserved vegetables from the fridge. Mix well and season with salt.6. Remove the gazpacho from the refrigerator and thin it with water if you need to adjust the consistency. Season with additional salt and black pepper to taste.7. Ladle the soup in serving a bowls. Top with the vegetable mixture, coriander leaves and sev or crisp noodles and serve.3 large red beets8 cups water1 cup buttermilk1 medium onion, diced4 cucumbers, dicedSea salt to taste1 tsp sugar1 bunch dill4-6 boiled eggs (optional)1. Boil the beets, drain and let them cool. We recommend 35-40 minutes at least to cool. Tip: add a tablespoon of sugar for extra sweetness.2. Boil the water and let it cool.3. Mix the water with the buttermilk.4. Grate the beets and add them to the pot with water/buttermilk mixture.5. Add the salt and sugar as per your taste starting with one tablespoon of salt. You may like it sweeter or saltier.6. Mix in the onions, dill and diced cucumbers to the pot with the rest of the mixture.7. Place completed soup in the fridge to let it cool completely.8. Serve with the boiled eggs if you are using them.'"
     },
     "execution_count": 10,
     "metadata": {},
     "output_type": "execute_result"
    }
   ],
   "source": [
    "art_1.text"
   ],
   "metadata": {
    "collapsed": false,
    "pycharm": {
     "name": "#%%\n"
    }
   }
  },
  {
   "cell_type": "code",
   "execution_count": 11,
   "outputs": [
    {
     "data": {
      "text/plain": "<bound method Article.is_media_news of <newspaper.article.Article object at 0x000002883EC5A548>>"
     },
     "execution_count": 11,
     "metadata": {},
     "output_type": "execute_result"
    }
   ],
   "source": [
    "art_1.is_media_news"
   ],
   "metadata": {
    "collapsed": false,
    "pycharm": {
     "name": "#%%\n"
    }
   }
  },
  {
   "cell_type": "code",
   "execution_count": 12,
   "outputs": [
    {
     "data": {
      "text/plain": "['https://timesofindia.indiatimes.com/',\n 'https://beautypageants.indiatimes.com',\n 'https://www.indiatimes.com',\n 'https://economictimes.indiatimes.com',\n 'https://timesofindia.indiatimes.com',\n 'https://photogallery.indiatimes.com',\n 'https://navbharattimes.indiatimes.com']"
     },
     "execution_count": 12,
     "metadata": {},
     "output_type": "execute_result"
    }
   ],
   "source": [
    "times_papers.category_urls()"
   ],
   "metadata": {
    "collapsed": false,
    "pycharm": {
     "name": "#%%\n"
    }
   }
  },
  {
   "cell_type": "markdown",
   "source": [
    "## Fetching data from PDF"
   ],
   "metadata": {
    "collapsed": false,
    "pycharm": {
     "name": "#%% md\n"
    }
   }
  },
  {
   "cell_type": "code",
   "execution_count": 13,
   "outputs": [],
   "source": [
    "from pdfminer.pdfparser import PDFParser\n",
    "from pdfminer.pdfdocument import PDFDocument"
   ],
   "metadata": {
    "collapsed": false,
    "pycharm": {
     "name": "#%%\n"
    }
   }
  },
  {
   "cell_type": "code",
   "execution_count": 14,
   "outputs": [],
   "source": [
    "fp = open(\"data/book.pdf\", \"rb\")\n",
    "parser = PDFParser(fp)\n",
    "doc = PDFDocument(parser)"
   ],
   "metadata": {
    "collapsed": false,
    "pycharm": {
     "name": "#%%\n"
    }
   }
  },
  {
   "cell_type": "code",
   "execution_count": 15,
   "outputs": [
    {
     "name": "stdout",
     "output_type": "stream",
     "text": [
      "Praise for The Power of Patience\n",
      "Praise for M.J. Ryan's other work\n",
      "Title Page\n",
      "Copyright\n",
      "Dedication\n",
      "Contents\n",
      "1: HOW THIS OLD-FASHIONED VIRTUE CAN IMPROVE YOUR LIFE\n",
      "STICK-TO-IT-NESS: THE POWER OF PERSISTENCE\n",
      "NO REASON TO STRESS: THE POWER OF SERENITY\n",
      "THAT'S OK: THE POWER OF ACCEPTANCE\n",
      "2: PATIENCE'S GIFTS\n",
      "PATIENCE CREATES EXCELLENCE\n",
      "PATIENCE BRINGS US INTO HARMONY WITH THE CYCLES OF NATURE\n",
      "PATIENCE HELPS US MAKE BETTER DECISIONS\n",
      "PATIENCE CONNECTS US TO HOPE\n",
      "PATIENCE HELPS US LIVE LONGER AND MORE STRESS-FREE\n",
      "PATIENCE HELPS US WASTE LESS TIME, ENERGY, AND MONEY\n",
      "PATIENCE GETS US MORE OF WHAT WE WANT\n",
      "PATIENCE GUARDS THE DOOR TO ANGER\n",
      "PATIENCE GIVES US GREATER TOLERANCE AND EMPATHY\n",
      "PATIENCE HELPS US HAVE HAPPIER LOVE RELATIONSHIPS\n",
      "PATIENCE MAKES US BETTER PARENTS\n",
      "PATIENCE TEACHES THE POWER OF RECEPTIVITY\n",
      "PATIENCE IS THE HEART OF CIVILITY\n",
      "PATIENCE GROWS OUR SOULS\n",
      "3: THE ATTITUDES OF PATIENCE\n",
      "I'M STILL LEARNING\n",
      "PATIENCE IS A DECISION\n",
      "THIS TOO SHALL PASS\n",
      "THE SCREWS ARE JUST AS IMPORTANT AS THE WINGS\n",
      "WAITING IS PART OF BEING ALIVE\n",
      "IT'S BETTER TO WORK AT IT THAN TO BUY YOUR WAY OUT OF IT\n",
      "WHERE ARE YOU HURRYING TO?\n",
      "BOREDOM IS ALL IN OUR HEADS\n",
      "REMEMBER RULE NUMBER SIX\n",
      "TUNING OUT IS AS IMPORTANT AS TUNING IN\n",
      "WHAT DOES THIS MATTER IN THE LARGER SCHEME OF THINGS?\n",
      "PEOPLE ARE ONLY HUMAN\n",
      "SOME THINGS ARE WORTH WAITING FOR\n",
      "IT WILL WORK OUT\n",
      "IT TAKES AS LONG AS IT TAKES\n",
      "THERE'S MORE THAN ONE RIGHT WAY\n",
      "WELCOME, TEACHERS OF PATIENCE\n",
      "ENOUGH IS ENOUGH\n",
      "BE HERE NOW\n",
      "4: THE PRACTICES OF PATIENCE\n",
      "TELL YOURSELF THE TRUTH ABOUT WHERE YOU ARE RIGHT NOW\n",
      "TUNE IN TO YOURSELF IN THE MORNING\n",
      "WHEN AM I PATIENT? LET ME COUNT THE WAYS\n",
      "KNOW YOUR IMPATIENCE TRIGGERS\n",
      "LEARN YOUR EARLY-WARNING SIGNS\n",
      "TAKE A BREATHER\n",
      "CLIMB DOWN TO THE BASE OF THE TREE\n",
      "ROAD SAGE, NOT ROAD RAGE\n",
      "ISSUE A STORM WARNING TO CHILDREN\n",
      "TAP INTO YOUR INNER WISDOM\n",
      "KEEP YOUR BLOOD SUGAR LEVEL UP\n",
      "REFRAME THE SITUATION\n",
      "FIND SOMETHING ELSE TO DO\n",
      "PRACTICE WITH AGING PARENTS AND OTHER ELDERS\n",
      "RESPOND FROM YOUR HEART\n",
      "TELL YOURSELF YOU HAVE ALL THE TIME YOU NEED\n",
      "DO A RISK ANALYSIS\n",
      "KEEP YOUR EYES ON THE PRIZE\n",
      "UNDERWHELM YOURSELF\n",
      "ASK YOURSELF: IS THIS THING STILL FLYING?\n",
      "5: TWENTY SIMPLE PATIENCE BOOSTERS\n",
      "6: ABOVE ALL, BE MERCIFUL WITH YOURSELF\n",
      "MY THANKS\n",
      "YOUR PATIENCE JOURNEY\n",
      "BIBLIOGRAPHY\n",
      "About the Author\n",
      "To Our Readers\n",
      "Bonus Material\n"
     ]
    }
   ],
   "source": [
    "outlines = doc.get_outlines()\n",
    "for (level, title, dest, a, se) in outlines:\n",
    "    print(title)"
   ],
   "metadata": {
    "collapsed": false,
    "pycharm": {
     "name": "#%%\n"
    }
   }
  },
  {
   "cell_type": "markdown",
   "source": [
    "# Text Preprocessing"
   ],
   "metadata": {
    "collapsed": false,
    "pycharm": {
     "name": "#%% md\n"
    }
   }
  },
  {
   "cell_type": "code",
   "execution_count": 16,
   "outputs": [],
   "source": [
    "import neattext as nt\n",
    "import neattext.functions as nfx\n",
    "import pandas as pd"
   ],
   "metadata": {
    "collapsed": false,
    "pycharm": {
     "name": "#%%\n"
    }
   }
  },
  {
   "cell_type": "code",
   "execution_count": 17,
   "outputs": [],
   "source": [
    "data = pd.read_csv(\"data/friends_hackathon/friends_train_ratings.csv\")"
   ],
   "metadata": {
    "collapsed": false,
    "pycharm": {
     "name": "#%%\n"
    }
   }
  },
  {
   "cell_type": "code",
   "execution_count": 18,
   "outputs": [
    {
     "data": {
      "text/plain": "                                            title  \\\n0            The One Where Monica Gets a Roommate   \n1            The One with the Sonogram at the End   \n2                          The One with the Thumb   \n3              The One with George Stephanopoulos   \n4  The One with the East German Laundry Detergent   \n5                           The One with the Butt   \n6                       The One with the Blackout   \n7                   The One Where Nana Dies Twice   \n8                The One Where Underdog Gets Away   \n9                         The One with the Monkey   \n\n                                                plot  ratings          date  \\\n0  Monica and the gang introduce Rachel to the \"r...      8.3  22 Sep. 1994   \n1  Ross finds out his ex-wife is pregnant. Rachel...      8.0  29 Sep. 1994   \n2  Monica becomes irritated when everyone likes h...      8.1   6 Oct. 1994   \n3  Joey and Chandler take Ross to a hockey game t...      8.1  13 Oct. 1994   \n4  Eager to spend time with Rachel, Ross pretends...      8.4  20 Oct. 1994   \n5  Monica's obsessiveness is put to the test afte...      8.1  27 Oct. 1994   \n6  When New York suffers from a blackout, Ross tr...      9.0   3 Nov. 1994   \n7  Monica and Ross mourn the loss of their grandm...      8.1  10 Nov. 1994   \n8  The gang's plans for Thanksgiving go awry afte...      8.2  17 Nov. 1994   \n9  The gang make (and break) a pact not to bring ...      8.0  15 Dec. 1994   \n\n  total_reviews  \n0        -8,583  \n1        -6,607  \n2        -6,213  \n3        -6,035  \n4        -6,029  \n5        -5,745  \n6        -7,311  \n7        -5,615  \n8        -5,444  \n9        -5,472  ",
      "text/html": "<div>\n<style scoped>\n    .dataframe tbody tr th:only-of-type {\n        vertical-align: middle;\n    }\n\n    .dataframe tbody tr th {\n        vertical-align: top;\n    }\n\n    .dataframe thead th {\n        text-align: right;\n    }\n</style>\n<table border=\"1\" class=\"dataframe\">\n  <thead>\n    <tr style=\"text-align: right;\">\n      <th></th>\n      <th>title</th>\n      <th>plot</th>\n      <th>ratings</th>\n      <th>date</th>\n      <th>total_reviews</th>\n    </tr>\n  </thead>\n  <tbody>\n    <tr>\n      <th>0</th>\n      <td>The One Where Monica Gets a Roommate</td>\n      <td>Monica and the gang introduce Rachel to the \"r...</td>\n      <td>8.3</td>\n      <td>22 Sep. 1994</td>\n      <td>-8,583</td>\n    </tr>\n    <tr>\n      <th>1</th>\n      <td>The One with the Sonogram at the End</td>\n      <td>Ross finds out his ex-wife is pregnant. Rachel...</td>\n      <td>8.0</td>\n      <td>29 Sep. 1994</td>\n      <td>-6,607</td>\n    </tr>\n    <tr>\n      <th>2</th>\n      <td>The One with the Thumb</td>\n      <td>Monica becomes irritated when everyone likes h...</td>\n      <td>8.1</td>\n      <td>6 Oct. 1994</td>\n      <td>-6,213</td>\n    </tr>\n    <tr>\n      <th>3</th>\n      <td>The One with George Stephanopoulos</td>\n      <td>Joey and Chandler take Ross to a hockey game t...</td>\n      <td>8.1</td>\n      <td>13 Oct. 1994</td>\n      <td>-6,035</td>\n    </tr>\n    <tr>\n      <th>4</th>\n      <td>The One with the East German Laundry Detergent</td>\n      <td>Eager to spend time with Rachel, Ross pretends...</td>\n      <td>8.4</td>\n      <td>20 Oct. 1994</td>\n      <td>-6,029</td>\n    </tr>\n    <tr>\n      <th>5</th>\n      <td>The One with the Butt</td>\n      <td>Monica's obsessiveness is put to the test afte...</td>\n      <td>8.1</td>\n      <td>27 Oct. 1994</td>\n      <td>-5,745</td>\n    </tr>\n    <tr>\n      <th>6</th>\n      <td>The One with the Blackout</td>\n      <td>When New York suffers from a blackout, Ross tr...</td>\n      <td>9.0</td>\n      <td>3 Nov. 1994</td>\n      <td>-7,311</td>\n    </tr>\n    <tr>\n      <th>7</th>\n      <td>The One Where Nana Dies Twice</td>\n      <td>Monica and Ross mourn the loss of their grandm...</td>\n      <td>8.1</td>\n      <td>10 Nov. 1994</td>\n      <td>-5,615</td>\n    </tr>\n    <tr>\n      <th>8</th>\n      <td>The One Where Underdog Gets Away</td>\n      <td>The gang's plans for Thanksgiving go awry afte...</td>\n      <td>8.2</td>\n      <td>17 Nov. 1994</td>\n      <td>-5,444</td>\n    </tr>\n    <tr>\n      <th>9</th>\n      <td>The One with the Monkey</td>\n      <td>The gang make (and break) a pact not to bring ...</td>\n      <td>8.0</td>\n      <td>15 Dec. 1994</td>\n      <td>-5,472</td>\n    </tr>\n  </tbody>\n</table>\n</div>"
     },
     "execution_count": 18,
     "metadata": {},
     "output_type": "execute_result"
    }
   ],
   "source": [
    "data.head(10)"
   ],
   "metadata": {
    "collapsed": false,
    "pycharm": {
     "name": "#%%\n"
    }
   }
  },
  {
   "cell_type": "code",
   "execution_count": 19,
   "outputs": [
    {
     "data": {
      "text/plain": "Index(['title', 'plot', 'ratings', 'date', 'total_reviews'], dtype='object')"
     },
     "execution_count": 19,
     "metadata": {},
     "output_type": "execute_result"
    }
   ],
   "source": [
    "data.columns"
   ],
   "metadata": {
    "collapsed": false,
    "pycharm": {
     "name": "#%%\n"
    }
   }
  },
  {
   "cell_type": "code",
   "execution_count": 20,
   "outputs": [],
   "source": [
    "raw = data[[\"title\", \"plot\", \"ratings\"]]"
   ],
   "metadata": {
    "collapsed": false,
    "pycharm": {
     "name": "#%%\n"
    }
   }
  },
  {
   "cell_type": "code",
   "execution_count": 21,
   "outputs": [
    {
     "data": {
      "text/plain": "                                            title  \\\n0            The One Where Monica Gets a Roommate   \n1            The One with the Sonogram at the End   \n2                          The One with the Thumb   \n3              The One with George Stephanopoulos   \n4  The One with the East German Laundry Detergent   \n5                           The One with the Butt   \n6                       The One with the Blackout   \n7                   The One Where Nana Dies Twice   \n8                The One Where Underdog Gets Away   \n9                         The One with the Monkey   \n\n                                                plot  ratings  \n0  Monica and the gang introduce Rachel to the \"r...      8.3  \n1  Ross finds out his ex-wife is pregnant. Rachel...      8.0  \n2  Monica becomes irritated when everyone likes h...      8.1  \n3  Joey and Chandler take Ross to a hockey game t...      8.1  \n4  Eager to spend time with Rachel, Ross pretends...      8.4  \n5  Monica's obsessiveness is put to the test afte...      8.1  \n6  When New York suffers from a blackout, Ross tr...      9.0  \n7  Monica and Ross mourn the loss of their grandm...      8.1  \n8  The gang's plans for Thanksgiving go awry afte...      8.2  \n9  The gang make (and break) a pact not to bring ...      8.0  ",
      "text/html": "<div>\n<style scoped>\n    .dataframe tbody tr th:only-of-type {\n        vertical-align: middle;\n    }\n\n    .dataframe tbody tr th {\n        vertical-align: top;\n    }\n\n    .dataframe thead th {\n        text-align: right;\n    }\n</style>\n<table border=\"1\" class=\"dataframe\">\n  <thead>\n    <tr style=\"text-align: right;\">\n      <th></th>\n      <th>title</th>\n      <th>plot</th>\n      <th>ratings</th>\n    </tr>\n  </thead>\n  <tbody>\n    <tr>\n      <th>0</th>\n      <td>The One Where Monica Gets a Roommate</td>\n      <td>Monica and the gang introduce Rachel to the \"r...</td>\n      <td>8.3</td>\n    </tr>\n    <tr>\n      <th>1</th>\n      <td>The One with the Sonogram at the End</td>\n      <td>Ross finds out his ex-wife is pregnant. Rachel...</td>\n      <td>8.0</td>\n    </tr>\n    <tr>\n      <th>2</th>\n      <td>The One with the Thumb</td>\n      <td>Monica becomes irritated when everyone likes h...</td>\n      <td>8.1</td>\n    </tr>\n    <tr>\n      <th>3</th>\n      <td>The One with George Stephanopoulos</td>\n      <td>Joey and Chandler take Ross to a hockey game t...</td>\n      <td>8.1</td>\n    </tr>\n    <tr>\n      <th>4</th>\n      <td>The One with the East German Laundry Detergent</td>\n      <td>Eager to spend time with Rachel, Ross pretends...</td>\n      <td>8.4</td>\n    </tr>\n    <tr>\n      <th>5</th>\n      <td>The One with the Butt</td>\n      <td>Monica's obsessiveness is put to the test afte...</td>\n      <td>8.1</td>\n    </tr>\n    <tr>\n      <th>6</th>\n      <td>The One with the Blackout</td>\n      <td>When New York suffers from a blackout, Ross tr...</td>\n      <td>9.0</td>\n    </tr>\n    <tr>\n      <th>7</th>\n      <td>The One Where Nana Dies Twice</td>\n      <td>Monica and Ross mourn the loss of their grandm...</td>\n      <td>8.1</td>\n    </tr>\n    <tr>\n      <th>8</th>\n      <td>The One Where Underdog Gets Away</td>\n      <td>The gang's plans for Thanksgiving go awry afte...</td>\n      <td>8.2</td>\n    </tr>\n    <tr>\n      <th>9</th>\n      <td>The One with the Monkey</td>\n      <td>The gang make (and break) a pact not to bring ...</td>\n      <td>8.0</td>\n    </tr>\n  </tbody>\n</table>\n</div>"
     },
     "execution_count": 21,
     "metadata": {},
     "output_type": "execute_result"
    }
   ],
   "source": [
    "raw.head(10)"
   ],
   "metadata": {
    "collapsed": false,
    "pycharm": {
     "name": "#%%\n"
    }
   }
  },
  {
   "cell_type": "code",
   "execution_count": 22,
   "outputs": [
    {
     "name": "stdout",
     "output_type": "stream",
     "text": [
      "<class 'pandas.core.frame.DataFrame'>\n",
      "RangeIndex: 195 entries, 0 to 194\n",
      "Data columns (total 3 columns):\n",
      " #   Column   Non-Null Count  Dtype  \n",
      "---  ------   --------------  -----  \n",
      " 0   title    195 non-null    object \n",
      " 1   plot     195 non-null    object \n",
      " 2   ratings  195 non-null    float64\n",
      "dtypes: float64(1), object(2)\n",
      "memory usage: 4.7+ KB\n"
     ]
    }
   ],
   "source": [
    "raw.info()"
   ],
   "metadata": {
    "collapsed": false,
    "pycharm": {
     "name": "#%%\n"
    }
   }
  },
  {
   "cell_type": "code",
   "execution_count": 23,
   "outputs": [
    {
     "data": {
      "text/plain": "(195, 3)"
     },
     "execution_count": 23,
     "metadata": {},
     "output_type": "execute_result"
    }
   ],
   "source": [
    "raw.shape"
   ],
   "metadata": {
    "collapsed": false,
    "pycharm": {
     "name": "#%%\n"
    }
   }
  },
  {
   "cell_type": "code",
   "execution_count": 24,
   "outputs": [
    {
     "data": {
      "text/plain": "'The One Where Monica Gets a Roommate'"
     },
     "execution_count": 24,
     "metadata": {},
     "output_type": "execute_result"
    }
   ],
   "source": [
    "raw.iloc[0][\"title\"]"
   ],
   "metadata": {
    "collapsed": false,
    "pycharm": {
     "name": "#%%\n"
    }
   }
  },
  {
   "cell_type": "code",
   "execution_count": 25,
   "outputs": [],
   "source": [
    "trans = pd.read_csv(\"data/friends_hackathon/season_01.csv\")"
   ],
   "metadata": {
    "collapsed": false,
    "pycharm": {
     "name": "#%%\n"
    }
   }
  },
  {
   "cell_type": "code",
   "execution_count": 26,
   "outputs": [
    {
     "data": {
      "text/plain": "   Unnamed: 0  Season  Episodes  \\\n0           0     1.0       1.0   \n1           1     1.0       2.0   \n2           2     1.0       3.0   \n3           3     1.0       4.0   \n4           4     1.0       5.0   \n\n                                         Transcripts  \n0  \\n\\nThe One Where Monica Gets a New Roomate (T...  \n1  \\n\\nThe One With The Sonogram at the End\\n\\n\\n...  \n2  \\n\\nThe One With The Thumb\\n\\n\\nThe One With t...  \n3  \\n\\nThe One With George Stephanopoulos\\n\\n\\nTh...  \n4  \\n\\nThe One With the East German Laundry Deter...  ",
      "text/html": "<div>\n<style scoped>\n    .dataframe tbody tr th:only-of-type {\n        vertical-align: middle;\n    }\n\n    .dataframe tbody tr th {\n        vertical-align: top;\n    }\n\n    .dataframe thead th {\n        text-align: right;\n    }\n</style>\n<table border=\"1\" class=\"dataframe\">\n  <thead>\n    <tr style=\"text-align: right;\">\n      <th></th>\n      <th>Unnamed: 0</th>\n      <th>Season</th>\n      <th>Episodes</th>\n      <th>Transcripts</th>\n    </tr>\n  </thead>\n  <tbody>\n    <tr>\n      <th>0</th>\n      <td>0</td>\n      <td>1.0</td>\n      <td>1.0</td>\n      <td>\\n\\nThe One Where Monica Gets a New Roomate (T...</td>\n    </tr>\n    <tr>\n      <th>1</th>\n      <td>1</td>\n      <td>1.0</td>\n      <td>2.0</td>\n      <td>\\n\\nThe One With The Sonogram at the End\\n\\n\\n...</td>\n    </tr>\n    <tr>\n      <th>2</th>\n      <td>2</td>\n      <td>1.0</td>\n      <td>3.0</td>\n      <td>\\n\\nThe One With The Thumb\\n\\n\\nThe One With t...</td>\n    </tr>\n    <tr>\n      <th>3</th>\n      <td>3</td>\n      <td>1.0</td>\n      <td>4.0</td>\n      <td>\\n\\nThe One With George Stephanopoulos\\n\\n\\nTh...</td>\n    </tr>\n    <tr>\n      <th>4</th>\n      <td>4</td>\n      <td>1.0</td>\n      <td>5.0</td>\n      <td>\\n\\nThe One With the East German Laundry Deter...</td>\n    </tr>\n  </tbody>\n</table>\n</div>"
     },
     "execution_count": 26,
     "metadata": {},
     "output_type": "execute_result"
    }
   ],
   "source": [
    "trans.head()"
   ],
   "metadata": {
    "collapsed": false,
    "pycharm": {
     "name": "#%%\n"
    }
   }
  },
  {
   "cell_type": "code",
   "execution_count": 27,
   "outputs": [
    {
     "data": {
      "text/plain": "(24, 4)"
     },
     "execution_count": 27,
     "metadata": {},
     "output_type": "execute_result"
    }
   ],
   "source": [
    "trans.shape"
   ],
   "metadata": {
    "collapsed": false,
    "pycharm": {
     "name": "#%%\n"
    }
   }
  },
  {
   "cell_type": "code",
   "execution_count": 28,
   "outputs": [],
   "source": [
    "seasons = []\n",
    "total = 0\n",
    "for i in range(1, 9):\n",
    "    loc = \"data/friends_hackathon/season_0\" + str(i) + \".csv\"\n",
    "    seasons.append(pd.read_csv(loc))\n",
    "    total += seasons[-1].shape[0]"
   ],
   "metadata": {
    "collapsed": false,
    "pycharm": {
     "name": "#%%\n"
    }
   }
  },
  {
   "cell_type": "code",
   "execution_count": 29,
   "outputs": [
    {
     "data": {
      "text/plain": "   Unnamed: 0  Season  Episodes  \\\n0           0     1.0       1.0   \n1           1     1.0       2.0   \n2           2     1.0       3.0   \n3           3     1.0       4.0   \n4           4     1.0       5.0   \n\n                                         Transcripts  \n0  \\n\\nThe One Where Monica Gets a New Roomate (T...  \n1  \\n\\nThe One With The Sonogram at the End\\n\\n\\n...  \n2  \\n\\nThe One With The Thumb\\n\\n\\nThe One With t...  \n3  \\n\\nThe One With George Stephanopoulos\\n\\n\\nTh...  \n4  \\n\\nThe One With the East German Laundry Deter...  ",
      "text/html": "<div>\n<style scoped>\n    .dataframe tbody tr th:only-of-type {\n        vertical-align: middle;\n    }\n\n    .dataframe tbody tr th {\n        vertical-align: top;\n    }\n\n    .dataframe thead th {\n        text-align: right;\n    }\n</style>\n<table border=\"1\" class=\"dataframe\">\n  <thead>\n    <tr style=\"text-align: right;\">\n      <th></th>\n      <th>Unnamed: 0</th>\n      <th>Season</th>\n      <th>Episodes</th>\n      <th>Transcripts</th>\n    </tr>\n  </thead>\n  <tbody>\n    <tr>\n      <th>0</th>\n      <td>0</td>\n      <td>1.0</td>\n      <td>1.0</td>\n      <td>\\n\\nThe One Where Monica Gets a New Roomate (T...</td>\n    </tr>\n    <tr>\n      <th>1</th>\n      <td>1</td>\n      <td>1.0</td>\n      <td>2.0</td>\n      <td>\\n\\nThe One With The Sonogram at the End\\n\\n\\n...</td>\n    </tr>\n    <tr>\n      <th>2</th>\n      <td>2</td>\n      <td>1.0</td>\n      <td>3.0</td>\n      <td>\\n\\nThe One With The Thumb\\n\\n\\nThe One With t...</td>\n    </tr>\n    <tr>\n      <th>3</th>\n      <td>3</td>\n      <td>1.0</td>\n      <td>4.0</td>\n      <td>\\n\\nThe One With George Stephanopoulos\\n\\n\\nTh...</td>\n    </tr>\n    <tr>\n      <th>4</th>\n      <td>4</td>\n      <td>1.0</td>\n      <td>5.0</td>\n      <td>\\n\\nThe One With the East German Laundry Deter...</td>\n    </tr>\n  </tbody>\n</table>\n</div>"
     },
     "execution_count": 29,
     "metadata": {},
     "output_type": "execute_result"
    }
   ],
   "source": [
    "seasons[0].head()"
   ],
   "metadata": {
    "collapsed": false,
    "pycharm": {
     "name": "#%%\n"
    }
   }
  },
  {
   "cell_type": "code",
   "execution_count": 30,
   "outputs": [
    {
     "data": {
      "text/plain": "189"
     },
     "execution_count": 30,
     "metadata": {},
     "output_type": "execute_result"
    }
   ],
   "source": [
    "total"
   ],
   "metadata": {
    "collapsed": false,
    "pycharm": {
     "name": "#%%\n"
    }
   }
  },
  {
   "cell_type": "code",
   "execution_count": 31,
   "outputs": [
    {
     "data": {
      "text/plain": "(195, 3)"
     },
     "execution_count": 31,
     "metadata": {},
     "output_type": "execute_result"
    }
   ],
   "source": [
    "raw.shape # wtf ?! 6 episodes are missing ? XD"
   ],
   "metadata": {
    "collapsed": false,
    "pycharm": {
     "name": "#%%\n"
    }
   }
  },
  {
   "cell_type": "code",
   "execution_count": 32,
   "outputs": [
    {
     "data": {
      "text/plain": "                                            title  \\\n0            The One Where Monica Gets a Roommate   \n1            The One with the Sonogram at the End   \n2                          The One with the Thumb   \n3              The One with George Stephanopoulos   \n4  The One with the East German Laundry Detergent   \n5                           The One with the Butt   \n6                       The One with the Blackout   \n7                   The One Where Nana Dies Twice   \n8                The One Where Underdog Gets Away   \n9                         The One with the Monkey   \n\n                                                plot  ratings  \n0  Monica and the gang introduce Rachel to the \"r...      8.3  \n1  Ross finds out his ex-wife is pregnant. Rachel...      8.0  \n2  Monica becomes irritated when everyone likes h...      8.1  \n3  Joey and Chandler take Ross to a hockey game t...      8.1  \n4  Eager to spend time with Rachel, Ross pretends...      8.4  \n5  Monica's obsessiveness is put to the test afte...      8.1  \n6  When New York suffers from a blackout, Ross tr...      9.0  \n7  Monica and Ross mourn the loss of their grandm...      8.1  \n8  The gang's plans for Thanksgiving go awry afte...      8.2  \n9  The gang make (and break) a pact not to bring ...      8.0  ",
      "text/html": "<div>\n<style scoped>\n    .dataframe tbody tr th:only-of-type {\n        vertical-align: middle;\n    }\n\n    .dataframe tbody tr th {\n        vertical-align: top;\n    }\n\n    .dataframe thead th {\n        text-align: right;\n    }\n</style>\n<table border=\"1\" class=\"dataframe\">\n  <thead>\n    <tr style=\"text-align: right;\">\n      <th></th>\n      <th>title</th>\n      <th>plot</th>\n      <th>ratings</th>\n    </tr>\n  </thead>\n  <tbody>\n    <tr>\n      <th>0</th>\n      <td>The One Where Monica Gets a Roommate</td>\n      <td>Monica and the gang introduce Rachel to the \"r...</td>\n      <td>8.3</td>\n    </tr>\n    <tr>\n      <th>1</th>\n      <td>The One with the Sonogram at the End</td>\n      <td>Ross finds out his ex-wife is pregnant. Rachel...</td>\n      <td>8.0</td>\n    </tr>\n    <tr>\n      <th>2</th>\n      <td>The One with the Thumb</td>\n      <td>Monica becomes irritated when everyone likes h...</td>\n      <td>8.1</td>\n    </tr>\n    <tr>\n      <th>3</th>\n      <td>The One with George Stephanopoulos</td>\n      <td>Joey and Chandler take Ross to a hockey game t...</td>\n      <td>8.1</td>\n    </tr>\n    <tr>\n      <th>4</th>\n      <td>The One with the East German Laundry Detergent</td>\n      <td>Eager to spend time with Rachel, Ross pretends...</td>\n      <td>8.4</td>\n    </tr>\n    <tr>\n      <th>5</th>\n      <td>The One with the Butt</td>\n      <td>Monica's obsessiveness is put to the test afte...</td>\n      <td>8.1</td>\n    </tr>\n    <tr>\n      <th>6</th>\n      <td>The One with the Blackout</td>\n      <td>When New York suffers from a blackout, Ross tr...</td>\n      <td>9.0</td>\n    </tr>\n    <tr>\n      <th>7</th>\n      <td>The One Where Nana Dies Twice</td>\n      <td>Monica and Ross mourn the loss of their grandm...</td>\n      <td>8.1</td>\n    </tr>\n    <tr>\n      <th>8</th>\n      <td>The One Where Underdog Gets Away</td>\n      <td>The gang's plans for Thanksgiving go awry afte...</td>\n      <td>8.2</td>\n    </tr>\n    <tr>\n      <th>9</th>\n      <td>The One with the Monkey</td>\n      <td>The gang make (and break) a pact not to bring ...</td>\n      <td>8.0</td>\n    </tr>\n  </tbody>\n</table>\n</div>"
     },
     "execution_count": 32,
     "metadata": {},
     "output_type": "execute_result"
    }
   ],
   "source": [
    "raw.head(10)"
   ],
   "metadata": {
    "collapsed": false,
    "pycharm": {
     "name": "#%%\n"
    }
   }
  },
  {
   "cell_type": "code",
   "execution_count": 33,
   "outputs": [
    {
     "data": {
      "text/plain": "    Unnamed: 0  Season  Episodes  \\\n13          13     8.0      18.0   \n14          14     8.0      20.0   \n15          15     8.0      21.0   \n16          16     8.0      22.0   \n17          17     8.0      23.0   \n18          18     NaN       NaN   \n19          19     NaN       NaN   \n20          20     NaN       NaN   \n21          21     NaN       NaN   \n22          22     NaN       NaN   \n\n                                          Transcripts  \n13  \\n\\nThe One In Massapequa\\n\\n\\n\\n\\nThe One In ...  \n14  \\n\\nThe One With The Baby Shower\\n\\n\\n\\n\\n\\nTh...  \n15  \\n\\nThe One With The Cooking Class\\n\\n\\n\\n\\n\\n...  \n16  \\n\\nThe One Where Rachel Is Late\\n\\n\\n\\n\\n\\nTh...  \n17  \\n\\nThe One Where Rachel Has A Baby\\n\\n\\n\\n\\n\\...  \n18                                                NaN  \n19                                                NaN  \n20                                                NaN  \n21                                                NaN  \n22                                                NaN  ",
      "text/html": "<div>\n<style scoped>\n    .dataframe tbody tr th:only-of-type {\n        vertical-align: middle;\n    }\n\n    .dataframe tbody tr th {\n        vertical-align: top;\n    }\n\n    .dataframe thead th {\n        text-align: right;\n    }\n</style>\n<table border=\"1\" class=\"dataframe\">\n  <thead>\n    <tr style=\"text-align: right;\">\n      <th></th>\n      <th>Unnamed: 0</th>\n      <th>Season</th>\n      <th>Episodes</th>\n      <th>Transcripts</th>\n    </tr>\n  </thead>\n  <tbody>\n    <tr>\n      <th>13</th>\n      <td>13</td>\n      <td>8.0</td>\n      <td>18.0</td>\n      <td>\\n\\nThe One In Massapequa\\n\\n\\n\\n\\nThe One In ...</td>\n    </tr>\n    <tr>\n      <th>14</th>\n      <td>14</td>\n      <td>8.0</td>\n      <td>20.0</td>\n      <td>\\n\\nThe One With The Baby Shower\\n\\n\\n\\n\\n\\nTh...</td>\n    </tr>\n    <tr>\n      <th>15</th>\n      <td>15</td>\n      <td>8.0</td>\n      <td>21.0</td>\n      <td>\\n\\nThe One With The Cooking Class\\n\\n\\n\\n\\n\\n...</td>\n    </tr>\n    <tr>\n      <th>16</th>\n      <td>16</td>\n      <td>8.0</td>\n      <td>22.0</td>\n      <td>\\n\\nThe One Where Rachel Is Late\\n\\n\\n\\n\\n\\nTh...</td>\n    </tr>\n    <tr>\n      <th>17</th>\n      <td>17</td>\n      <td>8.0</td>\n      <td>23.0</td>\n      <td>\\n\\nThe One Where Rachel Has A Baby\\n\\n\\n\\n\\n\\...</td>\n    </tr>\n    <tr>\n      <th>18</th>\n      <td>18</td>\n      <td>NaN</td>\n      <td>NaN</td>\n      <td>NaN</td>\n    </tr>\n    <tr>\n      <th>19</th>\n      <td>19</td>\n      <td>NaN</td>\n      <td>NaN</td>\n      <td>NaN</td>\n    </tr>\n    <tr>\n      <th>20</th>\n      <td>20</td>\n      <td>NaN</td>\n      <td>NaN</td>\n      <td>NaN</td>\n    </tr>\n    <tr>\n      <th>21</th>\n      <td>21</td>\n      <td>NaN</td>\n      <td>NaN</td>\n      <td>NaN</td>\n    </tr>\n    <tr>\n      <th>22</th>\n      <td>22</td>\n      <td>NaN</td>\n      <td>NaN</td>\n      <td>NaN</td>\n    </tr>\n  </tbody>\n</table>\n</div>"
     },
     "execution_count": 33,
     "metadata": {},
     "output_type": "execute_result"
    }
   ],
   "source": [
    "seasons[-1].tail(10)"
   ],
   "metadata": {
    "collapsed": false,
    "pycharm": {
     "name": "#%%\n"
    }
   }
  },
  {
   "cell_type": "code",
   "execution_count": 34,
   "outputs": [
    {
     "data": {
      "text/plain": "(23, 4)"
     },
     "execution_count": 34,
     "metadata": {},
     "output_type": "execute_result"
    }
   ],
   "source": [
    "seasons[-1].shape"
   ],
   "metadata": {
    "collapsed": false,
    "pycharm": {
     "name": "#%%\n"
    }
   }
  },
  {
   "cell_type": "code",
   "execution_count": 35,
   "outputs": [
    {
     "data": {
      "text/plain": "                                       title  \\\n185          The One Where Joey Tells Rachel   \n186              The One with the Tea Leaves   \n187                    The One in Massapequa   \n188            The One with Joey's Interview   \n189             The One with the Baby Shower   \n190           The One with the Cooking Class   \n191             The One Where Rachel Is Late   \n192  The One Where Rachel Has a Baby: Part 1   \n193  The One Where Rachel Has a Baby: Part 2   \n194            The One Where No One Proposes   \n\n                                                  plot  ratings  \n185  Ross freaks out when Joey tells him that he is...      8.2  \n186  Chandler and Monica are happy together - their...      8.0  \n187  Everyone prepares for the Gellers' 35th weddin...      8.2  \n188  Joey prepares for his epic interview with Soap...      7.4  \n189  Monica and Phoebe throw Rachel a baby shower b...      8.2  \n190  Monica's restaurant get a bad review. After co...      8.1  \n191  Monica and Phoebe bet on when Rachel's baby wi...      8.3  \n192  Ross and Rachel go to the hospital to have the...      8.8  \n193  After Rachel gives birth to her baby, she must...      8.9  \n194  Rachel, Ross and Joey get together in a guyand...      8.6  ",
      "text/html": "<div>\n<style scoped>\n    .dataframe tbody tr th:only-of-type {\n        vertical-align: middle;\n    }\n\n    .dataframe tbody tr th {\n        vertical-align: top;\n    }\n\n    .dataframe thead th {\n        text-align: right;\n    }\n</style>\n<table border=\"1\" class=\"dataframe\">\n  <thead>\n    <tr style=\"text-align: right;\">\n      <th></th>\n      <th>title</th>\n      <th>plot</th>\n      <th>ratings</th>\n    </tr>\n  </thead>\n  <tbody>\n    <tr>\n      <th>185</th>\n      <td>The One Where Joey Tells Rachel</td>\n      <td>Ross freaks out when Joey tells him that he is...</td>\n      <td>8.2</td>\n    </tr>\n    <tr>\n      <th>186</th>\n      <td>The One with the Tea Leaves</td>\n      <td>Chandler and Monica are happy together - their...</td>\n      <td>8.0</td>\n    </tr>\n    <tr>\n      <th>187</th>\n      <td>The One in Massapequa</td>\n      <td>Everyone prepares for the Gellers' 35th weddin...</td>\n      <td>8.2</td>\n    </tr>\n    <tr>\n      <th>188</th>\n      <td>The One with Joey's Interview</td>\n      <td>Joey prepares for his epic interview with Soap...</td>\n      <td>7.4</td>\n    </tr>\n    <tr>\n      <th>189</th>\n      <td>The One with the Baby Shower</td>\n      <td>Monica and Phoebe throw Rachel a baby shower b...</td>\n      <td>8.2</td>\n    </tr>\n    <tr>\n      <th>190</th>\n      <td>The One with the Cooking Class</td>\n      <td>Monica's restaurant get a bad review. After co...</td>\n      <td>8.1</td>\n    </tr>\n    <tr>\n      <th>191</th>\n      <td>The One Where Rachel Is Late</td>\n      <td>Monica and Phoebe bet on when Rachel's baby wi...</td>\n      <td>8.3</td>\n    </tr>\n    <tr>\n      <th>192</th>\n      <td>The One Where Rachel Has a Baby: Part 1</td>\n      <td>Ross and Rachel go to the hospital to have the...</td>\n      <td>8.8</td>\n    </tr>\n    <tr>\n      <th>193</th>\n      <td>The One Where Rachel Has a Baby: Part 2</td>\n      <td>After Rachel gives birth to her baby, she must...</td>\n      <td>8.9</td>\n    </tr>\n    <tr>\n      <th>194</th>\n      <td>The One Where No One Proposes</td>\n      <td>Rachel, Ross and Joey get together in a guyand...</td>\n      <td>8.6</td>\n    </tr>\n  </tbody>\n</table>\n</div>"
     },
     "execution_count": 35,
     "metadata": {},
     "output_type": "execute_result"
    }
   ],
   "source": [
    "raw.tail(10)"
   ],
   "metadata": {
    "collapsed": false,
    "pycharm": {
     "name": "#%%\n"
    }
   }
  },
  {
   "cell_type": "markdown",
   "source": [
    "### Note to myself - 1 episode maybe splits into two parts or maybe more?\n",
    "### my task is to concatenate all the episode transcript into their respective columns"
   ],
   "metadata": {
    "collapsed": false,
    "pycharm": {
     "name": "#%% md\n"
    }
   }
  },
  {
   "cell_type": "code",
   "execution_count": 36,
   "outputs": [
    {
     "name": "stdout",
     "output_type": "stream",
     "text": [
      "['AUTOMATED_READ_INDEX', 'BTC_ADDRESS_REGEX', 'CONTRACTIONS_DICT', 'CURRENCY_REGEX', 'CURRENCY_SYMB_REGEX', 'Callable', 'Counter', 'CreditCard_REGEX', 'DATE_REGEX', 'EMAIL_REGEX', 'EMOJI_REGEX', 'FUNCTORS_WORDLIST', 'HASTAG_REGEX', 'HTML_TAGS_REGEX', 'List', 'MASTERCard_REGEX', 'MD5_SHA_REGEX', 'MOST_COMMON_PUNCT_REGEX', 'NUMBERS_REGEX', 'PHONE_REGEX', 'PUNCT_REGEX', 'PoBOX_REGEX', 'SPECIAL_CHARACTERS_REGEX', 'STOPWORDS', 'STOPWORDS_de', 'STOPWORDS_en', 'STOPWORDS_es', 'STOPWORDS_fr', 'STOPWORDS_ru', 'STOPWORDS_yo', 'STREET_ADDRESS_REGEX', 'TextCleaner', 'TextExtractor', 'TextFrame', 'TextMetrics', 'TextPipeline', 'Tuple', 'URL_PATTERN', 'USER_HANDLES_REGEX', 'VISACard_REGEX', 'ZIP_REGEX', '__builtins__', '__cached__', '__doc__', '__file__', '__loader__', '__name__', '__package__', '__path__', '__spec__', '__version__', 'clean_text', 'defaultdict', 'digit2words', 'emoji_explainer', 'emojify', 'explainer', 'extract_btc_address', 'extract_currencies', 'extract_currency_symbols', 'extract_dates', 'extract_emails', 'extract_emojis', 'extract_hashtags', 'extract_html_tags', 'extract_mastercard_addr', 'extract_md5sha', 'extract_numbers', 'extract_pattern', 'extract_phone_numbers', 'extract_postoffice_box', 'extract_shortwords', 'extract_special_characters', 'extract_stopwords', 'extract_street_address', 'extract_terms_in_bracket', 'extract_urls', 'extract_userhandles', 'extract_visacard_addr', 'fix_contractions', 'functions', 'generate_sentence', 'hamming_distance', 'inverse_df', 'lexical_richness', 'markov_chain', 'math', 'neattext', 'nlargest', 'normalize', 'num2words', 'pattern_data', 'pipeline', 'random', 're', 'read_txt', 'remove_accents', 'remove_bad_quotes', 'remove_btc_address', 'remove_currencies', 'remove_currency_symbols', 'remove_custom_pattern', 'remove_custom_words', 'remove_dates', 'remove_emails', 'remove_emojis', 'remove_hashtags', 'remove_html_tags', 'remove_mastercard_addr', 'remove_md5sha', 'remove_multiple_spaces', 'remove_non_ascii', 'remove_numbers', 'remove_phone_numbers', 'remove_postoffice_box', 'remove_puncts', 'remove_punctuations', 'remove_shortwords', 'remove_special_characters', 'remove_stopwords', 'remove_street_address', 'remove_terms_in_bracket', 'remove_urls', 'remove_userhandles', 'remove_visacard_addr', 'replace_bad_quotes', 'replace_currencies', 'replace_currency_symbols', 'replace_dates', 'replace_emails', 'replace_emojis', 'replace_numbers', 'replace_phone_numbers', 'replace_special_characters', 'replace_term', 'replace_urls', 'string', 'term_freq', 'to_txt', 'unicode_2_emoji', 'unicodedata', 'word_freq', 'word_length_freq']\n"
     ]
    }
   ],
   "source": [
    "print(dir(nt))"
   ],
   "metadata": {
    "collapsed": false,
    "pycharm": {
     "name": "#%%\n"
    }
   }
  },
  {
   "cell_type": "code",
   "execution_count": 37,
   "outputs": [
    {
     "data": {
      "text/plain": "'\\n\\nThe One Where Monica Gets a New Roomate (The Pilot-The Uncut Version)\\n\\n\\nThe One Where Monica Gets '"
     },
     "execution_count": 37,
     "metadata": {},
     "output_type": "execute_result"
    }
   ],
   "source": [
    "test = seasons[0].iloc[0].Transcripts\n",
    "test[:100]"
   ],
   "metadata": {
    "collapsed": false,
    "pycharm": {
     "name": "#%%\n"
    }
   }
  },
  {
   "cell_type": "code",
   "execution_count": 38,
   "outputs": [],
   "source": [
    "doc = nt.TextFrame(test)"
   ],
   "metadata": {
    "collapsed": false,
    "pycharm": {
     "name": "#%%\n"
    }
   }
  },
  {
   "cell_type": "code",
   "execution_count": 39,
   "outputs": [
    {
     "data": {
      "text/plain": "TextFrame(text=\"\n\nThe One Where Monica Gets a New Roomate (The Pilot-The Uncut Version)\n\n\nThe One Where Monica Gets a New Roommate (The Pilot-The Uncut Version)\n\n\nWritten by: Marta Kauffman & David Crane\nTranscribed by: guineapig\nAdditional transcribing by: Eric Aasen\n(Note: The previously unseen parts of this episode are shown in blue text.)\n\n\n[Scene: Central Perk, Chandler, Joey, Phoebe, and Monica are there.]\nMonica: There's nothing to tell! He's just some guy\nI work with!\nJoey: C'mon, you're going out with the guy! There's\ngotta be something wrong with him!\nChandler: All right Joey, be\nnice.  So does he have a hump? A hump and a hairpiece?\nPhoebe: Wait, does he eat chalk?\n(They all stare, bemused.)\nPhoebe: Just, 'cause, I don't want her to go through\nwhat I went through with Carl- oh!\nMonica: Okay, everybody relax. This is not even a\ndate. It's just two people going out to dinner and- not having sex.\nChandler: Sounds like a date to me.\n[Time Lapse]\nChandler: Alright, so I'm back in high school, I'm\nstanding in the middle of the cafeteria, and I realize I am totally naked.\nAll: Oh, yeah. Had that dream.\nChandler: Then I look down, and I realize there's a\nphone... there.\nJoey: Instead of...?\nChandler: That's right.\nJoey: Never had that dream.\nPhoebe: No.\nChandler: All of a sudden, the phone starts to ring.\nNow I don't know what to do, everybody starts looking at me. \nMonica: And they weren't looking at\nyou before?!\nChandler: Finally, I figure\nI'd better answer it, and it turns out it's my mother,\nwhich is very-very weird, because- she never calls me!\n[Time Lapse, Ross has entered.]\nRoss: (mortified) Hi.\nJoey: This guy says hello, I wanna kill myself.\nMonica: Are you okay, sweetie?\nRoss: I just feel like someone reached down my\nthroat, grabbed my small intestine, pulled it out of my mouth and tied it around my\nneck...\nChandler: Cookie?\nMonica: (explaining to the others) Carol moved her\nstuff out today. \nJoey: Ohh.\nMonica: (to Ross) Let me get you some coffee.\nRoss: Thanks.\nPhoebe: Ooh! Oh! (She starts to pluck at the air\njust in front of Ross.)\nRoss: No, no don't! Stop cleansing my aura! No, just\nleave my aura alone, okay?\nPhoebe: Fine!  Be murky!\nRoss: I'll be fine,\nalright? Really, everyone. I hope she'll be very happy.\nMonica: No you don't.\nRoss: No I don't, to hell with her, she left me!\nJoey: And you never knew she was a lesbian...\nRoss: No!! Okay?! Why does everyone keep fixating on\nthat? She didn't know, how should I know?\nChandler: Sometimes I wish I was a lesbian... (They\nall stare at him.) Did I say that out loud?\nRoss: I told mom and dad last night,\nthey seemed to take it pretty well.\nMonica: Oh really, so that\nhysterical phone call I got from a woman at sobbing 3:00 A.M., \"I'll never have\ngrandchildren, I'll never have grandchildren.\" was what?  A wrong number?\nRoss: Sorry.\nJoey: Alright Ross, look. You're feeling a lot of\npain right now. You're angry. You're hurting. Can I tell you what the answer is?\n(Ross gestures his consent.)\nJoey: Strip joint! C'mon, you're single! Have some\nhormones!\nRoss: I don't want to be single, okay? I just... I\njust- I just wanna be married again!\n(Rachel enters in a wet wedding dress and starts to search\nthe room.)\nChandler: And I just want a million dollars! (He\nextends his hand hopefully.)\nMonica: Rachel?!\nRachel: Oh God Monica hi! Thank God! I just went to\nyour building and you weren't there and then this guy with a big hammer said you might be\nhere and you are, you are!\nWaitress: Can I get you some coffee?\nMonica: (pointing at Rachel) De-caff. (to All) Okay,\neverybody, this is Rachel, another Lincoln High survivor. (to Rachel) This is everybody,\nthis is Chandler, and Phoebe, and Joey, and- you remember my brother Ross? \nRachel: Hi, sure!\nRoss: Hi. \n(They go to hug but Ross's umbrella opens.  He sits\nback down defeated again.  A moment of silence follows as Rachel sits and the others\nexpect her to explain.)\nMonica: So you wanna tell us now, or are we waiting\nfor four wet bridesmaids?\nRachel: Oh God... well, it started about a half hour\nbefore the wedding. I was in the room where we were keeping all the presents, and I was\nlooking at this gravy boat. This really gorgeous Lamauge gravy boat. When all of a sudden-\n(to the waitress that brought her coffee)Sweet 'n' Lo?- I realized that I was more turned\non by this gravy boat than by Barry! And then I got really freaked out, and that's when it\nhit me: how much Barry looks like Mr. Potato Head. Y'know, I mean, I always knew looked\nfamiliar, but... Anyway, I just had to get out of there, and I started wondering 'Why am I\ndoing this, and who am I doing this for?'. (to Monica) So anyway I just didn't know where\nto go, and I know that you and I have kinda drifted apart, but you're the only person I\nknew who lived here in the city.\nMonica: Who wasn't invited to the wedding.\nRachel: Ooh, I was kinda hoping that wouldn't be an\nissue... [Scene: Monica's Apartment, everyone is there and watching a Spanish Soap on TV\nand are trying to figure out what is going on.]\nMonica: Now I'm guessing that he bought her the big\npipe organ, and she's really not happy about it. \nChandler: (imitating the characters)\nTuna or egg salad?  Decide!\nRoss: (in a deep voice) I'll have\nwhatever Christine is having.\nRachel: (on phone) Daddy, I just... I can't marry\nhim! I'm sorry. I just don't love him. Well, it matters to me! \n(The scene on TV has changed to show two\nwomen, one is holding her hair.)\nPhoebe:  If I let go of\nmy hair, my head will fall off. \nChandler: (re TV) Ooh, she should not be wearing\nthose pants. \nJoey: I say push her down the stairs. \nPhoebe, Ross, Chandler, and Joey: \nPush her down the stairs! Push her down the stairs! Push her down the stairs!\n(She is pushed down the stairs and everyone cheers.)\nRachel: C'mon Daddy, listen to me! It's like, it's\nlike, all of my life, everyone has always told me, 'You're a shoe! You're a shoe, you're a\nshoe, you're a shoe!'. And today I just stopped and I said, 'What if I don't wanna be a\nshoe? What if I wanna be a- a purse, y'know? Or a- or a hat! No, I'm not saying I want you\nto buy me a hat, I'm saying I am a ha- It's a metaphor, Daddy!\nRoss: You can see where he'd have trouble.\nRachel: Look Daddy, it's my life. Well maybe I'll\njust stay here with Monica. \nMonica: Well, I guess we've established who's\nstaying here with Monica...\nRachel: Well, maybe that's my decision. Well, maybe\nI don't need your money. Wait!! Wait, I said maybe!!\n[Time Lapse, Rachel is breating into a paper bag.]\nMonica: Just breathe, breathe.. that's it. Just try\nto think of nice calm things...\nPhoebe: (sings) Raindrops on roses and rabbits and\nkittens, (Rachel and Monica turn to look at her.) bluebells and sleighbells and- something\nwith mittens... La la la la...something and noodles with\nstring.  These are a few...\nRachel: I'm all better now.\nPhoebe: (grins and walks to the kitchen and says to\nChandler and Joey.) I helped!\nMonica: Okay, look, this is probably for the best,\ny'know? Independence. Taking control of your life.  The whole,\n'hat' thing.\nJoey: (comforting her) And hey, you need anything,\nyou can always come to Joey. Me and Chandler live across the hall. And he's away a lot.\nMonica: Joey, stop hitting on her! It's her wedding\nday!\nJoey: What, like there's a rule or something?\n(The door buzzer sounds and Chandler gets it.)\nChandler: Please don't do that again, it's a\nhorrible sound.\nPaul: (over the intercom) It's, uh,\nit's Paul.\nMonica: Oh God, is it\n6:30?  Buzz him in!\nJoey: Who's Paul?\nRoss: Paul the Wine Guy, Paul?\nMonica: Maybe. Joey: Wait. Your 'not a real\ndate' tonight is with Paul the Wine Guy?\nRoss: He finally asked you out?\nMonica: Yes!\nChandler: Ooh, this is a Dear Diary moment.\nMonica: Rach, wait, I can cancel...\nRachel: Please, no, go, that'd be fine!\nMonica: (to Ross) Are, are you okay? I mean, do you\nwant me to stay?\nRoss: (choked voice) That'd be good...\nMonica: (horrified) Really?\nRoss: (normal voice) No, go on! It's Paul the Wine\nGuy!\nPhoebe: What does that mean?  \nDoes he sell it, drink it, or just complain a lot? (Chandler doesn't know.)\n(There's a knock on the door and it's Paul.)\nMonica: Hi, come in! Paul, this is.. (They are all\nlined up next to the door.)... everybody, everybody, this is Paul.\nAll: Hey! Paul! Hi! The Wine Guy! Hey!\nChandler: I'm sorry, I didn't catch your name. Paul,\nwas it?\nMonica: Okay, umm-umm, I'll\njust--I'll be right back, I just gotta go ah, go ah...\nRoss: A wandering?\nMonica: Change!  Okay,\nsit down. (Shows Paul in) Two seconds.\nPhoebe: Ooh, I just pulled out four eyelashes. That\ncan't be good.\n(Monica goes to change.)\nJoey:  Hey, Paul!\nPaul: Yeah?\nJoey: Here's a little tip, she\nreally likes it when you rub her neck in the same spot over and over and over again until\nit starts to get a little red.\nMonica: (yelling from the bedroom)\nShut up, Joey!\nRoss: So Rachel, what're you, uh... what're you up\nto tonight?\nRachel: Well, I was kinda supposed to be headed for\nAruba on my honeymoon, so nothing!\nRoss: Right, you're not even getting your honeymoon,\nGod.. No, no, although, Aruba, this time of year... talk about your- (thinks) -big\nlizards... Anyway, if you don't feel like being alone tonight, Joey and Chandler are\ncoming over to help me put together my new furniture.\nChandler: (deadpan) Yes, and we're very excited\nabout it. \nRachel: Well actually thanks, but I think I'm just\ngonna hang out here tonight.  It's been kinda a long day.\nRoss: Okay, sure.\nJoey: Hey Pheebs, you wanna help?\nPhoebe: Oh, I wish I could, but I don't want to.\nCommercial Break\n[Scene: The Subway, Phoebe is singing for\nchange.]\nPhoebe: (singing) Love is sweet as\nsummer showers, love is a wondrous work of art, but your love oh your love, your love...is\nlike a giant pigeon...crapping on my heart.  La-la-la-la-la- (some guy gives her some\nchange and to that guy) Thank you. (sings) La-la-la-la...ohhh!\n[Scene: Ross's Apartment, the guys are there assembling\nfurniture.]\nRoss: (squatting and reading the instructions) I'm\nsupposed to attach a brackety thing to the side things, using a bunch of these little worm\nguys. I have no brackety thing, I see no whim guys whatsoever and- I cannot feel my legs.\n(Joey and Chandler are finishing assembling\nthe bookcase.)\nJoey: I'm thinking we've got a\nbookcase here.\nChandler: It's a beautiful thing.\nJoey: (picking up a leftover part) What's this?\nChandler: I would have to\nsay that is an 'L'-shaped bracket.\nJoey: Which goes where?\nChandler: I have no\nidea.\n(Joey checks that Ross is not looking and dumps it in a\nplant.)\nJoey: Done with the bookcase!\nChandler: All finished!\nRoss: (clutching a beer can and sniffing) This was\nCarol's favorite beer. She always drank it out of the can, I should have known.\nJoey: Hey-hey-hey-hey, if you're\ngonna start with that stuff we're outta here.\nChandler: Yes, please don't spoil\nall this fun.\nJoey: Ross, let me ask you a question. She got the\nfurniture, the stereo, the good TV- what did you get?\nRoss: You guys.\nChandler: Oh, God.\nJoey: You got screwed.\nChandler: Oh my God!\n[Scene: A Restaurant, Monica and Paul are eating.]\nMonica: Oh my God!\nPaul: I know, I know, I'm such an idiot. I guess I\nshould have caught on when she started going to the dentist four and five times a week. I\nmean, how clean can teeth get?\nMonica: My brother's going through that right now,\nhe's such a mess. How did you get through it?\nPaul: Well, you might try accidentally breaking\nsomething valuable of hers, say her-\nMonica: -leg?\nPaul: (laughing) That's one way! Me, I- I went for\nthe watch.\nMonica: You actually broke her watch?  Wow!  The worst thing I ever did was, I-I shredded by\nboyfriend's favorite bath towel.\nPaul: Ooh, steer clear of you.\nMonica: That's right.\n[Scene: Monica's Apartment, Rachel is talking on the phone and pacing.]\nRachel: Barry, I'm sorry... I am so sorry... I know\nyou probably think that this is all about what I said the other day about you making love\nwith your socks on, but it isn't... it isn't, it's about me, and I ju- (She stops talking\nand dials the phone.) Hi, machine cut me off again... anyway...look,\nlook, I know that some girl is going to be incredibly lucky to become Mrs. Barry Finkel,\nbut it isn't me, it's not me.  And not that I have any idea who me is right now, but\nyou just have to give me a chance too... (The maching cuts her off again and she redials.)\n[Scene: Ross's Apartment; Ross is pacing while Joey and\nChandler are working on some more furniture.]\nRoss: I'm divorced!  I'm only\n26 and I'm divorced!\nJoey: Shut up!\nChandler: You must stop! (Chandler\nhits what he is working on with a hammer and it collapses.)\nRoss: That only took me an hour.\nChandler: Look, Ross, you gotta\nunderstand, between us we haven't had a relationship that has lasted longer than a Mento.\n  You, however have had the love of a woman for four years.  \nFour years of closeness and sharing at the end of which she ripped your heart out, and\nthat is why we don't do it!  I don't think that was my point!\nRoss: You know what the scariest part is? What if\nthere's only one woman for everybody, y'know? I mean what if you get one woman- and that's\nit? Unfortunately in my case, there was only one woman- for her...\nJoey: What are you talking about? 'One woman'?\nThat's like saying there's only one flavor of ice cream for you. Lemme tell you something,\nRoss. There's lots of flavors out there. There's Rocky Road, and Cookie Dough, and Bing!\nCherry Vanilla. You could get 'em with Jimmies, or nuts, or whipped cream! This is the\nbest thing that ever happened to you! You got married, you were, like, what, eight?\nWelcome back to the world! Grab a spoon!\nRoss: I honestly don't know if I'm hungry or horny.\nChandler: Stay out of my freezer! [Scene: A\nRestaurant, Monica and Paul are still eating.]\nPaul: Ever since she walked out on me, I, uh...\nMonica: What?..... What, you wanna spell it out with\nnoodles?\nPaul: No, it's, it's more of a fifth date kinda\nrevelation.\nMonica: Oh, so there is gonna be a fifth date?\nPaul: Isn't there?\nMonica: Yeah... yeah, I think there is. -What were\nyou gonna say?\nPaul: Well, ever-ev-... ever since she left me, um,\nI haven't been able to, uh, perform. (Monica takes a sip of her drink.) ...Sexually. \nMonica: (spitting out her drink in shock) Oh God, oh\nGod, I am sorry... I am so sorry...\nPaul: It's okay...\nMonica: I know being spit on is probably not what\nyou need right now. Um... how long?\nPaul: Two years.\nMonica: Wow! I'm-I'm-I'm glad you smashed her watch!\n\nPaul: So you still think you, um... might want that\nfifth date?\nMonica: (pause)...Yeah. Yeah, I do.\n[Scene: Monica's Apartment, Rachel is watching Joanne\nLoves Chaci.]\nPriest on TV:\nWe are gathered here today to join Joanne Louise Cunningham and\nCharles, Chachi-Chachi-Chachi, Arcola in the bound of holy matrimony.\nRachel: Oh...see... but Joanne loved Chachi! That's\nthe difference!\n[Scene: Ross's Apartment, they're all sitting around and\ntalking.]\nRoss: (scornful) Grab a spoon. Do you know how long\nit's been since I've grabbed a spoon? Do the words 'Billy, don't be a hero' mean anything\nto you? \nJoey: Great story!  But, I uh,\nI gotta go, I got a date with Andrea--Angela--Andrea...  Oh man, (looks to Chandler)\nChandler: Angela's the screamer,\nAndrea has cats.\nJoey: Right.  Thanks. \nIt's June.  I'm outta here. (Exits.)\nRoss: Y'know, here's the thing. Even if I could get\nit together enough to- to ask a woman out,... who am I gonna ask? (He gazes out of the\nwindow.)\n[Cut to Rachel staring out of her window.]\nCommercial Break\n[Scene: Monica's Apartment, Rachel is making coffee for\nJoey and Chandler.]\nRachel: Isn't this amazing? I mean, I have never\nmade coffee before in my entire life.\nChandler: That is amazing.\nJoey: Congratulations. \nRachel: Y'know, I figure if I can\nmake coffee, there isn't anything I can't do.\nChandler: If can invade Poland,\nthere isn't anything I can't do.\nJoey: Listen, while you're on a roll, if you feel\nlike you gotta make like a Western omelet or something... (Joey and Chandler taste the\ncoffee, grimace, and pour it into a plant pot.) Although actually I'm really not that\nhungry...\nMonica: (entering, to herself) Oh\ngood, Lenny and Squigy are here.\nAll: Morning. Good morning.\nPaul: (entering from Monica's room)\nMorning.\nJoey: Morning, Paul.\nRachel: Hello, Paul.\nChandler: Hi, Paul, is it?\n(Monica and Paul walk to the door and talk in a low voice\nso the others can't hear.  The others move Monica's table closer to the door so that\nthey can.)\nPaul: Thank you!  Thank you so\nmuch!\nMonica: Stop!\nPaul: No, I'm telling you last night\nwas like umm, all my birthdays, both graduations, plus the barn raising scene in Witness.\nMonica: We'll talk later.\nPaul: Yeah. (They kiss) Thank you. (Exits)\nJoey: That wasn't a real date?! What the hell do you\ndo on a real date?\nMonica: Shut up, and put my table back.\nAll: Okayyy! (They do so.)\nChandler: All right, kids, I gotta get to work. If I\ndon't input those numbers,... it doesn't make much of a difference... \nRachel: So, like, you guys all have jobs?\nMonica: Yeah, we all have jobs. See, that's how we\nbuy stuff.\nJoey: Yeah, I'm an actor.\nRachel: Wow! Would I have seen you in anything?\nJoey: I doubt it. Mostly regional work.\nMonica: Oh wait, wait, unless you happened to catch\nthe Reruns' production of Pinocchio, at the little theater in the\npark.\nJoey: Look, it was a job all right?\nChandler: 'Look, Gippetto, I'm a real live boy.'\nJoey: I will not take this abuse. (Walks to the door\nand opens it to leave.)\nChandler: You're right, I'm sorry. (Burst into song\nand dances out of the door.) \"Once I was a wooden boy, a little wooden boy...\"\nJoey: You should both know,\nthat he's a dead man.  Oh, Chandler? (Starts after Chandler.) \nMonica: So how you doing today? Did you sleep okay?\nTalk to Barry? I can't stop smiling.\nRachel: I can see that. You look like you slept with\na hanger in your mouth.\nMonica: I know, he's just so, so... Do you remember\nyou and Tony DeMarco?\nRachel: Oh, yeah.\nMonica: Well, it's like that. With feelings.\nRachel: Oh wow. Are you in trouble.\nMonica: Big time!\nRachel: Want a wedding dress?  \nHardly used.\nMonica: I think we are getting\na little ahead of selves here. Okay. Okay. I am just going to get up, go to work\nand not think about him all day. Or else I'm just gonna get up and go to work.\nRachel: Oh, look, wish me luck!\nMonica: What for?\nRachel: I'm gonna go get one of those (Thinks) job\nthings.\n(Monica exits.)\n[Scene: Iridium, Monica is working as Frannie enters.] \nFrannie: Hey, Monica! \nMonica: Hey Frannie, welcome back! How was Florida? \nFrannie: You had sex, didn't you? \nMonica: How do you do that?\nFrannie: Oh, I hate you, I'm pushing my Aunt Roz through\nParrot Jungle and you're having sex!  So? Who? \nMonica: You know Paul? \nFrannie: Paul the Wine Guy? Oh yeah, I know Paul. \nMonica: You mean you know Paul like I know Paul? \nFrannie: Are you kidding? I take credit for Paul. Y'know before me, there was no\nsnap in his turtle for two years. \n[Scene: Central Perk, everyone but Rachel is there.]\nJoey: (sitting on the arm of the couch)Of course it was a line! \nMonica: Why?! Why? Why, why would anybody do something like that? \nRoss: I assume we're looking for an answer more sophisticated than 'to get you\ninto bed'. \nMonica: I hate men!  I hate men!\nPhoebe: Oh no, don't hate, you don't\nwant to put that out into the universe.\nMonica: Is it me? Is it like I have some sort of\nbeacon that only dogs and men with severe emotional problems can hear? \nPhoebe: All right, c'mere, gimme your feet. (She starts massaging them.) \nMonica: I just thought he was nice, y'know? \nJoey: (bursts out laughing again) I can't believe you didn't know it was a line!\n\n(Monica pushes him off of the sofa as Rachel enters with a shopping bag.) \nRachel: Guess what? \nRoss: You got a job? \nRachel: Are you kidding? I'm trained for nothing! I was laughed out of twelve\ninterviews today. \nChandler: And yet you're surprisingly upbeat. \nRachel: You would be too if you found John and David boots on sale, fifty\npercent off! \nChandler: Oh, how well you know me... \nRachel: They're my new 'I don't need a job, I don't need my parents, I've got\ngreat boots' boots! \nMonica: How'd you pay for them? \nRachel: Uh, credit card. \nMonica: And who pays for that? \nRachel: Um... my... father. \n[Scene: Monica and Rachel's, everyone is sitting around the kitchen table.  \nRachel's credit cards are spread out on the table along with a pair of scissors.]\nRachel: Oh God, come on you\nguys, is this really necessary?  I mean, I can stop charging anytime I want. \nMonica: C'mon, you can't live off your parents your whole life. \nRachel: I know that. That's why I was getting married. \nPhoebe: Give her a break, it's hard being on your own for the first time. \nRachel: Thank you. \nPhoebe: You're welcome. I remember when I first came to this city. I was\nfourteen. My mom had just killed herself and my step-dad was back in prison, and I got\nhere, and I didn't know anybody. And I ended up living with this albino guy who was, like,\ncleaning windshields outside port authority, and then he killed himself, and then I found\naromatherapy. So believe me, I know exactly how you feel. \n(Pause) \nRoss: The word you're looking for is 'Anyway'... \nMonica: All right, you ready?\nRachel: No.  No, no, I'm not\nready!  How can I be ready?  \"Hey, Rach!  You ready to jump out the\nairplane without your parachute?\"  Come on, I can't do this!\nMonica: You can, I know you\ncan! \nRachel: I don't think so.\nRoss: Come on, you made\ncoffee!   You can do anything! (Chandler slowly tries to hide the now dead plant from\nthat morning when he and Joey poured their coffee into it.)\nRoss: C'mon, cut. Cut, cut, cut,... \nAll: Cut, cut, cut, cut, cut, cut, cut... (She cuts one of them and they cheer.)\nRachel: Y'know what?  I think\nwe can just leave it at that.  It's kinda like a symbolic gesture...\nMonica:  Rachel! \nThat was a library card! \nAll: Cut, cut, cut, cut, cut, cut, cut..\nChandler: (as Rachel is cutting up\nher cards) Y'know, if you listen closely, you can hear a thousand retailers scream. \n(She finishes cutting them up and they all\ncheer.)\nMonica: Welcome to the real world! It sucks. You're\ngonna love it! \n[Time Lapse, Rachel and Ross are watching a TV channel finishes it's broadcast day by\nplaying the national anthem.] \nMonica: Well, that's it (To Ross) You gonna crash on the couch? \nRoss: No. No, I gotta go home sometime. \nMonica: You be okay? \nRoss: Yeah. \nRachel: Hey Mon, look what I just found on the floor. (Monica smiles.) What? \nMonica: That's Paul's watch. You just put it back where you found it. Oh boy.\nAlright. Goodnight, everybody. \nRoss and Rachel: Goodnight.\n(Monica stomps on Paul's watch and goes into her room.)\nRoss: Mmm. (They both reach for the last cookie) Oh, no- \nRachel: Sorry- \nRoss: No no no, go- \nRachel: No, you have it, really, I don't want it- \nRoss: Split it? \nRachel: Okay. \nRoss: Okay. (They split it.) You know you probably didn't know this, but back in\nhigh school, I had a, um, major crush on you. \nRachel: I knew. \nRoss: You did! Oh.... I always figured you just thought I was Monica's geeky\nolder brother. \nRachel: I did. \nRoss: Oh. Listen, do you think- and try not to let my intense vulnerability\nbecome any kind of a factor here- but do you think it would be okay if I asked you out?\nSometime? Maybe? \nRachel: Yeah, maybe... \nRoss: Okay... okay, maybe I will... \nRachel: Goodnight. \nRoss: Goodnight. \n(Rachel goes into her room and Monica enters the living room as Ross is leaving.) \nMonica: See ya.... Waitwait, what's with you? \nRoss: I just grabbed a spoon. (Ross exits and Monica has no idea what that\nmeans.) \nClosing Credits\n[Scene: Central Perk, everyone is there.] \nJoey: I can't believe what I'm hearing here. \nPhoebe: (sings) I can't believe what I'm hearing here... \nMonica: What? I-I said you had a- \nPhoebe: (sings) What I said you had... \nMonica: (to Phoebe) Would you stop? \nPhoebe: Oh, was I doing it again?\nAll: Yes!\nMonica: I said that you had a nice\nbutt, it's just not a great butt.\nJoey: Oh, you wouldn't know a great\nbutt if it came up and bit ya.\nRoss: There's an image.\n\nRachel: (walks up with a pot of coffee) Would anybody like more coffee? \nChandler: Did you make it, or are you just serving it? \nRachel: I'm just serving it. \nAll: Yeah. Yeah, I'll have a cup of coffee. \nChandler: Kids, new dream... I'm in Las Vegas. (Rachel\nsits down to hear Chandler's dream.)\nCustomer: (To\nRachel) Ahh, miss?   More coffee? \nRachel: Ugh. (To another customer that's leaving.) Excuse me, could you give\nthis to that guy over there? (Hands him the coffee pot.) Go ahead. (He does so.) Thank\nyou. (To the gang.) Sorry.  Okay, Las Vegas.\nChandler: Okay, so, I'm in Las\nVegas... I'm Liza Minelli- \nEnd\n\n\n\")"
     },
     "execution_count": 39,
     "metadata": {},
     "output_type": "execute_result"
    }
   ],
   "source": [
    "doc"
   ],
   "metadata": {
    "collapsed": false,
    "pycharm": {
     "name": "#%%\n"
    }
   }
  },
  {
   "cell_type": "code",
   "execution_count": 40,
   "outputs": [
    {
     "name": "stdout",
     "output_type": "stream",
     "text": [
      "Key      Value          \n",
      "Length  : 24732          \n",
      "vowels  : 7017           \n",
      "consonants: 11085          \n",
      "stopwords: 1902           \n",
      "punctuations: 2025           \n",
      "special_char: 2025           \n",
      "tokens(whitespace): 4436           \n",
      "tokens(words): 4715           \n"
     ]
    }
   ],
   "source": [
    "doc.describe()"
   ],
   "metadata": {
    "collapsed": false,
    "pycharm": {
     "name": "#%%\n"
    }
   }
  },
  {
   "cell_type": "code",
   "execution_count": 41,
   "outputs": [
    {
     "data": {
      "text/plain": "TextFrame(text=\"Monica Gets New Roomate (The Pilot-The Uncut Version) Monica Gets New Roommate (The Pilot-The Uncut Version) Written by: Marta Kauffman & David Crane Transcribed by: guineapig Additional transcribing by: Eric Aasen (Note: previously unseen parts episode shown blue text.) [Scene: Central Perk, Chandler, Joey, Phoebe, Monica there.] Monica: There's tell! He's guy work with! Joey: C'mon, going guy! There's gotta wrong him! Chandler: right Joey, nice. hump? hump hairpiece? Phoebe: Wait, eat chalk? (They stare, bemused.) Phoebe: Just, 'cause, want went Carl- oh! Monica: Okay, everybody relax. date. people going dinner and- sex. Chandler: Sounds like date me. [Time Lapse] Chandler: Alright, I'm high school, I'm standing middle cafeteria, realize totally naked. All: Oh, yeah. dream. Chandler: look down, realize there's phone... there. Joey: Instead of...? Chandler: That's right. Joey: dream. Phoebe: No. Chandler: sudden, phone starts ring. know do, everybody starts looking me. Monica: looking before?! Chandler: Finally, figure I'd better answer it, turns mother, very-very weird, because- calls me! [Time Lapse, Ross entered.] Ross: (mortified) Hi. Joey: guy says hello, wanna kill myself. Monica: okay, sweetie? Ross: feel like reached throat, grabbed small intestine, pulled mouth tied neck... Chandler: Cookie? Monica: (explaining others) Carol moved stuff today. Joey: Ohh. Monica: (to Ross) Let coffee. Ross: Thanks. Phoebe: Ooh! Oh! (She starts pluck air Ross.) Ross: No, don't! Stop cleansing aura! No, leave aura alone, okay? Phoebe: Fine! murky! Ross: I'll fine, alright? Really, everyone. hope she'll happy. Monica: don't. Ross: don't, hell her, left me! Joey: knew lesbian... Ross: No!! Okay?! fixating that? know, know? Chandler: wish lesbian... (They stare him.) loud? Ross: told mom dad night, pretty well. Monica: Oh really, hysterical phone got woman sobbing 3:00 A.M., \"I'll grandchildren, I'll grandchildren.\" what? wrong number? Ross: Sorry. Joey: Alright Ross, look. feeling lot pain right now. angry. hurting. tell answer is? (Ross gestures consent.) Joey: Strip joint! C'mon, single! hormones! Ross: want single, okay? just... just- wanna married again! (Rachel enters wet wedding dress starts search room.) Chandler: want million dollars! (He extends hand hopefully.) Monica: Rachel?! Rachel: Oh God Monica hi! Thank God! went building guy big hammer said are, are! Waitress: coffee? Monica: (pointing Rachel) De-caff. (to All) Okay, everybody, Rachel, Lincoln High survivor. (to Rachel) everybody, Chandler, Phoebe, Joey, and- remember brother Ross? Rachel: Hi, sure! Ross: Hi. (They hug Ross's umbrella opens. sits defeated again. moment silence follows Rachel sits expect explain.) Monica: wanna tell now, waiting wet bridesmaids? Rachel: Oh God... well, started half hour wedding. room keeping presents, looking gravy boat. gorgeous Lamauge gravy boat. sudden- (to waitress brought coffee)Sweet 'n' Lo?- realized turned gravy boat Barry! got freaked out, that's hit me: Barry looks like Mr. Potato Head. Y'know, mean, knew looked familiar, but... Anyway, there, started wondering 'Why this, for?'. (to Monica) know go, know kinda drifted apart, person knew lived city. Monica: invited wedding. Rachel: Ooh, kinda hoping issue... [Scene: Monica's Apartment, watching Spanish Soap TV trying figure going on.] Monica: I'm guessing bought big pipe organ, happy it. Chandler: (imitating characters) Tuna egg salad? Decide! Ross: (in deep voice) I'll Christine having. Rachel: (on phone) Daddy, just... can't marry him! I'm sorry. love him. Well, matters me! (The scene TV changed women, holding hair.) Phoebe: let hair, head fall off. Chandler: (re TV) Ooh, wearing pants. Joey: push stairs. Phoebe, Ross, Chandler, Joey: Push stairs! Push stairs! Push stairs! (She pushed stairs cheers.) Rachel: C'mon Daddy, listen me! like, like, life, told me, 'You're shoe! shoe, shoe, shoe!'. today stopped said, 'What wanna shoe? wanna a- purse, y'know? a- hat! No, I'm saying want buy hat, I'm saying ha- metaphor, Daddy! Ross: he'd trouble. Rachel: Look Daddy, life. maybe I'll stay Monica. Monica: Well, guess we've established who's staying Monica... Rachel: Well, maybe that's decision. Well, maybe need money. Wait!! Wait, said maybe!! [Time Lapse, Rachel breating paper bag.] Monica: breathe, breathe.. that's it. try think nice calm things... Phoebe: (sings) Raindrops roses rabbits kittens, (Rachel Monica turn look her.) bluebells sleighbells and- mittens... La la la la...something noodles string. few... Rachel: I'm better now. Phoebe: (grins walks kitchen says Chandler Joey.) helped! Monica: Okay, look, probably best, y'know? Independence. Taking control life. whole, 'hat' thing. Joey: (comforting her) hey, need anything, come Joey. Chandler live hall. he's away lot. Monica: Joey, stop hitting her! wedding day! Joey: What, like there's rule something? (The door buzzer sounds Chandler gets it.) Chandler: again, horrible sound. Paul: (over intercom) It's, uh, Paul. Monica: Oh God, 6:30? Buzz in! Joey: Who's Paul? Ross: Paul Wine Guy, Paul? Monica: Maybe. Joey: Wait. 'not real date' tonight Paul Wine Guy? Ross: finally asked out? Monica: Yes! Chandler: Ooh, Dear Diary moment. Monica: Rach, wait, cancel... Rachel: Please, no, go, that'd fine! Monica: (to Ross) Are, okay? mean, want stay? Ross: (choked voice) That'd good... Monica: (horrified) Really? Ross: (normal voice) No, on! Paul Wine Guy! Phoebe: mean? sell it, drink it, complain lot? (Chandler know.) (There's knock door Paul.) Monica: Hi, come in! Paul, is.. (They lined door.)... everybody, everybody, Paul. All: Hey! Paul! Hi! Wine Guy! Hey! Chandler: I'm sorry, catch name. Paul, it? Monica: Okay, umm-umm, I'll just--I'll right back, gotta ah, ah... Ross: wandering? Monica: Change! Okay, sit down. (Shows Paul in) seconds. Phoebe: Ooh, pulled eyelashes. can't good. (Monica goes change.) Joey: Hey, Paul! Paul: Yeah? Joey: Here's little tip, likes rub neck spot starts little red. Monica: (yelling bedroom) Shut up, Joey! Ross: Rachel, what're you, uh... what're tonight? Rachel: Well, kinda supposed headed Aruba honeymoon, nothing! Ross: Right, getting honeymoon, God.. No, no, although, Aruba, time year... talk your- (thinks) -big lizards... Anyway, feel like tonight, Joey Chandler coming help new furniture. Chandler: (deadpan) Yes, we're excited it. Rachel: actually thanks, think I'm gonna hang tonight. kinda long day. Ross: Okay, sure. Joey: Hey Pheebs, wanna help? Phoebe: Oh, wish could, want to. Commercial Break [Scene: Subway, Phoebe singing change.] Phoebe: (singing) Love sweet summer showers, love wondrous work art, love oh love, love...is like giant pigeon...crapping heart. La-la-la-la-la- (some guy gives change guy) Thank you. (sings) La-la-la-la...ohhh! [Scene: Ross's Apartment, guys assembling furniture.] Ross: (squatting reading instructions) I'm supposed attach brackety thing things, bunch little worm guys. brackety thing, whim guys whatsoever and- feel legs. (Joey Chandler finishing assembling bookcase.) Joey: I'm thinking we've got bookcase here. Chandler: beautiful thing. Joey: (picking leftover part) What's this? Chandler: 'L'-shaped bracket. Joey: goes where? Chandler: idea. (Joey checks Ross looking dumps plant.) Joey: bookcase! Chandler: finished! Ross: (clutching beer sniffing) Carol's favorite beer. drank can, known. Joey: Hey-hey-hey-hey, gonna start stuff we're outta here. Chandler: Yes, spoil fun. Joey: Ross, let ask question. got furniture, stereo, good TV- get? Ross: guys. Chandler: Oh, God. Joey: got screwed. Chandler: Oh God! [Scene: Restaurant, Monica Paul eating.] Monica: Oh God! Paul: know, know, I'm idiot. guess caught started going dentist times week. mean, clean teeth get? Monica: brother's going right now, he's mess. it? Paul: Well, try accidentally breaking valuable hers, her- Monica: -leg? Paul: (laughing) That's way! Me, I- went watch. Monica: actually broke watch? Wow! worst thing was, I-I shredded boyfriend's favorite bath towel. Paul: Ooh, steer clear you. Monica: That's right. [Scene: Monica's Apartment, Rachel talking phone pacing.] Rachel: Barry, I'm sorry... sorry... know probably think said day making love socks on, isn't... isn't, me, ju- (She stops talking dials phone.) Hi, machine cut again... anyway...look, look, know girl going incredibly lucky Mrs. Barry Finkel, me, me. idea right now, chance too... (The maching cuts redials.) [Scene: Ross's Apartment; Ross pacing Joey Chandler working furniture.] Ross: I'm divorced! I'm 26 I'm divorced! Joey: Shut up! Chandler: stop! (Chandler hits working hammer collapses.) Ross: took hour. Chandler: Look, Ross, gotta understand, relationship lasted longer Mento. You, love woman years. years closeness sharing end ripped heart out, it! think point! Ross: know scariest is? there's woman everybody, y'know? mean woman- that's it? Unfortunately case, woman- her... Joey: talking about? 'One woman'? That's like saying there's flavor ice cream you. Lemme tell something, Ross. There's lots flavors there. There's Rocky Road, Cookie Dough, Bing! Cherry Vanilla. 'em Jimmies, nuts, whipped cream! best thing happened you! got married, were, like, what, eight? Welcome world! Grab spoon! Ross: honestly know I'm hungry horny. Chandler: Stay freezer! [Scene: Restaurant, Monica Paul eating.] Paul: walked me, I, uh... Monica: What?..... What, wanna spell noodles? Paul: No, it's, fifth date kinda revelation. Monica: Oh, gonna fifth date? Paul: there? Monica: Yeah... yeah, think is. -What gonna say? Paul: Well, ever-ev-... left me, um, able to, uh, perform. (Monica takes sip drink.) ...Sexually. Monica: (spitting drink shock) Oh God, oh God, sorry... sorry... Paul: okay... Monica: know spit probably need right now. Um... long? Paul: years. Monica: Wow! I'm-I'm-I'm glad smashed watch! Paul: think you, um... want fifth date? Monica: (pause)...Yeah. Yeah, do. [Scene: Monica's Apartment, Rachel watching Joanne Loves Chaci.] Priest TV: gathered today join Joanne Louise Cunningham Charles, Chachi-Chachi-Chachi, Arcola bound holy matrimony. Rachel: Oh...see... Joanne loved Chachi! That's difference! [Scene: Ross's Apartment, they're sitting talking.] Ross: (scornful) Grab spoon. know long I've grabbed spoon? words 'Billy, hero' mean you? Joey: Great story! But, uh, gotta go, got date Andrea--Angela--Andrea... Oh man, (looks Chandler) Chandler: Angela's screamer, Andrea cats. Joey: Right. Thanks. June. I'm outta here. (Exits.) Ross: Y'know, here's thing. to- ask woman out,... gonna ask? (He gazes window.) [Cut Rachel staring window.] Commercial Break [Scene: Monica's Apartment, Rachel making coffee Joey Chandler.] Rachel: amazing? mean, coffee entire life. Chandler: amazing. Joey: Congratulations. Rachel: Y'know, figure coffee, can't do. Chandler: invade Poland, can't do. Joey: Listen, roll, feel like gotta like Western omelet something... (Joey Chandler taste coffee, grimace, pour plant pot.) actually I'm hungry... Monica: (entering, herself) Oh good, Lenny Squigy here. All: Morning. Good morning. Paul: (entering Monica's room) Morning. Joey: Morning, Paul. Rachel: Hello, Paul. Chandler: Hi, Paul, it? (Monica Paul walk door talk low voice can't hear. Monica's table closer door can.) Paul: Thank you! Thank much! Monica: Stop! Paul: No, I'm telling night like umm, birthdays, graduations, plus barn raising scene Witness. Monica: We'll talk later. Paul: Yeah. (They kiss) Thank you. (Exits) Joey: real date?! hell real date? Monica: Shut up, table back. All: Okayyy! (They so.) Chandler: right, kids, gotta work. input numbers,... difference... Rachel: So, like, guys jobs? Monica: Yeah, jobs. See, that's buy stuff. Joey: Yeah, I'm actor. Rachel: Wow! seen anything? Joey: doubt it. regional work. Monica: Oh wait, wait, happened catch Reruns' production Pinocchio, little theater park. Joey: Look, job right? Chandler: 'Look, Gippetto, I'm real live boy.' Joey: abuse. (Walks door opens leave.) Chandler: right, I'm sorry. (Burst song dances door.) \"Once wooden boy, little wooden boy...\" Joey: know, he's dead man. Oh, Chandler? (Starts Chandler.) Monica: today? sleep okay? Talk Barry? can't stop smiling. Rachel: that. look like slept hanger mouth. Monica: know, he's so, so... remember Tony DeMarco? Rachel: Oh, yeah. Monica: Well, like that. feelings. Rachel: Oh wow. trouble. Monica: Big time! Rachel: Want wedding dress? Hardly used. Monica: think getting little ahead selves here. Okay. Okay. going up, work think day. I'm gonna work. Rachel: Oh, look, wish luck! Monica: for? Rachel: I'm gonna (Thinks) job things. (Monica exits.) [Scene: Iridium, Monica working Frannie enters.] Frannie: Hey, Monica! Monica: Hey Frannie, welcome back! Florida? Frannie: sex, you? Monica: that? Frannie: Oh, hate you, I'm pushing Aunt Roz Parrot Jungle sex! So? Who? Monica: know Paul? Frannie: Paul Wine Guy? Oh yeah, know Paul. Monica: mean know Paul like know Paul? Frannie: kidding? credit Paul. Y'know me, snap turtle years. [Scene: Central Perk, Rachel there.] Joey: (sitting arm couch)Of course line! Monica: Why?! Why? Why, anybody like that? Ross: assume we're looking answer sophisticated 'to bed'. Monica: hate men! hate men! Phoebe: Oh no, hate, want universe. Monica: me? like sort beacon dogs men severe emotional problems hear? Phoebe: right, c'mere, gimme feet. (She starts massaging them.) Monica: thought nice, y'know? Joey: (bursts laughing again) can't believe know line! (Monica pushes sofa Rachel enters shopping bag.) Rachel: Guess what? Ross: got job? Rachel: kidding? I'm trained nothing! laughed interviews today. Chandler: surprisingly upbeat. Rachel: found John David boots sale, percent off! Chandler: Oh, know me... Rachel: They're new 'I need job, need parents, I've got great boots' boots! Monica: How'd pay them? Rachel: Uh, credit card. Monica: pays that? Rachel: Um... my... father. [Scene: Monica Rachel's, sitting kitchen table. Rachel's credit cards spread table pair scissors.] Rachel: Oh God, come guys, necessary? mean, stop charging anytime want. Monica: C'mon, can't live parents life. Rachel: know that. That's getting married. Phoebe: break, hard time. Rachel: Thank you. Phoebe: welcome. remember came city. fourteen. mom killed step-dad prison, got here, know anybody. ended living albino guy was, like, cleaning windshields outside port authority, killed himself, found aromatherapy. believe me, know exactly feel. (Pause) Ross: word looking 'Anyway'... Monica: right, ready? Rachel: No. No, no, I'm ready! ready? \"Hey, Rach! ready jump airplane parachute?\" Come on, can't this! Monica: can, know can! Rachel: think so. Ross: Come on, coffee! anything! (Chandler slowly tries hide dead plant morning Joey poured coffee it.) Ross: C'mon, cut. Cut, cut, cut,... All: Cut, cut, cut, cut, cut, cut, cut... (She cuts cheer.) Rachel: Y'know what? think leave that. kinda like symbolic gesture... Monica: Rachel! library card! All: Cut, cut, cut, cut, cut, cut, cut.. Chandler: (as Rachel cutting cards) Y'know, listen closely, hear thousand retailers scream. (She finishes cutting cheer.) Monica: Welcome real world! sucks. gonna love it! [Time Lapse, Rachel Ross watching TV channel finishes broadcast day playing national anthem.] Monica: Well, that's (To Ross) gonna crash couch? Ross: No. No, gotta home sometime. Monica: okay? Ross: Yeah. Rachel: Hey Mon, look found floor. (Monica smiles.) What? Monica: That's Paul's watch. found it. Oh boy. Alright. Goodnight, everybody. Ross Rachel: Goodnight. (Monica stomps Paul's watch goes room.) Ross: Mmm. (They reach cookie) Oh, no- Rachel: Sorry- Ross: no, go- Rachel: No, it, really, want it- Ross: Split it? Rachel: Okay. Ross: Okay. (They split it.) know probably know this, high school, a, um, major crush you. Rachel: knew. Ross: did! Oh.... figured thought Monica's geeky older brother. Rachel: did. Ross: Oh. Listen, think- try let intense vulnerability kind factor here- think okay asked out? Sometime? Maybe? Rachel: Yeah, maybe... Ross: Okay... okay, maybe will... Rachel: Goodnight. Ross: Goodnight. (Rachel goes room Monica enters living room Ross leaving.) Monica: ya.... Waitwait, what's you? Ross: grabbed spoon. (Ross exits Monica idea means.) Closing Credits [Scene: Central Perk, there.] Joey: can't believe I'm hearing here. Phoebe: (sings) can't believe I'm hearing here... Monica: What? I-I said a- Phoebe: (sings) said had... Monica: (to Phoebe) stop? Phoebe: Oh, again? All: Yes! Monica: said nice butt, great butt. Joey: Oh, know great butt came bit ya. Ross: There's image. Rachel: (walks pot coffee) anybody like coffee? Chandler: it, serving it? Rachel: I'm serving it. All: Yeah. Yeah, I'll cup coffee. Chandler: Kids, new dream... I'm Las Vegas. (Rachel sits hear Chandler's dream.) Customer: (To Rachel) Ahh, miss? coffee? Rachel: Ugh. (To customer that's leaving.) Excuse me, guy there? (Hands coffee pot.) ahead. (He so.) Thank you. (To gang.) Sorry. Okay, Las Vegas. Chandler: Okay, so, I'm Las Vegas... I'm Liza Minelli- End\")"
     },
     "execution_count": 41,
     "metadata": {},
     "output_type": "execute_result"
    }
   ],
   "source": [
    "doc.remove_stopwords()"
   ],
   "metadata": {
    "collapsed": false,
    "pycharm": {
     "name": "#%%\n"
    }
   }
  },
  {
   "cell_type": "code",
   "execution_count": 42,
   "outputs": [
    {
     "data": {
      "text/plain": "TextFrame(text=\"Monica Gets New Roomate (The PilotThe Uncut Version) Monica Gets New Roommate (The PilotThe Uncut Version) Written by: Marta Kauffman  David Crane Transcribed by: guineapig Additional transcribing by: Eric Aasen (Note: previously unseen parts episode shown blue text) [Scene: Central Perk Chandler Joey Phoebe Monica there] Monica: Theres tell Hes guy work with Joey: Cmon going guy Theres gotta wrong him Chandler: right Joey nice hump hump hairpiece Phoebe: Wait eat chalk (They stare bemused) Phoebe: Just cause want went Carl oh Monica: Okay everybody relax date people going dinner and sex Chandler: Sounds like date me [Time Lapse] Chandler: Alright Im high school Im standing middle cafeteria realize totally naked All: Oh yeah dream Chandler: look down realize theres phone there Joey: Instead of Chandler: Thats right Joey: dream Phoebe: No Chandler: sudden phone starts ring know do everybody starts looking me Monica: looking before Chandler: Finally figure Id better answer it turns mother veryvery weird because calls me [Time Lapse Ross entered] Ross: (mortified) Hi Joey: guy says hello wanna kill myself Monica: okay sweetie Ross: feel like reached throat grabbed small intestine pulled mouth tied neck Chandler: Cookie Monica: (explaining others) Carol moved stuff today Joey: Ohh Monica: (to Ross) Let coffee Ross: Thanks Phoebe: Ooh Oh (She starts pluck air Ross) Ross: No dont Stop cleansing aura No leave aura alone okay Phoebe: Fine murky Ross: Ill fine alright Really everyone hope shell happy Monica: dont Ross: dont hell her left me Joey: knew lesbian Ross: No Okay fixating that know know Chandler: wish lesbian (They stare him) loud Ross: told mom dad night pretty well Monica: Oh really hysterical phone got woman sobbing 3:00 AM Ill grandchildren Ill grandchildren what wrong number Ross: Sorry Joey: Alright Ross look feeling lot pain right now angry hurting tell answer is (Ross gestures consent) Joey: Strip joint Cmon single hormones Ross: want single okay just just wanna married again (Rachel enters wet wedding dress starts search room) Chandler: want million dollars (He extends hand hopefully) Monica: Rachel Rachel: Oh God Monica hi Thank God went building guy big hammer said are are Waitress: coffee Monica: (pointing Rachel) Decaff (to All) Okay everybody Rachel Lincoln High survivor (to Rachel) everybody Chandler Phoebe Joey and remember brother Ross Rachel: Hi sure Ross: Hi (They hug Rosss umbrella opens sits defeated again moment silence follows Rachel sits expect explain) Monica: wanna tell now waiting wet bridesmaids Rachel: Oh God well started half hour wedding room keeping presents looking gravy boat gorgeous Lamauge gravy boat sudden (to waitress brought coffee)Sweet n Lo realized turned gravy boat Barry got freaked out thats hit me: Barry looks like Mr Potato Head Yknow mean knew looked familiar but Anyway there started wondering Why this for (to Monica) know go know kinda drifted apart person knew lived city Monica: invited wedding Rachel: Ooh kinda hoping issue [Scene: Monicas Apartment watching Spanish Soap TV trying figure going on] Monica: Im guessing bought big pipe organ happy it Chandler: (imitating characters) Tuna egg salad Decide Ross: (in deep voice) Ill Christine having Rachel: (on phone) Daddy just cant marry him Im sorry love him Well matters me (The scene TV changed women holding hair) Phoebe: let hair head fall off Chandler: (re TV) Ooh wearing pants Joey: push stairs Phoebe Ross Chandler Joey: Push stairs Push stairs Push stairs (She pushed stairs cheers) Rachel: Cmon Daddy listen me like like life told me Youre shoe shoe shoe shoe today stopped said What wanna shoe wanna a purse yknow a hat No Im saying want buy hat Im saying ha metaphor Daddy Ross: hed trouble Rachel: Look Daddy life maybe Ill stay Monica Monica: Well guess weve established whos staying Monica Rachel: Well maybe thats decision Well maybe need money Wait Wait said maybe [Time Lapse Rachel breating paper bag] Monica: breathe breathe thats it try think nice calm things Phoebe: (sings) Raindrops roses rabbits kittens (Rachel Monica turn look her) bluebells sleighbells and mittens La la la lasomething noodles string few Rachel: Im better now Phoebe: (grins walks kitchen says Chandler Joey) helped Monica: Okay look probably best yknow Independence Taking control life whole hat thing Joey: (comforting her) hey need anything come Joey Chandler live hall hes away lot Monica: Joey stop hitting her wedding day Joey: What like theres rule something (The door buzzer sounds Chandler gets it) Chandler: again horrible sound Paul: (over intercom) Its uh Paul Monica: Oh God 6:30 Buzz in Joey: Whos Paul Ross: Paul Wine Guy Paul Monica: Maybe Joey: Wait not real date tonight Paul Wine Guy Ross: finally asked out Monica: Yes Chandler: Ooh Dear Diary moment Monica: Rach wait cancel Rachel: Please no go thatd fine Monica: (to Ross) Are okay mean want stay Ross: (choked voice) Thatd good Monica: (horrified) Really Ross: (normal voice) No on Paul Wine Guy Phoebe: mean sell it drink it complain lot (Chandler know) (Theres knock door Paul) Monica: Hi come in Paul is (They lined door) everybody everybody Paul All: Hey Paul Hi Wine Guy Hey Chandler: Im sorry catch name Paul it Monica: Okay ummumm Ill justIll right back gotta ah ah Ross: wandering Monica: Change Okay sit down (Shows Paul in) seconds Phoebe: Ooh pulled eyelashes cant good (Monica goes change) Joey: Hey Paul Paul: Yeah Joey: Heres little tip likes rub neck spot starts little red Monica: (yelling bedroom) Shut up Joey Ross: Rachel whatre you uh whatre tonight Rachel: Well kinda supposed headed Aruba honeymoon nothing Ross: Right getting honeymoon God No no although Aruba time year talk your (thinks) big lizards Anyway feel like tonight Joey Chandler coming help new furniture Chandler: (deadpan) Yes were excited it Rachel: actually thanks think Im gonna hang tonight kinda long day Ross: Okay sure Joey: Hey Pheebs wanna help Phoebe: Oh wish could want to Commercial Break [Scene: Subway Phoebe singing change] Phoebe: (singing) Love sweet summer showers love wondrous work art love oh love loveis like giant pigeoncrapping heart Lalalalala (some guy gives change guy) Thank you (sings) Lalalalaohhh [Scene: Rosss Apartment guys assembling furniture] Ross: (squatting reading instructions) Im supposed attach brackety thing things bunch little worm guys brackety thing whim guys whatsoever and feel legs (Joey Chandler finishing assembling bookcase) Joey: Im thinking weve got bookcase here Chandler: beautiful thing Joey: (picking leftover part) Whats this Chandler: Lshaped bracket Joey: goes where Chandler: idea (Joey checks Ross looking dumps plant) Joey: bookcase Chandler: finished Ross: (clutching beer sniffing) Carols favorite beer drank can known Joey: Heyheyheyhey gonna start stuff were outta here Chandler: Yes spoil fun Joey: Ross let ask question got furniture stereo good TV get Ross: guys Chandler: Oh God Joey: got screwed Chandler: Oh God [Scene: Restaurant Monica Paul eating] Monica: Oh God Paul: know know Im idiot guess caught started going dentist times week mean clean teeth get Monica: brothers going right now hes mess it Paul: Well try accidentally breaking valuable hers her Monica: leg Paul: (laughing) Thats way Me I went watch Monica: actually broke watch Wow worst thing was II shredded boyfriends favorite bath towel Paul: Ooh steer clear you Monica: Thats right [Scene: Monicas Apartment Rachel talking phone pacing] Rachel: Barry Im sorry sorry know probably think said day making love socks on isnt isnt me ju (She stops talking dials phone) Hi machine cut again anywaylook look know girl going incredibly lucky Mrs Barry Finkel me me idea right now chance too (The maching cuts redials) [Scene: Rosss Apartment Ross pacing Joey Chandler working furniture] Ross: Im divorced Im 26 Im divorced Joey: Shut up Chandler: stop (Chandler hits working hammer collapses) Ross: took hour Chandler: Look Ross gotta understand relationship lasted longer Mento You love woman years years closeness sharing end ripped heart out it think point Ross: know scariest is theres woman everybody yknow mean woman thats it Unfortunately case woman her Joey: talking about One woman Thats like saying theres flavor ice cream you Lemme tell something Ross Theres lots flavors there Theres Rocky Road Cookie Dough Bing Cherry Vanilla em Jimmies nuts whipped cream best thing happened you got married were like what eight Welcome world Grab spoon Ross: honestly know Im hungry horny Chandler: Stay freezer [Scene: Restaurant Monica Paul eating] Paul: walked me I uh Monica: What What wanna spell noodles Paul: No its fifth date kinda revelation Monica: Oh gonna fifth date Paul: there Monica: Yeah yeah think is What gonna say Paul: Well everev left me um able to uh perform (Monica takes sip drink) Sexually Monica: (spitting drink shock) Oh God oh God sorry sorry Paul: okay Monica: know spit probably need right now Um long Paul: years Monica: Wow ImImIm glad smashed watch Paul: think you um want fifth date Monica: (pause)Yeah Yeah do [Scene: Monicas Apartment Rachel watching Joanne Loves Chaci] Priest TV: gathered today join Joanne Louise Cunningham Charles ChachiChachiChachi Arcola bound holy matrimony Rachel: Ohsee Joanne loved Chachi Thats difference [Scene: Rosss Apartment theyre sitting talking] Ross: (scornful) Grab spoon know long Ive grabbed spoon words Billy hero mean you Joey: Great story But uh gotta go got date AndreaAngelaAndrea Oh man (looks Chandler) Chandler: Angelas screamer Andrea cats Joey: Right Thanks June Im outta here (Exits) Ross: Yknow heres thing to ask woman out gonna ask (He gazes window) [Cut Rachel staring window] Commercial Break [Scene: Monicas Apartment Rachel making coffee Joey Chandler] Rachel: amazing mean coffee entire life Chandler: amazing Joey: Congratulations Rachel: Yknow figure coffee cant do Chandler: invade Poland cant do Joey: Listen roll feel like gotta like Western omelet something (Joey Chandler taste coffee grimace pour plant pot) actually Im hungry Monica: (entering herself) Oh good Lenny Squigy here All: Morning Good morning Paul: (entering Monicas room) Morning Joey: Morning Paul Rachel: Hello Paul Chandler: Hi Paul it (Monica Paul walk door talk low voice cant hear Monicas table closer door can) Paul: Thank you Thank much Monica: Stop Paul: No Im telling night like umm birthdays graduations plus barn raising scene Witness Monica: Well talk later Paul: Yeah (They kiss) Thank you (Exits) Joey: real date hell real date Monica: Shut up table back All: Okayyy (They so) Chandler: right kids gotta work input numbers difference Rachel: So like guys jobs Monica: Yeah jobs See thats buy stuff Joey: Yeah Im actor Rachel: Wow seen anything Joey: doubt it regional work Monica: Oh wait wait happened catch Reruns production Pinocchio little theater park Joey: Look job right Chandler: Look Gippetto Im real live boy Joey: abuse (Walks door opens leave) Chandler: right Im sorry (Burst song dances door) Once wooden boy little wooden boy Joey: know hes dead man Oh Chandler (Starts Chandler) Monica: today sleep okay Talk Barry cant stop smiling Rachel: that look like slept hanger mouth Monica: know hes so so remember Tony DeMarco Rachel: Oh yeah Monica: Well like that feelings Rachel: Oh wow trouble Monica: Big time Rachel: Want wedding dress Hardly used Monica: think getting little ahead selves here Okay Okay going up work think day Im gonna work Rachel: Oh look wish luck Monica: for Rachel: Im gonna (Thinks) job things (Monica exits) [Scene: Iridium Monica working Frannie enters] Frannie: Hey Monica Monica: Hey Frannie welcome back Florida Frannie: sex you Monica: that Frannie: Oh hate you Im pushing Aunt Roz Parrot Jungle sex So Who Monica: know Paul Frannie: Paul Wine Guy Oh yeah know Paul Monica: mean know Paul like know Paul Frannie: kidding credit Paul Yknow me snap turtle years [Scene: Central Perk Rachel there] Joey: (sitting arm couch)Of course line Monica: Why Why Why anybody like that Ross: assume were looking answer sophisticated to bed Monica: hate men hate men Phoebe: Oh no hate want universe Monica: me like sort beacon dogs men severe emotional problems hear Phoebe: right cmere gimme feet (She starts massaging them) Monica: thought nice yknow Joey: (bursts laughing again) cant believe know line (Monica pushes sofa Rachel enters shopping bag) Rachel: Guess what Ross: got job Rachel: kidding Im trained nothing laughed interviews today Chandler: surprisingly upbeat Rachel: found John David boots sale percent off Chandler: Oh know me Rachel: Theyre new I need job need parents Ive got great boots boots Monica: Howd pay them Rachel: Uh credit card Monica: pays that Rachel: Um my father [Scene: Monica Rachels sitting kitchen table Rachels credit cards spread table pair scissors] Rachel: Oh God come guys necessary mean stop charging anytime want Monica: Cmon cant live parents life Rachel: know that Thats getting married Phoebe: break hard time Rachel: Thank you Phoebe: welcome remember came city fourteen mom killed stepdad prison got here know anybody ended living albino guy was like cleaning windshields outside port authority killed himself found aromatherapy believe me know exactly feel (Pause) Ross: word looking Anyway Monica: right ready Rachel: No No no Im ready ready Hey Rach ready jump airplane parachute Come on cant this Monica: can know can Rachel: think so Ross: Come on coffee anything (Chandler slowly tries hide dead plant morning Joey poured coffee it) Ross: Cmon cut Cut cut cut All: Cut cut cut cut cut cut cut (She cuts cheer) Rachel: Yknow what think leave that kinda like symbolic gesture Monica: Rachel library card All: Cut cut cut cut cut cut cut Chandler: (as Rachel cutting cards) Yknow listen closely hear thousand retailers scream (She finishes cutting cheer) Monica: Welcome real world sucks gonna love it [Time Lapse Rachel Ross watching TV channel finishes broadcast day playing national anthem] Monica: Well thats (To Ross) gonna crash couch Ross: No No gotta home sometime Monica: okay Ross: Yeah Rachel: Hey Mon look found floor (Monica smiles) What Monica: Thats Pauls watch found it Oh boy Alright Goodnight everybody Ross Rachel: Goodnight (Monica stomps Pauls watch goes room) Ross: Mmm (They reach cookie) Oh no Rachel: Sorry Ross: no go Rachel: No it really want it Ross: Split it Rachel: Okay Ross: Okay (They split it) know probably know this high school a um major crush you Rachel: knew Ross: did Oh figured thought Monicas geeky older brother Rachel: did Ross: Oh Listen think try let intense vulnerability kind factor here think okay asked out Sometime Maybe Rachel: Yeah maybe Ross: Okay okay maybe will Rachel: Goodnight Ross: Goodnight (Rachel goes room Monica enters living room Ross leaving) Monica: ya Waitwait whats you Ross: grabbed spoon (Ross exits Monica idea means) Closing Credits [Scene: Central Perk there] Joey: cant believe Im hearing here Phoebe: (sings) cant believe Im hearing here Monica: What II said a Phoebe: (sings) said had Monica: (to Phoebe) stop Phoebe: Oh again All: Yes Monica: said nice butt great butt Joey: Oh know great butt came bit ya Ross: Theres image Rachel: (walks pot coffee) anybody like coffee Chandler: it serving it Rachel: Im serving it All: Yeah Yeah Ill cup coffee Chandler: Kids new dream Im Las Vegas (Rachel sits hear Chandlers dream) Customer: (To Rachel) Ahh miss coffee Rachel: Ugh (To customer thats leaving) Excuse me guy there (Hands coffee pot) ahead (He so) Thank you (To gang) Sorry Okay Las Vegas Chandler: Okay so Im Las Vegas Im Liza Minelli End\")"
     },
     "execution_count": 42,
     "metadata": {},
     "output_type": "execute_result"
    }
   ],
   "source": [
    "doc.remove_puncts()"
   ],
   "metadata": {
    "collapsed": false,
    "pycharm": {
     "name": "#%%\n"
    }
   }
  },
  {
   "cell_type": "code",
   "execution_count": 43,
   "outputs": [],
   "source": [
    "import neattext.functions as nfx"
   ],
   "metadata": {
    "collapsed": false,
    "pycharm": {
     "name": "#%%\n"
    }
   }
  },
  {
   "cell_type": "code",
   "execution_count": 44,
   "outputs": [
    {
     "data": {
      "text/plain": "'\\n\\nThe One Where Monica Gets a New Roomate (The Pilot-The Uncut Version)\\n\\n\\nThe One Where Monica Gets '"
     },
     "execution_count": 44,
     "metadata": {},
     "output_type": "execute_result"
    }
   ],
   "source": [
    "test[:100]"
   ],
   "metadata": {
    "collapsed": false,
    "pycharm": {
     "name": "#%%\n"
    }
   }
  },
  {
   "cell_type": "code",
   "execution_count": 45,
   "outputs": [
    {
     "data": {
      "text/plain": "'Monica Gets New Roomate (The Pilot-The Uncut Version) Monica Gets New Roommate (The Pilot-The Uncut '"
     },
     "execution_count": 45,
     "metadata": {},
     "output_type": "execute_result"
    }
   ],
   "source": [
    "nfx.remove_stopwords(test)[:100]"
   ],
   "metadata": {
    "collapsed": false,
    "pycharm": {
     "name": "#%%\n"
    }
   }
  },
  {
   "cell_type": "code",
   "execution_count": 46,
   "outputs": [
    {
     "data": {
      "text/plain": "'The One Where Monica Gets a New Roomate The PilotThe Uncut VersionThe One Where Monica Gets a New Ro'"
     },
     "execution_count": 46,
     "metadata": {},
     "output_type": "execute_result"
    }
   ],
   "source": [
    "nfx.remove_special_characters(test)[:100]"
   ],
   "metadata": {
    "collapsed": false,
    "pycharm": {
     "name": "#%%\n"
    }
   }
  },
  {
   "cell_type": "code",
   "execution_count": 47,
   "outputs": [
    {
     "data": {
      "text/plain": "'monica gets new roomate (the pilot-the uncut version) monica gets new roommate (the pilot-the uncut '"
     },
     "execution_count": 47,
     "metadata": {},
     "output_type": "execute_result"
    }
   ],
   "source": [
    "nfx.clean_text(test)[:100]"
   ],
   "metadata": {
    "collapsed": false,
    "pycharm": {
     "name": "#%%\n"
    }
   }
  },
  {
   "cell_type": "code",
   "execution_count": 49,
   "outputs": [],
   "source": [
    "?nfx.clean_text"
   ],
   "metadata": {
    "collapsed": false,
    "pycharm": {
     "name": "#%%\n"
    }
   }
  },
  {
   "cell_type": "code",
   "execution_count": 51,
   "outputs": [
    {
     "data": {
      "text/plain": "0      {'text_noise': 11.11111111111111, 'text_length...\n1      {'text_noise': 16.666666666666664, 'text_lengt...\n2      {'text_noise': 18.181818181818183, 'text_lengt...\n3      {'text_noise': 8.823529411764707, 'text_length...\n4      {'text_noise': 8.695652173913043, 'text_length...\n                             ...                        \n190    {'text_noise': 13.333333333333334, 'text_lengt...\n191    {'text_noise': 14.285714285714285, 'text_lengt...\n192    {'text_noise': 17.94871794871795, 'text_length...\n193    {'text_noise': 17.94871794871795, 'text_length...\n194    {'text_noise': 17.24137931034483, 'text_length...\nName: title, Length: 195, dtype: object"
     },
     "execution_count": 51,
     "metadata": {},
     "output_type": "execute_result"
    }
   ],
   "source": [
    "raw[\"title\"].apply(lambda x: nt.TextFrame(x).noise_scan())"
   ],
   "metadata": {
    "collapsed": false,
    "pycharm": {
     "name": "#%%\n"
    }
   }
  },
  {
   "cell_type": "markdown",
   "source": [
    "## String manipulation for nlp"
   ],
   "metadata": {
    "collapsed": false,
    "pycharm": {
     "name": "#%% md\n"
    }
   }
  },
  {
   "cell_type": "code",
   "execution_count": 54,
   "outputs": [],
   "source": [
    "txt = \"' hello!, niffoxic here doing text preprocessing just for #fun hehehehe \\n'\""
   ],
   "metadata": {
    "collapsed": false,
    "pycharm": {
     "name": "#%%\n"
    }
   }
  },
  {
   "cell_type": "code",
   "execution_count": null,
   "outputs": [],
   "source": [],
   "metadata": {
    "collapsed": false,
    "pycharm": {
     "name": "#%%\n"
    }
   }
  }
 ],
 "metadata": {
  "kernelspec": {
   "display_name": "Python 3",
   "language": "python",
   "name": "python3"
  },
  "language_info": {
   "codemirror_mode": {
    "name": "ipython",
    "version": 2
   },
   "file_extension": ".py",
   "mimetype": "text/x-python",
   "name": "python",
   "nbconvert_exporter": "python",
   "pygments_lexer": "ipython2",
   "version": "2.7.6"
  }
 },
 "nbformat": 4,
 "nbformat_minor": 0
}