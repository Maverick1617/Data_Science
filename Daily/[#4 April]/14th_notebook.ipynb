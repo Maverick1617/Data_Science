{
  "nbformat": 4,
  "nbformat_minor": 0,
  "metadata": {
    "colab": {
      "name": "14th_notebookipynb",
      "provenance": [],
      "collapsed_sections": []
    },
    "kernelspec": {
      "name": "python3",
      "display_name": "Python 3"
    },
    "language_info": {
      "name": "python"
    }
  },
  "cells": [
    {
      "cell_type": "markdown",
      "source": [
        "# 14th April Notes"
      ],
      "metadata": {
        "id": "DfvJou31ISqD"
      }
    },
    {
      "cell_type": "markdown",
      "source": [
        "## Importing req libs"
      ],
      "metadata": {
        "id": "l9q9Xl2tIZxQ"
      }
    },
    {
      "cell_type": "code",
      "execution_count": null,
      "metadata": {
        "id": "9NllFtsAGBQJ"
      },
      "outputs": [],
      "source": [
        "import numpy as np\n",
        "import torch\n",
        "import torch.nn as nn\n",
        "import matplotlib.pyplot as plt\n",
        "import seaborn as sns\n",
        "import pandas as pd\n",
        "from sklearn.model_selection import train_test_split\n",
        "from torch.utils.data import DataLoader\n"
      ]
    },
    {
      "cell_type": "markdown",
      "source": [
        "## A brief aside on using DataLoader"
      ],
      "metadata": {
        "id": "UaFE4Ne8LR3F"
      }
    },
    {
      "cell_type": "code",
      "source": [
        "data = sns.load_dataset(\"iris\")"
      ],
      "metadata": {
        "id": "KPc-aBo0Lz6_"
      },
      "execution_count": null,
      "outputs": []
    },
    {
      "cell_type": "code",
      "source": [
        "data.head()"
      ],
      "metadata": {
        "colab": {
          "base_uri": "https://localhost:8080/",
          "height": 206
        },
        "id": "jMUHzS1nQFks",
        "outputId": "003f3066-f763-4537-adb1-41f58e6c7dd5"
      },
      "execution_count": null,
      "outputs": [
        {
          "output_type": "execute_result",
          "data": {
            "text/plain": [
              "   sepal_length  sepal_width  petal_length  petal_width species\n",
              "0           5.1          3.5           1.4          0.2  setosa\n",
              "1           4.9          3.0           1.4          0.2  setosa\n",
              "2           4.7          3.2           1.3          0.2  setosa\n",
              "3           4.6          3.1           1.5          0.2  setosa\n",
              "4           5.0          3.6           1.4          0.2  setosa"
            ],
            "text/html": [
              "\n",
              "  <div id=\"df-c90fd6db-4171-417a-87bb-8957eafc47bc\">\n",
              "    <div class=\"colab-df-container\">\n",
              "      <div>\n",
              "<style scoped>\n",
              "    .dataframe tbody tr th:only-of-type {\n",
              "        vertical-align: middle;\n",
              "    }\n",
              "\n",
              "    .dataframe tbody tr th {\n",
              "        vertical-align: top;\n",
              "    }\n",
              "\n",
              "    .dataframe thead th {\n",
              "        text-align: right;\n",
              "    }\n",
              "</style>\n",
              "<table border=\"1\" class=\"dataframe\">\n",
              "  <thead>\n",
              "    <tr style=\"text-align: right;\">\n",
              "      <th></th>\n",
              "      <th>sepal_length</th>\n",
              "      <th>sepal_width</th>\n",
              "      <th>petal_length</th>\n",
              "      <th>petal_width</th>\n",
              "      <th>species</th>\n",
              "    </tr>\n",
              "  </thead>\n",
              "  <tbody>\n",
              "    <tr>\n",
              "      <th>0</th>\n",
              "      <td>5.1</td>\n",
              "      <td>3.5</td>\n",
              "      <td>1.4</td>\n",
              "      <td>0.2</td>\n",
              "      <td>setosa</td>\n",
              "    </tr>\n",
              "    <tr>\n",
              "      <th>1</th>\n",
              "      <td>4.9</td>\n",
              "      <td>3.0</td>\n",
              "      <td>1.4</td>\n",
              "      <td>0.2</td>\n",
              "      <td>setosa</td>\n",
              "    </tr>\n",
              "    <tr>\n",
              "      <th>2</th>\n",
              "      <td>4.7</td>\n",
              "      <td>3.2</td>\n",
              "      <td>1.3</td>\n",
              "      <td>0.2</td>\n",
              "      <td>setosa</td>\n",
              "    </tr>\n",
              "    <tr>\n",
              "      <th>3</th>\n",
              "      <td>4.6</td>\n",
              "      <td>3.1</td>\n",
              "      <td>1.5</td>\n",
              "      <td>0.2</td>\n",
              "      <td>setosa</td>\n",
              "    </tr>\n",
              "    <tr>\n",
              "      <th>4</th>\n",
              "      <td>5.0</td>\n",
              "      <td>3.6</td>\n",
              "      <td>1.4</td>\n",
              "      <td>0.2</td>\n",
              "      <td>setosa</td>\n",
              "    </tr>\n",
              "  </tbody>\n",
              "</table>\n",
              "</div>\n",
              "      <button class=\"colab-df-convert\" onclick=\"convertToInteractive('df-c90fd6db-4171-417a-87bb-8957eafc47bc')\"\n",
              "              title=\"Convert this dataframe to an interactive table.\"\n",
              "              style=\"display:none;\">\n",
              "        \n",
              "  <svg xmlns=\"http://www.w3.org/2000/svg\" height=\"24px\"viewBox=\"0 0 24 24\"\n",
              "       width=\"24px\">\n",
              "    <path d=\"M0 0h24v24H0V0z\" fill=\"none\"/>\n",
              "    <path d=\"M18.56 5.44l.94 2.06.94-2.06 2.06-.94-2.06-.94-.94-2.06-.94 2.06-2.06.94zm-11 1L8.5 8.5l.94-2.06 2.06-.94-2.06-.94L8.5 2.5l-.94 2.06-2.06.94zm10 10l.94 2.06.94-2.06 2.06-.94-2.06-.94-.94-2.06-.94 2.06-2.06.94z\"/><path d=\"M17.41 7.96l-1.37-1.37c-.4-.4-.92-.59-1.43-.59-.52 0-1.04.2-1.43.59L10.3 9.45l-7.72 7.72c-.78.78-.78 2.05 0 2.83L4 21.41c.39.39.9.59 1.41.59.51 0 1.02-.2 1.41-.59l7.78-7.78 2.81-2.81c.8-.78.8-2.07 0-2.86zM5.41 20L4 18.59l7.72-7.72 1.47 1.35L5.41 20z\"/>\n",
              "  </svg>\n",
              "      </button>\n",
              "      \n",
              "  <style>\n",
              "    .colab-df-container {\n",
              "      display:flex;\n",
              "      flex-wrap:wrap;\n",
              "      gap: 12px;\n",
              "    }\n",
              "\n",
              "    .colab-df-convert {\n",
              "      background-color: #E8F0FE;\n",
              "      border: none;\n",
              "      border-radius: 50%;\n",
              "      cursor: pointer;\n",
              "      display: none;\n",
              "      fill: #1967D2;\n",
              "      height: 32px;\n",
              "      padding: 0 0 0 0;\n",
              "      width: 32px;\n",
              "    }\n",
              "\n",
              "    .colab-df-convert:hover {\n",
              "      background-color: #E2EBFA;\n",
              "      box-shadow: 0px 1px 2px rgba(60, 64, 67, 0.3), 0px 1px 3px 1px rgba(60, 64, 67, 0.15);\n",
              "      fill: #174EA6;\n",
              "    }\n",
              "\n",
              "    [theme=dark] .colab-df-convert {\n",
              "      background-color: #3B4455;\n",
              "      fill: #D2E3FC;\n",
              "    }\n",
              "\n",
              "    [theme=dark] .colab-df-convert:hover {\n",
              "      background-color: #434B5C;\n",
              "      box-shadow: 0px 1px 3px 1px rgba(0, 0, 0, 0.15);\n",
              "      filter: drop-shadow(0px 1px 2px rgba(0, 0, 0, 0.3));\n",
              "      fill: #FFFFFF;\n",
              "    }\n",
              "  </style>\n",
              "\n",
              "      <script>\n",
              "        const buttonEl =\n",
              "          document.querySelector('#df-c90fd6db-4171-417a-87bb-8957eafc47bc button.colab-df-convert');\n",
              "        buttonEl.style.display =\n",
              "          google.colab.kernel.accessAllowed ? 'block' : 'none';\n",
              "\n",
              "        async function convertToInteractive(key) {\n",
              "          const element = document.querySelector('#df-c90fd6db-4171-417a-87bb-8957eafc47bc');\n",
              "          const dataTable =\n",
              "            await google.colab.kernel.invokeFunction('convertToInteractive',\n",
              "                                                     [key], {});\n",
              "          if (!dataTable) return;\n",
              "\n",
              "          const docLinkHtml = 'Like what you see? Visit the ' +\n",
              "            '<a target=\"_blank\" href=https://colab.research.google.com/notebooks/data_table.ipynb>data table notebook</a>'\n",
              "            + ' to learn more about interactive tables.';\n",
              "          element.innerHTML = '';\n",
              "          dataTable['output_type'] = 'display_data';\n",
              "          await google.colab.output.renderOutput(dataTable, element);\n",
              "          const docLink = document.createElement('div');\n",
              "          docLink.innerHTML = docLinkHtml;\n",
              "          element.appendChild(docLink);\n",
              "        }\n",
              "      </script>\n",
              "    </div>\n",
              "  </div>\n",
              "  "
            ]
          },
          "metadata": {},
          "execution_count": 194
        }
      ]
    },
    {
      "cell_type": "code",
      "source": [
        "x = data.drop(\"species\", axis=1)\n",
        "y = data[\"species\"]\n",
        "x = torch.tensor(x.values).float()"
      ],
      "metadata": {
        "id": "19UNsWa0QLBT"
      },
      "execution_count": null,
      "outputs": []
    },
    {
      "cell_type": "code",
      "source": [
        "set(y)"
      ],
      "metadata": {
        "colab": {
          "base_uri": "https://localhost:8080/"
        },
        "id": "tOeptE1-S0rV",
        "outputId": "8cdd898d-bfd9-48ba-b57c-8e8a0a08b962"
      },
      "execution_count": null,
      "outputs": [
        {
          "output_type": "execute_result",
          "data": {
            "text/plain": [
              "{'setosa', 'versicolor', 'virginica'}"
            ]
          },
          "metadata": {},
          "execution_count": 196
        }
      ]
    },
    {
      "cell_type": "code",
      "source": [
        "y_label = np.zeros(len(y))\n",
        "y_label[y == \"versicolor\"] = 1\n",
        "y_label[y == \"setosa\"] = 2\n",
        "y = torch.tensor(y_label)\n",
        "y = y.to(torch.long)"
      ],
      "metadata": {
        "id": "D0-opwunSRyb"
      },
      "execution_count": null,
      "outputs": []
    },
    {
      "cell_type": "code",
      "source": [
        "train_data, test_data, train_labels, test_labels = \\\n",
        "train_test_split(x, y, train_size=0.8)"
      ],
      "metadata": {
        "id": "uPlomJIYQege"
      },
      "execution_count": null,
      "outputs": []
    },
    {
      "cell_type": "code",
      "source": [
        "train_data = torch.utils.data.TensorDataset(train_data, train_labels)\n",
        "test_data = torch.utils.data.TensorDataset(test_data, test_labels)"
      ],
      "metadata": {
        "id": "gLTzwU_ZQ2UF"
      },
      "execution_count": null,
      "outputs": []
    },
    {
      "cell_type": "code",
      "source": [
        "train_loader = DataLoader(train_data, shuffle=True, batch_size=12)\n",
        "test_loader = DataLoader(test_data, batch_size=test_data.tensors[0].shape[0])"
      ],
      "metadata": {
        "id": "8MdIe84mRjK_"
      },
      "execution_count": null,
      "outputs": []
    },
    {
      "cell_type": "code",
      "source": [
        "test_loader.batch_size"
      ],
      "metadata": {
        "colab": {
          "base_uri": "https://localhost:8080/"
        },
        "id": "OvIfj0PpTeag",
        "outputId": "b1eb2461-d194-4e67-f8f1-fd6495d9cf98"
      },
      "execution_count": null,
      "outputs": [
        {
          "output_type": "execute_result",
          "data": {
            "text/plain": [
              "30"
            ]
          },
          "metadata": {},
          "execution_count": 201
        }
      ]
    },
    {
      "cell_type": "code",
      "source": [
        "for x, y in train_loader:\n",
        "  print(x.shape, y.shape)"
      ],
      "metadata": {
        "colab": {
          "base_uri": "https://localhost:8080/"
        },
        "id": "oeIHcSQfTo1S",
        "outputId": "4f89bb45-b858-4d23-c370-99d487872913"
      },
      "execution_count": null,
      "outputs": [
        {
          "output_type": "stream",
          "name": "stdout",
          "text": [
            "torch.Size([12, 4]) torch.Size([12])\n",
            "torch.Size([12, 4]) torch.Size([12])\n",
            "torch.Size([12, 4]) torch.Size([12])\n",
            "torch.Size([12, 4]) torch.Size([12])\n",
            "torch.Size([12, 4]) torch.Size([12])\n",
            "torch.Size([12, 4]) torch.Size([12])\n",
            "torch.Size([12, 4]) torch.Size([12])\n",
            "torch.Size([12, 4]) torch.Size([12])\n",
            "torch.Size([12, 4]) torch.Size([12])\n",
            "torch.Size([12, 4]) torch.Size([12])\n"
          ]
        }
      ]
    },
    {
      "cell_type": "code",
      "source": [
        "def Model():\n",
        "  model = nn.Sequential(\n",
        "      nn.Linear(4, 64),\n",
        "      nn.ReLU(),\n",
        "      nn.Linear(64, 64),\n",
        "      nn.ReLU(),\n",
        "      nn.Linear(64, 3),\n",
        "      nn.Softmax()\n",
        "  )\n",
        "\n",
        "  lossfun = nn.CrossEntropyLoss()\n",
        "  optimizer = torch.optim.SGD(model.parameters(), lr=0.01)\n",
        "\n",
        "  return model, lossfun, optimizer"
      ],
      "metadata": {
        "id": "D3rBgVYFT3ja"
      },
      "execution_count": null,
      "outputs": []
    },
    {
      "cell_type": "code",
      "source": [
        "# training the model\n",
        "\n",
        "model, Loss, optimizer = Model()\n",
        "\n",
        "train_acc = []\n",
        "test_acc = []\n",
        "\n",
        "for i in range(1000):\n",
        "  batch_acc = []\n",
        "\n",
        "  for x, y in train_loader:\n",
        "    y_hat = model(x)\n",
        "    loss = Loss(y_hat, y)\n",
        "\n",
        "    optimizer.zero_grad()\n",
        "    loss.backward()\n",
        "    optimizer.step()\n",
        "\n",
        "    batch_acc.append(100 * torch.mean((torch.argmax(y_hat, axis=1) == y).float()).item())\n",
        "  train_acc.append(np.mean(batch_acc))\n",
        "  x,  y = next(iter(test_loader))\n",
        "  predlabels = torch.argmax(model(x), axis=1)\n",
        "  test_acc.append(100 * torch.mean((predlabels==y).float()).item())"
      ],
      "metadata": {
        "colab": {
          "base_uri": "https://localhost:8080/"
        },
        "id": "-6eQwvQNU-Yy",
        "outputId": "deeb56a5-d8dc-47d3-cc9a-7ac14d4ed8f3"
      },
      "execution_count": null,
      "outputs": [
        {
          "output_type": "stream",
          "name": "stderr",
          "text": [
            "/usr/local/lib/python3.7/dist-packages/torch/nn/modules/container.py:141: UserWarning: Implicit dimension choice for softmax has been deprecated. Change the call to include dim=X as an argument.\n",
            "  input = module(input)\n"
          ]
        }
      ]
    },
    {
      "cell_type": "code",
      "source": [
        "fig = plt.figure(figsize=(10, 8))\n",
        "plt.plot(train_acc, \"ro-\");\n",
        "plt.plot(test_acc, \"bs-\")\n",
        "plt.xlabel(\"Epochs\")\n",
        "plt.ylabel(\"Accuracy (%)\")\n",
        "plt.legend([\"Train\", \"Test\"])\n",
        "plt.show()"
      ],
      "metadata": {
        "colab": {
          "base_uri": "https://localhost:8080/",
          "height": 497
        },
        "id": "1I6F4iFyWTCK",
        "outputId": "8de6b498-9d8e-45f5-a09b-2a4f412b01da"
      },
      "execution_count": null,
      "outputs": [
        {
          "output_type": "display_data",
          "data": {
            "text/plain": [
              "<Figure size 720x576 with 1 Axes>"
            ],
            "image/png": "[encoded data removed]"
          },
          "metadata": {
            "needs_background": "light"
          }
        }
      ]
    },
    {
      "cell_type": "code",
      "source": [
        "test_acc[-1]"
      ],
      "metadata": {
        "colab": {
          "base_uri": "https://localhost:8080/"
        },
        "id": "sHk8Pp0vXSYF",
        "outputId": "5cc39733-a22d-4289-a630-4cf8ebe112b8"
      },
      "execution_count": null,
      "outputs": [
        {
          "output_type": "execute_result",
          "data": {
            "text/plain": [
              "100.0"
            ]
          },
          "metadata": {},
          "execution_count": 100
        }
      ]
    },
    {
      "cell_type": "code",
      "source": [
        "import torch\n",
        "import torch.nn as nn\n",
        "import torch.nn.functional as F\n",
        "\n",
        "import numpy as np\n",
        "import matplotlib.pyplot as plt\n",
        "from IPython import display\n",
        "import seaborn as sns\n",
        "display.set_matplotlib_formats(\"svg\")\n",
        "\n",
        "from sklearn.model_selection import train_test_split\n",
        "from torch.utils.data import DataLoader, TensorDataset"
      ],
      "metadata": {
        "id": "BMg6SY6CZd9P"
      },
      "execution_count": null,
      "outputs": []
    },
    {
      "cell_type": "markdown",
      "source": [
        "## Using DropOut"
      ],
      "metadata": {
        "id": "8feGctQhupqG"
      }
    },
    {
      "cell_type": "code",
      "source": [
        "pr = 0.5\n",
        "dropout = nn.Dropout(p=pr)\n",
        "x = torch.ones(10)\n",
        "y = dropout(x)\n",
        "y"
      ],
      "metadata": {
        "colab": {
          "base_uri": "https://localhost:8080/"
        },
        "id": "EsDzK9NTuos0",
        "outputId": "35fc0008-fb2f-42c9-8a45-ce8c860a68a1"
      },
      "execution_count": null,
      "outputs": [
        {
          "output_type": "execute_result",
          "data": {
            "text/plain": [
              "tensor([0., 2., 2., 0., 0., 2., 2., 2., 2., 2.])"
            ]
          },
          "metadata": {},
          "execution_count": 150
        }
      ]
    },
    {
      "cell_type": "code",
      "source": [
        "torch.mean(y)"
      ],
      "metadata": {
        "colab": {
          "base_uri": "https://localhost:8080/"
        },
        "id": "Au0_YqEluzr9",
        "outputId": "08d3fa46-e0e9-4770-c994-68232403bd1b"
      },
      "execution_count": null,
      "outputs": [
        {
          "output_type": "execute_result",
          "data": {
            "text/plain": [
              "tensor(1.4000)"
            ]
          },
          "metadata": {},
          "execution_count": 151
        }
      ]
    },
    {
      "cell_type": "code",
      "source": [
        "dropout.eval()\n",
        "y = dropout(x)\n",
        "print(y)\n",
        "print(torch.mean(y))"
      ],
      "metadata": {
        "colab": {
          "base_uri": "https://localhost:8080/"
        },
        "id": "EsbXV-C3u5rk",
        "outputId": "a436f63c-c688-43f6-d12f-345a8fba5a96"
      },
      "execution_count": null,
      "outputs": [
        {
          "output_type": "stream",
          "name": "stdout",
          "text": [
            "tensor([1., 1., 1., 1., 1., 1., 1., 1., 1., 1.])\n",
            "tensor(1.)\n"
          ]
        }
      ]
    },
    {
      "cell_type": "markdown",
      "source": [
        "## Create the data"
      ],
      "metadata": {
        "id": "hDVZELPx1fD1"
      }
    },
    {
      "cell_type": "code",
      "source": [
        "points = 200\n",
        "th = np.linspace(0, 4 * np.pi, points)\n",
        "r1 = 10\n",
        "r2 = 15\n",
        "\n",
        "a = [r1 * np.cos(th) + np.random.randn(points) * 3,\n",
        "     r1 * np.sin(th) + np.random.randn(points)]\n",
        "b = [r2 * np.cos(th) + np.random.randn(points),\n",
        "     r2 * np.sin(th) + np.random.randn(points) * 3]\n",
        "\n",
        "labels_np = np.vstack((np.zeros((points, 1)), np.ones((points, 1))))\n",
        "\n",
        "# Concantante into a matrix\n",
        "data_np = np.hstack((a, b)).T\n",
        "\n",
        "data = torch.tensor(data_np).float()\n",
        "labels = torch.tensor(labels_np).float()"
      ],
      "metadata": {
        "id": "mZ96NJhsvQIo"
      },
      "execution_count": null,
      "outputs": []
    },
    {
      "cell_type": "code",
      "source": [
        "fig = plt.plot(figsize=(6, 6))\n",
        "plt.plot(data[np.where(labels == 0)[0], 0],\n",
        "         data[np.where(labels == 0)[0], 1], \"bs\")\n",
        "plt.plot(data[np.where(labels == 1)[0], 0],\n",
        "         data[np.where(labels == 1)[0], 1], \"ko\")\n",
        "plt.title(\"Two Circles\")\n",
        "plt.xlabel(\"Dim-1\")\n",
        "plt.ylabel(\"Dim-2\")\n",
        "plt.show()"
      ],
      "metadata": {
        "colab": {
          "base_uri": "https://localhost:8080/",
          "height": 391
        },
        "id": "j6MMJ46G2HDw",
        "outputId": "51f05245-8439-410e-fa33-419a51183f13"
      },
      "execution_count": null,
      "outputs": [
        {
          "output_type": "display_data",
          "data": {
            "text/plain": [
              "<Figure size 432x288 with 1 Axes>"
            ],
            "image/svg+xml": "<?xml version=\"1.0\" encoding=\"utf-8\" standalone=\"no\"?>\n<!DOCTYPE svg PUBLIC \"-//W3C//DTD SVG 1.1//EN\"\n  \"http://www.w3.org/Graphics/SVG/1.1/DTD/svg11.dtd\">\n<!-- Created with matplotlib (https://matplotlib.org/) -->\n<svg height=\"277.314375pt\" version=\"1.1\" viewBox=\"0 0 390.982812 277.314375\" width=\"390.982812pt\" xmlns=\"http://www.w3.org/2000/svg\" xmlns:xlink=\"http://www.w3.org/1999/xlink\">\n <defs>\n  <style type=\"text/css\">\n*{stroke-linecap:butt;stroke-linejoin:round;}\n  </style>\n </defs>\n <g id=\"figure_1\">\n  <g id=\"patch_1\">\n   <path d=\"M 0 277.314375 \nL 390.982812 277.314375 \nL 390.982812 0 \nL 0 0 \nz\n\" style=\"fill:none;\"/>\n  </g>\n  <g id=\"axes_1\">\n   <g id=\"patch_2\">\n    <path d=\"M 48.982813 239.758125 \nL 383.782813 239.758125 \nL 383.782813 22.318125 \nL 48.982813 22.318125 \nz\n\" style=\"fill:#ffffff;\"/>\n   </g>\n   <g id=\"matplotlib.axis_1\">\n    <g id=\"xtick_1\">\n     <g id=\"line2d_1\">\n      <defs>\n       <path d=\"M 0 0 \nL 0 3.5 \n\" id=\"m021d603302\" style=\"stroke:#000000;stroke-width:0.8;\"/>\n      </defs>\n      <g>\n       <use style=\"stroke:#000000;stroke-width:0.8;\" x=\"76.6789\" xlink:href=\"#m021d603302\" y=\"239.758125\"/>\n      </g>\n     </g>\n     <g id=\"text_1\">\n      <!-- −15 -->\n      <defs>\n       <path d=\"M 10.59375 35.5 \nL 73.1875 35.5 \nL 73.1875 27.203125 \nL 10.59375 27.203125 \nz\n\" id=\"DejaVuSans-8722\"/>\n       <path d=\"M 12.40625 8.296875 \nL 28.515625 8.296875 \nL 28.515625 63.921875 \nL 10.984375 60.40625 \nL 10.984375 69.390625 \nL 28.421875 72.90625 \nL 38.28125 72.90625 \nL 38.28125 8.296875 \nL 54.390625 8.296875 \nL 54.390625 0 \nL 12.40625 0 \nz\n\" id=\"DejaVuSans-49\"/>\n       <path d=\"M 10.796875 72.90625 \nL 49.515625 72.90625 \nL 49.515625 64.59375 \nL 19.828125 64.59375 \nL 19.828125 46.734375 \nQ 21.96875 47.46875 24.109375 47.828125 \nQ 26.265625 48.1875 28.421875 48.1875 \nQ 40.625 48.1875 47.75 41.5 \nQ 54.890625 34.8125 54.890625 23.390625 \nQ 54.890625 11.625 47.5625 5.09375 \nQ 40.234375 -1.421875 26.90625 -1.421875 \nQ 22.3125 -1.421875 17.546875 -0.640625 \nQ 12.796875 0.140625 7.71875 1.703125 \nL 7.71875 11.625 \nQ 12.109375 9.234375 16.796875 8.0625 \nQ 21.484375 6.890625 26.703125 6.890625 \nQ 35.15625 6.890625 40.078125 11.328125 \nQ 45.015625 15.765625 45.015625 23.390625 \nQ 45.015625 31 40.078125 35.4375 \nQ 35.15625 39.890625 26.703125 39.890625 \nQ 22.75 39.890625 18.8125 39.015625 \nQ 14.890625 38.140625 10.796875 36.28125 \nz\n\" id=\"DejaVuSans-53\"/>\n      </defs>\n      <g transform=\"translate(66.126556 254.356562)scale(0.1 -0.1)\">\n       <use xlink:href=\"#DejaVuSans-8722\"/>\n       <use x=\"83.789062\" xlink:href=\"#DejaVuSans-49\"/>\n       <use x=\"147.412109\" xlink:href=\"#DejaVuSans-53\"/>\n      </g>\n     </g>\n    </g>\n    <g id=\"xtick_2\">\n     <g id=\"line2d_2\">\n      <g>\n       <use style=\"stroke:#000000;stroke-width:0.8;\" x=\"122.235289\" xlink:href=\"#m021d603302\" y=\"239.758125\"/>\n      </g>\n     </g>\n     <g id=\"text_2\">\n      <!-- −10 -->\n      <defs>\n       <path d=\"M 31.78125 66.40625 \nQ 24.171875 66.40625 20.328125 58.90625 \nQ 16.5 51.421875 16.5 36.375 \nQ 16.5 21.390625 20.328125 13.890625 \nQ 24.171875 6.390625 31.78125 6.390625 \nQ 39.453125 6.390625 43.28125 13.890625 \nQ 47.125 21.390625 47.125 36.375 \nQ 47.125 51.421875 43.28125 58.90625 \nQ 39.453125 66.40625 31.78125 66.40625 \nz\nM 31.78125 74.21875 \nQ 44.046875 74.21875 50.515625 64.515625 \nQ 56.984375 54.828125 56.984375 36.375 \nQ 56.984375 17.96875 50.515625 8.265625 \nQ 44.046875 -1.421875 31.78125 -1.421875 \nQ 19.53125 -1.421875 13.0625 8.265625 \nQ 6.59375 17.96875 6.59375 36.375 \nQ 6.59375 54.828125 13.0625 64.515625 \nQ 19.53125 74.21875 31.78125 74.21875 \nz\n\" id=\"DejaVuSans-48\"/>\n      </defs>\n      <g transform=\"translate(111.682946 254.356562)scale(0.1 -0.1)\">\n       <use xlink:href=\"#DejaVuSans-8722\"/>\n       <use x=\"83.789062\" xlink:href=\"#DejaVuSans-49\"/>\n       <use x=\"147.412109\" xlink:href=\"#DejaVuSans-48\"/>\n      </g>\n     </g>\n    </g>\n    <g id=\"xtick_3\">\n     <g id=\"line2d_3\">\n      <g>\n       <use style=\"stroke:#000000;stroke-width:0.8;\" x=\"167.791679\" xlink:href=\"#m021d603302\" y=\"239.758125\"/>\n      </g>\n     </g>\n     <g id=\"text_3\">\n      <!-- −5 -->\n      <g transform=\"translate(160.420585 254.356562)scale(0.1 -0.1)\">\n       <use xlink:href=\"#DejaVuSans-8722\"/>\n       <use x=\"83.789062\" xlink:href=\"#DejaVuSans-53\"/>\n      </g>\n     </g>\n    </g>\n    <g id=\"xtick_4\">\n     <g id=\"line2d_4\">\n      <g>\n       <use style=\"stroke:#000000;stroke-width:0.8;\" x=\"213.348069\" xlink:href=\"#m021d603302\" y=\"239.758125\"/>\n      </g>\n     </g>\n     <g id=\"text_4\">\n      <!-- 0 -->\n      <g transform=\"translate(210.166819 254.356562)scale(0.1 -0.1)\">\n       <use xlink:href=\"#DejaVuSans-48\"/>\n      </g>\n     </g>\n    </g>\n    <g id=\"xtick_5\">\n     <g id=\"line2d_5\">\n      <g>\n       <use style=\"stroke:#000000;stroke-width:0.8;\" x=\"258.904459\" xlink:href=\"#m021d603302\" y=\"239.758125\"/>\n      </g>\n     </g>\n     <g id=\"text_5\">\n      <!-- 5 -->\n      <g transform=\"translate(255.723209 254.356562)scale(0.1 -0.1)\">\n       <use xlink:href=\"#DejaVuSans-53\"/>\n      </g>\n     </g>\n    </g>\n    <g id=\"xtick_6\">\n     <g id=\"line2d_6\">\n      <g>\n       <use style=\"stroke:#000000;stroke-width:0.8;\" x=\"304.460848\" xlink:href=\"#m021d603302\" y=\"239.758125\"/>\n      </g>\n     </g>\n     <g id=\"text_6\">\n      <!-- 10 -->\n      <g transform=\"translate(298.098348 254.356562)scale(0.1 -0.1)\">\n       <use xlink:href=\"#DejaVuSans-49\"/>\n       <use x=\"63.623047\" xlink:href=\"#DejaVuSans-48\"/>\n      </g>\n     </g>\n    </g>\n    <g id=\"xtick_7\">\n     <g id=\"line2d_7\">\n      <g>\n       <use style=\"stroke:#000000;stroke-width:0.8;\" x=\"350.017238\" xlink:href=\"#m021d603302\" y=\"239.758125\"/>\n      </g>\n     </g>\n     <g id=\"text_7\">\n      <!-- 15 -->\n      <g transform=\"translate(343.654738 254.356562)scale(0.1 -0.1)\">\n       <use xlink:href=\"#DejaVuSans-49\"/>\n       <use x=\"63.623047\" xlink:href=\"#DejaVuSans-53\"/>\n      </g>\n     </g>\n    </g>\n    <g id=\"text_8\">\n     <!-- Dim-1 -->\n     <defs>\n      <path d=\"M 19.671875 64.796875 \nL 19.671875 8.109375 \nL 31.59375 8.109375 \nQ 46.6875 8.109375 53.6875 14.9375 \nQ 60.6875 21.78125 60.6875 36.53125 \nQ 60.6875 51.171875 53.6875 57.984375 \nQ 46.6875 64.796875 31.59375 64.796875 \nz\nM 9.8125 72.90625 \nL 30.078125 72.90625 \nQ 51.265625 72.90625 61.171875 64.09375 \nQ 71.09375 55.28125 71.09375 36.53125 \nQ 71.09375 17.671875 61.125 8.828125 \nQ 51.171875 0 30.078125 0 \nL 9.8125 0 \nz\n\" id=\"DejaVuSans-68\"/>\n      <path d=\"M 9.421875 54.6875 \nL 18.40625 54.6875 \nL 18.40625 0 \nL 9.421875 0 \nz\nM 9.421875 75.984375 \nL 18.40625 75.984375 \nL 18.40625 64.59375 \nL 9.421875 64.59375 \nz\n\" id=\"DejaVuSans-105\"/>\n      <path d=\"M 52 44.1875 \nQ 55.375 50.25 60.0625 53.125 \nQ 64.75 56 71.09375 56 \nQ 79.640625 56 84.28125 50.015625 \nQ 88.921875 44.046875 88.921875 33.015625 \nL 88.921875 0 \nL 79.890625 0 \nL 79.890625 32.71875 \nQ 79.890625 40.578125 77.09375 44.375 \nQ 74.3125 48.1875 68.609375 48.1875 \nQ 61.625 48.1875 57.5625 43.546875 \nQ 53.515625 38.921875 53.515625 30.90625 \nL 53.515625 0 \nL 44.484375 0 \nL 44.484375 32.71875 \nQ 44.484375 40.625 41.703125 44.40625 \nQ 38.921875 48.1875 33.109375 48.1875 \nQ 26.21875 48.1875 22.15625 43.53125 \nQ 18.109375 38.875 18.109375 30.90625 \nL 18.109375 0 \nL 9.078125 0 \nL 9.078125 54.6875 \nL 18.109375 54.6875 \nL 18.109375 46.1875 \nQ 21.1875 51.21875 25.484375 53.609375 \nQ 29.78125 56 35.6875 56 \nQ 41.65625 56 45.828125 52.96875 \nQ 50 49.953125 52 44.1875 \nz\n\" id=\"DejaVuSans-109\"/>\n      <path d=\"M 4.890625 31.390625 \nL 31.203125 31.390625 \nL 31.203125 23.390625 \nL 4.890625 23.390625 \nz\n\" id=\"DejaVuSans-45\"/>\n     </defs>\n     <g transform=\"translate(201.288281 268.034687)scale(0.1 -0.1)\">\n      <use xlink:href=\"#DejaVuSans-68\"/>\n      <use x=\"77.001953\" xlink:href=\"#DejaVuSans-105\"/>\n      <use x=\"104.785156\" xlink:href=\"#DejaVuSans-109\"/>\n      <use x=\"202.197266\" xlink:href=\"#DejaVuSans-45\"/>\n      <use x=\"238.28125\" xlink:href=\"#DejaVuSans-49\"/>\n     </g>\n    </g>\n   </g>\n   <g id=\"matplotlib.axis_2\">\n    <g id=\"ytick_1\">\n     <g id=\"line2d_8\">\n      <defs>\n       <path d=\"M 0 0 \nL -3.5 0 \n\" id=\"m19f7d95c64\" style=\"stroke:#000000;stroke-width:0.8;\"/>\n      </defs>\n      <g>\n       <use style=\"stroke:#000000;stroke-width:0.8;\" x=\"48.982813\" xlink:href=\"#m19f7d95c64\" y=\"231.052454\"/>\n      </g>\n     </g>\n     <g id=\"text_9\">\n      <!-- −20 -->\n      <defs>\n       <path d=\"M 19.1875 8.296875 \nL 53.609375 8.296875 \nL 53.609375 0 \nL 7.328125 0 \nL 7.328125 8.296875 \nQ 12.9375 14.109375 22.625 23.890625 \nQ 32.328125 33.6875 34.8125 36.53125 \nQ 39.546875 41.84375 41.421875 45.53125 \nQ 43.3125 49.21875 43.3125 52.78125 \nQ 43.3125 58.59375 39.234375 62.25 \nQ 35.15625 65.921875 28.609375 65.921875 \nQ 23.96875 65.921875 18.8125 64.3125 \nQ 13.671875 62.703125 7.8125 59.421875 \nL 7.8125 69.390625 \nQ 13.765625 71.78125 18.9375 73 \nQ 24.125 74.21875 28.421875 74.21875 \nQ 39.75 74.21875 46.484375 68.546875 \nQ 53.21875 62.890625 53.21875 53.421875 \nQ 53.21875 48.921875 51.53125 44.890625 \nQ 49.859375 40.875 45.40625 35.40625 \nQ 44.1875 33.984375 37.640625 27.21875 \nQ 31.109375 20.453125 19.1875 8.296875 \nz\n\" id=\"DejaVuSans-50\"/>\n      </defs>\n      <g transform=\"translate(20.878125 234.851673)scale(0.1 -0.1)\">\n       <use xlink:href=\"#DejaVuSans-8722\"/>\n       <use x=\"83.789062\" xlink:href=\"#DejaVuSans-50\"/>\n       <use x=\"147.412109\" xlink:href=\"#DejaVuSans-48\"/>\n      </g>\n     </g>\n    </g>\n    <g id=\"ytick_2\">\n     <g id=\"line2d_9\">\n      <g>\n       <use style=\"stroke:#000000;stroke-width:0.8;\" x=\"48.982813\" xlink:href=\"#m19f7d95c64\" y=\"183.331651\"/>\n      </g>\n     </g>\n     <g id=\"text_10\">\n      <!-- −10 -->\n      <g transform=\"translate(20.878125 187.13087)scale(0.1 -0.1)\">\n       <use xlink:href=\"#DejaVuSans-8722\"/>\n       <use x=\"83.789062\" xlink:href=\"#DejaVuSans-49\"/>\n       <use x=\"147.412109\" xlink:href=\"#DejaVuSans-48\"/>\n      </g>\n     </g>\n    </g>\n    <g id=\"ytick_3\">\n     <g id=\"line2d_10\">\n      <g>\n       <use style=\"stroke:#000000;stroke-width:0.8;\" x=\"48.982813\" xlink:href=\"#m19f7d95c64\" y=\"135.610848\"/>\n      </g>\n     </g>\n     <g id=\"text_11\">\n      <!-- 0 -->\n      <g transform=\"translate(35.620312 139.410067)scale(0.1 -0.1)\">\n       <use xlink:href=\"#DejaVuSans-48\"/>\n      </g>\n     </g>\n    </g>\n    <g id=\"ytick_4\">\n     <g id=\"line2d_11\">\n      <g>\n       <use style=\"stroke:#000000;stroke-width:0.8;\" x=\"48.982813\" xlink:href=\"#m19f7d95c64\" y=\"87.890045\"/>\n      </g>\n     </g>\n     <g id=\"text_12\">\n      <!-- 10 -->\n      <g transform=\"translate(29.257812 91.689264)scale(0.1 -0.1)\">\n       <use xlink:href=\"#DejaVuSans-49\"/>\n       <use x=\"63.623047\" xlink:href=\"#DejaVuSans-48\"/>\n      </g>\n     </g>\n    </g>\n    <g id=\"ytick_5\">\n     <g id=\"line2d_12\">\n      <g>\n       <use style=\"stroke:#000000;stroke-width:0.8;\" x=\"48.982813\" xlink:href=\"#m19f7d95c64\" y=\"40.169243\"/>\n      </g>\n     </g>\n     <g id=\"text_13\">\n      <!-- 20 -->\n      <g transform=\"translate(29.257812 43.968461)scale(0.1 -0.1)\">\n       <use xlink:href=\"#DejaVuSans-50\"/>\n       <use x=\"63.623047\" xlink:href=\"#DejaVuSans-48\"/>\n      </g>\n     </g>\n    </g>\n    <g id=\"text_14\">\n     <!-- Dim-2 -->\n     <g transform=\"translate(14.798437 146.132656)rotate(-90)scale(0.1 -0.1)\">\n      <use xlink:href=\"#DejaVuSans-68\"/>\n      <use x=\"77.001953\" xlink:href=\"#DejaVuSans-105\"/>\n      <use x=\"104.785156\" xlink:href=\"#DejaVuSans-109\"/>\n      <use x=\"202.197266\" xlink:href=\"#DejaVuSans-45\"/>\n      <use x=\"238.28125\" xlink:href=\"#DejaVuSans-50\"/>\n     </g>\n    </g>\n   </g>\n   <g id=\"line2d_13\">\n    <defs>\n     <path d=\"M -3 3 \nL 3 3 \nL 3 -3 \nL -3 -3 \nz\n\" id=\"m952581c464\" style=\"stroke:#0000ff;stroke-linejoin:miter;\"/>\n    </defs>\n    <g clip-path=\"url(#p37485d1ff8)\">\n     <use style=\"fill:#0000ff;stroke:#0000ff;stroke-linejoin:miter;\" x=\"286.636909\" xlink:href=\"#m952581c464\" y=\"143.21657\"/>\n     <use style=\"fill:#0000ff;stroke:#0000ff;stroke-linejoin:miter;\" x=\"270.65553\" xlink:href=\"#m952581c464\" y=\"130.869821\"/>\n     <use style=\"fill:#0000ff;stroke:#0000ff;stroke-linejoin:miter;\" x=\"292.79394\" xlink:href=\"#m952581c464\" y=\"120.794837\"/>\n     <use style=\"fill:#0000ff;stroke:#0000ff;stroke-linejoin:miter;\" x=\"298.825082\" xlink:href=\"#m952581c464\" y=\"119.619647\"/>\n     <use style=\"fill:#0000ff;stroke:#0000ff;stroke-linejoin:miter;\" x=\"306.522029\" xlink:href=\"#m952581c464\" y=\"125.469599\"/>\n     <use style=\"fill:#0000ff;stroke:#0000ff;stroke-linejoin:miter;\" x=\"310.234912\" xlink:href=\"#m952581c464\" y=\"117.700198\"/>\n     <use style=\"fill:#0000ff;stroke:#0000ff;stroke-linejoin:miter;\" x=\"263.030704\" xlink:href=\"#m952581c464\" y=\"114.497924\"/>\n     <use style=\"fill:#0000ff;stroke:#0000ff;stroke-linejoin:miter;\" x=\"286.618697\" xlink:href=\"#m952581c464\" y=\"115.010406\"/>\n     <use style=\"fill:#0000ff;stroke:#0000ff;stroke-linejoin:miter;\" x=\"290.918039\" xlink:href=\"#m952581c464\" y=\"104.362587\"/>\n     <use style=\"fill:#0000ff;stroke:#0000ff;stroke-linejoin:miter;\" x=\"306.211034\" xlink:href=\"#m952581c464\" y=\"114.815197\"/>\n     <use style=\"fill:#0000ff;stroke:#0000ff;stroke-linejoin:miter;\" x=\"257.212438\" xlink:href=\"#m952581c464\" y=\"107.305163\"/>\n     <use style=\"fill:#0000ff;stroke:#0000ff;stroke-linejoin:miter;\" x=\"299.872355\" xlink:href=\"#m952581c464\" y=\"112.300009\"/>\n     <use style=\"fill:#0000ff;stroke:#0000ff;stroke-linejoin:miter;\" x=\"275.230294\" xlink:href=\"#m952581c464\" y=\"103.897715\"/>\n     <use style=\"fill:#0000ff;stroke:#0000ff;stroke-linejoin:miter;\" x=\"257.437541\" xlink:href=\"#m952581c464\" y=\"106.992529\"/>\n     <use style=\"fill:#0000ff;stroke:#0000ff;stroke-linejoin:miter;\" x=\"265.163479\" xlink:href=\"#m952581c464\" y=\"101.376316\"/>\n     <use style=\"fill:#0000ff;stroke:#0000ff;stroke-linejoin:miter;\" x=\"271.02894\" xlink:href=\"#m952581c464\" y=\"103.498776\"/>\n     <use style=\"fill:#0000ff;stroke:#0000ff;stroke-linejoin:miter;\" x=\"261.387956\" xlink:href=\"#m952581c464\" y=\"90.197863\"/>\n     <use style=\"fill:#0000ff;stroke:#0000ff;stroke-linejoin:miter;\" x=\"266.202689\" xlink:href=\"#m952581c464\" y=\"94.989367\"/>\n     <use style=\"fill:#0000ff;stroke:#0000ff;stroke-linejoin:miter;\" x=\"249.186899\" xlink:href=\"#m952581c464\" y=\"87.914052\"/>\n     <use style=\"fill:#0000ff;stroke:#0000ff;stroke-linejoin:miter;\" x=\"244.317402\" xlink:href=\"#m952581c464\" y=\"89.601626\"/>\n     <use style=\"fill:#0000ff;stroke:#0000ff;stroke-linejoin:miter;\" x=\"215.940902\" xlink:href=\"#m952581c464\" y=\"91.444385\"/>\n     <use style=\"fill:#0000ff;stroke:#0000ff;stroke-linejoin:miter;\" x=\"183.293432\" xlink:href=\"#m952581c464\" y=\"87.527735\"/>\n     <use style=\"fill:#0000ff;stroke:#0000ff;stroke-linejoin:miter;\" x=\"235.665552\" xlink:href=\"#m952581c464\" y=\"89.635508\"/>\n     <use style=\"fill:#0000ff;stroke:#0000ff;stroke-linejoin:miter;\" x=\"239.770532\" xlink:href=\"#m952581c464\" y=\"90.868577\"/>\n     <use style=\"fill:#0000ff;stroke:#0000ff;stroke-linejoin:miter;\" x=\"234.688252\" xlink:href=\"#m952581c464\" y=\"90.507209\"/>\n     <use style=\"fill:#0000ff;stroke:#0000ff;stroke-linejoin:miter;\" x=\"209.124096\" xlink:href=\"#m952581c464\" y=\"77.470835\"/>\n     <use style=\"fill:#0000ff;stroke:#0000ff;stroke-linejoin:miter;\" x=\"225.267721\" xlink:href=\"#m952581c464\" y=\"85.095215\"/>\n     <use style=\"fill:#0000ff;stroke:#0000ff;stroke-linejoin:miter;\" x=\"205.377427\" xlink:href=\"#m952581c464\" y=\"83.582419\"/>\n     <use style=\"fill:#0000ff;stroke:#0000ff;stroke-linejoin:miter;\" x=\"153.365787\" xlink:href=\"#m952581c464\" y=\"90.534892\"/>\n     <use style=\"fill:#0000ff;stroke:#0000ff;stroke-linejoin:miter;\" x=\"180.271698\" xlink:href=\"#m952581c464\" y=\"89.706704\"/>\n     <use style=\"fill:#0000ff;stroke:#0000ff;stroke-linejoin:miter;\" x=\"193.849451\" xlink:href=\"#m952581c464\" y=\"92.293621\"/>\n     <use style=\"fill:#0000ff;stroke:#0000ff;stroke-linejoin:miter;\" x=\"150.274038\" xlink:href=\"#m952581c464\" y=\"89.401691\"/>\n     <use style=\"fill:#0000ff;stroke:#0000ff;stroke-linejoin:miter;\" x=\"202.812574\" xlink:href=\"#m952581c464\" y=\"88.0468\"/>\n     <use style=\"fill:#0000ff;stroke:#0000ff;stroke-linejoin:miter;\" x=\"168.302947\" xlink:href=\"#m952581c464\" y=\"103.999746\"/>\n     <use style=\"fill:#0000ff;stroke:#0000ff;stroke-linejoin:miter;\" x=\"171.05835\" xlink:href=\"#m952581c464\" y=\"88.823071\"/>\n     <use style=\"fill:#0000ff;stroke:#0000ff;stroke-linejoin:miter;\" x=\"157.992035\" xlink:href=\"#m952581c464\" y=\"95.714097\"/>\n     <use style=\"fill:#0000ff;stroke:#0000ff;stroke-linejoin:miter;\" x=\"199.370547\" xlink:href=\"#m952581c464\" y=\"105.242208\"/>\n     <use style=\"fill:#0000ff;stroke:#0000ff;stroke-linejoin:miter;\" x=\"97.077386\" xlink:href=\"#m952581c464\" y=\"96.065663\"/>\n     <use style=\"fill:#0000ff;stroke:#0000ff;stroke-linejoin:miter;\" x=\"223.129806\" xlink:href=\"#m952581c464\" y=\"98.750911\"/>\n     <use style=\"fill:#0000ff;stroke:#0000ff;stroke-linejoin:miter;\" x=\"167.319626\" xlink:href=\"#m952581c464\" y=\"102.258366\"/>\n     <use style=\"fill:#0000ff;stroke:#0000ff;stroke-linejoin:miter;\" x=\"198.463459\" xlink:href=\"#m952581c464\" y=\"112.050595\"/>\n     <use style=\"fill:#0000ff;stroke:#0000ff;stroke-linejoin:miter;\" x=\"117.241368\" xlink:href=\"#m952581c464\" y=\"110.060111\"/>\n     <use style=\"fill:#0000ff;stroke:#0000ff;stroke-linejoin:miter;\" x=\"99.123395\" xlink:href=\"#m952581c464\" y=\"112.633168\"/>\n     <use style=\"fill:#0000ff;stroke:#0000ff;stroke-linejoin:miter;\" x=\"125.966698\" xlink:href=\"#m952581c464\" y=\"119.290853\"/>\n     <use style=\"fill:#0000ff;stroke:#0000ff;stroke-linejoin:miter;\" x=\"165.878971\" xlink:href=\"#m952581c464\" y=\"122.225576\"/>\n     <use style=\"fill:#0000ff;stroke:#0000ff;stroke-linejoin:miter;\" x=\"130.834331\" xlink:href=\"#m952581c464\" y=\"126.143117\"/>\n     <use style=\"fill:#0000ff;stroke:#0000ff;stroke-linejoin:miter;\" x=\"92.430788\" xlink:href=\"#m952581c464\" y=\"122.396503\"/>\n     <use style=\"fill:#0000ff;stroke:#0000ff;stroke-linejoin:miter;\" x=\"97.898853\" xlink:href=\"#m952581c464\" y=\"124.471563\"/>\n     <use style=\"fill:#0000ff;stroke:#0000ff;stroke-linejoin:miter;\" x=\"125.717483\" xlink:href=\"#m952581c464\" y=\"124.384063\"/>\n     <use style=\"fill:#0000ff;stroke:#0000ff;stroke-linejoin:miter;\" x=\"92.079154\" xlink:href=\"#m952581c464\" y=\"135.047866\"/>\n     <use style=\"fill:#0000ff;stroke:#0000ff;stroke-linejoin:miter;\" x=\"157.04324\" xlink:href=\"#m952581c464\" y=\"148.400479\"/>\n     <use style=\"fill:#0000ff;stroke:#0000ff;stroke-linejoin:miter;\" x=\"144.341423\" xlink:href=\"#m952581c464\" y=\"135.63209\"/>\n     <use style=\"fill:#0000ff;stroke:#0000ff;stroke-linejoin:miter;\" x=\"116.186161\" xlink:href=\"#m952581c464\" y=\"138.249756\"/>\n     <use style=\"fill:#0000ff;stroke:#0000ff;stroke-linejoin:miter;\" x=\"120.878281\" xlink:href=\"#m952581c464\" y=\"140.888087\"/>\n     <use style=\"fill:#0000ff;stroke:#0000ff;stroke-linejoin:miter;\" x=\"83.736643\" xlink:href=\"#m952581c464\" y=\"141.704086\"/>\n     <use style=\"fill:#0000ff;stroke:#0000ff;stroke-linejoin:miter;\" x=\"110.230484\" xlink:href=\"#m952581c464\" y=\"148.911453\"/>\n     <use style=\"fill:#0000ff;stroke:#0000ff;stroke-linejoin:miter;\" x=\"95.741066\" xlink:href=\"#m952581c464\" y=\"154.279195\"/>\n     <use style=\"fill:#0000ff;stroke:#0000ff;stroke-linejoin:miter;\" x=\"190.603414\" xlink:href=\"#m952581c464\" y=\"162.177524\"/>\n     <use style=\"fill:#0000ff;stroke:#0000ff;stroke-linejoin:miter;\" x=\"127.617609\" xlink:href=\"#m952581c464\" y=\"164.58294\"/>\n     <use style=\"fill:#0000ff;stroke:#0000ff;stroke-linejoin:miter;\" x=\"200.641543\" xlink:href=\"#m952581c464\" y=\"171.09337\"/>\n     <use style=\"fill:#0000ff;stroke:#0000ff;stroke-linejoin:miter;\" x=\"120.2152\" xlink:href=\"#m952581c464\" y=\"174.573992\"/>\n     <use style=\"fill:#0000ff;stroke:#0000ff;stroke-linejoin:miter;\" x=\"115.961163\" xlink:href=\"#m952581c464\" y=\"169.043269\"/>\n     <use style=\"fill:#0000ff;stroke:#0000ff;stroke-linejoin:miter;\" x=\"169.106819\" xlink:href=\"#m952581c464\" y=\"168.875503\"/>\n     <use style=\"fill:#0000ff;stroke:#0000ff;stroke-linejoin:miter;\" x=\"125.97225\" xlink:href=\"#m952581c464\" y=\"171.302653\"/>\n     <use style=\"fill:#0000ff;stroke:#0000ff;stroke-linejoin:miter;\" x=\"162.858221\" xlink:href=\"#m952581c464\" y=\"174.396215\"/>\n     <use style=\"fill:#0000ff;stroke:#0000ff;stroke-linejoin:miter;\" x=\"183.747483\" xlink:href=\"#m952581c464\" y=\"169.877199\"/>\n     <use style=\"fill:#0000ff;stroke:#0000ff;stroke-linejoin:miter;\" x=\"184.060062\" xlink:href=\"#m952581c464\" y=\"185.593986\"/>\n     <use style=\"fill:#0000ff;stroke:#0000ff;stroke-linejoin:miter;\" x=\"213.777772\" xlink:href=\"#m952581c464\" y=\"179.089855\"/>\n     <use style=\"fill:#0000ff;stroke:#0000ff;stroke-linejoin:miter;\" x=\"116.329185\" xlink:href=\"#m952581c464\" y=\"172.619073\"/>\n     <use style=\"fill:#0000ff;stroke:#0000ff;stroke-linejoin:miter;\" x=\"206.091606\" xlink:href=\"#m952581c464\" y=\"180.122838\"/>\n     <use style=\"fill:#0000ff;stroke:#0000ff;stroke-linejoin:miter;\" x=\"183.734958\" xlink:href=\"#m952581c464\" y=\"187.119079\"/>\n     <use style=\"fill:#0000ff;stroke:#0000ff;stroke-linejoin:miter;\" x=\"171.322797\" xlink:href=\"#m952581c464\" y=\"181.68105\"/>\n     <use style=\"fill:#0000ff;stroke:#0000ff;stroke-linejoin:miter;\" x=\"223.713148\" xlink:href=\"#m952581c464\" y=\"188.170149\"/>\n     <use style=\"fill:#0000ff;stroke:#0000ff;stroke-linejoin:miter;\" x=\"236.615765\" xlink:href=\"#m952581c464\" y=\"182.681539\"/>\n     <use style=\"fill:#0000ff;stroke:#0000ff;stroke-linejoin:miter;\" x=\"201.704367\" xlink:href=\"#m952581c464\" y=\"185.178005\"/>\n     <use style=\"fill:#0000ff;stroke:#0000ff;stroke-linejoin:miter;\" x=\"191.605854\" xlink:href=\"#m952581c464\" y=\"183.410825\"/>\n     <use style=\"fill:#0000ff;stroke:#0000ff;stroke-linejoin:miter;\" x=\"224.49414\" xlink:href=\"#m952581c464\" y=\"187.934033\"/>\n     <use style=\"fill:#0000ff;stroke:#0000ff;stroke-linejoin:miter;\" x=\"265.771596\" xlink:href=\"#m952581c464\" y=\"182.84488\"/>\n     <use style=\"fill:#0000ff;stroke:#0000ff;stroke-linejoin:miter;\" x=\"214.432691\" xlink:href=\"#m952581c464\" y=\"182.192483\"/>\n     <use style=\"fill:#0000ff;stroke:#0000ff;stroke-linejoin:miter;\" x=\"236.916726\" xlink:href=\"#m952581c464\" y=\"187.048043\"/>\n     <use style=\"fill:#0000ff;stroke:#0000ff;stroke-linejoin:miter;\" x=\"285.679338\" xlink:href=\"#m952581c464\" y=\"175.82227\"/>\n     <use style=\"fill:#0000ff;stroke:#0000ff;stroke-linejoin:miter;\" x=\"223.909123\" xlink:href=\"#m952581c464\" y=\"178.634462\"/>\n     <use style=\"fill:#0000ff;stroke:#0000ff;stroke-linejoin:miter;\" x=\"243.514529\" xlink:href=\"#m952581c464\" y=\"178.903541\"/>\n     <use style=\"fill:#0000ff;stroke:#0000ff;stroke-linejoin:miter;\" x=\"273.458594\" xlink:href=\"#m952581c464\" y=\"179.208732\"/>\n     <use style=\"fill:#0000ff;stroke:#0000ff;stroke-linejoin:miter;\" x=\"261.946201\" xlink:href=\"#m952581c464\" y=\"174.261765\"/>\n     <use style=\"fill:#0000ff;stroke:#0000ff;stroke-linejoin:miter;\" x=\"278.611189\" xlink:href=\"#m952581c464\" y=\"175.136715\"/>\n     <use style=\"fill:#0000ff;stroke:#0000ff;stroke-linejoin:miter;\" x=\"262.322591\" xlink:href=\"#m952581c464\" y=\"178.663616\"/>\n     <use style=\"fill:#0000ff;stroke:#0000ff;stroke-linejoin:miter;\" x=\"263.936074\" xlink:href=\"#m952581c464\" y=\"170.548753\"/>\n     <use style=\"fill:#0000ff;stroke:#0000ff;stroke-linejoin:miter;\" x=\"317.909884\" xlink:href=\"#m952581c464\" y=\"162.866169\"/>\n     <use style=\"fill:#0000ff;stroke:#0000ff;stroke-linejoin:miter;\" x=\"328.338365\" xlink:href=\"#m952581c464\" y=\"170.898402\"/>\n     <use style=\"fill:#0000ff;stroke:#0000ff;stroke-linejoin:miter;\" x=\"283.897694\" xlink:href=\"#m952581c464\" y=\"164.761358\"/>\n     <use style=\"fill:#0000ff;stroke:#0000ff;stroke-linejoin:miter;\" x=\"323.081552\" xlink:href=\"#m952581c464\" y=\"167.513711\"/>\n     <use style=\"fill:#0000ff;stroke:#0000ff;stroke-linejoin:miter;\" x=\"368.564631\" xlink:href=\"#m952581c464\" y=\"164.716257\"/>\n     <use style=\"fill:#0000ff;stroke:#0000ff;stroke-linejoin:miter;\" x=\"289.663415\" xlink:href=\"#m952581c464\" y=\"161.693253\"/>\n     <use style=\"fill:#0000ff;stroke:#0000ff;stroke-linejoin:miter;\" x=\"288.323047\" xlink:href=\"#m952581c464\" y=\"147.669167\"/>\n     <use style=\"fill:#0000ff;stroke:#0000ff;stroke-linejoin:miter;\" x=\"291.50973\" xlink:href=\"#m952581c464\" y=\"149.874062\"/>\n     <use style=\"fill:#0000ff;stroke:#0000ff;stroke-linejoin:miter;\" x=\"301.748813\" xlink:href=\"#m952581c464\" y=\"137.021933\"/>\n     <use style=\"fill:#0000ff;stroke:#0000ff;stroke-linejoin:miter;\" x=\"267.418163\" xlink:href=\"#m952581c464\" y=\"143.755354\"/>\n     <use style=\"fill:#0000ff;stroke:#0000ff;stroke-linejoin:miter;\" x=\"330.23903\" xlink:href=\"#m952581c464\" y=\"141.434371\"/>\n     <use style=\"fill:#0000ff;stroke:#0000ff;stroke-linejoin:miter;\" x=\"254.155111\" xlink:href=\"#m952581c464\" y=\"140.11271\"/>\n     <use style=\"fill:#0000ff;stroke:#0000ff;stroke-linejoin:miter;\" x=\"313.896207\" xlink:href=\"#m952581c464\" y=\"129.945022\"/>\n     <use style=\"fill:#0000ff;stroke:#0000ff;stroke-linejoin:miter;\" x=\"271.721377\" xlink:href=\"#m952581c464\" y=\"130.676923\"/>\n     <use style=\"fill:#0000ff;stroke:#0000ff;stroke-linejoin:miter;\" x=\"332.000225\" xlink:href=\"#m952581c464\" y=\"129.448059\"/>\n     <use style=\"fill:#0000ff;stroke:#0000ff;stroke-linejoin:miter;\" x=\"279.053526\" xlink:href=\"#m952581c464\" y=\"119.886022\"/>\n     <use style=\"fill:#0000ff;stroke:#0000ff;stroke-linejoin:miter;\" x=\"257.472063\" xlink:href=\"#m952581c464\" y=\"125.171263\"/>\n     <use style=\"fill:#0000ff;stroke:#0000ff;stroke-linejoin:miter;\" x=\"291.548032\" xlink:href=\"#m952581c464\" y=\"112.932153\"/>\n     <use style=\"fill:#0000ff;stroke:#0000ff;stroke-linejoin:miter;\" x=\"304.70703\" xlink:href=\"#m952581c464\" y=\"116.264344\"/>\n     <use style=\"fill:#0000ff;stroke:#0000ff;stroke-linejoin:miter;\" x=\"288.528172\" xlink:href=\"#m952581c464\" y=\"124.31974\"/>\n     <use style=\"fill:#0000ff;stroke:#0000ff;stroke-linejoin:miter;\" x=\"318.386078\" xlink:href=\"#m952581c464\" y=\"111.851243\"/>\n     <use style=\"fill:#0000ff;stroke:#0000ff;stroke-linejoin:miter;\" x=\"313.343601\" xlink:href=\"#m952581c464\" y=\"108.003516\"/>\n     <use style=\"fill:#0000ff;stroke:#0000ff;stroke-linejoin:miter;\" x=\"243.322898\" xlink:href=\"#m952581c464\" y=\"106.622767\"/>\n     <use style=\"fill:#0000ff;stroke:#0000ff;stroke-linejoin:miter;\" x=\"288.420166\" xlink:href=\"#m952581c464\" y=\"100.677427\"/>\n     <use style=\"fill:#0000ff;stroke:#0000ff;stroke-linejoin:miter;\" x=\"291.463912\" xlink:href=\"#m952581c464\" y=\"96.100901\"/>\n     <use style=\"fill:#0000ff;stroke:#0000ff;stroke-linejoin:miter;\" x=\"258.315714\" xlink:href=\"#m952581c464\" y=\"112.971679\"/>\n     <use style=\"fill:#0000ff;stroke:#0000ff;stroke-linejoin:miter;\" x=\"250.610834\" xlink:href=\"#m952581c464\" y=\"100.53645\"/>\n     <use style=\"fill:#0000ff;stroke:#0000ff;stroke-linejoin:miter;\" x=\"284.156149\" xlink:href=\"#m952581c464\" y=\"93.146531\"/>\n     <use style=\"fill:#0000ff;stroke:#0000ff;stroke-linejoin:miter;\" x=\"264.419258\" xlink:href=\"#m952581c464\" y=\"90.323029\"/>\n     <use style=\"fill:#0000ff;stroke:#0000ff;stroke-linejoin:miter;\" x=\"264.684596\" xlink:href=\"#m952581c464\" y=\"88.269668\"/>\n     <use style=\"fill:#0000ff;stroke:#0000ff;stroke-linejoin:miter;\" x=\"248.87527\" xlink:href=\"#m952581c464\" y=\"86.865012\"/>\n     <use style=\"fill:#0000ff;stroke:#0000ff;stroke-linejoin:miter;\" x=\"233.096392\" xlink:href=\"#m952581c464\" y=\"94.870326\"/>\n     <use style=\"fill:#0000ff;stroke:#0000ff;stroke-linejoin:miter;\" x=\"208.125559\" xlink:href=\"#m952581c464\" y=\"83.512574\"/>\n     <use style=\"fill:#0000ff;stroke:#0000ff;stroke-linejoin:miter;\" x=\"261.348468\" xlink:href=\"#m952581c464\" y=\"92.587607\"/>\n     <use style=\"fill:#0000ff;stroke:#0000ff;stroke-linejoin:miter;\" x=\"228.098546\" xlink:href=\"#m952581c464\" y=\"90.066857\"/>\n     <use style=\"fill:#0000ff;stroke:#0000ff;stroke-linejoin:miter;\" x=\"200.725338\" xlink:href=\"#m952581c464\" y=\"84.79448\"/>\n     <use style=\"fill:#0000ff;stroke:#0000ff;stroke-linejoin:miter;\" x=\"222.520583\" xlink:href=\"#m952581c464\" y=\"90.116873\"/>\n     <use style=\"fill:#0000ff;stroke:#0000ff;stroke-linejoin:miter;\" x=\"252.932182\" xlink:href=\"#m952581c464\" y=\"86.152702\"/>\n     <use style=\"fill:#0000ff;stroke:#0000ff;stroke-linejoin:miter;\" x=\"174.173213\" xlink:href=\"#m952581c464\" y=\"92.015545\"/>\n     <use style=\"fill:#0000ff;stroke:#0000ff;stroke-linejoin:miter;\" x=\"126.113867\" xlink:href=\"#m952581c464\" y=\"85.507619\"/>\n     <use style=\"fill:#0000ff;stroke:#0000ff;stroke-linejoin:miter;\" x=\"166.966723\" xlink:href=\"#m952581c464\" y=\"91.832267\"/>\n     <use style=\"fill:#0000ff;stroke:#0000ff;stroke-linejoin:miter;\" x=\"184.715683\" xlink:href=\"#m952581c464\" y=\"101.936104\"/>\n     <use style=\"fill:#0000ff;stroke:#0000ff;stroke-linejoin:miter;\" x=\"153.195423\" xlink:href=\"#m952581c464\" y=\"97.410609\"/>\n     <use style=\"fill:#0000ff;stroke:#0000ff;stroke-linejoin:miter;\" x=\"165.359748\" xlink:href=\"#m952581c464\" y=\"90.412088\"/>\n     <use style=\"fill:#0000ff;stroke:#0000ff;stroke-linejoin:miter;\" x=\"192.798721\" xlink:href=\"#m952581c464\" y=\"88.919438\"/>\n     <use style=\"fill:#0000ff;stroke:#0000ff;stroke-linejoin:miter;\" x=\"158.707107\" xlink:href=\"#m952581c464\" y=\"98.705931\"/>\n     <use style=\"fill:#0000ff;stroke:#0000ff;stroke-linejoin:miter;\" x=\"151.727518\" xlink:href=\"#m952581c464\" y=\"99.367778\"/>\n     <use style=\"fill:#0000ff;stroke:#0000ff;stroke-linejoin:miter;\" x=\"190.862139\" xlink:href=\"#m952581c464\" y=\"102.265534\"/>\n     <use style=\"fill:#0000ff;stroke:#0000ff;stroke-linejoin:miter;\" x=\"176.756431\" xlink:href=\"#m952581c464\" y=\"88.80975\"/>\n     <use style=\"fill:#0000ff;stroke:#0000ff;stroke-linejoin:miter;\" x=\"113.67594\" xlink:href=\"#m952581c464\" y=\"106.446126\"/>\n     <use style=\"fill:#0000ff;stroke:#0000ff;stroke-linejoin:miter;\" x=\"131.632476\" xlink:href=\"#m952581c464\" y=\"100.008633\"/>\n     <use style=\"fill:#0000ff;stroke:#0000ff;stroke-linejoin:miter;\" x=\"169.193519\" xlink:href=\"#m952581c464\" y=\"99.11765\"/>\n     <use style=\"fill:#0000ff;stroke:#0000ff;stroke-linejoin:miter;\" x=\"144.299802\" xlink:href=\"#m952581c464\" y=\"105.258392\"/>\n     <use style=\"fill:#0000ff;stroke:#0000ff;stroke-linejoin:miter;\" x=\"99.158473\" xlink:href=\"#m952581c464\" y=\"111.731669\"/>\n     <use style=\"fill:#0000ff;stroke:#0000ff;stroke-linejoin:miter;\" x=\"100.823157\" xlink:href=\"#m952581c464\" y=\"118.245238\"/>\n     <use style=\"fill:#0000ff;stroke:#0000ff;stroke-linejoin:miter;\" x=\"111.390605\" xlink:href=\"#m952581c464\" y=\"119.059005\"/>\n     <use style=\"fill:#0000ff;stroke:#0000ff;stroke-linejoin:miter;\" x=\"137.436257\" xlink:href=\"#m952581c464\" y=\"127.459195\"/>\n     <use style=\"fill:#0000ff;stroke:#0000ff;stroke-linejoin:miter;\" x=\"179.695518\" xlink:href=\"#m952581c464\" y=\"117.455738\"/>\n     <use style=\"fill:#0000ff;stroke:#0000ff;stroke-linejoin:miter;\" x=\"91.017908\" xlink:href=\"#m952581c464\" y=\"123.637945\"/>\n     <use style=\"fill:#0000ff;stroke:#0000ff;stroke-linejoin:miter;\" x=\"127.157134\" xlink:href=\"#m952581c464\" y=\"131.802851\"/>\n     <use style=\"fill:#0000ff;stroke:#0000ff;stroke-linejoin:miter;\" x=\"157.96502\" xlink:href=\"#m952581c464\" y=\"126.314346\"/>\n     <use style=\"fill:#0000ff;stroke:#0000ff;stroke-linejoin:miter;\" x=\"101.261588\" xlink:href=\"#m952581c464\" y=\"125.927511\"/>\n     <use style=\"fill:#0000ff;stroke:#0000ff;stroke-linejoin:miter;\" x=\"107.981192\" xlink:href=\"#m952581c464\" y=\"140.424635\"/>\n     <use style=\"fill:#0000ff;stroke:#0000ff;stroke-linejoin:miter;\" x=\"145.467812\" xlink:href=\"#m952581c464\" y=\"141.051764\"/>\n     <use style=\"fill:#0000ff;stroke:#0000ff;stroke-linejoin:miter;\" x=\"66.974167\" xlink:href=\"#m952581c464\" y=\"147.61053\"/>\n     <use style=\"fill:#0000ff;stroke:#0000ff;stroke-linejoin:miter;\" x=\"126.063243\" xlink:href=\"#m952581c464\" y=\"145.896166\"/>\n     <use style=\"fill:#0000ff;stroke:#0000ff;stroke-linejoin:miter;\" x=\"99.065533\" xlink:href=\"#m952581c464\" y=\"145.834177\"/>\n     <use style=\"fill:#0000ff;stroke:#0000ff;stroke-linejoin:miter;\" x=\"115.217081\" xlink:href=\"#m952581c464\" y=\"155.705284\"/>\n     <use style=\"fill:#0000ff;stroke:#0000ff;stroke-linejoin:miter;\" x=\"121.002085\" xlink:href=\"#m952581c464\" y=\"161.032617\"/>\n     <use style=\"fill:#0000ff;stroke:#0000ff;stroke-linejoin:miter;\" x=\"155.843315\" xlink:href=\"#m952581c464\" y=\"168.491905\"/>\n     <use style=\"fill:#0000ff;stroke:#0000ff;stroke-linejoin:miter;\" x=\"138.183336\" xlink:href=\"#m952581c464\" y=\"154.636546\"/>\n     <use style=\"fill:#0000ff;stroke:#0000ff;stroke-linejoin:miter;\" x=\"121.111994\" xlink:href=\"#m952581c464\" y=\"165.51637\"/>\n     <use style=\"fill:#0000ff;stroke:#0000ff;stroke-linejoin:miter;\" x=\"168.475571\" xlink:href=\"#m952581c464\" y=\"171.521156\"/>\n     <use style=\"fill:#0000ff;stroke:#0000ff;stroke-linejoin:miter;\" x=\"131.75767\" xlink:href=\"#m952581c464\" y=\"168.821335\"/>\n     <use style=\"fill:#0000ff;stroke:#0000ff;stroke-linejoin:miter;\" x=\"145.261721\" xlink:href=\"#m952581c464\" y=\"169.733858\"/>\n     <use style=\"fill:#0000ff;stroke:#0000ff;stroke-linejoin:miter;\" x=\"135.339998\" xlink:href=\"#m952581c464\" y=\"182.141462\"/>\n     <use style=\"fill:#0000ff;stroke:#0000ff;stroke-linejoin:miter;\" x=\"180.436063\" xlink:href=\"#m952581c464\" y=\"173.691649\"/>\n     <use style=\"fill:#0000ff;stroke:#0000ff;stroke-linejoin:miter;\" x=\"159.818542\" xlink:href=\"#m952581c464\" y=\"173.344918\"/>\n     <use style=\"fill:#0000ff;stroke:#0000ff;stroke-linejoin:miter;\" x=\"172.298593\" xlink:href=\"#m952581c464\" y=\"170.25572\"/>\n     <use style=\"fill:#0000ff;stroke:#0000ff;stroke-linejoin:miter;\" x=\"167.5761\" xlink:href=\"#m952581c464\" y=\"177.044785\"/>\n     <use style=\"fill:#0000ff;stroke:#0000ff;stroke-linejoin:miter;\" x=\"204.411643\" xlink:href=\"#m952581c464\" y=\"178.601891\"/>\n     <use style=\"fill:#0000ff;stroke:#0000ff;stroke-linejoin:miter;\" x=\"151.26498\" xlink:href=\"#m952581c464\" y=\"186.195889\"/>\n     <use style=\"fill:#0000ff;stroke:#0000ff;stroke-linejoin:miter;\" x=\"218.376745\" xlink:href=\"#m952581c464\" y=\"178.118569\"/>\n     <use style=\"fill:#0000ff;stroke:#0000ff;stroke-linejoin:miter;\" x=\"209.874369\" xlink:href=\"#m952581c464\" y=\"183.173353\"/>\n     <use style=\"fill:#0000ff;stroke:#0000ff;stroke-linejoin:miter;\" x=\"211.627643\" xlink:href=\"#m952581c464\" y=\"192.028728\"/>\n     <use style=\"fill:#0000ff;stroke:#0000ff;stroke-linejoin:miter;\" x=\"214.669848\" xlink:href=\"#m952581c464\" y=\"182.703562\"/>\n     <use style=\"fill:#0000ff;stroke:#0000ff;stroke-linejoin:miter;\" x=\"218.864888\" xlink:href=\"#m952581c464\" y=\"191.039611\"/>\n     <use style=\"fill:#0000ff;stroke:#0000ff;stroke-linejoin:miter;\" x=\"196.293869\" xlink:href=\"#m952581c464\" y=\"188.417879\"/>\n     <use style=\"fill:#0000ff;stroke:#0000ff;stroke-linejoin:miter;\" x=\"241.587243\" xlink:href=\"#m952581c464\" y=\"186.714399\"/>\n     <use style=\"fill:#0000ff;stroke:#0000ff;stroke-linejoin:miter;\" x=\"243.633799\" xlink:href=\"#m952581c464\" y=\"179.663614\"/>\n     <use style=\"fill:#0000ff;stroke:#0000ff;stroke-linejoin:miter;\" x=\"227.786847\" xlink:href=\"#m952581c464\" y=\"181.395396\"/>\n     <use style=\"fill:#0000ff;stroke:#0000ff;stroke-linejoin:miter;\" x=\"251.415096\" xlink:href=\"#m952581c464\" y=\"187.983043\"/>\n     <use style=\"fill:#0000ff;stroke:#0000ff;stroke-linejoin:miter;\" x=\"255.74015\" xlink:href=\"#m952581c464\" y=\"182.571441\"/>\n     <use style=\"fill:#0000ff;stroke:#0000ff;stroke-linejoin:miter;\" x=\"257.304422\" xlink:href=\"#m952581c464\" y=\"178.611311\"/>\n     <use style=\"fill:#0000ff;stroke:#0000ff;stroke-linejoin:miter;\" x=\"275.488202\" xlink:href=\"#m952581c464\" y=\"180.192401\"/>\n     <use style=\"fill:#0000ff;stroke:#0000ff;stroke-linejoin:miter;\" x=\"218.423147\" xlink:href=\"#m952581c464\" y=\"181.317196\"/>\n     <use style=\"fill:#0000ff;stroke:#0000ff;stroke-linejoin:miter;\" x=\"265.542171\" xlink:href=\"#m952581c464\" y=\"173.820945\"/>\n     <use style=\"fill:#0000ff;stroke:#0000ff;stroke-linejoin:miter;\" x=\"238.063877\" xlink:href=\"#m952581c464\" y=\"177.483111\"/>\n     <use style=\"fill:#0000ff;stroke:#0000ff;stroke-linejoin:miter;\" x=\"257.036039\" xlink:href=\"#m952581c464\" y=\"171.025799\"/>\n     <use style=\"fill:#0000ff;stroke:#0000ff;stroke-linejoin:miter;\" x=\"261.947049\" xlink:href=\"#m952581c464\" y=\"166.927691\"/>\n     <use style=\"fill:#0000ff;stroke:#0000ff;stroke-linejoin:miter;\" x=\"312.365145\" xlink:href=\"#m952581c464\" y=\"168.166613\"/>\n     <use style=\"fill:#0000ff;stroke:#0000ff;stroke-linejoin:miter;\" x=\"252.93766\" xlink:href=\"#m952581c464\" y=\"163.314735\"/>\n     <use style=\"fill:#0000ff;stroke:#0000ff;stroke-linejoin:miter;\" x=\"285.564485\" xlink:href=\"#m952581c464\" y=\"167.984666\"/>\n     <use style=\"fill:#0000ff;stroke:#0000ff;stroke-linejoin:miter;\" x=\"288.629176\" xlink:href=\"#m952581c464\" y=\"164.822314\"/>\n     <use style=\"fill:#0000ff;stroke:#0000ff;stroke-linejoin:miter;\" x=\"322.170481\" xlink:href=\"#m952581c464\" y=\"154.643563\"/>\n     <use style=\"fill:#0000ff;stroke:#0000ff;stroke-linejoin:miter;\" x=\"278.529963\" xlink:href=\"#m952581c464\" y=\"157.152958\"/>\n     <use style=\"fill:#0000ff;stroke:#0000ff;stroke-linejoin:miter;\" x=\"300.485074\" xlink:href=\"#m952581c464\" y=\"160.544012\"/>\n     <use style=\"fill:#0000ff;stroke:#0000ff;stroke-linejoin:miter;\" x=\"320.933227\" xlink:href=\"#m952581c464\" y=\"145.703625\"/>\n     <use style=\"fill:#0000ff;stroke:#0000ff;stroke-linejoin:miter;\" x=\"294.175747\" xlink:href=\"#m952581c464\" y=\"148.26053\"/>\n     <use style=\"fill:#0000ff;stroke:#0000ff;stroke-linejoin:miter;\" x=\"294.821389\" xlink:href=\"#m952581c464\" y=\"140.672054\"/>\n     <use style=\"fill:#0000ff;stroke:#0000ff;stroke-linejoin:miter;\" x=\"284.644191\" xlink:href=\"#m952581c464\" y=\"129.185533\"/>\n     <use style=\"fill:#0000ff;stroke:#0000ff;stroke-linejoin:miter;\" x=\"312.180561\" xlink:href=\"#m952581c464\" y=\"131.363037\"/>\n    </g>\n   </g>\n   <g id=\"line2d_14\">\n    <defs>\n     <path d=\"M 0 3 \nC 0.795609 3 1.55874 2.683901 2.12132 2.12132 \nC 2.683901 1.55874 3 0.795609 3 0 \nC 3 -0.795609 2.683901 -1.55874 2.12132 -2.12132 \nC 1.55874 -2.683901 0.795609 -3 0 -3 \nC -0.795609 -3 -1.55874 -2.683901 -2.12132 -2.12132 \nC -2.683901 -1.55874 -3 -0.795609 -3 0 \nC -3 0.795609 -2.683901 1.55874 -2.12132 2.12132 \nC -1.55874 2.683901 -0.795609 3 0 3 \nz\n\" id=\"md0134aa614\" style=\"stroke:#000000;\"/>\n    </defs>\n    <g clip-path=\"url(#p37485d1ff8)\">\n     <use style=\"stroke:#000000;\" x=\"345.684199\" xlink:href=\"#md0134aa614\" y=\"164.215143\"/>\n     <use style=\"stroke:#000000;\" x=\"343.899891\" xlink:href=\"#md0134aa614\" y=\"133.705818\"/>\n     <use style=\"stroke:#000000;\" x=\"353.331443\" xlink:href=\"#md0134aa614\" y=\"138.312079\"/>\n     <use style=\"stroke:#000000;\" x=\"350.093616\" xlink:href=\"#md0134aa614\" y=\"97.47864\"/>\n     <use style=\"stroke:#000000;\" x=\"346.723105\" xlink:href=\"#md0134aa614\" y=\"108.985653\"/>\n     <use style=\"stroke:#000000;\" x=\"342.203004\" xlink:href=\"#md0134aa614\" y=\"124.250404\"/>\n     <use style=\"stroke:#000000;\" x=\"347.274034\" xlink:href=\"#md0134aa614\" y=\"122.859849\"/>\n     <use style=\"stroke:#000000;\" x=\"333.071368\" xlink:href=\"#md0134aa614\" y=\"114.648951\"/>\n     <use style=\"stroke:#000000;\" x=\"326.758366\" xlink:href=\"#md0134aa614\" y=\"118.541459\"/>\n     <use style=\"stroke:#000000;\" x=\"324.350382\" xlink:href=\"#md0134aa614\" y=\"80.104941\"/>\n     <use style=\"stroke:#000000;\" x=\"313.472548\" xlink:href=\"#md0134aa614\" y=\"93.450538\"/>\n     <use style=\"stroke:#000000;\" x=\"298.755838\" xlink:href=\"#md0134aa614\" y=\"76.812636\"/>\n     <use style=\"stroke:#000000;\" x=\"321.63229\" xlink:href=\"#md0134aa614\" y=\"85.806365\"/>\n     <use style=\"stroke:#000000;\" x=\"314.05906\" xlink:href=\"#md0134aa614\" y=\"88.757805\"/>\n     <use style=\"stroke:#000000;\" x=\"279.523845\" xlink:href=\"#md0134aa614\" y=\"99.323392\"/>\n     <use style=\"stroke:#000000;\" x=\"295.187152\" xlink:href=\"#md0134aa614\" y=\"70.279588\"/>\n     <use style=\"stroke:#000000;\" x=\"285.917418\" xlink:href=\"#md0134aa614\" y=\"58.49293\"/>\n     <use style=\"stroke:#000000;\" x=\"270.239683\" xlink:href=\"#md0134aa614\" y=\"90.26286\"/>\n     <use style=\"stroke:#000000;\" x=\"250.587712\" xlink:href=\"#md0134aa614\" y=\"73.733545\"/>\n     <use style=\"stroke:#000000;\" x=\"260.897876\" xlink:href=\"#md0134aa614\" y=\"55.543393\"/>\n     <use style=\"stroke:#000000;\" x=\"247.401737\" xlink:href=\"#md0134aa614\" y=\"69.477781\"/>\n     <use style=\"stroke:#000000;\" x=\"234.735676\" xlink:href=\"#md0134aa614\" y=\"57.298791\"/>\n     <use style=\"stroke:#000000;\" x=\"241.048219\" xlink:href=\"#md0134aa614\" y=\"59.479653\"/>\n     <use style=\"stroke:#000000;\" x=\"229.917347\" xlink:href=\"#md0134aa614\" y=\"64.436127\"/>\n     <use style=\"stroke:#000000;\" x=\"228.144384\" xlink:href=\"#md0134aa614\" y=\"67.648812\"/>\n     <use style=\"stroke:#000000;\" x=\"203.532593\" xlink:href=\"#md0134aa614\" y=\"71.237125\"/>\n     <use style=\"stroke:#000000;\" x=\"202.398291\" xlink:href=\"#md0134aa614\" y=\"63.720025\"/>\n     <use style=\"stroke:#000000;\" x=\"187.110503\" xlink:href=\"#md0134aa614\" y=\"44.295198\"/>\n     <use style=\"stroke:#000000;\" x=\"180.308136\" xlink:href=\"#md0134aa614\" y=\"61.160478\"/>\n     <use style=\"stroke:#000000;\" x=\"178.525166\" xlink:href=\"#md0134aa614\" y=\"46.737352\"/>\n     <use style=\"stroke:#000000;\" x=\"179.885813\" xlink:href=\"#md0134aa614\" y=\"48.407582\"/>\n     <use style=\"stroke:#000000;\" x=\"153.703923\" xlink:href=\"#md0134aa614\" y=\"61.757684\"/>\n     <use style=\"stroke:#000000;\" x=\"134.736986\" xlink:href=\"#md0134aa614\" y=\"93.549764\"/>\n     <use style=\"stroke:#000000;\" x=\"147.001206\" xlink:href=\"#md0134aa614\" y=\"54.422534\"/>\n     <use style=\"stroke:#000000;\" x=\"138.899117\" xlink:href=\"#md0134aa614\" y=\"63.154448\"/>\n     <use style=\"stroke:#000000;\" x=\"125.073336\" xlink:href=\"#md0134aa614\" y=\"76.481404\"/>\n     <use style=\"stroke:#000000;\" x=\"122.330393\" xlink:href=\"#md0134aa614\" y=\"83.969136\"/>\n     <use style=\"stroke:#000000;\" x=\"124.953764\" xlink:href=\"#md0134aa614\" y=\"85.581787\"/>\n     <use style=\"stroke:#000000;\" x=\"104.923708\" xlink:href=\"#md0134aa614\" y=\"94.595013\"/>\n     <use style=\"stroke:#000000;\" x=\"110.70846\" xlink:href=\"#md0134aa614\" y=\"90.577736\"/>\n     <use style=\"stroke:#000000;\" x=\"99.356908\" xlink:href=\"#md0134aa614\" y=\"83.892898\"/>\n     <use style=\"stroke:#000000;\" x=\"113.503017\" xlink:href=\"#md0134aa614\" y=\"116.004809\"/>\n     <use style=\"stroke:#000000;\" x=\"80.553532\" xlink:href=\"#md0134aa614\" y=\"101.655386\"/>\n     <use style=\"stroke:#000000;\" x=\"89.655208\" xlink:href=\"#md0134aa614\" y=\"108.172213\"/>\n     <use style=\"stroke:#000000;\" x=\"93.649673\" xlink:href=\"#md0134aa614\" y=\"109.567211\"/>\n     <use style=\"stroke:#000000;\" x=\"84.055241\" xlink:href=\"#md0134aa614\" y=\"135.719079\"/>\n     <use style=\"stroke:#000000;\" x=\"84.382772\" xlink:href=\"#md0134aa614\" y=\"104.400335\"/>\n     <use style=\"stroke:#000000;\" x=\"81.988004\" xlink:href=\"#md0134aa614\" y=\"107.072088\"/>\n     <use style=\"stroke:#000000;\" x=\"77.097632\" xlink:href=\"#md0134aa614\" y=\"126.929079\"/>\n     <use style=\"stroke:#000000;\" x=\"80.679334\" xlink:href=\"#md0134aa614\" y=\"139.315622\"/>\n     <use style=\"stroke:#000000;\" x=\"74.642414\" xlink:href=\"#md0134aa614\" y=\"131.792262\"/>\n     <use style=\"stroke:#000000;\" x=\"73.560001\" xlink:href=\"#md0134aa614\" y=\"165.20264\"/>\n     <use style=\"stroke:#000000;\" x=\"74.166255\" xlink:href=\"#md0134aa614\" y=\"136.390682\"/>\n     <use style=\"stroke:#000000;\" x=\"83.785703\" xlink:href=\"#md0134aa614\" y=\"146.27335\"/>\n     <use style=\"stroke:#000000;\" x=\"78.187587\" xlink:href=\"#md0134aa614\" y=\"145.712471\"/>\n     <use style=\"stroke:#000000;\" x=\"85.727285\" xlink:href=\"#md0134aa614\" y=\"121.144011\"/>\n     <use style=\"stroke:#000000;\" x=\"98.631665\" xlink:href=\"#md0134aa614\" y=\"142.273543\"/>\n     <use style=\"stroke:#000000;\" x=\"97.165894\" xlink:href=\"#md0134aa614\" y=\"174.832384\"/>\n     <use style=\"stroke:#000000;\" x=\"105.940431\" xlink:href=\"#md0134aa614\" y=\"167.270783\"/>\n     <use style=\"stroke:#000000;\" x=\"99.879572\" xlink:href=\"#md0134aa614\" y=\"186.003968\"/>\n     <use style=\"stroke:#000000;\" x=\"122.632811\" xlink:href=\"#md0134aa614\" y=\"146.369147\"/>\n     <use style=\"stroke:#000000;\" x=\"109.58778\" xlink:href=\"#md0134aa614\" y=\"192.934702\"/>\n     <use style=\"stroke:#000000;\" x=\"108.098669\" xlink:href=\"#md0134aa614\" y=\"208.678112\"/>\n     <use style=\"stroke:#000000;\" x=\"125.133013\" xlink:href=\"#md0134aa614\" y=\"199.535801\"/>\n     <use style=\"stroke:#000000;\" x=\"125.047077\" xlink:href=\"#md0134aa614\" y=\"177.377719\"/>\n     <use style=\"stroke:#000000;\" x=\"138.274886\" xlink:href=\"#md0134aa614\" y=\"205.935623\"/>\n     <use style=\"stroke:#000000;\" x=\"134.669922\" xlink:href=\"#md0134aa614\" y=\"215.722958\"/>\n     <use style=\"stroke:#000000;\" x=\"162.669844\" xlink:href=\"#md0134aa614\" y=\"194.241033\"/>\n     <use style=\"stroke:#000000;\" x=\"158.681431\" xlink:href=\"#md0134aa614\" y=\"186.509936\"/>\n     <use style=\"stroke:#000000;\" x=\"143.841973\" xlink:href=\"#md0134aa614\" y=\"194.8988\"/>\n     <use style=\"stroke:#000000;\" x=\"167.417679\" xlink:href=\"#md0134aa614\" y=\"216.605945\"/>\n     <use style=\"stroke:#000000;\" x=\"187.44927\" xlink:href=\"#md0134aa614\" y=\"208.347859\"/>\n     <use style=\"stroke:#000000;\" x=\"202.076202\" xlink:href=\"#md0134aa614\" y=\"185.104711\"/>\n     <use style=\"stroke:#000000;\" x=\"201.686631\" xlink:href=\"#md0134aa614\" y=\"206.676751\"/>\n     <use style=\"stroke:#000000;\" x=\"214.741033\" xlink:href=\"#md0134aa614\" y=\"191.443663\"/>\n     <use style=\"stroke:#000000;\" x=\"215.506313\" xlink:href=\"#md0134aa614\" y=\"229.321814\"/>\n     <use style=\"stroke:#000000;\" x=\"223.354379\" xlink:href=\"#md0134aa614\" y=\"214.117507\"/>\n     <use style=\"stroke:#000000;\" x=\"265.177673\" xlink:href=\"#md0134aa614\" y=\"221.715237\"/>\n     <use style=\"stroke:#000000;\" x=\"230.120291\" xlink:href=\"#md0134aa614\" y=\"216.23055\"/>\n     <use style=\"stroke:#000000;\" x=\"250.842692\" xlink:href=\"#md0134aa614\" y=\"195.202884\"/>\n     <use style=\"stroke:#000000;\" x=\"265.170687\" xlink:href=\"#md0134aa614\" y=\"200.597147\"/>\n     <use style=\"stroke:#000000;\" x=\"276.127379\" xlink:href=\"#md0134aa614\" y=\"209.824744\"/>\n     <use style=\"stroke:#000000;\" x=\"276.90209\" xlink:href=\"#md0134aa614\" y=\"218.109508\"/>\n     <use style=\"stroke:#000000;\" x=\"275.795018\" xlink:href=\"#md0134aa614\" y=\"197.667389\"/>\n     <use style=\"stroke:#000000;\" x=\"285.028209\" xlink:href=\"#md0134aa614\" y=\"191.232192\"/>\n     <use style=\"stroke:#000000;\" x=\"284.829227\" xlink:href=\"#md0134aa614\" y=\"197.219196\"/>\n     <use style=\"stroke:#000000;\" x=\"312.201832\" xlink:href=\"#md0134aa614\" y=\"185.259131\"/>\n     <use style=\"stroke:#000000;\" x=\"310.189641\" xlink:href=\"#md0134aa614\" y=\"168.233301\"/>\n     <use style=\"stroke:#000000;\" x=\"314.915023\" xlink:href=\"#md0134aa614\" y=\"169.089225\"/>\n     <use style=\"stroke:#000000;\" x=\"324.034478\" xlink:href=\"#md0134aa614\" y=\"198.724675\"/>\n     <use style=\"stroke:#000000;\" x=\"309.235411\" xlink:href=\"#md0134aa614\" y=\"170.488288\"/>\n     <use style=\"stroke:#000000;\" x=\"324.951309\" xlink:href=\"#md0134aa614\" y=\"155.276515\"/>\n     <use style=\"stroke:#000000;\" x=\"337.725612\" xlink:href=\"#md0134aa614\" y=\"134.807961\"/>\n     <use style=\"stroke:#000000;\" x=\"332.452619\" xlink:href=\"#md0134aa614\" y=\"137.497623\"/>\n     <use style=\"stroke:#000000;\" x=\"356.817095\" xlink:href=\"#md0134aa614\" y=\"180.243832\"/>\n     <use style=\"stroke:#000000;\" x=\"346.714007\" xlink:href=\"#md0134aa614\" y=\"129.116435\"/>\n     <use style=\"stroke:#000000;\" x=\"359.304837\" xlink:href=\"#md0134aa614\" y=\"136.892313\"/>\n     <use style=\"stroke:#000000;\" x=\"341.518044\" xlink:href=\"#md0134aa614\" y=\"163.676652\"/>\n     <use style=\"stroke:#000000;\" x=\"366.336148\" xlink:href=\"#md0134aa614\" y=\"110.946242\"/>\n     <use style=\"stroke:#000000;\" x=\"332.686428\" xlink:href=\"#md0134aa614\" y=\"126.33737\"/>\n     <use style=\"stroke:#000000;\" x=\"338.404637\" xlink:href=\"#md0134aa614\" y=\"130.794915\"/>\n     <use style=\"stroke:#000000;\" x=\"351.725325\" xlink:href=\"#md0134aa614\" y=\"132.915205\"/>\n     <use style=\"stroke:#000000;\" x=\"342.944835\" xlink:href=\"#md0134aa614\" y=\"117.844812\"/>\n     <use style=\"stroke:#000000;\" x=\"341.483496\" xlink:href=\"#md0134aa614\" y=\"109.301573\"/>\n     <use style=\"stroke:#000000;\" x=\"351.934317\" xlink:href=\"#md0134aa614\" y=\"128.045781\"/>\n     <use style=\"stroke:#000000;\" x=\"358.015526\" xlink:href=\"#md0134aa614\" y=\"120.508271\"/>\n     <use style=\"stroke:#000000;\" x=\"339.920632\" xlink:href=\"#md0134aa614\" y=\"115.664709\"/>\n     <use style=\"stroke:#000000;\" x=\"326.731829\" xlink:href=\"#md0134aa614\" y=\"106.09667\"/>\n     <use style=\"stroke:#000000;\" x=\"349.312553\" xlink:href=\"#md0134aa614\" y=\"99.827632\"/>\n     <use style=\"stroke:#000000;\" x=\"321.473452\" xlink:href=\"#md0134aa614\" y=\"116.861744\"/>\n     <use style=\"stroke:#000000;\" x=\"309.705045\" xlink:href=\"#md0134aa614\" y=\"100.75803\"/>\n     <use style=\"stroke:#000000;\" x=\"321.529775\" xlink:href=\"#md0134aa614\" y=\"85.624894\"/>\n     <use style=\"stroke:#000000;\" x=\"302.706839\" xlink:href=\"#md0134aa614\" y=\"45.795966\"/>\n     <use style=\"stroke:#000000;\" x=\"303.899414\" xlink:href=\"#md0134aa614\" y=\"75.041501\"/>\n     <use style=\"stroke:#000000;\" x=\"300.680537\" xlink:href=\"#md0134aa614\" y=\"75.152204\"/>\n     <use style=\"stroke:#000000;\" x=\"288.772817\" xlink:href=\"#md0134aa614\" y=\"89.009271\"/>\n     <use style=\"stroke:#000000;\" x=\"276.792111\" xlink:href=\"#md0134aa614\" y=\"82.523485\"/>\n     <use style=\"stroke:#000000;\" x=\"276.502848\" xlink:href=\"#md0134aa614\" y=\"65.021482\"/>\n     <use style=\"stroke:#000000;\" x=\"263.483997\" xlink:href=\"#md0134aa614\" y=\"73.166257\"/>\n     <use style=\"stroke:#000000;\" x=\"256.274944\" xlink:href=\"#md0134aa614\" y=\"32.201761\"/>\n     <use style=\"stroke:#000000;\" x=\"259.576498\" xlink:href=\"#md0134aa614\" y=\"51.637206\"/>\n     <use style=\"stroke:#000000;\" x=\"240.36809\" xlink:href=\"#md0134aa614\" y=\"51.718178\"/>\n     <use style=\"stroke:#000000;\" x=\"238.179335\" xlink:href=\"#md0134aa614\" y=\"62.956388\"/>\n     <use style=\"stroke:#000000;\" x=\"224.25658\" xlink:href=\"#md0134aa614\" y=\"48.556008\"/>\n     <use style=\"stroke:#000000;\" x=\"214.303705\" xlink:href=\"#md0134aa614\" y=\"33.422797\"/>\n     <use style=\"stroke:#000000;\" x=\"209.869462\" xlink:href=\"#md0134aa614\" y=\"69.777729\"/>\n     <use style=\"stroke:#000000;\" x=\"212.200186\" xlink:href=\"#md0134aa614\" y=\"51.660589\"/>\n     <use style=\"stroke:#000000;\" x=\"188.4438\" xlink:href=\"#md0134aa614\" y=\"48.506703\"/>\n     <use style=\"stroke:#000000;\" x=\"162.459431\" xlink:href=\"#md0134aa614\" y=\"66.321333\"/>\n     <use style=\"stroke:#000000;\" x=\"180.499429\" xlink:href=\"#md0134aa614\" y=\"33.206934\"/>\n     <use style=\"stroke:#000000;\" x=\"177.037865\" xlink:href=\"#md0134aa614\" y=\"84.832627\"/>\n     <use style=\"stroke:#000000;\" x=\"142.754685\" xlink:href=\"#md0134aa614\" y=\"70.662159\"/>\n     <use style=\"stroke:#000000;\" x=\"156.909066\" xlink:href=\"#md0134aa614\" y=\"64.565885\"/>\n     <use style=\"stroke:#000000;\" x=\"147.550124\" xlink:href=\"#md0134aa614\" y=\"67.238425\"/>\n     <use style=\"stroke:#000000;\" x=\"128.113788\" xlink:href=\"#md0134aa614\" y=\"79.885387\"/>\n     <use style=\"stroke:#000000;\" x=\"122.954502\" xlink:href=\"#md0134aa614\" y=\"86.78111\"/>\n     <use style=\"stroke:#000000;\" x=\"122.531573\" xlink:href=\"#md0134aa614\" y=\"80.998942\"/>\n     <use style=\"stroke:#000000;\" x=\"125.34072\" xlink:href=\"#md0134aa614\" y=\"90.65538\"/>\n     <use style=\"stroke:#000000;\" x=\"94.820516\" xlink:href=\"#md0134aa614\" y=\"77.703482\"/>\n     <use style=\"stroke:#000000;\" x=\"108.285079\" xlink:href=\"#md0134aa614\" y=\"78.962328\"/>\n     <use style=\"stroke:#000000;\" x=\"92.881149\" xlink:href=\"#md0134aa614\" y=\"106.173686\"/>\n     <use style=\"stroke:#000000;\" x=\"85.006517\" xlink:href=\"#md0134aa614\" y=\"83.710566\"/>\n     <use style=\"stroke:#000000;\" x=\"84.365411\" xlink:href=\"#md0134aa614\" y=\"95.858232\"/>\n     <use style=\"stroke:#000000;\" x=\"73.759331\" xlink:href=\"#md0134aa614\" y=\"130.922376\"/>\n     <use style=\"stroke:#000000;\" x=\"92.627998\" xlink:href=\"#md0134aa614\" y=\"137.265505\"/>\n     <use style=\"stroke:#000000;\" x=\"79.468373\" xlink:href=\"#md0134aa614\" y=\"106.231371\"/>\n     <use style=\"stroke:#000000;\" x=\"79.935496\" xlink:href=\"#md0134aa614\" y=\"98.156504\"/>\n     <use style=\"stroke:#000000;\" x=\"78.487338\" xlink:href=\"#md0134aa614\" y=\"136.329697\"/>\n     <use style=\"stroke:#000000;\" x=\"64.200994\" xlink:href=\"#md0134aa614\" y=\"106.641762\"/>\n     <use style=\"stroke:#000000;\" x=\"83.277646\" xlink:href=\"#md0134aa614\" y=\"140.620591\"/>\n     <use style=\"stroke:#000000;\" x=\"88.993987\" xlink:href=\"#md0134aa614\" y=\"145.067654\"/>\n     <use style=\"stroke:#000000;\" x=\"72.37947\" xlink:href=\"#md0134aa614\" y=\"136.30853\"/>\n     <use style=\"stroke:#000000;\" x=\"73.257452\" xlink:href=\"#md0134aa614\" y=\"167.89441\"/>\n     <use style=\"stroke:#000000;\" x=\"90.060533\" xlink:href=\"#md0134aa614\" y=\"169.869303\"/>\n     <use style=\"stroke:#000000;\" x=\"83.856172\" xlink:href=\"#md0134aa614\" y=\"137.454648\"/>\n     <use style=\"stroke:#000000;\" x=\"87.158873\" xlink:href=\"#md0134aa614\" y=\"161.33427\"/>\n     <use style=\"stroke:#000000;\" x=\"86.374986\" xlink:href=\"#md0134aa614\" y=\"147.81807\"/>\n     <use style=\"stroke:#000000;\" x=\"112.440641\" xlink:href=\"#md0134aa614\" y=\"183.771165\"/>\n     <use style=\"stroke:#000000;\" x=\"101.409591\" xlink:href=\"#md0134aa614\" y=\"180.997816\"/>\n     <use style=\"stroke:#000000;\" x=\"96.787262\" xlink:href=\"#md0134aa614\" y=\"142.258356\"/>\n     <use style=\"stroke:#000000;\" x=\"113.395514\" xlink:href=\"#md0134aa614\" y=\"166.128811\"/>\n     <use style=\"stroke:#000000;\" x=\"107.815437\" xlink:href=\"#md0134aa614\" y=\"180.41925\"/>\n     <use style=\"stroke:#000000;\" x=\"118.171033\" xlink:href=\"#md0134aa614\" y=\"176.99157\"/>\n     <use style=\"stroke:#000000;\" x=\"136.973775\" xlink:href=\"#md0134aa614\" y=\"172.63299\"/>\n     <use style=\"stroke:#000000;\" x=\"136.813503\" xlink:href=\"#md0134aa614\" y=\"212.337789\"/>\n     <use style=\"stroke:#000000;\" x=\"147.014297\" xlink:href=\"#md0134aa614\" y=\"194.961399\"/>\n     <use style=\"stroke:#000000;\" x=\"154.360917\" xlink:href=\"#md0134aa614\" y=\"201.026262\"/>\n     <use style=\"stroke:#000000;\" x=\"155.153649\" xlink:href=\"#md0134aa614\" y=\"214.415717\"/>\n     <use style=\"stroke:#000000;\" x=\"156.875295\" xlink:href=\"#md0134aa614\" y=\"204.912547\"/>\n     <use style=\"stroke:#000000;\" x=\"162.991061\" xlink:href=\"#md0134aa614\" y=\"185.329549\"/>\n     <use style=\"stroke:#000000;\" x=\"175.995966\" xlink:href=\"#md0134aa614\" y=\"190.557777\"/>\n     <use style=\"stroke:#000000;\" x=\"180.562858\" xlink:href=\"#md0134aa614\" y=\"206.932982\"/>\n     <use style=\"stroke:#000000;\" x=\"195.564308\" xlink:href=\"#md0134aa614\" y=\"205.115062\"/>\n     <use style=\"stroke:#000000;\" x=\"231.058988\" xlink:href=\"#md0134aa614\" y=\"217.830067\"/>\n     <use style=\"stroke:#000000;\" x=\"204.174584\" xlink:href=\"#md0134aa614\" y=\"223.737114\"/>\n     <use style=\"stroke:#000000;\" x=\"223.671878\" xlink:href=\"#md0134aa614\" y=\"208.650169\"/>\n     <use style=\"stroke:#000000;\" x=\"221.963479\" xlink:href=\"#md0134aa614\" y=\"228.427131\"/>\n     <use style=\"stroke:#000000;\" x=\"244.601124\" xlink:href=\"#md0134aa614\" y=\"183.357478\"/>\n     <use style=\"stroke:#000000;\" x=\"256.21011\" xlink:href=\"#md0134aa614\" y=\"205.501134\"/>\n     <use style=\"stroke:#000000;\" x=\"271.876227\" xlink:href=\"#md0134aa614\" y=\"206.334246\"/>\n     <use style=\"stroke:#000000;\" x=\"261.300325\" xlink:href=\"#md0134aa614\" y=\"203.97178\"/>\n     <use style=\"stroke:#000000;\" x=\"264.019069\" xlink:href=\"#md0134aa614\" y=\"210.03262\"/>\n     <use style=\"stroke:#000000;\" x=\"281.84893\" xlink:href=\"#md0134aa614\" y=\"219.492314\"/>\n     <use style=\"stroke:#000000;\" x=\"278.290258\" xlink:href=\"#md0134aa614\" y=\"192.233883\"/>\n     <use style=\"stroke:#000000;\" x=\"280.75619\" xlink:href=\"#md0134aa614\" y=\"216.009872\"/>\n     <use style=\"stroke:#000000;\" x=\"305.768094\" xlink:href=\"#md0134aa614\" y=\"229.874489\"/>\n     <use style=\"stroke:#000000;\" x=\"318.456364\" xlink:href=\"#md0134aa614\" y=\"195.386882\"/>\n     <use style=\"stroke:#000000;\" x=\"322.057548\" xlink:href=\"#md0134aa614\" y=\"195.512972\"/>\n     <use style=\"stroke:#000000;\" x=\"312.161636\" xlink:href=\"#md0134aa614\" y=\"176.643636\"/>\n     <use style=\"stroke:#000000;\" x=\"330.386903\" xlink:href=\"#md0134aa614\" y=\"165.34774\"/>\n     <use style=\"stroke:#000000;\" x=\"332.955576\" xlink:href=\"#md0134aa614\" y=\"169.610532\"/>\n     <use style=\"stroke:#000000;\" x=\"327.068248\" xlink:href=\"#md0134aa614\" y=\"140.322133\"/>\n     <use style=\"stroke:#000000;\" x=\"329.572447\" xlink:href=\"#md0134aa614\" y=\"153.473194\"/>\n     <use style=\"stroke:#000000;\" x=\"337.080248\" xlink:href=\"#md0134aa614\" y=\"169.810151\"/>\n     <use style=\"stroke:#000000;\" x=\"336.18368\" xlink:href=\"#md0134aa614\" y=\"159.585407\"/>\n     <use style=\"stroke:#000000;\" x=\"340.926727\" xlink:href=\"#md0134aa614\" y=\"146.751424\"/>\n     <use style=\"stroke:#000000;\" x=\"348.274777\" xlink:href=\"#md0134aa614\" y=\"153.865439\"/>\n     <use style=\"stroke:#000000;\" x=\"353.621819\" xlink:href=\"#md0134aa614\" y=\"149.400109\"/>\n     <use style=\"stroke:#000000;\" x=\"353.099903\" xlink:href=\"#md0134aa614\" y=\"142.37586\"/>\n     <use style=\"stroke:#000000;\" x=\"367.128359\" xlink:href=\"#md0134aa614\" y=\"142.915259\"/>\n    </g>\n   </g>\n   <g id=\"patch_3\">\n    <path d=\"M 48.982813 239.758125 \nL 48.982813 22.318125 \n\" style=\"fill:none;stroke:#000000;stroke-linecap:square;stroke-linejoin:miter;stroke-width:0.8;\"/>\n   </g>\n   <g id=\"patch_4\">\n    <path d=\"M 383.782813 239.758125 \nL 383.782813 22.318125 \n\" style=\"fill:none;stroke:#000000;stroke-linecap:square;stroke-linejoin:miter;stroke-width:0.8;\"/>\n   </g>\n   <g id=\"patch_5\">\n    <path d=\"M 48.982813 239.758125 \nL 383.782812 239.758125 \n\" style=\"fill:none;stroke:#000000;stroke-linecap:square;stroke-linejoin:miter;stroke-width:0.8;\"/>\n   </g>\n   <g id=\"patch_6\">\n    <path d=\"M 48.982813 22.318125 \nL 383.782812 22.318125 \n\" style=\"fill:none;stroke:#000000;stroke-linecap:square;stroke-linejoin:miter;stroke-width:0.8;\"/>\n   </g>\n   <g id=\"text_15\">\n    <!-- Two Circles -->\n    <defs>\n     <path d=\"M -0.296875 72.90625 \nL 61.375 72.90625 \nL 61.375 64.59375 \nL 35.5 64.59375 \nL 35.5 0 \nL 25.59375 0 \nL 25.59375 64.59375 \nL -0.296875 64.59375 \nz\n\" id=\"DejaVuSans-84\"/>\n     <path d=\"M 4.203125 54.6875 \nL 13.1875 54.6875 \nL 24.421875 12.015625 \nL 35.59375 54.6875 \nL 46.1875 54.6875 \nL 57.421875 12.015625 \nL 68.609375 54.6875 \nL 77.59375 54.6875 \nL 63.28125 0 \nL 52.6875 0 \nL 40.921875 44.828125 \nL 29.109375 0 \nL 18.5 0 \nz\n\" id=\"DejaVuSans-119\"/>\n     <path d=\"M 30.609375 48.390625 \nQ 23.390625 48.390625 19.1875 42.75 \nQ 14.984375 37.109375 14.984375 27.296875 \nQ 14.984375 17.484375 19.15625 11.84375 \nQ 23.34375 6.203125 30.609375 6.203125 \nQ 37.796875 6.203125 41.984375 11.859375 \nQ 46.1875 17.53125 46.1875 27.296875 \nQ 46.1875 37.015625 41.984375 42.703125 \nQ 37.796875 48.390625 30.609375 48.390625 \nz\nM 30.609375 56 \nQ 42.328125 56 49.015625 48.375 \nQ 55.71875 40.765625 55.71875 27.296875 \nQ 55.71875 13.875 49.015625 6.21875 \nQ 42.328125 -1.421875 30.609375 -1.421875 \nQ 18.84375 -1.421875 12.171875 6.21875 \nQ 5.515625 13.875 5.515625 27.296875 \nQ 5.515625 40.765625 12.171875 48.375 \nQ 18.84375 56 30.609375 56 \nz\n\" id=\"DejaVuSans-111\"/>\n     <path id=\"DejaVuSans-32\"/>\n     <path d=\"M 64.40625 67.28125 \nL 64.40625 56.890625 \nQ 59.421875 61.53125 53.78125 63.8125 \nQ 48.140625 66.109375 41.796875 66.109375 \nQ 29.296875 66.109375 22.65625 58.46875 \nQ 16.015625 50.828125 16.015625 36.375 \nQ 16.015625 21.96875 22.65625 14.328125 \nQ 29.296875 6.6875 41.796875 6.6875 \nQ 48.140625 6.6875 53.78125 8.984375 \nQ 59.421875 11.28125 64.40625 15.921875 \nL 64.40625 5.609375 \nQ 59.234375 2.09375 53.4375 0.328125 \nQ 47.65625 -1.421875 41.21875 -1.421875 \nQ 24.65625 -1.421875 15.125 8.703125 \nQ 5.609375 18.84375 5.609375 36.375 \nQ 5.609375 53.953125 15.125 64.078125 \nQ 24.65625 74.21875 41.21875 74.21875 \nQ 47.75 74.21875 53.53125 72.484375 \nQ 59.328125 70.75 64.40625 67.28125 \nz\n\" id=\"DejaVuSans-67\"/>\n     <path d=\"M 41.109375 46.296875 \nQ 39.59375 47.171875 37.8125 47.578125 \nQ 36.03125 48 33.890625 48 \nQ 26.265625 48 22.1875 43.046875 \nQ 18.109375 38.09375 18.109375 28.8125 \nL 18.109375 0 \nL 9.078125 0 \nL 9.078125 54.6875 \nL 18.109375 54.6875 \nL 18.109375 46.1875 \nQ 20.953125 51.171875 25.484375 53.578125 \nQ 30.03125 56 36.53125 56 \nQ 37.453125 56 38.578125 55.875 \nQ 39.703125 55.765625 41.0625 55.515625 \nz\n\" id=\"DejaVuSans-114\"/>\n     <path d=\"M 48.78125 52.59375 \nL 48.78125 44.1875 \nQ 44.96875 46.296875 41.140625 47.34375 \nQ 37.3125 48.390625 33.40625 48.390625 \nQ 24.65625 48.390625 19.8125 42.84375 \nQ 14.984375 37.3125 14.984375 27.296875 \nQ 14.984375 17.28125 19.8125 11.734375 \nQ 24.65625 6.203125 33.40625 6.203125 \nQ 37.3125 6.203125 41.140625 7.25 \nQ 44.96875 8.296875 48.78125 10.40625 \nL 48.78125 2.09375 \nQ 45.015625 0.34375 40.984375 -0.53125 \nQ 36.96875 -1.421875 32.421875 -1.421875 \nQ 20.0625 -1.421875 12.78125 6.34375 \nQ 5.515625 14.109375 5.515625 27.296875 \nQ 5.515625 40.671875 12.859375 48.328125 \nQ 20.21875 56 33.015625 56 \nQ 37.15625 56 41.109375 55.140625 \nQ 45.0625 54.296875 48.78125 52.59375 \nz\n\" id=\"DejaVuSans-99\"/>\n     <path d=\"M 9.421875 75.984375 \nL 18.40625 75.984375 \nL 18.40625 0 \nL 9.421875 0 \nz\n\" id=\"DejaVuSans-108\"/>\n     <path d=\"M 56.203125 29.59375 \nL 56.203125 25.203125 \nL 14.890625 25.203125 \nQ 15.484375 15.921875 20.484375 11.0625 \nQ 25.484375 6.203125 34.421875 6.203125 \nQ 39.59375 6.203125 44.453125 7.46875 \nQ 49.3125 8.734375 54.109375 11.28125 \nL 54.109375 2.78125 \nQ 49.265625 0.734375 44.1875 -0.34375 \nQ 39.109375 -1.421875 33.890625 -1.421875 \nQ 20.796875 -1.421875 13.15625 6.1875 \nQ 5.515625 13.8125 5.515625 26.8125 \nQ 5.515625 40.234375 12.765625 48.109375 \nQ 20.015625 56 32.328125 56 \nQ 43.359375 56 49.78125 48.890625 \nQ 56.203125 41.796875 56.203125 29.59375 \nz\nM 47.21875 32.234375 \nQ 47.125 39.59375 43.09375 43.984375 \nQ 39.0625 48.390625 32.421875 48.390625 \nQ 24.90625 48.390625 20.390625 44.140625 \nQ 15.875 39.890625 15.1875 32.171875 \nz\n\" id=\"DejaVuSans-101\"/>\n     <path d=\"M 44.28125 53.078125 \nL 44.28125 44.578125 \nQ 40.484375 46.53125 36.375 47.5 \nQ 32.28125 48.484375 27.875 48.484375 \nQ 21.1875 48.484375 17.84375 46.4375 \nQ 14.5 44.390625 14.5 40.28125 \nQ 14.5 37.15625 16.890625 35.375 \nQ 19.28125 33.59375 26.515625 31.984375 \nL 29.59375 31.296875 \nQ 39.15625 29.25 43.1875 25.515625 \nQ 47.21875 21.78125 47.21875 15.09375 \nQ 47.21875 7.46875 41.1875 3.015625 \nQ 35.15625 -1.421875 24.609375 -1.421875 \nQ 20.21875 -1.421875 15.453125 -0.5625 \nQ 10.6875 0.296875 5.421875 2 \nL 5.421875 11.28125 \nQ 10.40625 8.6875 15.234375 7.390625 \nQ 20.0625 6.109375 24.8125 6.109375 \nQ 31.15625 6.109375 34.5625 8.28125 \nQ 37.984375 10.453125 37.984375 14.40625 \nQ 37.984375 18.0625 35.515625 20.015625 \nQ 33.0625 21.96875 24.703125 23.78125 \nL 21.578125 24.515625 \nQ 13.234375 26.265625 9.515625 29.90625 \nQ 5.8125 33.546875 5.8125 39.890625 \nQ 5.8125 47.609375 11.28125 51.796875 \nQ 16.75 56 26.8125 56 \nQ 31.78125 56 36.171875 55.265625 \nQ 40.578125 54.546875 44.28125 53.078125 \nz\n\" id=\"DejaVuSans-115\"/>\n    </defs>\n    <g transform=\"translate(183.251563 16.318125)scale(0.12 -0.12)\">\n     <use xlink:href=\"#DejaVuSans-84\"/>\n     <use x=\"44.583984\" xlink:href=\"#DejaVuSans-119\"/>\n     <use x=\"126.371094\" xlink:href=\"#DejaVuSans-111\"/>\n     <use x=\"187.552734\" xlink:href=\"#DejaVuSans-32\"/>\n     <use x=\"219.339844\" xlink:href=\"#DejaVuSans-67\"/>\n     <use x=\"289.164062\" xlink:href=\"#DejaVuSans-105\"/>\n     <use x=\"316.947266\" xlink:href=\"#DejaVuSans-114\"/>\n     <use x=\"355.810547\" xlink:href=\"#DejaVuSans-99\"/>\n     <use x=\"410.791016\" xlink:href=\"#DejaVuSans-108\"/>\n     <use x=\"438.574219\" xlink:href=\"#DejaVuSans-101\"/>\n     <use x=\"500.097656\" xlink:href=\"#DejaVuSans-115\"/>\n    </g>\n   </g>\n  </g>\n </g>\n <defs>\n  <clipPath id=\"p37485d1ff8\">\n   <rect height=\"217.44\" width=\"334.8\" x=\"48.982813\" y=\"22.318125\"/>\n  </clipPath>\n </defs>\n</svg>\n"
          },
          "metadata": {
            "needs_background": "light"
          }
        }
      ]
    },
    {
      "cell_type": "markdown",
      "source": [
        "## Separate the data into dataLoaders"
      ],
      "metadata": {
        "id": "0OY936xD3G2n"
      }
    },
    {
      "cell_type": "code",
      "source": [
        "train_data, test_data, train_labels, test_labels = train_test_split(\n",
        "    data, labels, test_size=0.2\n",
        ")\n",
        "\n",
        "train_data = TensorDataset(train_data, train_labels)\n",
        "test_data = TensorDataset(test_data, test_labels)\n",
        "\n",
        "batch = 16\n",
        "train_loader = DataLoader(train_data, batch_size=batch, shuffle=True)\n",
        "test_loader = DataLoader(test_data,\n",
        "                         batch_size=test_data.tensors[0].shape[0])"
      ],
      "metadata": {
        "id": "TnsviW1z2z-R"
      },
      "execution_count": null,
      "outputs": []
    },
    {
      "cell_type": "code",
      "source": [
        "class CreateModel(nn.Module):\n",
        "  def __init__(self, dropout_rate):\n",
        "    super().__init__()\n",
        "    # Layers\n",
        "    self.Input = nn.Linear(2, 128)\n",
        "    self.Hidden = nn.Linear(128, 128)\n",
        "    self.Output = nn.Linear(128, 1)\n",
        "    # parameters\n",
        "    self.dr = dropout_rate\n",
        "\n",
        "    # forward pass\n",
        "    def forward(self, x):\n",
        "      x = F.relu(self.Input(x))\n",
        "      x = F.dropout(x, p=self.dr, training=self.training)\n",
        "      x = F.relu(self.Hidden(x))\n",
        "      x = F.dropout(x, p=self.dr, training=self.training)\n",
        "      x = self.Output(x)\n",
        "      return x"
      ],
      "metadata": {
        "id": "dq6rl2D54Qc9"
      },
      "execution_count": null,
      "outputs": []
    },
    {
      "cell_type": "code",
      "source": [
        "def createModel(dr):\n",
        "  model = CreateModel(dr)\n",
        "  Loss = nn.BCEWithLogitsLoss()\n",
        "  optimizer = torch.optim.SGD(model.parameters(), lr=0.01)\n",
        "  return model, Loss, optimizer"
      ],
      "metadata": {
        "id": "6YGTwSGUGBcU"
      },
      "execution_count": null,
      "outputs": []
    },
    {
      "cell_type": "code",
      "source": [
        "train_acc = []\n",
        "test_acc = []\n",
        "\n",
        "model, Loss, optimizer = createModel(0.25)\n",
        "\n",
        "for i in range(1000):\n",
        "  batch_acc = []\n",
        "  for x, y in train_loader:\n",
        "    y_hat = model(x)\n",
        "    loss = Loss(y_hat, y)\n",
        "    optimizer.zero_grad()\n",
        "    loss.backward()\n",
        "    optimizer.step()\n",
        "    batch_acc.append(100 * torch.mean(((y_hat > .5) == y).float()).item())\n",
        "  train_acc.append(np.mean(batch_acc))\n",
        "  model.eval()\n",
        "  x, y = next(iter(test_loader))\n",
        "  y_hat = model(x)\n",
        "  test_acc.append(100 * torch.mean(((y_hat > .5) == y).float()).item())\n"
      ],
      "metadata": {
        "id": "CxSIqoIiIKae"
      },
      "execution_count": null,
      "outputs": []
    },
    {
      "cell_type": "markdown",
      "source": [
        "## L2 regularization"
      ],
      "metadata": {
        "id": "ykLmR4Lbc9Kx"
      }
    },
    {
      "cell_type": "code",
      "source": [
        "def annModel(l2):\n",
        "  model = nn.Sequential(\n",
        "      nn.Linear(4, 64),\n",
        "      nn.ReLU(),\n",
        "      nn.Linear(64, 64),\n",
        "      nn.ReLU(),\n",
        "      nn.Linear(64, 3),\n",
        "      nn.Softmax()\n",
        "  )\n",
        "\n",
        "  Loss = nn.CrossEntropyLoss()\n",
        "  optimizer = torch.optim.SGD(model.parameters(), lr=0.01, weight_decay=l2)\n",
        "  return model, Loss, optimizer"
      ],
      "metadata": {
        "id": "RdgjnIPiJZTd"
      },
      "execution_count": null,
      "outputs": []
    },
    {
      "cell_type": "code",
      "source": [
        "annModel(1)"
      ],
      "metadata": {
        "colab": {
          "base_uri": "https://localhost:8080/"
        },
        "id": "3N1XZ-J7dm7a",
        "outputId": "39de28fe-76f2-4272-9e54-61925e87cf4d"
      },
      "execution_count": null,
      "outputs": [
        {
          "output_type": "execute_result",
          "data": {
            "text/plain": [
              "(Sequential(\n",
              "   (0): Linear(in_features=4, out_features=64, bias=True)\n",
              "   (1): ReLU()\n",
              "   (2): Linear(in_features=64, out_features=64, bias=True)\n",
              "   (3): ReLU()\n",
              "   (4): Linear(in_features=64, out_features=3, bias=True)\n",
              "   (5): Softmax(dim=None)\n",
              " ), CrossEntropyLoss(), SGD (\n",
              " Parameter Group 0\n",
              "     dampening: 0\n",
              "     lr: 0.01\n",
              "     momentum: 0\n",
              "     nesterov: False\n",
              "     weight_decay: 1\n",
              " ))"
            ]
          },
          "metadata": {},
          "execution_count": 188
        }
      ]
    },
    {
      "cell_type": "code",
      "source": [
        "def build(epochs=1000):\n",
        "  train_acc = []\n",
        "  test_acc = []\n",
        "  losses = []\n",
        "  model, Loss, optimizer = annModel(0.01)\n",
        "\n",
        "  for i in range(epochs):\n",
        "    batch_acc = []\n",
        "    for x, y in train_loader:\n",
        "      y_hat = model(x)\n",
        "      loss = Loss(y_hat, y)\n",
        "      optimizer.zero_grad()\n",
        "      loss.backward()\n",
        "      optimizer.step()\n",
        "      batch_acc.append(100 * torch.mean((torch.argmax(y_hat, axis=1) == y).float()).item())\n",
        "    train_acc.append(100 * torch.mean((torch.argmax(y_hat, axis=1) == y).float()).item())\n",
        "    model.eval()\n",
        "    x, y = next(iter(test_loader))\n",
        "    preds = torch.argmax(model(x), axis=1)\n",
        "    test_acc.append(100 * torch.mean((preds == y).float()).item())\n",
        "    model.train()\n",
        "  return train_acc, test_acc"
      ],
      "metadata": {
        "id": "zTyhavb7drxQ"
      },
      "execution_count": null,
      "outputs": []
    },
    {
      "cell_type": "code",
      "source": [
        "a, b = build()"
      ],
      "metadata": {
        "colab": {
          "base_uri": "https://localhost:8080/"
        },
        "id": "rcS9KcSVf7fp",
        "outputId": "6de3713c-8a28-4399-e24c-14013c551596"
      },
      "execution_count": null,
      "outputs": [
        {
          "output_type": "stream",
          "name": "stderr",
          "text": [
            "/usr/local/lib/python3.7/dist-packages/torch/nn/modules/container.py:141: UserWarning: Implicit dimension choice for softmax has been deprecated. Change the call to include dim=X as an argument.\n",
            "  input = module(input)\n"
          ]
        }
      ]
    },
    {
      "cell_type": "code",
      "source": [
        "fig = plt.figure(figsize=(4, 4))\n",
        "plt.plot(a)\n",
        "plt.plot(b)\n",
        "plt.legend([\"Train\", \"test\"]);"
      ],
      "metadata": {
        "colab": {
          "base_uri": "https://localhost:8080/",
          "height": 353
        },
        "id": "z1TEbvPPf-zq",
        "outputId": "b0f676b9-34d7-4817-aa58-91cad17e7ba7"
      },
      "execution_count": null,
      "outputs": [
        {
          "output_type": "display_data",
          "data": {
            "text/plain": [
              "<Figure size 288x288 with 1 Axes>"
            ],
            "image/svg+xml": "<?xml version=\"1.0\" encoding=\"utf-8\" standalone=\"no\"?>\n<!DOCTYPE svg PUBLIC \"-//W3C//DTD SVG 1.1//EN\"\n  \"http://www.w3.org/Graphics/SVG/1.1/DTD/svg11.dtd\">\n<!-- Created with matplotlib (https://matplotlib.org/) -->\n<svg height=\"248.518125pt\" version=\"1.1\" viewBox=\"0 0 266.470158 248.518125\" width=\"266.470158pt\" xmlns=\"http://www.w3.org/2000/svg\" xmlns:xlink=\"http://www.w3.org/1999/xlink\">\n <defs>\n  <style type=\"text/css\">\n*{stroke-linecap:butt;stroke-linejoin:round;}\n  </style>\n </defs>\n <g id=\"figure_1\">\n  <g id=\"patch_1\">\n   <path d=\"M 0 248.518125 \nL 266.470158 248.518125 \nL 266.470158 0 \nL 0 0 \nz\n\" style=\"fill:none;\"/>\n  </g>\n  <g id=\"axes_1\">\n   <g id=\"patch_2\">\n    <path d=\"M 33.2875 224.64 \nL 256.4875 224.64 \nL 256.4875 7.2 \nL 33.2875 7.2 \nz\n\" style=\"fill:#ffffff;\"/>\n   </g>\n   <g id=\"matplotlib.axis_1\">\n    <g id=\"xtick_1\">\n     <g id=\"line2d_1\">\n      <defs>\n       <path d=\"M 0 0 \nL 0 3.5 \n\" id=\"m12fb1e411c\" style=\"stroke:#000000;stroke-width:0.8;\"/>\n      </defs>\n      <g>\n       <use style=\"stroke:#000000;stroke-width:0.8;\" x=\"43.432955\" xlink:href=\"#m12fb1e411c\" y=\"224.64\"/>\n      </g>\n     </g>\n     <g id=\"text_1\">\n      <!-- 0 -->\n      <defs>\n       <path d=\"M 31.78125 66.40625 \nQ 24.171875 66.40625 20.328125 58.90625 \nQ 16.5 51.421875 16.5 36.375 \nQ 16.5 21.390625 20.328125 13.890625 \nQ 24.171875 6.390625 31.78125 6.390625 \nQ 39.453125 6.390625 43.28125 13.890625 \nQ 47.125 21.390625 47.125 36.375 \nQ 47.125 51.421875 43.28125 58.90625 \nQ 39.453125 66.40625 31.78125 66.40625 \nz\nM 31.78125 74.21875 \nQ 44.046875 74.21875 50.515625 64.515625 \nQ 56.984375 54.828125 56.984375 36.375 \nQ 56.984375 17.96875 50.515625 8.265625 \nQ 44.046875 -1.421875 31.78125 -1.421875 \nQ 19.53125 -1.421875 13.0625 8.265625 \nQ 6.59375 17.96875 6.59375 36.375 \nQ 6.59375 54.828125 13.0625 64.515625 \nQ 19.53125 74.21875 31.78125 74.21875 \nz\n\" id=\"DejaVuSans-48\"/>\n      </defs>\n      <g transform=\"translate(40.251705 239.238437)scale(0.1 -0.1)\">\n       <use xlink:href=\"#DejaVuSans-48\"/>\n      </g>\n     </g>\n    </g>\n    <g id=\"xtick_2\">\n     <g id=\"line2d_2\">\n      <g>\n       <use style=\"stroke:#000000;stroke-width:0.8;\" x=\"84.055395\" xlink:href=\"#m12fb1e411c\" y=\"224.64\"/>\n      </g>\n     </g>\n     <g id=\"text_2\">\n      <!-- 200 -->\n      <defs>\n       <path d=\"M 19.1875 8.296875 \nL 53.609375 8.296875 \nL 53.609375 0 \nL 7.328125 0 \nL 7.328125 8.296875 \nQ 12.9375 14.109375 22.625 23.890625 \nQ 32.328125 33.6875 34.8125 36.53125 \nQ 39.546875 41.84375 41.421875 45.53125 \nQ 43.3125 49.21875 43.3125 52.78125 \nQ 43.3125 58.59375 39.234375 62.25 \nQ 35.15625 65.921875 28.609375 65.921875 \nQ 23.96875 65.921875 18.8125 64.3125 \nQ 13.671875 62.703125 7.8125 59.421875 \nL 7.8125 69.390625 \nQ 13.765625 71.78125 18.9375 73 \nQ 24.125 74.21875 28.421875 74.21875 \nQ 39.75 74.21875 46.484375 68.546875 \nQ 53.21875 62.890625 53.21875 53.421875 \nQ 53.21875 48.921875 51.53125 44.890625 \nQ 49.859375 40.875 45.40625 35.40625 \nQ 44.1875 33.984375 37.640625 27.21875 \nQ 31.109375 20.453125 19.1875 8.296875 \nz\n\" id=\"DejaVuSans-50\"/>\n      </defs>\n      <g transform=\"translate(74.511645 239.238437)scale(0.1 -0.1)\">\n       <use xlink:href=\"#DejaVuSans-50\"/>\n       <use x=\"63.623047\" xlink:href=\"#DejaVuSans-48\"/>\n       <use x=\"127.246094\" xlink:href=\"#DejaVuSans-48\"/>\n      </g>\n     </g>\n    </g>\n    <g id=\"xtick_3\">\n     <g id=\"line2d_3\">\n      <g>\n       <use style=\"stroke:#000000;stroke-width:0.8;\" x=\"124.677836\" xlink:href=\"#m12fb1e411c\" y=\"224.64\"/>\n      </g>\n     </g>\n     <g id=\"text_3\">\n      <!-- 400 -->\n      <defs>\n       <path d=\"M 37.796875 64.3125 \nL 12.890625 25.390625 \nL 37.796875 25.390625 \nz\nM 35.203125 72.90625 \nL 47.609375 72.90625 \nL 47.609375 25.390625 \nL 58.015625 25.390625 \nL 58.015625 17.1875 \nL 47.609375 17.1875 \nL 47.609375 0 \nL 37.796875 0 \nL 37.796875 17.1875 \nL 4.890625 17.1875 \nL 4.890625 26.703125 \nz\n\" id=\"DejaVuSans-52\"/>\n      </defs>\n      <g transform=\"translate(115.134086 239.238437)scale(0.1 -0.1)\">\n       <use xlink:href=\"#DejaVuSans-52\"/>\n       <use x=\"63.623047\" xlink:href=\"#DejaVuSans-48\"/>\n       <use x=\"127.246094\" xlink:href=\"#DejaVuSans-48\"/>\n      </g>\n     </g>\n    </g>\n    <g id=\"xtick_4\">\n     <g id=\"line2d_4\">\n      <g>\n       <use style=\"stroke:#000000;stroke-width:0.8;\" x=\"165.300276\" xlink:href=\"#m12fb1e411c\" y=\"224.64\"/>\n      </g>\n     </g>\n     <g id=\"text_4\">\n      <!-- 600 -->\n      <defs>\n       <path d=\"M 33.015625 40.375 \nQ 26.375 40.375 22.484375 35.828125 \nQ 18.609375 31.296875 18.609375 23.390625 \nQ 18.609375 15.53125 22.484375 10.953125 \nQ 26.375 6.390625 33.015625 6.390625 \nQ 39.65625 6.390625 43.53125 10.953125 \nQ 47.40625 15.53125 47.40625 23.390625 \nQ 47.40625 31.296875 43.53125 35.828125 \nQ 39.65625 40.375 33.015625 40.375 \nz\nM 52.59375 71.296875 \nL 52.59375 62.3125 \nQ 48.875 64.0625 45.09375 64.984375 \nQ 41.3125 65.921875 37.59375 65.921875 \nQ 27.828125 65.921875 22.671875 59.328125 \nQ 17.53125 52.734375 16.796875 39.40625 \nQ 19.671875 43.65625 24.015625 45.921875 \nQ 28.375 48.1875 33.59375 48.1875 \nQ 44.578125 48.1875 50.953125 41.515625 \nQ 57.328125 34.859375 57.328125 23.390625 \nQ 57.328125 12.15625 50.6875 5.359375 \nQ 44.046875 -1.421875 33.015625 -1.421875 \nQ 20.359375 -1.421875 13.671875 8.265625 \nQ 6.984375 17.96875 6.984375 36.375 \nQ 6.984375 53.65625 15.1875 63.9375 \nQ 23.390625 74.21875 37.203125 74.21875 \nQ 40.921875 74.21875 44.703125 73.484375 \nQ 48.484375 72.75 52.59375 71.296875 \nz\n\" id=\"DejaVuSans-54\"/>\n      </defs>\n      <g transform=\"translate(155.756526 239.238437)scale(0.1 -0.1)\">\n       <use xlink:href=\"#DejaVuSans-54\"/>\n       <use x=\"63.623047\" xlink:href=\"#DejaVuSans-48\"/>\n       <use x=\"127.246094\" xlink:href=\"#DejaVuSans-48\"/>\n      </g>\n     </g>\n    </g>\n    <g id=\"xtick_5\">\n     <g id=\"line2d_5\">\n      <g>\n       <use style=\"stroke:#000000;stroke-width:0.8;\" x=\"205.922717\" xlink:href=\"#m12fb1e411c\" y=\"224.64\"/>\n      </g>\n     </g>\n     <g id=\"text_5\">\n      <!-- 800 -->\n      <defs>\n       <path d=\"M 31.78125 34.625 \nQ 24.75 34.625 20.71875 30.859375 \nQ 16.703125 27.09375 16.703125 20.515625 \nQ 16.703125 13.921875 20.71875 10.15625 \nQ 24.75 6.390625 31.78125 6.390625 \nQ 38.8125 6.390625 42.859375 10.171875 \nQ 46.921875 13.96875 46.921875 20.515625 \nQ 46.921875 27.09375 42.890625 30.859375 \nQ 38.875 34.625 31.78125 34.625 \nz\nM 21.921875 38.8125 \nQ 15.578125 40.375 12.03125 44.71875 \nQ 8.5 49.078125 8.5 55.328125 \nQ 8.5 64.0625 14.71875 69.140625 \nQ 20.953125 74.21875 31.78125 74.21875 \nQ 42.671875 74.21875 48.875 69.140625 \nQ 55.078125 64.0625 55.078125 55.328125 \nQ 55.078125 49.078125 51.53125 44.71875 \nQ 48 40.375 41.703125 38.8125 \nQ 48.828125 37.15625 52.796875 32.3125 \nQ 56.78125 27.484375 56.78125 20.515625 \nQ 56.78125 9.90625 50.3125 4.234375 \nQ 43.84375 -1.421875 31.78125 -1.421875 \nQ 19.734375 -1.421875 13.25 4.234375 \nQ 6.78125 9.90625 6.78125 20.515625 \nQ 6.78125 27.484375 10.78125 32.3125 \nQ 14.796875 37.15625 21.921875 38.8125 \nz\nM 18.3125 54.390625 \nQ 18.3125 48.734375 21.84375 45.5625 \nQ 25.390625 42.390625 31.78125 42.390625 \nQ 38.140625 42.390625 41.71875 45.5625 \nQ 45.3125 48.734375 45.3125 54.390625 \nQ 45.3125 60.0625 41.71875 63.234375 \nQ 38.140625 66.40625 31.78125 66.40625 \nQ 25.390625 66.40625 21.84375 63.234375 \nQ 18.3125 60.0625 18.3125 54.390625 \nz\n\" id=\"DejaVuSans-56\"/>\n      </defs>\n      <g transform=\"translate(196.378967 239.238437)scale(0.1 -0.1)\">\n       <use xlink:href=\"#DejaVuSans-56\"/>\n       <use x=\"63.623047\" xlink:href=\"#DejaVuSans-48\"/>\n       <use x=\"127.246094\" xlink:href=\"#DejaVuSans-48\"/>\n      </g>\n     </g>\n    </g>\n    <g id=\"xtick_6\">\n     <g id=\"line2d_6\">\n      <g>\n       <use style=\"stroke:#000000;stroke-width:0.8;\" x=\"246.545158\" xlink:href=\"#m12fb1e411c\" y=\"224.64\"/>\n      </g>\n     </g>\n     <g id=\"text_6\">\n      <!-- 1000 -->\n      <defs>\n       <path d=\"M 12.40625 8.296875 \nL 28.515625 8.296875 \nL 28.515625 63.921875 \nL 10.984375 60.40625 \nL 10.984375 69.390625 \nL 28.421875 72.90625 \nL 38.28125 72.90625 \nL 38.28125 8.296875 \nL 54.390625 8.296875 \nL 54.390625 0 \nL 12.40625 0 \nz\n\" id=\"DejaVuSans-49\"/>\n      </defs>\n      <g transform=\"translate(233.820158 239.238437)scale(0.1 -0.1)\">\n       <use xlink:href=\"#DejaVuSans-49\"/>\n       <use x=\"63.623047\" xlink:href=\"#DejaVuSans-48\"/>\n       <use x=\"127.246094\" xlink:href=\"#DejaVuSans-48\"/>\n       <use x=\"190.869141\" xlink:href=\"#DejaVuSans-48\"/>\n      </g>\n     </g>\n    </g>\n   </g>\n   <g id=\"matplotlib.axis_2\">\n    <g id=\"ytick_1\">\n     <g id=\"line2d_7\">\n      <defs>\n       <path d=\"M 0 0 \nL -3.5 0 \n\" id=\"m76ebc83179\" style=\"stroke:#000000;stroke-width:0.8;\"/>\n      </defs>\n      <g>\n       <use style=\"stroke:#000000;stroke-width:0.8;\" x=\"33.2875\" xlink:href=\"#m76ebc83179\" y=\"206.849456\"/>\n      </g>\n     </g>\n     <g id=\"text_7\">\n      <!-- 20 -->\n      <g transform=\"translate(13.5625 210.648674)scale(0.1 -0.1)\">\n       <use xlink:href=\"#DejaVuSans-50\"/>\n       <use x=\"63.623047\" xlink:href=\"#DejaVuSans-48\"/>\n      </g>\n     </g>\n    </g>\n    <g id=\"ytick_2\">\n     <g id=\"line2d_8\">\n      <g>\n       <use style=\"stroke:#000000;stroke-width:0.8;\" x=\"33.2875\" xlink:href=\"#m76ebc83179\" y=\"159.408001\"/>\n      </g>\n     </g>\n     <g id=\"text_8\">\n      <!-- 40 -->\n      <g transform=\"translate(13.5625 163.20722)scale(0.1 -0.1)\">\n       <use xlink:href=\"#DejaVuSans-52\"/>\n       <use x=\"63.623047\" xlink:href=\"#DejaVuSans-48\"/>\n      </g>\n     </g>\n    </g>\n    <g id=\"ytick_3\">\n     <g id=\"line2d_9\">\n      <g>\n       <use style=\"stroke:#000000;stroke-width:0.8;\" x=\"33.2875\" xlink:href=\"#m76ebc83179\" y=\"111.966546\"/>\n      </g>\n     </g>\n     <g id=\"text_9\">\n      <!-- 60 -->\n      <g transform=\"translate(13.5625 115.765765)scale(0.1 -0.1)\">\n       <use xlink:href=\"#DejaVuSans-54\"/>\n       <use x=\"63.623047\" xlink:href=\"#DejaVuSans-48\"/>\n      </g>\n     </g>\n    </g>\n    <g id=\"ytick_4\">\n     <g id=\"line2d_10\">\n      <g>\n       <use style=\"stroke:#000000;stroke-width:0.8;\" x=\"33.2875\" xlink:href=\"#m76ebc83179\" y=\"64.525091\"/>\n      </g>\n     </g>\n     <g id=\"text_10\">\n      <!-- 80 -->\n      <g transform=\"translate(13.5625 68.32431)scale(0.1 -0.1)\">\n       <use xlink:href=\"#DejaVuSans-56\"/>\n       <use x=\"63.623047\" xlink:href=\"#DejaVuSans-48\"/>\n      </g>\n     </g>\n    </g>\n    <g id=\"ytick_5\">\n     <g id=\"line2d_11\">\n      <g>\n       <use style=\"stroke:#000000;stroke-width:0.8;\" x=\"33.2875\" xlink:href=\"#m76ebc83179\" y=\"17.083636\"/>\n      </g>\n     </g>\n     <g id=\"text_11\">\n      <!-- 100 -->\n      <g transform=\"translate(7.2 20.882855)scale(0.1 -0.1)\">\n       <use xlink:href=\"#DejaVuSans-49\"/>\n       <use x=\"63.623047\" xlink:href=\"#DejaVuSans-48\"/>\n       <use x=\"127.246094\" xlink:href=\"#DejaVuSans-48\"/>\n      </g>\n     </g>\n    </g>\n   </g>\n   <g id=\"line2d_12\">\n    <path clip-path=\"url(#pa56c9f436c)\" d=\"M 43.432955 155.454549 \nL 43.636067 214.756364 \nL 43.839179 194.989092 \nL 44.042291 135.687273 \nL 44.245403 194.989092 \nL 44.448516 155.454549 \nL 44.651628 214.756364 \nL 44.85474 175.221817 \nL 45.057852 56.618187 \nL 45.260964 96.152723 \nL 45.667189 96.152723 \nL 45.870301 115.920005 \nL 46.276525 56.618187 \nL 46.479638 115.920005 \nL 46.68275 76.385455 \nL 46.885862 115.920005 \nL 47.088974 76.385455 \nL 47.495199 155.454549 \nL 47.698311 76.385455 \nL 47.901423 76.385455 \nL 48.104535 155.454549 \nL 48.307647 135.687273 \nL 48.51076 56.618187 \nL 48.713872 96.152723 \nL 48.916984 17.083636 \nL 49.120096 36.850904 \nL 49.323208 96.152723 \nL 49.526321 115.920005 \nL 49.729433 76.385455 \nL 49.932545 115.920005 \nL 50.135657 115.920005 \nL 50.338769 96.152723 \nL 50.948106 96.152723 \nL 51.151218 56.618187 \nL 51.35433 96.152723 \nL 51.557443 96.152723 \nL 51.760555 115.920005 \nL 51.963667 96.152723 \nL 52.166779 115.920005 \nL 52.369891 115.920005 \nL 52.573004 56.618187 \nL 52.776116 56.618187 \nL 52.979228 76.385455 \nL 53.18234 17.083636 \nL 53.385452 56.618187 \nL 53.588565 56.618187 \nL 53.791677 17.083636 \nL 53.994789 56.618187 \nL 54.197901 17.083636 \nL 55.213462 17.083636 \nL 55.416575 36.850904 \nL 55.619687 17.083636 \nL 55.822799 17.083636 \nL 56.025911 36.850904 \nL 56.229023 17.083636 \nL 56.432136 36.850904 \nL 56.635248 17.083636 \nL 58.463258 17.083636 \nL 58.66637 36.850904 \nL 59.072594 36.850904 \nL 59.275706 17.083636 \nL 59.681931 17.083636 \nL 59.885043 56.618187 \nL 60.291267 17.083636 \nL 60.697492 17.083636 \nL 60.900604 36.850904 \nL 61.103716 36.850904 \nL 61.306828 17.083636 \nL 61.509941 36.850904 \nL 61.713053 17.083636 \nL 61.916165 36.850904 \nL 62.119277 36.850904 \nL 62.322389 17.083636 \nL 63.744175 17.083636 \nL 63.947287 36.850904 \nL 64.150399 17.083636 \nL 64.556624 17.083636 \nL 64.759736 36.850904 \nL 64.962848 17.083636 \nL 65.369072 17.083636 \nL 65.572185 36.850904 \nL 65.978409 36.850904 \nL 66.181521 17.083636 \nL 66.384633 36.850904 \nL 66.587746 17.083636 \nL 66.790858 36.850904 \nL 66.99397 17.083636 \nL 67.603307 17.083636 \nL 67.806419 36.850904 \nL 68.009531 17.083636 \nL 69.228204 17.083636 \nL 69.634429 56.618187 \nL 69.837541 17.083636 \nL 70.040653 17.083636 \nL 70.243765 36.850904 \nL 70.446878 17.083636 \nL 71.462439 17.083636 \nL 71.665551 36.850904 \nL 71.868663 17.083636 \nL 72.274887 17.083636 \nL 72.478 36.850904 \nL 72.681112 17.083636 \nL 72.884224 17.083636 \nL 73.087336 36.850904 \nL 73.290448 17.083636 \nL 73.493561 36.850904 \nL 73.696673 36.850904 \nL 73.899785 17.083636 \nL 74.102897 36.850904 \nL 74.306009 17.083636 \nL 74.509122 56.618187 \nL 74.712234 17.083636 \nL 74.915346 36.850904 \nL 75.118458 17.083636 \nL 75.32157 17.083636 \nL 75.524683 36.850904 \nL 75.727795 17.083636 \nL 75.930907 17.083636 \nL 76.134019 36.850904 \nL 76.540244 36.850904 \nL 76.743356 17.083636 \nL 76.946468 17.083636 \nL 77.14958 56.618187 \nL 77.352692 17.083636 \nL 77.758917 17.083636 \nL 77.962029 36.850904 \nL 78.165141 17.083636 \nL 79.383814 17.083636 \nL 79.586927 36.850904 \nL 79.790039 17.083636 \nL 79.993151 17.083636 \nL 80.196263 36.850904 \nL 80.399376 17.083636 \nL 81.008712 17.083636 \nL 81.211824 36.850904 \nL 81.414937 17.083636 \nL 81.821161 17.083636 \nL 82.024273 36.850904 \nL 82.227385 17.083636 \nL 83.649171 17.083636 \nL 83.852283 36.850904 \nL 84.055395 36.850904 \nL 84.258507 17.083636 \nL 84.46162 36.850904 \nL 84.664732 17.083636 \nL 84.867844 56.618187 \nL 85.070956 36.850904 \nL 85.274068 36.850904 \nL 85.477181 17.083636 \nL 86.898966 17.083636 \nL 87.102078 36.850904 \nL 87.30519 17.083636 \nL 87.914527 17.083636 \nL 88.117639 36.850904 \nL 88.320751 36.850904 \nL 88.523864 17.083636 \nL 88.726976 36.850904 \nL 88.930088 17.083636 \nL 89.1332 36.850904 \nL 89.336312 17.083636 \nL 89.539425 56.618187 \nL 89.742537 17.083636 \nL 90.351873 17.083636 \nL 90.554986 56.618187 \nL 90.758098 17.083636 \nL 90.96121 36.850904 \nL 91.164322 36.850904 \nL 91.367434 17.083636 \nL 91.570547 17.083636 \nL 91.773659 36.850904 \nL 91.976771 17.083636 \nL 92.382995 56.618187 \nL 92.78922 17.083636 \nL 93.195444 17.083636 \nL 93.398557 36.850904 \nL 93.601669 17.083636 \nL 93.804781 17.083636 \nL 94.007893 36.850904 \nL 94.211005 17.083636 \nL 94.414118 17.083636 \nL 94.61723 36.850904 \nL 94.820342 17.083636 \nL 95.023454 36.850904 \nL 95.226566 96.152723 \nL 95.429679 17.083636 \nL 95.835903 17.083636 \nL 96.039015 36.850904 \nL 96.242127 36.850904 \nL 96.44524 17.083636 \nL 98.476362 17.083636 \nL 98.679474 36.850904 \nL 98.882586 17.083636 \nL 99.898147 17.083636 \nL 100.101259 36.850904 \nL 100.507484 36.850904 \nL 100.710596 17.083636 \nL 100.913708 56.618187 \nL 101.11682 17.083636 \nL 101.319932 36.850904 \nL 101.523045 17.083636 \nL 102.741718 17.083636 \nL 102.94483 36.850904 \nL 103.147942 17.083636 \nL 103.757279 17.083636 \nL 103.960391 36.850904 \nL 104.163503 36.850904 \nL 104.366615 17.083636 \nL 104.569728 36.850904 \nL 104.77284 17.083636 \nL 105.585289 17.083636 \nL 105.788401 36.850904 \nL 105.991513 17.083636 \nL 106.194625 36.850904 \nL 106.803962 36.850904 \nL 107.007074 17.083636 \nL 109.241308 17.083636 \nL 109.444421 36.850904 \nL 109.647533 17.083636 \nL 109.850645 17.083636 \nL 110.053757 36.850904 \nL 110.663094 36.850904 \nL 110.866206 17.083636 \nL 112.084879 17.083636 \nL 112.287991 36.850904 \nL 112.491104 17.083636 \nL 113.10044 17.083636 \nL 113.303552 36.850904 \nL 113.506665 17.083636 \nL 114.725338 17.083636 \nL 114.92845 56.618187 \nL 115.131562 36.850904 \nL 115.334674 36.850904 \nL 115.537787 17.083636 \nL 116.147123 17.083636 \nL 116.350235 36.850904 \nL 116.553348 17.083636 \nL 116.959572 17.083636 \nL 117.162684 36.850904 \nL 117.365796 17.083636 \nL 117.568909 17.083636 \nL 117.772021 56.618187 \nL 117.975133 56.618187 \nL 118.178245 17.083636 \nL 118.990694 17.083636 \nL 119.193806 36.850904 \nL 119.396919 17.083636 \nL 121.834265 17.083636 \nL 122.037377 36.850904 \nL 122.240489 17.083636 \nL 124.068499 17.083636 \nL 124.271611 36.850904 \nL 124.474724 17.083636 \nL 124.677836 17.083636 \nL 124.880948 36.850904 \nL 125.08406 17.083636 \nL 125.287172 17.083636 \nL 125.490285 36.850904 \nL 125.693397 17.083636 \nL 127.521407 17.083636 \nL 127.724519 36.850904 \nL 127.927631 17.083636 \nL 128.333855 17.083636 \nL 128.536968 36.850904 \nL 129.146304 36.850904 \nL 129.349416 17.083636 \nL 129.552529 36.850904 \nL 129.755641 36.850904 \nL 129.958753 17.083636 \nL 130.364977 17.083636 \nL 130.56809 36.850904 \nL 130.771202 17.083636 \nL 131.380538 17.083636 \nL 131.583651 36.850904 \nL 131.786763 17.083636 \nL 132.192987 17.083636 \nL 132.3961 36.850904 \nL 132.599212 17.083636 \nL 133.005436 17.083636 \nL 133.208548 36.850904 \nL 133.411661 17.083636 \nL 133.817885 17.083636 \nL 134.020997 36.850904 \nL 134.224109 17.083636 \nL 134.427222 36.850904 \nL 134.630334 17.083636 \nL 135.23967 17.083636 \nL 135.442783 36.850904 \nL 135.645895 17.083636 \nL 136.052119 17.083636 \nL 136.255231 36.850904 \nL 136.458344 17.083636 \nL 137.677017 17.083636 \nL 137.880129 36.850904 \nL 138.083241 17.083636 \nL 138.286353 36.850904 \nL 138.489466 17.083636 \nL 139.708139 17.083636 \nL 139.911251 36.850904 \nL 140.114363 17.083636 \nL 140.317475 17.083636 \nL 140.520588 36.850904 \nL 140.7237 17.083636 \nL 140.926812 17.083636 \nL 141.129924 36.850904 \nL 141.333036 17.083636 \nL 142.145485 17.083636 \nL 142.348597 56.618187 \nL 142.55171 17.083636 \nL 143.364158 17.083636 \nL 143.567271 36.850904 \nL 143.770383 17.083636 \nL 143.973495 17.083636 \nL 144.176607 36.850904 \nL 144.379719 36.850904 \nL 144.582832 17.083636 \nL 144.989056 17.083636 \nL 145.192168 36.850904 \nL 145.395281 17.083636 \nL 145.598393 17.083636 \nL 145.801505 36.850904 \nL 146.004617 17.083636 \nL 146.207729 17.083636 \nL 146.410842 36.850904 \nL 146.613954 17.083636 \nL 149.863749 17.083636 \nL 150.066861 36.850904 \nL 150.473086 36.850904 \nL 150.676198 17.083636 \nL 151.488647 17.083636 \nL 151.691759 36.850904 \nL 151.894871 17.083636 \nL 153.316656 17.083636 \nL 153.519769 36.850904 \nL 153.722881 17.083636 \nL 155.347778 17.083636 \nL 155.550891 56.618187 \nL 155.754003 17.083636 \nL 156.769564 17.083636 \nL 156.972676 56.618187 \nL 157.175788 17.083636 \nL 157.582013 17.083636 \nL 157.785125 56.618187 \nL 157.988237 17.083636 \nL 158.191349 56.618187 \nL 158.394462 17.083636 \nL 159.003798 17.083636 \nL 159.20691 36.850904 \nL 159.410023 17.083636 \nL 159.613135 36.850904 \nL 159.816247 17.083636 \nL 160.222471 17.083636 \nL 160.425584 36.850904 \nL 160.628696 36.850904 \nL 160.831808 17.083636 \nL 161.03492 17.083636 \nL 161.238032 36.850904 \nL 161.441145 17.083636 \nL 162.050481 17.083636 \nL 162.253593 36.850904 \nL 162.456706 17.083636 \nL 163.269154 17.083636 \nL 163.472267 56.618187 \nL 163.878491 17.083636 \nL 164.284715 17.083636 \nL 164.487828 36.850904 \nL 164.69094 17.083636 \nL 164.894052 36.850904 \nL 165.097164 17.083636 \nL 165.909613 17.083636 \nL 166.315837 56.618187 \nL 166.51895 17.083636 \nL 166.722062 36.850904 \nL 166.925174 17.083636 \nL 167.534511 17.083636 \nL 167.737623 36.850904 \nL 167.940735 17.083636 \nL 168.143847 17.083636 \nL 168.346959 56.618187 \nL 168.550072 17.083636 \nL 170.174969 17.083636 \nL 170.378081 36.850904 \nL 170.581194 17.083636 \nL 170.784306 17.083636 \nL 170.987418 36.850904 \nL 171.19053 36.850904 \nL 171.393643 17.083636 \nL 171.596755 17.083636 \nL 171.799867 36.850904 \nL 172.002979 17.083636 \nL 172.206091 36.850904 \nL 172.409204 36.850904 \nL 172.612316 17.083636 \nL 173.627877 17.083636 \nL 173.830989 36.850904 \nL 174.034101 17.083636 \nL 174.237213 36.850904 \nL 174.440326 17.083636 \nL 174.84655 17.083636 \nL 175.049662 36.850904 \nL 175.455887 36.850904 \nL 175.658999 17.083636 \nL 176.471448 17.083636 \nL 176.67456 36.850904 \nL 176.877672 36.850904 \nL 177.080784 17.083636 \nL 177.487009 17.083636 \nL 177.690121 36.850904 \nL 177.893233 17.083636 \nL 178.096345 56.618187 \nL 178.50257 17.083636 \nL 182.158589 17.083636 \nL 182.361701 36.850904 \nL 182.564814 17.083636 \nL 182.767926 36.850904 \nL 182.971038 17.083636 \nL 186.423946 17.083636 \nL 186.627058 36.850904 \nL 186.83017 36.850904 \nL 187.033282 17.083636 \nL 189.267516 17.083636 \nL 189.470629 36.850904 \nL 189.673741 36.850904 \nL 189.876853 17.083636 \nL 190.079965 36.850904 \nL 190.283077 17.083636 \nL 190.689302 17.083636 \nL 190.892414 36.850904 \nL 191.095526 17.083636 \nL 192.314199 17.083636 \nL 192.517312 36.850904 \nL 192.720424 17.083636 \nL 192.923536 36.850904 \nL 193.126648 36.850904 \nL 193.32976 17.083636 \nL 196.173331 17.083636 \nL 196.376443 36.850904 \nL 196.579556 17.083636 \nL 199.626239 17.083636 \nL 199.829351 36.850904 \nL 200.032463 17.083636 \nL 200.438688 17.083636 \nL 200.6418 36.850904 \nL 200.844912 36.850904 \nL 201.048024 17.083636 \nL 202.46981 17.083636 \nL 202.672922 56.618187 \nL 202.876034 17.083636 \nL 203.079146 36.850904 \nL 203.282258 17.083636 \nL 203.891595 17.083636 \nL 204.094707 36.850904 \nL 204.297819 17.083636 \nL 204.907156 17.083636 \nL 205.110268 36.850904 \nL 205.31338 17.083636 \nL 205.922717 17.083636 \nL 206.125829 36.850904 \nL 206.328941 17.083636 \nL 206.532054 36.850904 \nL 206.735166 17.083636 \nL 207.14139 17.083636 \nL 207.344502 36.850904 \nL 207.547615 36.850904 \nL 207.750727 17.083636 \nL 208.156951 17.083636 \nL 208.360063 36.850904 \nL 208.563176 17.083636 \nL 209.781849 17.083636 \nL 209.984961 36.850904 \nL 210.188073 17.083636 \nL 210.391186 17.083636 \nL 210.594298 36.850904 \nL 210.79741 17.083636 \nL 212.016083 17.083636 \nL 212.422308 56.618187 \nL 212.62542 17.083636 \nL 212.828532 36.850904 \nL 213.234756 36.850904 \nL 213.437869 17.083636 \nL 214.047205 17.083636 \nL 214.250317 56.618187 \nL 214.45343 17.083636 \nL 214.656542 36.850904 \nL 214.859654 17.083636 \nL 215.062766 36.850904 \nL 215.265878 17.083636 \nL 215.875215 17.083636 \nL 216.078327 56.618187 \nL 216.281439 17.083636 \nL 216.687664 17.083636 \nL 216.890776 56.618187 \nL 217.093888 17.083636 \nL 217.297 36.850904 \nL 217.500113 17.083636 \nL 217.703225 17.083636 \nL 217.906337 36.850904 \nL 218.109449 17.083636 \nL 218.718786 17.083636 \nL 218.921898 36.850904 \nL 219.12501 36.850904 \nL 219.328122 17.083636 \nL 219.531235 17.083636 \nL 219.734347 36.850904 \nL 219.937459 17.083636 \nL 220.140571 17.083636 \nL 220.343683 36.850904 \nL 220.546796 17.083636 \nL 221.359244 17.083636 \nL 221.562357 36.850904 \nL 221.765469 36.850904 \nL 221.968581 17.083636 \nL 222.171693 17.083636 \nL 222.374805 36.850904 \nL 222.577918 36.850904 \nL 222.78103 17.083636 \nL 222.984142 36.850904 \nL 223.390367 36.850904 \nL 223.593479 17.083636 \nL 224.60904 17.083636 \nL 224.812152 36.850904 \nL 225.015264 36.850904 \nL 225.218376 17.083636 \nL 225.624601 17.083636 \nL 225.827713 36.850904 \nL 226.030825 17.083636 \nL 226.233937 36.850904 \nL 226.43705 17.083636 \nL 227.249498 17.083636 \nL 227.452611 56.618187 \nL 227.655723 17.083636 \nL 227.858835 36.850904 \nL 228.061947 36.850904 \nL 228.265059 17.083636 \nL 228.671284 17.083636 \nL 228.874396 36.850904 \nL 229.077508 17.083636 \nL 229.686845 17.083636 \nL 229.889957 36.850904 \nL 230.093069 17.083636 \nL 230.296181 36.850904 \nL 230.499294 17.083636 \nL 231.514855 17.083636 \nL 231.717967 36.850904 \nL 231.921079 17.083636 \nL 232.124191 36.850904 \nL 232.327303 17.083636 \nL 232.733528 56.618187 \nL 232.93664 17.083636 \nL 233.545977 17.083636 \nL 233.749089 36.850904 \nL 233.952201 17.083636 \nL 234.358425 17.083636 \nL 234.561538 36.850904 \nL 234.76465 17.083636 \nL 234.967762 36.850904 \nL 235.170874 17.083636 \nL 235.780211 17.083636 \nL 235.983323 36.850904 \nL 236.186435 17.083636 \nL 236.795772 17.083636 \nL 236.998884 56.618187 \nL 237.201996 17.083636 \nL 237.405109 17.083636 \nL 237.608221 36.850904 \nL 237.811333 17.083636 \nL 238.217557 17.083636 \nL 238.42067 36.850904 \nL 238.623782 17.083636 \nL 239.030006 17.083636 \nL 239.233118 36.850904 \nL 239.436231 17.083636 \nL 240.045567 17.083636 \nL 240.248679 36.850904 \nL 240.451792 17.083636 \nL 241.26424 17.083636 \nL 241.467353 56.618187 \nL 241.670465 36.850904 \nL 241.873577 36.850904 \nL 242.076689 17.083636 \nL 242.279801 17.083636 \nL 242.482914 36.850904 \nL 242.686026 17.083636 \nL 243.295362 17.083636 \nL 243.498475 36.850904 \nL 243.701587 36.850904 \nL 243.904699 17.083636 \nL 244.107811 36.850904 \nL 244.310923 17.083636 \nL 244.514036 36.850904 \nL 244.717148 17.083636 \nL 244.92026 36.850904 \nL 245.123372 17.083636 \nL 245.529597 56.618187 \nL 245.935821 17.083636 \nL 246.138933 56.618187 \nL 246.342045 17.083636 \nL 246.342045 17.083636 \n\" style=\"fill:none;stroke:#1f77b4;stroke-linecap:square;stroke-width:1.5;\"/>\n   </g>\n   <g id=\"line2d_13\">\n    <path clip-path=\"url(#pa56c9f436c)\" d=\"M 43.432955 159.407999 \nL 44.85474 159.407999 \nL 45.057852 88.245821 \nL 45.260964 80.338906 \nL 50.948106 80.338906 \nL 51.151218 72.432004 \nL 51.963667 72.432004 \nL 52.166779 64.525088 \nL 52.573004 64.525088 \nL 52.776116 56.618187 \nL 53.791677 56.618187 \nL 53.994789 48.711271 \nL 54.197901 56.618187 \nL 54.604126 40.804369 \nL 54.807238 48.711271 \nL 55.01035 48.711271 \nL 55.213462 40.804369 \nL 55.619687 40.804369 \nL 55.822799 48.711271 \nL 56.025911 24.990552 \nL 56.229023 24.990552 \nL 56.432136 32.897454 \nL 56.635248 24.990552 \nL 56.83836 40.804369 \nL 57.244584 24.990552 \nL 58.057033 24.990552 \nL 58.260145 40.804369 \nL 58.463258 24.990552 \nL 60.088155 24.990552 \nL 60.291267 17.083636 \nL 60.49438 24.990552 \nL 61.916165 24.990552 \nL 62.119277 17.083636 \nL 62.322389 24.990552 \nL 64.353511 24.990552 \nL 64.556624 40.804369 \nL 64.962848 24.990552 \nL 65.572185 24.990552 \nL 65.775297 17.083636 \nL 65.978409 24.990552 \nL 66.181521 24.990552 \nL 66.384633 17.083636 \nL 66.587746 24.990552 \nL 66.790858 17.083636 \nL 66.99397 24.990552 \nL 67.806419 24.990552 \nL 68.009531 17.083636 \nL 68.212643 24.990552 \nL 68.82198 24.990552 \nL 69.025092 17.083636 \nL 69.228204 24.990552 \nL 71.462439 24.990552 \nL 71.665551 17.083636 \nL 71.868663 24.990552 \nL 73.087336 24.990552 \nL 73.290448 17.083636 \nL 73.493561 24.990552 \nL 73.696673 17.083636 \nL 73.899785 24.990552 \nL 74.306009 24.990552 \nL 74.509122 17.083636 \nL 74.712234 24.990552 \nL 74.915346 17.083636 \nL 75.118458 24.990552 \nL 75.32157 24.990552 \nL 75.524683 17.083636 \nL 75.727795 17.083636 \nL 75.930907 24.990552 \nL 76.337131 24.990552 \nL 76.540244 17.083636 \nL 76.743356 24.990552 \nL 76.946468 24.990552 \nL 77.14958 32.897454 \nL 77.352692 24.990552 \nL 77.555805 32.897454 \nL 77.962029 17.083636 \nL 78.165141 32.897454 \nL 78.571366 17.083636 \nL 78.774478 24.990552 \nL 79.993151 24.990552 \nL 80.196263 17.083636 \nL 80.399376 24.990552 \nL 81.821161 24.990552 \nL 82.024273 17.083636 \nL 82.227385 17.083636 \nL 82.430498 24.990552 \nL 83.446059 24.990552 \nL 83.649171 17.083636 \nL 83.852283 24.990552 \nL 84.055395 17.083636 \nL 84.258507 17.083636 \nL 84.46162 24.990552 \nL 84.664732 17.083636 \nL 84.867844 24.990552 \nL 87.102078 24.990552 \nL 87.30519 17.083636 \nL 87.508303 24.990552 \nL 88.523864 24.990552 \nL 88.726976 17.083636 \nL 88.930088 17.083636 \nL 89.1332 24.990552 \nL 89.336312 24.990552 \nL 89.539425 17.083636 \nL 89.742537 24.990552 \nL 89.945649 17.083636 \nL 90.148761 24.990552 \nL 90.758098 24.990552 \nL 90.96121 17.083636 \nL 91.164322 24.990552 \nL 92.179883 24.990552 \nL 92.382995 17.083636 \nL 92.586108 24.990552 \nL 97.460801 24.990552 \nL 97.663913 17.083636 \nL 97.867025 24.990552 \nL 98.476362 24.990552 \nL 98.679474 17.083636 \nL 98.882586 24.990552 \nL 100.101259 24.990552 \nL 100.304371 17.083636 \nL 100.507484 24.990552 \nL 101.319932 24.990552 \nL 101.523045 17.083636 \nL 101.726157 17.083636 \nL 101.929269 24.990552 \nL 102.132381 24.990552 \nL 102.335493 17.083636 \nL 102.538606 24.990552 \nL 105.382176 24.990552 \nL 105.585289 17.083636 \nL 105.788401 24.990552 \nL 106.397738 24.990552 \nL 106.60085 17.083636 \nL 106.803962 17.083636 \nL 107.007074 24.990552 \nL 112.694216 24.990552 \nL 112.897328 17.083636 \nL 113.10044 24.990552 \nL 114.725338 24.990552 \nL 114.92845 17.083636 \nL 115.131562 24.990552 \nL 115.334674 17.083636 \nL 115.537787 24.990552 \nL 117.568909 24.990552 \nL 117.772021 17.083636 \nL 117.975133 17.083636 \nL 118.178245 24.990552 \nL 118.381357 24.990552 \nL 118.58447 17.083636 \nL 118.787582 24.990552 \nL 118.990694 24.990552 \nL 119.193806 17.083636 \nL 119.396919 24.990552 \nL 120.41248 24.990552 \nL 120.615592 32.897454 \nL 120.818704 24.990552 \nL 122.240489 24.990552 \nL 122.443602 17.083636 \nL 122.646714 17.083636 \nL 122.849826 24.990552 \nL 123.25605 24.990552 \nL 123.459163 17.083636 \nL 123.662275 24.990552 \nL 124.068499 24.990552 \nL 124.271611 17.083636 \nL 124.474724 24.990552 \nL 126.505846 24.990552 \nL 126.708958 17.083636 \nL 126.91207 24.990552 \nL 128.130743 24.990552 \nL 128.333855 17.083636 \nL 128.536968 24.990552 \nL 129.349416 24.990552 \nL 129.552529 17.083636 \nL 129.755641 24.990552 \nL 130.364977 24.990552 \nL 130.56809 17.083636 \nL 130.771202 24.990552 \nL 134.020997 24.990552 \nL 134.224109 17.083636 \nL 134.427222 24.990552 \nL 157.785125 24.990552 \nL 157.988237 17.083636 \nL 158.191349 24.990552 \nL 158.394462 17.083636 \nL 158.597574 24.990552 \nL 160.222471 24.990552 \nL 160.425584 17.083636 \nL 160.628696 24.990552 \nL 163.675379 24.990552 \nL 163.878491 17.083636 \nL 164.081603 24.990552 \nL 165.503389 24.990552 \nL 165.706501 17.083636 \nL 165.909613 24.990552 \nL 173.830989 24.990552 \nL 174.034101 17.083636 \nL 174.237213 17.083636 \nL 174.440326 24.990552 \nL 177.487009 24.990552 \nL 177.690121 17.083636 \nL 177.893233 24.990552 \nL 190.892414 24.990552 \nL 191.095526 17.083636 \nL 191.298638 24.990552 \nL 195.970219 24.990552 \nL 196.173331 17.083636 \nL 196.376443 24.990552 \nL 201.454249 24.990552 \nL 201.657361 17.083636 \nL 201.860473 24.990552 \nL 223.593479 24.990552 \nL 223.796591 17.083636 \nL 223.999703 24.990552 \nL 227.249498 24.990552 \nL 227.452611 17.083636 \nL 227.655723 24.990552 \nL 235.983323 24.990552 \nL 236.186435 17.083636 \nL 236.389548 24.990552 \nL 238.42067 24.990552 \nL 238.623782 17.083636 \nL 238.826894 24.990552 \nL 246.342045 24.990552 \nL 246.342045 24.990552 \n\" style=\"fill:none;stroke:#ff7f0e;stroke-linecap:square;stroke-width:1.5;\"/>\n   </g>\n   <g id=\"patch_3\">\n    <path d=\"M 33.2875 224.64 \nL 33.2875 7.2 \n\" style=\"fill:none;stroke:#000000;stroke-linecap:square;stroke-linejoin:miter;stroke-width:0.8;\"/>\n   </g>\n   <g id=\"patch_4\">\n    <path d=\"M 256.4875 224.64 \nL 256.4875 7.2 \n\" style=\"fill:none;stroke:#000000;stroke-linecap:square;stroke-linejoin:miter;stroke-width:0.8;\"/>\n   </g>\n   <g id=\"patch_5\">\n    <path d=\"M 33.2875 224.64 \nL 256.4875 224.64 \n\" style=\"fill:none;stroke:#000000;stroke-linecap:square;stroke-linejoin:miter;stroke-width:0.8;\"/>\n   </g>\n   <g id=\"patch_6\">\n    <path d=\"M 33.2875 7.2 \nL 256.4875 7.2 \n\" style=\"fill:none;stroke:#000000;stroke-linecap:square;stroke-linejoin:miter;stroke-width:0.8;\"/>\n   </g>\n   <g id=\"legend_1\">\n    <g id=\"patch_7\">\n     <path d=\"M 193.5 219.64 \nL 249.4875 219.64 \nQ 251.4875 219.64 251.4875 217.64 \nL 251.4875 189.28375 \nQ 251.4875 187.28375 249.4875 187.28375 \nL 193.5 187.28375 \nQ 191.5 187.28375 191.5 189.28375 \nL 191.5 217.64 \nQ 191.5 219.64 193.5 219.64 \nz\n\" style=\"fill:#ffffff;opacity:0.8;stroke:#cccccc;stroke-linejoin:miter;\"/>\n    </g>\n    <g id=\"line2d_14\">\n     <path d=\"M 195.5 195.382187 \nL 215.5 195.382187 \n\" style=\"fill:none;stroke:#1f77b4;stroke-linecap:square;stroke-width:1.5;\"/>\n    </g>\n    <g id=\"line2d_15\"/>\n    <g id=\"text_12\">\n     <!-- Train -->\n     <defs>\n      <path d=\"M -0.296875 72.90625 \nL 61.375 72.90625 \nL 61.375 64.59375 \nL 35.5 64.59375 \nL 35.5 0 \nL 25.59375 0 \nL 25.59375 64.59375 \nL -0.296875 64.59375 \nz\n\" id=\"DejaVuSans-84\"/>\n      <path d=\"M 41.109375 46.296875 \nQ 39.59375 47.171875 37.8125 47.578125 \nQ 36.03125 48 33.890625 48 \nQ 26.265625 48 22.1875 43.046875 \nQ 18.109375 38.09375 18.109375 28.8125 \nL 18.109375 0 \nL 9.078125 0 \nL 9.078125 54.6875 \nL 18.109375 54.6875 \nL 18.109375 46.1875 \nQ 20.953125 51.171875 25.484375 53.578125 \nQ 30.03125 56 36.53125 56 \nQ 37.453125 56 38.578125 55.875 \nQ 39.703125 55.765625 41.0625 55.515625 \nz\n\" id=\"DejaVuSans-114\"/>\n      <path d=\"M 34.28125 27.484375 \nQ 23.390625 27.484375 19.1875 25 \nQ 14.984375 22.515625 14.984375 16.5 \nQ 14.984375 11.71875 18.140625 8.90625 \nQ 21.296875 6.109375 26.703125 6.109375 \nQ 34.1875 6.109375 38.703125 11.40625 \nQ 43.21875 16.703125 43.21875 25.484375 \nL 43.21875 27.484375 \nz\nM 52.203125 31.203125 \nL 52.203125 0 \nL 43.21875 0 \nL 43.21875 8.296875 \nQ 40.140625 3.328125 35.546875 0.953125 \nQ 30.953125 -1.421875 24.3125 -1.421875 \nQ 15.921875 -1.421875 10.953125 3.296875 \nQ 6 8.015625 6 15.921875 \nQ 6 25.140625 12.171875 29.828125 \nQ 18.359375 34.515625 30.609375 34.515625 \nL 43.21875 34.515625 \nL 43.21875 35.40625 \nQ 43.21875 41.609375 39.140625 45 \nQ 35.0625 48.390625 27.6875 48.390625 \nQ 23 48.390625 18.546875 47.265625 \nQ 14.109375 46.140625 10.015625 43.890625 \nL 10.015625 52.203125 \nQ 14.9375 54.109375 19.578125 55.046875 \nQ 24.21875 56 28.609375 56 \nQ 40.484375 56 46.34375 49.84375 \nQ 52.203125 43.703125 52.203125 31.203125 \nz\n\" id=\"DejaVuSans-97\"/>\n      <path d=\"M 9.421875 54.6875 \nL 18.40625 54.6875 \nL 18.40625 0 \nL 9.421875 0 \nz\nM 9.421875 75.984375 \nL 18.40625 75.984375 \nL 18.40625 64.59375 \nL 9.421875 64.59375 \nz\n\" id=\"DejaVuSans-105\"/>\n      <path d=\"M 54.890625 33.015625 \nL 54.890625 0 \nL 45.90625 0 \nL 45.90625 32.71875 \nQ 45.90625 40.484375 42.875 44.328125 \nQ 39.84375 48.1875 33.796875 48.1875 \nQ 26.515625 48.1875 22.3125 43.546875 \nQ 18.109375 38.921875 18.109375 30.90625 \nL 18.109375 0 \nL 9.078125 0 \nL 9.078125 54.6875 \nL 18.109375 54.6875 \nL 18.109375 46.1875 \nQ 21.34375 51.125 25.703125 53.5625 \nQ 30.078125 56 35.796875 56 \nQ 45.21875 56 50.046875 50.171875 \nQ 54.890625 44.34375 54.890625 33.015625 \nz\n\" id=\"DejaVuSans-110\"/>\n     </defs>\n     <g transform=\"translate(223.5 198.882187)scale(0.1 -0.1)\">\n      <use xlink:href=\"#DejaVuSans-84\"/>\n      <use x=\"46.333984\" xlink:href=\"#DejaVuSans-114\"/>\n      <use x=\"87.447266\" xlink:href=\"#DejaVuSans-97\"/>\n      <use x=\"148.726562\" xlink:href=\"#DejaVuSans-105\"/>\n      <use x=\"176.509766\" xlink:href=\"#DejaVuSans-110\"/>\n     </g>\n    </g>\n    <g id=\"line2d_16\">\n     <path d=\"M 195.5 210.060312 \nL 215.5 210.060312 \n\" style=\"fill:none;stroke:#ff7f0e;stroke-linecap:square;stroke-width:1.5;\"/>\n    </g>\n    <g id=\"line2d_17\"/>\n    <g id=\"text_13\">\n     <!-- test -->\n     <defs>\n      <path d=\"M 18.3125 70.21875 \nL 18.3125 54.6875 \nL 36.8125 54.6875 \nL 36.8125 47.703125 \nL 18.3125 47.703125 \nL 18.3125 18.015625 \nQ 18.3125 11.328125 20.140625 9.421875 \nQ 21.96875 7.515625 27.59375 7.515625 \nL 36.8125 7.515625 \nL 36.8125 0 \nL 27.59375 0 \nQ 17.1875 0 13.234375 3.875 \nQ 9.28125 7.765625 9.28125 18.015625 \nL 9.28125 47.703125 \nL 2.6875 47.703125 \nL 2.6875 54.6875 \nL 9.28125 54.6875 \nL 9.28125 70.21875 \nz\n\" id=\"DejaVuSans-116\"/>\n      <path d=\"M 56.203125 29.59375 \nL 56.203125 25.203125 \nL 14.890625 25.203125 \nQ 15.484375 15.921875 20.484375 11.0625 \nQ 25.484375 6.203125 34.421875 6.203125 \nQ 39.59375 6.203125 44.453125 7.46875 \nQ 49.3125 8.734375 54.109375 11.28125 \nL 54.109375 2.78125 \nQ 49.265625 0.734375 44.1875 -0.34375 \nQ 39.109375 -1.421875 33.890625 -1.421875 \nQ 20.796875 -1.421875 13.15625 6.1875 \nQ 5.515625 13.8125 5.515625 26.8125 \nQ 5.515625 40.234375 12.765625 48.109375 \nQ 20.015625 56 32.328125 56 \nQ 43.359375 56 49.78125 48.890625 \nQ 56.203125 41.796875 56.203125 29.59375 \nz\nM 47.21875 32.234375 \nQ 47.125 39.59375 43.09375 43.984375 \nQ 39.0625 48.390625 32.421875 48.390625 \nQ 24.90625 48.390625 20.390625 44.140625 \nQ 15.875 39.890625 15.1875 32.171875 \nz\n\" id=\"DejaVuSans-101\"/>\n      <path d=\"M 44.28125 53.078125 \nL 44.28125 44.578125 \nQ 40.484375 46.53125 36.375 47.5 \nQ 32.28125 48.484375 27.875 48.484375 \nQ 21.1875 48.484375 17.84375 46.4375 \nQ 14.5 44.390625 14.5 40.28125 \nQ 14.5 37.15625 16.890625 35.375 \nQ 19.28125 33.59375 26.515625 31.984375 \nL 29.59375 31.296875 \nQ 39.15625 29.25 43.1875 25.515625 \nQ 47.21875 21.78125 47.21875 15.09375 \nQ 47.21875 7.46875 41.1875 3.015625 \nQ 35.15625 -1.421875 24.609375 -1.421875 \nQ 20.21875 -1.421875 15.453125 -0.5625 \nQ 10.6875 0.296875 5.421875 2 \nL 5.421875 11.28125 \nQ 10.40625 8.6875 15.234375 7.390625 \nQ 20.0625 6.109375 24.8125 6.109375 \nQ 31.15625 6.109375 34.5625 8.28125 \nQ 37.984375 10.453125 37.984375 14.40625 \nQ 37.984375 18.0625 35.515625 20.015625 \nQ 33.0625 21.96875 24.703125 23.78125 \nL 21.578125 24.515625 \nQ 13.234375 26.265625 9.515625 29.90625 \nQ 5.8125 33.546875 5.8125 39.890625 \nQ 5.8125 47.609375 11.28125 51.796875 \nQ 16.75 56 26.8125 56 \nQ 31.78125 56 36.171875 55.265625 \nQ 40.578125 54.546875 44.28125 53.078125 \nz\n\" id=\"DejaVuSans-115\"/>\n     </defs>\n     <g transform=\"translate(223.5 213.560312)scale(0.1 -0.1)\">\n      <use xlink:href=\"#DejaVuSans-116\"/>\n      <use x=\"39.208984\" xlink:href=\"#DejaVuSans-101\"/>\n      <use x=\"100.732422\" xlink:href=\"#DejaVuSans-115\"/>\n      <use x=\"152.832031\" xlink:href=\"#DejaVuSans-116\"/>\n     </g>\n    </g>\n   </g>\n  </g>\n </g>\n <defs>\n  <clipPath id=\"pa56c9f436c\">\n   <rect height=\"217.44\" width=\"223.2\" x=\"33.2875\" y=\"7.2\"/>\n  </clipPath>\n </defs>\n</svg>\n"
          },
          "metadata": {
            "needs_background": "light"
          }
        }
      ]
    },
    {
      "cell_type": "code",
      "source": [
        "b[-1]"
      ],
      "metadata": {
        "colab": {
          "base_uri": "https://localhost:8080/"
        },
        "id": "GzcRvDZRgZNC",
        "outputId": "bc7a9a1b-a6c7-403c-afd0-2e32f0dd0f29"
      },
      "execution_count": null,
      "outputs": [
        {
          "output_type": "execute_result",
          "data": {
            "text/plain": [
              "96.66666388511658"
            ]
          },
          "metadata": {},
          "execution_count": 213
        }
      ]
    },
    {
      "cell_type": "code",
      "source": [
        "a[-1]"
      ],
      "metadata": {
        "colab": {
          "base_uri": "https://localhost:8080/"
        },
        "id": "KoAy7eIRgtvS",
        "outputId": "d2790766-4bc5-403c-e74a-5fd4cf02fdd6"
      },
      "execution_count": null,
      "outputs": [
        {
          "output_type": "execute_result",
          "data": {
            "text/plain": [
              "100.0"
            ]
          },
          "metadata": {},
          "execution_count": 214
        }
      ]
    },
    {
      "cell_type": "markdown",
      "source": [
        "## L1 Regularization"
      ],
      "metadata": {
        "id": "eAHiNmC_meRu"
      }
    },
    {
      "cell_type": "code",
      "source": [
        "def annModelNew(l2):\n",
        "  model = nn.Sequential(\n",
        "      nn.Linear(4, 64),\n",
        "      nn.ReLU(),\n",
        "      nn.Linear(64, 64),\n",
        "      nn.ReLU(),\n",
        "      nn.Linear(64, 3),\n",
        "      nn.Softmax()\n",
        "  )\n",
        "\n",
        "  Loss = nn.CrossEntropyLoss()\n",
        "  optimizer = torch.optim.SGD(model.parameters(), lr=0.005)\n",
        "  return model, Loss, optimizer"
      ],
      "metadata": {
        "id": "tq_8EEPEguo4"
      },
      "execution_count": null,
      "outputs": []
    }
  ]
}