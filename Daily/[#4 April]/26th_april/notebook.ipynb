{
 "cells": [
  {
   "cell_type": "markdown",
   "id": "db686a9f",
   "metadata": {},
   "source": [
    "# 26th April Notebook"
   ]
  },
  {
   "cell_type": "code",
   "execution_count": 16,
   "id": "10af7078",
   "metadata": {},
   "outputs": [],
   "source": [
    "import torch\n",
    "import torch.nn as nn\n",
    "import torch.nn.functional as F\n",
    "import matplotlib.pyplot as plt\n",
    "import numpy as np\n",
    "import pandas as pd\n",
    "from torch.utils.data import DataLoader, TensorDataset\n",
    "from sklearn.model_selection import train_test_split\n",
    "import seaborn as sns"
   ]
  },
  {
   "cell_type": "markdown",
   "id": "02c1530b",
   "metadata": {},
   "source": [
    "## Making data for x + y = z"
   ]
  },
  {
   "cell_type": "code",
   "execution_count": 47,
   "id": "e9fcedb3",
   "metadata": {},
   "outputs": [
    {
     "data": {
      "text/plain": [
       "tensor([[ 2188., -7775.],\n",
       "        [ 5605., -2786.],\n",
       "        [-9826.,  3784.],\n",
       "        ...,\n",
       "        [ -211.,  3639.],\n",
       "        [-4849.,   440.],\n",
       "        [ 6474.,  4820.]])"
      ]
     },
     "execution_count": 47,
     "metadata": {},
     "output_type": "execute_result"
    }
   ],
   "source": [
    "data = torch.randint(-10000, 10000, (2000, 2)).float()\n",
    "data"
   ]
  },
  {
   "cell_type": "code",
   "execution_count": 35,
   "id": "18876852",
   "metadata": {},
   "outputs": [],
   "source": [
    "labels = data[:, 0] + data[:, 1]"
   ]
  },
  {
   "cell_type": "code",
   "execution_count": 64,
   "id": "3c41440d",
   "metadata": {},
   "outputs": [
    {
     "data": {
      "text/plain": [
       "tensor([ -8199., -11151.,   7934.,  ...,   9369., -12998.,  -5122.])"
      ]
     },
     "execution_count": 64,
     "metadata": {},
     "output_type": "execute_result"
    }
   ],
   "source": [
    "labels = labels.float()\n",
    "labels"
   ]
  },
  {
   "cell_type": "markdown",
   "id": "9435631f",
   "metadata": {},
   "source": [
    "## making data ready"
   ]
  },
  {
   "cell_type": "code",
   "execution_count": 65,
   "id": "020ca25e",
   "metadata": {},
   "outputs": [],
   "source": [
    "train_data, test_data, train_labels, test_labels = train_test_split(data, labels,\n",
    "                                                                   test_size=0.2)"
   ]
  },
  {
   "cell_type": "code",
   "execution_count": 66,
   "id": "62b4e1f9",
   "metadata": {},
   "outputs": [],
   "source": [
    "train_data = TensorDataset(train_data, train_labels)\n",
    "test_data = TensorDataset(test_data, test_labels)"
   ]
  },
  {
   "cell_type": "code",
   "execution_count": 67,
   "id": "fcf3b982",
   "metadata": {},
   "outputs": [],
   "source": [
    "train_loader = DataLoader(train_data,\n",
    "                         batch_size=32,\n",
    "                         shuffle=True,\n",
    "                         drop_last=True)\n",
    "test_loader = DataLoader(test_data,\n",
    "                        batch_size=test_data.tensors[0].shape[0])"
   ]
  },
  {
   "cell_type": "markdown",
   "id": "93a9b4f3",
   "metadata": {},
   "source": [
    "## Making model"
   ]
  },
  {
   "cell_type": "code",
   "execution_count": 68,
   "id": "ede88a53",
   "metadata": {},
   "outputs": [],
   "source": [
    "def getModel():\n",
    "    \n",
    "    class Model(nn.Module):\n",
    "        def __init__(self):\n",
    "            super().__init__()\n",
    "            # input layer\n",
    "            self.input = nn.Linear(2, 32)\n",
    "            self.hidden_1 = nn.Linear(32, 1)\n",
    "            # output layer\n",
    "            self.output = nn.Linear(1, 1)\n",
    "        \n",
    "        # forward pass\n",
    "        def forward(self, x):\n",
    "            x = F.relu(self.input(x))\n",
    "            x = F.relu(self.hidden_1(x))\n",
    "            return self.output(x)\n",
    "    \n",
    "    Loss = nn.MSELoss()\n",
    "    model = Model()\n",
    "    optimizer = torch.optim.SGD(model.parameters(), lr=0.01)\n",
    "    \n",
    "    return model, optimizer, Loss"
   ]
  },
  {
   "cell_type": "code",
   "execution_count": 79,
   "id": "9fd5c038",
   "metadata": {},
   "outputs": [],
   "source": [
    "def train_model(epochs=5):\n",
    "    model, optimizer, Loss = getModel()\n",
    "    train_loss = []\n",
    "    test_loss = []\n",
    "    for i in range(epochs):\n",
    "        batch_loss = []\n",
    "        for x, y in train_loader:\n",
    "            yh = model(x)\n",
    "            loss = Loss(yh, y)\n",
    "            optimizer.zero_grad()\n",
    "            loss.backward()\n",
    "            optimizer.step()\n",
    "            batch_loss.append(loss.item())\n",
    "        train_loss.append(np.mean(batch_loss))\n",
    "        print(\"MSE: \", train_loss[-1])\n",
    "    return train_loss, test_loss, model\n"
   ]
  },
  {
   "cell_type": "code",
   "execution_count": 80,
   "id": "5f9749f1",
   "metadata": {},
   "outputs": [
    {
     "name": "stdout",
     "output_type": "stream",
     "text": [
      "MSE:  66472665.04\n",
      "MSE:  66422242.48\n",
      "MSE:  66444285.8\n",
      "MSE:  66407563.36\n",
      "MSE:  66413531.68\n"
     ]
    }
   ],
   "source": [
    "train_loss, test_loss, model = train_model()"
   ]
  },
  {
   "cell_type": "code",
   "execution_count": 85,
   "id": "9b99246c",
   "metadata": {},
   "outputs": [],
   "source": [
    "model.eval()\n",
    "yh = model(torch.tensor([1., 2.]))"
   ]
  },
  {
   "cell_type": "markdown",
   "id": "c3a61376",
   "metadata": {},
   "source": [
    "# Working with Heart disease dataset"
   ]
  },
  {
   "cell_type": "code",
   "execution_count": 168,
   "id": "b4bd9540",
   "metadata": {},
   "outputs": [
    {
     "data": {
      "text/html": [
       "<div>\n",
       "<style scoped>\n",
       "    .dataframe tbody tr th:only-of-type {\n",
       "        vertical-align: middle;\n",
       "    }\n",
       "\n",
       "    .dataframe tbody tr th {\n",
       "        vertical-align: top;\n",
       "    }\n",
       "\n",
       "    .dataframe thead th {\n",
       "        text-align: right;\n",
       "    }\n",
       "</style>\n",
       "<table border=\"1\" class=\"dataframe\">\n",
       "  <thead>\n",
       "    <tr style=\"text-align: right;\">\n",
       "      <th></th>\n",
       "      <th>age</th>\n",
       "      <th>sex</th>\n",
       "      <th>cp</th>\n",
       "      <th>trestbps</th>\n",
       "      <th>chol</th>\n",
       "      <th>fbs</th>\n",
       "      <th>restecg</th>\n",
       "      <th>thalach</th>\n",
       "      <th>exang</th>\n",
       "      <th>oldpeak</th>\n",
       "      <th>slope</th>\n",
       "      <th>ca</th>\n",
       "      <th>thal</th>\n",
       "      <th>target</th>\n",
       "    </tr>\n",
       "  </thead>\n",
       "  <tbody>\n",
       "    <tr>\n",
       "      <th>0</th>\n",
       "      <td>52</td>\n",
       "      <td>1</td>\n",
       "      <td>0</td>\n",
       "      <td>125</td>\n",
       "      <td>212</td>\n",
       "      <td>0</td>\n",
       "      <td>1</td>\n",
       "      <td>168</td>\n",
       "      <td>0</td>\n",
       "      <td>1.0</td>\n",
       "      <td>2</td>\n",
       "      <td>2</td>\n",
       "      <td>3</td>\n",
       "      <td>0</td>\n",
       "    </tr>\n",
       "    <tr>\n",
       "      <th>1</th>\n",
       "      <td>53</td>\n",
       "      <td>1</td>\n",
       "      <td>0</td>\n",
       "      <td>140</td>\n",
       "      <td>203</td>\n",
       "      <td>1</td>\n",
       "      <td>0</td>\n",
       "      <td>155</td>\n",
       "      <td>1</td>\n",
       "      <td>3.1</td>\n",
       "      <td>0</td>\n",
       "      <td>0</td>\n",
       "      <td>3</td>\n",
       "      <td>0</td>\n",
       "    </tr>\n",
       "    <tr>\n",
       "      <th>2</th>\n",
       "      <td>70</td>\n",
       "      <td>1</td>\n",
       "      <td>0</td>\n",
       "      <td>145</td>\n",
       "      <td>174</td>\n",
       "      <td>0</td>\n",
       "      <td>1</td>\n",
       "      <td>125</td>\n",
       "      <td>1</td>\n",
       "      <td>2.6</td>\n",
       "      <td>0</td>\n",
       "      <td>0</td>\n",
       "      <td>3</td>\n",
       "      <td>0</td>\n",
       "    </tr>\n",
       "    <tr>\n",
       "      <th>3</th>\n",
       "      <td>61</td>\n",
       "      <td>1</td>\n",
       "      <td>0</td>\n",
       "      <td>148</td>\n",
       "      <td>203</td>\n",
       "      <td>0</td>\n",
       "      <td>1</td>\n",
       "      <td>161</td>\n",
       "      <td>0</td>\n",
       "      <td>0.0</td>\n",
       "      <td>2</td>\n",
       "      <td>1</td>\n",
       "      <td>3</td>\n",
       "      <td>0</td>\n",
       "    </tr>\n",
       "    <tr>\n",
       "      <th>4</th>\n",
       "      <td>62</td>\n",
       "      <td>0</td>\n",
       "      <td>0</td>\n",
       "      <td>138</td>\n",
       "      <td>294</td>\n",
       "      <td>1</td>\n",
       "      <td>1</td>\n",
       "      <td>106</td>\n",
       "      <td>0</td>\n",
       "      <td>1.9</td>\n",
       "      <td>1</td>\n",
       "      <td>3</td>\n",
       "      <td>2</td>\n",
       "      <td>0</td>\n",
       "    </tr>\n",
       "  </tbody>\n",
       "</table>\n",
       "</div>"
      ],
      "text/plain": [
       "   age  sex  cp  trestbps  chol  fbs  restecg  thalach  exang  oldpeak  slope  \\\n",
       "0   52    1   0       125   212    0        1      168      0      1.0      2   \n",
       "1   53    1   0       140   203    1        0      155      1      3.1      0   \n",
       "2   70    1   0       145   174    0        1      125      1      2.6      0   \n",
       "3   61    1   0       148   203    0        1      161      0      0.0      2   \n",
       "4   62    0   0       138   294    1        1      106      0      1.9      1   \n",
       "\n",
       "   ca  thal  target  \n",
       "0   2     3       0  \n",
       "1   0     3       0  \n",
       "2   0     3       0  \n",
       "3   1     3       0  \n",
       "4   3     2       0  "
      ]
     },
     "execution_count": 168,
     "metadata": {},
     "output_type": "execute_result"
    }
   ],
   "source": [
    "data = pd.read_csv(\"data/heart.csv\")\n",
    "data.head()"
   ]
  },
  {
   "cell_type": "code",
   "execution_count": 169,
   "id": "42278ad4",
   "metadata": {},
   "outputs": [],
   "source": [
    "labels = data[\"target\"]\n",
    "data = data.drop(\"target\", axis=1)\n",
    "data = torch.tensor(data.values).float()\n",
    "label = torch.tensor(labels.values).float()"
   ]
  },
  {
   "cell_type": "code",
   "execution_count": 171,
   "id": "e118baab",
   "metadata": {},
   "outputs": [
    {
     "data": {
      "text/plain": [
       "(torch.Size([1025, 13]), torch.Size([1025]))"
      ]
     },
     "execution_count": 171,
     "metadata": {},
     "output_type": "execute_result"
    }
   ],
   "source": [
    "data.shape, label.shape"
   ]
  },
  {
   "cell_type": "code",
   "execution_count": 172,
   "id": "1210d670",
   "metadata": {},
   "outputs": [
    {
     "data": {
      "text/plain": [
       "tensor([[0.],\n",
       "        [0.],\n",
       "        [0.],\n",
       "        ...,\n",
       "        [0.],\n",
       "        [1.],\n",
       "        [0.]])"
      ]
     },
     "execution_count": 172,
     "metadata": {},
     "output_type": "execute_result"
    }
   ],
   "source": [
    "label = label[:, None]\n",
    "label"
   ]
  },
  {
   "cell_type": "markdown",
   "id": "0fca31d5",
   "metadata": {},
   "source": [
    "## Data preprocssing"
   ]
  },
  {
   "cell_type": "code",
   "execution_count": 173,
   "id": "c5bbd665",
   "metadata": {},
   "outputs": [],
   "source": [
    "train_data, test_data, train_label, test_label = train_test_split(data, label, test_size=0.2)"
   ]
  },
  {
   "cell_type": "code",
   "execution_count": 174,
   "id": "b730cd81",
   "metadata": {},
   "outputs": [],
   "source": [
    "train_data = TensorDataset(train_data, train_label)\n",
    "test_data = TensorDataset(test_data, test_label)\n",
    "\n",
    "train_loader = DataLoader(train_data, batch_size=32, shuffle=True, drop_last=True)\n",
    "test_loader = DataLoader(test_data, batch_size=test_data.tensors[0].shape[0])"
   ]
  },
  {
   "cell_type": "markdown",
   "id": "c2f6d85f",
   "metadata": {},
   "source": [
    "## Preparing model"
   ]
  },
  {
   "cell_type": "code",
   "execution_count": 211,
   "id": "1b6208cb",
   "metadata": {},
   "outputs": [],
   "source": [
    "def getModel():\n",
    "    class Model(nn.Module):\n",
    "        def __init__(self):\n",
    "            super().__init__()\n",
    "            self.input = nn.Linear(13, 32)\n",
    "            self.hidden_1 = nn.Linear(32, 128)\n",
    "            self.hidden_2 = nn.Linear(128, 64)\n",
    "            self.hidden_2_2 = nn.Linear(64, 64)\n",
    "            self.hidden_3 = nn.Linear(64, 32)\n",
    "            self.output_layer = nn.Linear(32, 1)\n",
    "        def forward(self, x):\n",
    "            x = F.relu(self.input(x))\n",
    "            x = F.relu(self.hidden_1(x))\n",
    "            x = F.relu(self.hidden_2(x))\n",
    "            x = F.relu(self.hidden_2_2(x))\n",
    "            x = F.relu(self.hidden_3(x))\n",
    "            return self.output_layer(x)\n",
    "    \n",
    "    model = Model()\n",
    "    Loss = nn.BCEWithLogitsLoss()\n",
    "    optimizer = torch.optim.Adam(model.parameters(), lr=0.01)\n",
    "    \n",
    "    return model, Loss, optimizer"
   ]
  },
  {
   "cell_type": "code",
   "execution_count": 212,
   "id": "a1deae02",
   "metadata": {},
   "outputs": [],
   "source": [
    "def train_model(epochs=50):\n",
    "    train_acc = []\n",
    "    train_loss = []\n",
    "    test_acc = []\n",
    "    model, Loss, optimizer = getModel()\n",
    "    \n",
    "    for i in range(epochs):\n",
    "        batch_acc = []\n",
    "        batch_loss = []\n",
    "        for x, y in train_loader:\n",
    "            yh = model(x)\n",
    "            loss = Loss(yh, y)\n",
    "            train_loss.append(loss.item())\n",
    "            optimizer.zero_grad()\n",
    "            loss.backward()\n",
    "            optimizer.step()\n",
    "            correct = (yh > .5) == y\n",
    "            batch_acc.append(100 * torch.mean(correct.float()))\n",
    "        train_acc.append(np.mean(batch_acc))\n",
    "        # computing test\n",
    "        x, y = next(iter(test_loader))\n",
    "        with torch.no_grad():\n",
    "            yh = model(x)\n",
    "        test_acc.append(100 * torch.mean(((yh > .5) == y).float()))\n",
    "        print(f\"Train accuracy: {train_acc[-1]}, Test accuracy: {test_acc[-1]}\")\n",
    "    return train_acc, test_acc, model"
   ]
  },
  {
   "cell_type": "code",
   "execution_count": 213,
   "id": "2837573d",
   "metadata": {},
   "outputs": [
    {
     "name": "stdout",
     "output_type": "stream",
     "text": [
      "Train accuracy: 52.25, Test accuracy: 70.73170471191406\n",
      "Train accuracy: 66.875, Test accuracy: 71.70731353759766\n",
      "Train accuracy: 68.25, Test accuracy: 78.04877471923828\n",
      "Train accuracy: 69.875, Test accuracy: 74.63414764404297\n",
      "Train accuracy: 72.0, Test accuracy: 80.9756088256836\n",
      "Train accuracy: 75.625, Test accuracy: 77.07316589355469\n",
      "Train accuracy: 77.0, Test accuracy: 76.0975570678711\n",
      "Train accuracy: 77.875, Test accuracy: 77.56097412109375\n",
      "Train accuracy: 77.375, Test accuracy: 77.07316589355469\n",
      "Train accuracy: 78.75, Test accuracy: 84.39024353027344\n",
      "Train accuracy: 78.0, Test accuracy: 77.56097412109375\n",
      "Train accuracy: 78.625, Test accuracy: 83.90243530273438\n",
      "Train accuracy: 80.875, Test accuracy: 80.9756088256836\n",
      "Train accuracy: 78.375, Test accuracy: 85.36585235595703\n",
      "Train accuracy: 78.625, Test accuracy: 84.8780517578125\n",
      "Train accuracy: 77.25, Test accuracy: 82.43902587890625\n",
      "Train accuracy: 80.0, Test accuracy: 83.90243530273438\n",
      "Train accuracy: 79.5, Test accuracy: 81.95121765136719\n",
      "Train accuracy: 83.125, Test accuracy: 84.39024353027344\n",
      "Train accuracy: 81.625, Test accuracy: 80.9756088256836\n",
      "Train accuracy: 81.875, Test accuracy: 83.90243530273438\n",
      "Train accuracy: 81.5, Test accuracy: 85.36585235595703\n",
      "Train accuracy: 83.25, Test accuracy: 80.0\n",
      "Train accuracy: 83.0, Test accuracy: 85.36585235595703\n",
      "Train accuracy: 83.875, Test accuracy: 84.8780517578125\n",
      "Train accuracy: 80.625, Test accuracy: 82.43902587890625\n",
      "Train accuracy: 81.0, Test accuracy: 81.46341705322266\n",
      "Train accuracy: 81.875, Test accuracy: 84.39024353027344\n",
      "Train accuracy: 82.75, Test accuracy: 82.92682647705078\n",
      "Train accuracy: 78.75, Test accuracy: 83.41463470458984\n",
      "Train accuracy: 78.75, Test accuracy: 84.8780517578125\n",
      "Train accuracy: 82.625, Test accuracy: 80.48780822753906\n",
      "Train accuracy: 84.0, Test accuracy: 83.41463470458984\n",
      "Train accuracy: 82.25, Test accuracy: 82.92682647705078\n",
      "Train accuracy: 83.25, Test accuracy: 80.9756088256836\n",
      "Train accuracy: 81.5, Test accuracy: 83.90243530273438\n",
      "Train accuracy: 82.625, Test accuracy: 86.34146118164062\n",
      "Train accuracy: 81.375, Test accuracy: 60.97561264038086\n",
      "Train accuracy: 80.625, Test accuracy: 81.95121765136719\n",
      "Train accuracy: 81.875, Test accuracy: 84.39024353027344\n",
      "Train accuracy: 82.5, Test accuracy: 83.90243530273438\n",
      "Train accuracy: 80.25, Test accuracy: 80.9756088256836\n",
      "Train accuracy: 81.625, Test accuracy: 84.8780517578125\n",
      "Train accuracy: 83.5, Test accuracy: 83.90243530273438\n",
      "Train accuracy: 81.5, Test accuracy: 79.0243911743164\n",
      "Train accuracy: 80.625, Test accuracy: 83.90243530273438\n",
      "Train accuracy: 83.5, Test accuracy: 83.90243530273438\n",
      "Train accuracy: 84.625, Test accuracy: 83.41463470458984\n",
      "Train accuracy: 82.375, Test accuracy: 84.8780517578125\n",
      "Train accuracy: 81.75, Test accuracy: 84.8780517578125\n"
     ]
    }
   ],
   "source": [
    "train_acc, test_acc, model = train_model()"
   ]
  },
  {
   "cell_type": "code",
   "execution_count": null,
   "id": "62a83971",
   "metadata": {},
   "outputs": [],
   "source": []
  }
 ],
 "metadata": {
  "kernelspec": {
   "display_name": "torch kernel",
   "language": "python",
   "name": "torchenv"
  },
  "language_info": {
   "codemirror_mode": {
    "name": "ipython",
    "version": 3
   },
   "file_extension": ".py",
   "mimetype": "text/x-python",
   "name": "python",
   "nbconvert_exporter": "python",
   "pygments_lexer": "ipython3",
   "version": "3.9.12"
  }
 },
 "nbformat": 4,
 "nbformat_minor": 5
}
