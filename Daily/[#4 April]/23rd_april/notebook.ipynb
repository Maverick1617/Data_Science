{
 "cells": [
  {
   "cell_type": "code",
   "execution_count": 3,
   "id": "fc87a9d1",
   "metadata": {},
   "outputs": [],
   "source": [
    "import torch\n",
    "import torch.nn as nn\n",
    "import torch.nn.functional as F\n",
    "import pandas as pd\n",
    "import matplotlib.pyplot as plt\n",
    "import seaborn as sns\n",
    "from torch.utils.data import DataLoader, TensorDataset\n",
    "from sklearn.model_selection import train_test_split\n",
    "import numpy as np"
   ]
  },
  {
   "cell_type": "markdown",
   "id": "7395a7ad",
   "metadata": {},
   "source": [
    "## Handling unblanaced data"
   ]
  },
  {
   "cell_type": "markdown",
   "id": "32a67592",
   "metadata": {},
   "source": [
    "### 1.Data Oversampling\n",
    "\n",
    "`` Repeat/Recreate rare data, can cause data overfitting``"
   ]
  },
  {
   "cell_type": "code",
   "execution_count": 4,
   "id": "bf2d4844",
   "metadata": {},
   "outputs": [],
   "source": [
    "raw = pd.read_csv(\"data/train.csv\")"
   ]
  },
  {
   "cell_type": "code",
   "execution_count": 7,
   "id": "d1aa0c46",
   "metadata": {},
   "outputs": [],
   "source": [
    "vals = raw.values"
   ]
  },
  {
   "cell_type": "code",
   "execution_count": 103,
   "id": "15848997",
   "metadata": {},
   "outputs": [],
   "source": [
    "def create_data(n, mul=False, noise=False):\n",
    "    \"\"\"\n",
    "        Create data from mnist dataset\n",
    "    \"\"\"\n",
    "    labels = vals[:n, 0]\n",
    "    data = vals[:n, 1:]\n",
    "        \n",
    "    ten_data = torch.tensor(data).float()\n",
    "    ten_labels = torch.tensor(labels).long()\n",
    "    \n",
    "    train_data, test_data, train_labels, test_labels = train_test_split(ten_data,\n",
    "                                                                       ten_labels,\n",
    "                                                                       test_size=0.2)\n",
    "    if mul:\n",
    "        train_data = torch.cat((train_data, train_data), axis=0)\n",
    "        train_labels = torch.cat((train_labels, train_labels), axis=0)\n",
    "    \n",
    "    if noise:\n",
    "        new_data = train_data + torch.rand_like(train_data) / 2\n",
    "        train_data = torch.cat((train_data, new_data), axis=0)\n",
    "        train_labels = torch.cat((train_labels, train_labels), axis=0)\n",
    "    train_data = train_data / torch.max(train_data)\n",
    "\n",
    "    \n",
    "    train_data = TensorDataset(train_data, train_labels)\n",
    "    test_data = TensorDataset(test_data, test_labels)\n",
    "    train_loader = DataLoader(train_data,\n",
    "                             batch_size=32,\n",
    "                             shuffle=True,\n",
    "                             drop_last=True)\n",
    "    test_loader = DataLoader(test_data,\n",
    "                            batch_size=test_data.tensors[0].shape[0])\n",
    "    return train_loader, test_loader"
   ]
  },
  {
   "cell_type": "code",
   "execution_count": 101,
   "id": "1d27b8c4",
   "metadata": {},
   "outputs": [
    {
     "data": {
      "text/plain": [
       "torch.Size([160, 784])"
      ]
     },
     "execution_count": 101,
     "metadata": {},
     "output_type": "execute_result"
    }
   ],
   "source": [
    "x, y = create_data(200)\n",
    "x.dataset.tensors[0].shape"
   ]
  },
  {
   "cell_type": "markdown",
   "id": "266baa89",
   "metadata": {},
   "source": [
    "### Creating Model"
   ]
  },
  {
   "cell_type": "code",
   "execution_count": 69,
   "id": "521c8c94",
   "metadata": {},
   "outputs": [],
   "source": [
    "def createModel(nUnint=32, nLayer=2):\n",
    "    \"\"\"\n",
    "        Create models for the MNNIST dataset\n",
    "    \"\"\"\n",
    "    class annModel(nn.Module):\n",
    "        def __init__(self, nUnints, nLayers):\n",
    "            super().__init__()\n",
    "            # Input layers\n",
    "            self.layers = torch.nn.ModuleDict()\n",
    "            self.layers[\"input\"] = nn.Linear(784, nUnints)\n",
    "            # Hidden layers\n",
    "            self.nlayers = nLayers\n",
    "            for i in range(self.nlayers):\n",
    "                self.layers[f\"hidden_{i}\"] = nn.Linear(nUnints, nUnints)\n",
    "            # output layer\n",
    "            self.layers[\"output\"] = nn.Linear(nUnints, 10)\n",
    "        \n",
    "        # forward pass\n",
    "        def forward(self, x):\n",
    "            x = F.relu(self.layers[\"input\"](x))\n",
    "            for i in range(self.nlayers):\n",
    "                x = F.relu(self.layers[f\"hidden_{i}\"](x))\n",
    "            x = self.layers[\"output\"](x)\n",
    "            return x\n",
    "        \n",
    "    model = annModel(nUnint, nLayer)\n",
    "    Loss = nn.CrossEntropyLoss()\n",
    "    optimizer = torch.optim.SGD(model.parameters(), lr=0.01)\n",
    "    return model, Loss, optimizer"
   ]
  },
  {
   "cell_type": "code",
   "execution_count": 70,
   "id": "69d5de2c",
   "metadata": {},
   "outputs": [],
   "source": [
    "def compute_acc(yh, y):\n",
    "    correct = (torch.argmax(yh, axis=1) == y).float()\n",
    "    return 100 * torch.mean(correct)"
   ]
  },
  {
   "cell_type": "code",
   "execution_count": 75,
   "id": "767d43eb",
   "metadata": {},
   "outputs": [],
   "source": [
    "def train_model(epochs=50):\n",
    "    train_acc = []\n",
    "    test_acc = []\n",
    "    train_loss = []\n",
    "    model, Loss, optimizer = createModel()\n",
    "    for i in range(epochs):\n",
    "        batch_acc = []\n",
    "        batch_loss = []\n",
    "        for x, y in train_loader:\n",
    "            # forward pass\n",
    "            yh = model(x)\n",
    "            loss = Loss(yh, y)\n",
    "            # backward pass\n",
    "            optimizer.zero_grad()\n",
    "            loss.backward()\n",
    "            optimizer.step()\n",
    "            # computing\n",
    "            batch_loss.append(loss.item())\n",
    "            batch_acc.append(compute_acc(yh, y))\n",
    "        # computing train_acc and loss\n",
    "        train_acc.append(np.mean(batch_acc))\n",
    "        train_loss.append(np.mean(batch_loss))\n",
    "        # computing test performance\n",
    "        x, y = next(iter(test_loader))\n",
    "        with torch.no_grad():\n",
    "            yh = model(x)\n",
    "        test_acc.append(compute_acc(yh, y))\n",
    "    return train_acc, train_loss, test_acc"
   ]
  },
  {
   "cell_type": "markdown",
   "id": "71586795",
   "metadata": {},
   "source": [
    "### Test model"
   ]
  },
  {
   "cell_type": "code",
   "execution_count": 89,
   "id": "d3fada76",
   "metadata": {},
   "outputs": [
    {
     "data": {
      "text/plain": [
       "(96.7375, tensor(92.3500))"
      ]
     },
     "execution_count": 89,
     "metadata": {},
     "output_type": "execute_result"
    },
    {
     "data": {
      "image/png": "[encoded data removed]",
      "text/plain": [
       "<Figure size 720x432 with 1 Axes>"
      ]
     },
     "metadata": {
      "needs_background": "light"
     },
     "output_type": "display_data"
    }
   ],
   "source": [
    "train_loader, test_loader = create_data(10000)\n",
    "train_acc, train_loss, test_acc = train_model()\n",
    "plt.figure(figsize=(10, 6))\n",
    "plt.title(\"Model Accuracy without OverSampling\")\n",
    "plt.plot(train_acc, label=\"Train accuracy\")\n",
    "plt.grid()\n",
    "plt.plot(train_loss, label=\"train Loss\")\n",
    "plt.plot(test_acc, label=\"Test accuracy\");\n",
    "train_acc[-1], test_acc[-1]"
   ]
  },
  {
   "cell_type": "code",
   "execution_count": 90,
   "id": "2ed8b550",
   "metadata": {},
   "outputs": [
    {
     "data": {
      "text/plain": [
       "(99.6625, tensor(93.0500))"
      ]
     },
     "execution_count": 90,
     "metadata": {},
     "output_type": "execute_result"
    },
    {
     "data": {
      "image/png": "[encoded data removed]",
      "text/plain": [
       "<Figure size 720x432 with 1 Axes>"
      ]
     },
     "metadata": {
      "needs_background": "light"
     },
     "output_type": "display_data"
    }
   ],
   "source": [
    "train_loader, test_loader = create_data(10000, True)\n",
    "train_acc, train_loss, test_acc = train_model()\n",
    "plt.figure(figsize=(10, 6))\n",
    "plt.title(\"Model Accuracy OverSampling\")\n",
    "plt.plot(train_acc, label=\"Train accuracy\")\n",
    "plt.grid()\n",
    "plt.plot(train_loss, label=\"train Loss\")\n",
    "plt.plot(test_acc, label=\"Test accuracy\");\n",
    "train_acc[-1], test_acc[-1]"
   ]
  },
  {
   "cell_type": "markdown",
   "id": "d714e17f",
   "metadata": {},
   "source": [
    "### Data noise augmentation"
   ]
  },
  {
   "cell_type": "code",
   "execution_count": 104,
   "id": "97874ec4",
   "metadata": {
    "scrolled": false
   },
   "outputs": [
    {
     "data": {
      "text/plain": [
       "(99.775, tensor(93.))"
      ]
     },
     "execution_count": 104,
     "metadata": {},
     "output_type": "execute_result"
    },
    {
     "data": {
      "image/png": "[encoded data removed]",
      "text/plain": [
       "<Figure size 720x432 with 1 Axes>"
      ]
     },
     "metadata": {
      "needs_background": "light"
     },
     "output_type": "display_data"
    }
   ],
   "source": [
    "train_loader, test_loader = create_data(10000, noise=True)\n",
    "train_acc, train_loss, test_acc = train_model()\n",
    "plt.figure(figsize=(10, 6))\n",
    "plt.title(\"Model Accuracy OverSampling with noise\")\n",
    "plt.plot(train_acc, label=\"Train accuracy\")\n",
    "plt.grid()\n",
    "plt.plot(train_loss, label=\"train Loss\")\n",
    "plt.plot(test_acc, label=\"Test accuracy\");\n",
    "train_acc[-1], test_acc[-1]"
   ]
  },
  {
   "cell_type": "markdown",
   "id": "e0b2f21e",
   "metadata": {},
   "source": [
    "### Data Feature augmentation"
   ]
  },
  {
   "cell_type": "code",
   "execution_count": 105,
   "id": "95e41a48",
   "metadata": {},
   "outputs": [],
   "source": [
    "def createFakeData(npoints):\n",
    "    noise = 1\n",
    "    x = [1, 1]\n",
    "    y = [5, 1]\n",
    "    z = [4, 3]\n",
    "    # Creating data\n",
    "    x = [x[0] + np.random.randn(npoints) * noise,\n",
    "        x[1] + np.random.randn(npoints) * noise]\n",
    "    y = [y[0] + np.random.randn(npoints) * noise,\n",
    "        y[1] + np.random.randn(npoints) * noise]\n",
    "    z = [z[0] + np.random.randn(npoints) * noise,\n",
    "        z[1] + np.random.randn(npoints) * noise]\n",
    "    # Creating labels\n",
    "    labels = np.hstack(( np.zeros((npoints)),\n",
    "                       np.ones((npoints)),\n",
    "                       1 + np.ones((npoints))))\n",
    "    # concatanate into a matrix\n",
    "    data = np.hstack((x, y, z)).T\n",
    "    # convert to pytorch tensors\n",
    "    data = torch.tensor(data).float()\n",
    "    labels = torch.tensor(labels).long()\n",
    "    return data, labels"
   ]
  },
  {
   "cell_type": "code",
   "execution_count": 149,
   "id": "749b8f46",
   "metadata": {},
   "outputs": [],
   "source": [
    "data, labels = createFakeData(200)\n",
    "dis = torch.sqrt(data[:, 0] ** 2 + data[:, 1] ** 2)"
   ]
  },
  {
   "cell_type": "code",
   "execution_count": 150,
   "id": "2e396962",
   "metadata": {},
   "outputs": [
    {
     "data": {
      "text/plain": [
       "(torch.Size([600, 3]), torch.Size([600, 2]))"
      ]
     },
     "execution_count": 150,
     "metadata": {},
     "output_type": "execute_result"
    }
   ],
   "source": [
    "data_aug = torch.cat((data, dis.view(len(data), 1)), axis=1)\n",
    "data_aug.shape, data.shape"
   ]
  },
  {
   "cell_type": "code",
   "execution_count": 151,
   "id": "2cc156e4",
   "metadata": {},
   "outputs": [],
   "source": [
    "train_data, test_data, train_labels, test_labels = train_test_split(data_aug, labels, test_size=0.2)\n",
    "train_data = TensorDataset(train_data, train_labels)\n",
    "test_data = TensorDataset(test_data, test_labels)\n",
    "train_loader = DataLoader(train_data, batch_size=32, shuffle=True, drop_last=True)\n",
    "test_loader = DataLoader(test_data, batch_size=test_data.tensors[0].shape[0])"
   ]
  },
  {
   "cell_type": "code",
   "execution_count": 152,
   "id": "ddb4c607",
   "metadata": {},
   "outputs": [],
   "source": [
    "def createModel_2(extra=True, nUnint=32, nLayer=2):\n",
    "    \"\"\"\n",
    "        Create models for the MNNIST dataset\n",
    "    \"\"\"\n",
    "    class annModel(nn.Module):\n",
    "        def __init__(self, nUnints, nLayers):\n",
    "            super().__init__()\n",
    "            # Input layers\n",
    "            self.layers = torch.nn.ModuleDict()\n",
    "            if extra:\n",
    "                self.layers[\"input\"] = nn.Linear(3, nUnints)\n",
    "            else:\n",
    "                self.layers[\"input\"] = nn.Linear(2, nUnints)\n",
    "            # Hidden layers\n",
    "            self.nlayers = nLayers\n",
    "            for i in range(self.nlayers):\n",
    "                self.layers[f\"hidden_{i}\"] = nn.Linear(nUnints, nUnints)\n",
    "            # output layer\n",
    "            self.layers[\"output\"] = nn.Linear(nUnints, 3)\n",
    "        \n",
    "        # forward pass\n",
    "        def forward(self, x):\n",
    "            x = F.relu(self.layers[\"input\"](x))\n",
    "            for i in range(self.nlayers):\n",
    "                x = F.relu(self.layers[f\"hidden_{i}\"](x))\n",
    "            x = self.layers[\"output\"](x)\n",
    "            return x\n",
    "        \n",
    "    model = annModel(nUnint, nLayer)\n",
    "    Loss = nn.CrossEntropyLoss()\n",
    "    optimizer = torch.optim.SGD(model.parameters(), lr=0.01)\n",
    "    return model, Loss, optimizer"
   ]
  },
  {
   "cell_type": "code",
   "execution_count": 157,
   "id": "61aa4214",
   "metadata": {},
   "outputs": [],
   "source": [
    "def train_model_2(extra=True, epochs=50):\n",
    "    train_acc = []\n",
    "    test_acc = []\n",
    "    train_loss = []\n",
    "    model, Loss, optimizer = createModel_2(extra)\n",
    "    for i in range(epochs):\n",
    "        batch_acc = []\n",
    "        batch_loss = []\n",
    "        for x, y in train_loader:\n",
    "            # forward pass\n",
    "            yh = model(x)\n",
    "            loss = Loss(yh, y)\n",
    "            # backward pass\n",
    "            optimizer.zero_grad()\n",
    "            loss.backward()\n",
    "            optimizer.step()\n",
    "            # computing\n",
    "            batch_loss.append(loss.item())\n",
    "            batch_acc.append(compute_acc(yh, y))\n",
    "        # computing train_acc and loss\n",
    "        train_acc.append(np.mean(batch_acc))\n",
    "        train_loss.append(np.mean(batch_loss))\n",
    "        # computing test performance\n",
    "        x, y = next(iter(test_loader))\n",
    "        with torch.no_grad():\n",
    "            yh = model(x)\n",
    "        test_acc.append(compute_acc(yh, y))\n",
    "    return model, train_acc, train_loss, test_acc"
   ]
  },
  {
   "cell_type": "code",
   "execution_count": 154,
   "id": "4ff812cc",
   "metadata": {},
   "outputs": [
    {
     "data": {
      "text/plain": [
       "(86.041664, tensor(88.3333))"
      ]
     },
     "execution_count": 154,
     "metadata": {},
     "output_type": "execute_result"
    },
    {
     "data": {
      "image/png": "[encoded data removed]",
      "text/plain": [
       "<Figure size 720x432 with 1 Axes>"
      ]
     },
     "metadata": {
      "needs_background": "light"
     },
     "output_type": "display_data"
    }
   ],
   "source": [
    "model, train_acc, train_loss, test_acc = train_model_2()\n",
    "plt.figure(figsize=(10, 6))\n",
    "plt.title(\"Model Accuracy data aug with extra feature\")\n",
    "plt.plot(train_acc, label=\"Train accuracy\")\n",
    "plt.grid()\n",
    "plt.plot(train_loss, label=\"train Loss\")\n",
    "plt.plot(test_acc, label=\"Test accuracy\");\n",
    "train_acc[-1], test_acc[-1]"
   ]
  },
  {
   "cell_type": "code",
   "execution_count": 155,
   "id": "8258b30a",
   "metadata": {},
   "outputs": [],
   "source": [
    "model, data, labels = createFakeData(200)\n",
    "train_data, test_data, train_labels, test_labels = train_test_split(data, labels, test_size=0.2)\n",
    "train_data = TensorDataset(train_data, train_labels)\n",
    "test_data = TensorDataset(test_data, test_labels)\n",
    "train_loader = DataLoader(train_data, batch_size=32, shuffle=True, drop_last=True)\n",
    "test_loader = DataLoader(test_data, batch_size=test_data.tensors[0].shape[0])"
   ]
  },
  {
   "cell_type": "code",
   "execution_count": 158,
   "id": "8f49a4dc",
   "metadata": {},
   "outputs": [
    {
     "data": {
      "text/plain": [
       "(88.75, tensor(85.8333))"
      ]
     },
     "execution_count": 158,
     "metadata": {},
     "output_type": "execute_result"
    },
    {
     "data": {
      "image/png": "[encoded data removed]",
      "text/plain": [
       "<Figure size 720x432 with 1 Axes>"
      ]
     },
     "metadata": {
      "needs_background": "light"
     },
     "output_type": "display_data"
    }
   ],
   "source": [
    "model, train_acc, train_loss, test_acc = train_model_2(False)\n",
    "plt.figure(figsize=(10, 6))\n",
    "plt.title(\"Model Accuracy data aug without extra feature\")\n",
    "plt.plot(train_acc, label=\"Train accuracy\")\n",
    "plt.grid()\n",
    "plt.plot(train_loss, label=\"train Loss\")\n",
    "plt.plot(test_acc, label=\"Test accuracy\");\n",
    "train_acc[-1], test_acc[-1]"
   ]
  },
  {
   "cell_type": "markdown",
   "id": "8e000050",
   "metadata": {},
   "source": [
    "### Save and Load trained models"
   ]
  },
  {
   "cell_type": "code",
   "execution_count": 160,
   "id": "c7b63a35",
   "metadata": {},
   "outputs": [],
   "source": [
    "torch.save(model.state_dict(), \"savs/model_1.pt\")"
   ]
  },
  {
   "cell_type": "markdown",
   "id": "a0054ac1",
   "metadata": {},
   "source": [
    "### Loading the model"
   ]
  },
  {
   "cell_type": "code",
   "execution_count": 164,
   "id": "eb98fc38",
   "metadata": {},
   "outputs": [
    {
     "data": {
      "text/plain": [
       "<All keys matched successfully>"
      ]
     },
     "execution_count": 164,
     "metadata": {},
     "output_type": "execute_result"
    }
   ],
   "source": [
    "model_1 = createModel_2(False)[0]\n",
    "model_1.load_state_dict(torch.load(\"savs/model_1.pt\"))"
   ]
  },
  {
   "cell_type": "code",
   "execution_count": 165,
   "id": "e8763abc",
   "metadata": {},
   "outputs": [
    {
     "data": {
      "text/plain": [
       "OrderedDict([('layers.input.weight',\n",
       "              tensor([[ 2.9688e-01, -4.7877e-02],\n",
       "                      [-5.5264e-01, -2.1018e-02],\n",
       "                      [ 4.9336e-01,  5.7027e-01],\n",
       "                      [-2.0980e-01, -3.5732e-01],\n",
       "                      [-2.9765e-01,  3.9217e-01],\n",
       "                      [ 5.1001e-01, -1.2574e-01],\n",
       "                      [ 3.0230e-01,  5.3065e-01],\n",
       "                      [ 4.9489e-01, -4.8730e-01],\n",
       "                      [-4.4777e-01,  2.6798e-01],\n",
       "                      [ 4.0682e-01, -2.1219e-01],\n",
       "                      [-1.6516e-01, -3.3679e-01],\n",
       "                      [ 4.7130e-01,  4.3764e-01],\n",
       "                      [-4.4430e-01, -1.3599e-01],\n",
       "                      [ 6.9984e-01, -6.9842e-01],\n",
       "                      [ 1.3526e-02, -2.8266e-04],\n",
       "                      [-3.2047e-01,  5.1260e-01],\n",
       "                      [ 3.3843e-01, -1.4070e-01],\n",
       "                      [ 8.5150e-02,  4.8400e-01],\n",
       "                      [-2.5306e-01, -4.5535e-01],\n",
       "                      [ 3.8252e-01, -1.6580e-01],\n",
       "                      [-2.9574e-01,  3.0268e-01],\n",
       "                      [ 4.3609e-01, -2.5980e-01],\n",
       "                      [ 4.5651e-01, -4.9755e-01],\n",
       "                      [ 7.0226e-01,  2.1780e-01],\n",
       "                      [ 2.5286e-01,  9.2508e-02],\n",
       "                      [ 1.8550e-01,  6.5826e-01],\n",
       "                      [-5.7405e-01,  6.4231e-01],\n",
       "                      [-6.5523e-01,  6.2038e-01],\n",
       "                      [-2.8491e-01, -2.4878e-01],\n",
       "                      [-1.2099e-01, -4.3299e-01],\n",
       "                      [-5.6521e-01, -3.1188e-01],\n",
       "                      [ 4.2386e-01,  6.7553e-01]])),\n",
       "             ('layers.input.bias',\n",
       "              tensor([-0.4768, -0.4044,  0.4039, -0.2510,  0.6121, -0.6356,  0.5160,  0.4437,\n",
       "                      -0.3338, -0.3405, -0.3460,  0.3467, -0.6371,  0.6319,  0.4604, -0.6838,\n",
       "                      -0.6530, -0.4033,  0.1976,  0.2725, -0.4044, -0.4017, -0.1838, -0.5867,\n",
       "                       0.5416,  0.4715, -0.4020,  0.6345, -0.1920, -0.1128,  0.1497, -0.4805])),\n",
       "             ('layers.hidden_0.weight',\n",
       "              tensor([[ 0.0306,  0.1314,  0.0008,  ...,  0.0270,  0.1104, -0.1589],\n",
       "                      [-0.0518,  0.1152, -0.1109,  ..., -0.0443,  0.0080, -0.1637],\n",
       "                      [-0.0769, -0.1097,  0.2266,  ...,  0.0999,  0.1118,  0.0723],\n",
       "                      ...,\n",
       "                      [-0.1407,  0.1382,  0.0922,  ..., -0.0229,  0.1053,  0.1083],\n",
       "                      [-0.0815, -0.0802,  0.2024,  ...,  0.0624, -0.0993,  0.2233],\n",
       "                      [-0.0443,  0.0025, -0.0016,  ...,  0.0799,  0.1004,  0.0063]])),\n",
       "             ('layers.hidden_0.bias',\n",
       "              tensor([-0.1335,  0.0882,  0.2096,  0.0385, -0.1543,  0.0129,  0.0177,  0.0093,\n",
       "                       0.2814,  0.0795,  0.1776, -0.1245, -0.1494,  0.0069, -0.1293, -0.1023,\n",
       "                       0.1393,  0.0176, -0.1242,  0.0844,  0.2309, -0.1680, -0.1863, -0.1428,\n",
       "                      -0.1649, -0.1590, -0.1660, -0.2280, -0.0226,  0.1541,  0.0694, -0.0355])),\n",
       "             ('layers.hidden_1.weight',\n",
       "              tensor([[ 0.0123,  0.1476,  0.0008,  ..., -0.0631,  0.1623,  0.1559],\n",
       "                      [-0.1133,  0.0508,  0.0950,  ..., -0.0126, -0.1812,  0.0280],\n",
       "                      [-0.0148,  0.1520,  0.1060,  ..., -0.1735,  0.0672,  0.0948],\n",
       "                      ...,\n",
       "                      [ 0.0367,  0.1521,  0.0037,  ...,  0.0454,  0.2928, -0.1152],\n",
       "                      [ 0.1197,  0.0523,  0.1791,  ..., -0.0274, -0.2167, -0.1207],\n",
       "                      [-0.1712, -0.0788, -0.0585,  ...,  0.1592, -0.0729, -0.1508]])),\n",
       "             ('layers.hidden_1.bias',\n",
       "              tensor([-0.2016,  0.1784, -0.0394,  0.0282,  0.0566,  0.0297, -0.0429,  0.0814,\n",
       "                       0.0882, -0.2179,  0.1073,  0.0768,  0.0883,  0.2302, -0.0256,  0.3352,\n",
       "                       0.1713, -0.0518,  0.1384,  0.2429, -0.0014,  0.1289,  0.0130,  0.0257,\n",
       "                       0.0591, -0.1062,  0.1606,  0.2017,  0.0416, -0.0079, -0.0035,  0.0311])),\n",
       "             ('layers.output.weight',\n",
       "              tensor([[-0.3016,  0.0993, -0.0230,  0.0841,  0.1761,  0.0810,  0.0406, -0.1397,\n",
       "                       -0.0925, -0.1104,  0.3111, -0.2042,  0.2571,  0.0919, -0.0423,  0.3922,\n",
       "                        0.1635, -0.1380,  0.2554,  0.3111,  0.0423,  0.1140, -0.0204, -0.4012,\n",
       "                        0.0752, -0.0888,  0.1367,  0.4231,  0.1368, -0.2860, -0.1557,  0.0829],\n",
       "                      [-0.2725, -0.0854,  0.0172, -0.0906,  0.0688, -0.0235, -0.0627,  0.2377,\n",
       "                        0.2686,  0.0331, -0.3058,  0.1287, -0.2213,  0.2541,  0.0829, -0.2548,\n",
       "                       -0.1405, -0.0825, -0.1819, -0.2265, -0.0602,  0.1293,  0.3141,  0.1014,\n",
       "                       -0.1260,  0.0468, -0.1463, -0.1108, -0.2886, -0.1653,  0.3377,  0.1030],\n",
       "                      [ 0.3663, -0.1347, -0.0964, -0.0714, -0.2109, -0.0386,  0.0185, -0.0186,\n",
       "                       -0.1668,  0.0026, -0.0266, -0.0535, -0.2140, -0.2044,  0.1181, -0.2822,\n",
       "                       -0.1240, -0.0416, -0.0555, -0.0429, -0.2431, -0.0858, -0.0550, -0.0244,\n",
       "                       -0.1068, -0.0029, -0.1916, -0.0789,  0.0936,  0.3175, -0.2235,  0.0492]])),\n",
       "             ('layers.output.bias', tensor([ 0.4528, -0.3146, -0.3155]))])"
      ]
     },
     "execution_count": 165,
     "metadata": {},
     "output_type": "execute_result"
    }
   ],
   "source": [
    "model_1.state_dict()"
   ]
  },
  {
   "cell_type": "code",
   "execution_count": null,
   "id": "5599de6a",
   "metadata": {},
   "outputs": [],
   "source": []
  }
 ],
 "metadata": {
  "kernelspec": {
   "display_name": "torch kernel",
   "language": "python",
   "name": "torchenv"
  },
  "language_info": {
   "codemirror_mode": {
    "name": "ipython",
    "version": 3
   },
   "file_extension": ".py",
   "mimetype": "text/x-python",
   "name": "python",
   "nbconvert_exporter": "python",
   "pygments_lexer": "ipython3",
   "version": "3.9.12"
  }
 },
 "nbformat": 4,
 "nbformat_minor": 5
}
