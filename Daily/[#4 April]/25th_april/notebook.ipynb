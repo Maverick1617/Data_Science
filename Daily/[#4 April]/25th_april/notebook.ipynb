{
 "cells": [
  {
   "cell_type": "markdown",
   "id": "e3db3460",
   "metadata": {},
   "source": [
    "# 25th april notebook"
   ]
  },
  {
   "cell_type": "code",
   "execution_count": 39,
   "id": "01373192",
   "metadata": {},
   "outputs": [],
   "source": [
    "import torch\n",
    "import matplotlib.pyplot as plt\n",
    "import torch.nn as nn\n",
    "import torch.nn.functional as F\n",
    "import numpy as np\n",
    "import pandas as pd\n",
    "from torch.utils.data import DataLoader, TensorDataset\n",
    "import seaborn as sns\n",
    "from sklearn.model_selection import train_test_split\n",
    "import sklearn.metrics as skm"
   ]
  },
  {
   "cell_type": "code",
   "execution_count": 40,
   "id": "84bb4317",
   "metadata": {},
   "outputs": [],
   "source": [
    "data = pd.read_csv(\"data/train.csv\")\n",
    "data = data.values"
   ]
  },
  {
   "cell_type": "code",
   "execution_count": 41,
   "id": "a7109bb3",
   "metadata": {},
   "outputs": [
    {
     "data": {
      "text/plain": [
       "array([[1, 0, 0, ..., 0, 0, 0],\n",
       "       [0, 0, 0, ..., 0, 0, 0],\n",
       "       [1, 0, 0, ..., 0, 0, 0],\n",
       "       ...,\n",
       "       [7, 0, 0, ..., 0, 0, 0],\n",
       "       [6, 0, 0, ..., 0, 0, 0],\n",
       "       [9, 0, 0, ..., 0, 0, 0]], dtype=int64)"
      ]
     },
     "execution_count": 41,
     "metadata": {},
     "output_type": "execute_result"
    }
   ],
   "source": [
    "data"
   ]
  },
  {
   "cell_type": "code",
   "execution_count": 42,
   "id": "5760f389",
   "metadata": {},
   "outputs": [],
   "source": [
    "labels = data[:, 0]\n",
    "data = data[:, 1:]"
   ]
  },
  {
   "cell_type": "code",
   "execution_count": 43,
   "id": "6b3fa347",
   "metadata": {},
   "outputs": [],
   "source": [
    "data = data / 255."
   ]
  },
  {
   "cell_type": "code",
   "execution_count": 44,
   "id": "10d1c314",
   "metadata": {},
   "outputs": [],
   "source": [
    "data = torch.tensor(data).float()\n",
    "labels = torch.tensor(labels).long()"
   ]
  },
  {
   "cell_type": "code",
   "execution_count": 45,
   "id": "2436f528",
   "metadata": {},
   "outputs": [],
   "source": [
    "train_data, test_data, train_labels, test_labels = train_test_split(data, labels,\n",
    "                                                                   test_size=0.1)"
   ]
  },
  {
   "cell_type": "code",
   "execution_count": 46,
   "id": "fec829ed",
   "metadata": {},
   "outputs": [],
   "source": [
    "train_data = TensorDataset(train_data, train_labels)\n",
    "test_data = TensorDataset(test_data, test_labels)\n",
    "\n",
    "train_loader = DataLoader(train_data, batch_size=32, shuffle=True, drop_last=True)\n",
    "test_loader = DataLoader(test_data, batch_size=test_data.tensors[0].shape[0])"
   ]
  },
  {
   "cell_type": "markdown",
   "id": "da9f917d",
   "metadata": {},
   "source": [
    "## Creating Deep learning model"
   ]
  },
  {
   "cell_type": "code",
   "execution_count": 61,
   "id": "e054c403",
   "metadata": {},
   "outputs": [],
   "source": [
    "def createModel():\n",
    "    \n",
    "    class model(nn.Module):\n",
    "        def __init__(self):\n",
    "            super().__init__()\n",
    "            self.input = nn.Linear(784, 64)\n",
    "            self.hidden_1 = nn.Linear(64, 32)\n",
    "            self.hidden_2 = nn.Linear(32, 32)\n",
    "            self.output = nn.Linear(32, 10)\n",
    "        \n",
    "        def forward(self, x):\n",
    "            x = F.relu(self.input(x))\n",
    "            x = F.relu(self.hidden_1(x))\n",
    "            x = F.relu(self.hidden_2(x))\n",
    "            return self.output(x)\n",
    "    \n",
    "    net = model()\n",
    "    Loss = nn.CrossEntropyLoss()\n",
    "    optimizer = torch.optim.SGD(net.parameters(), lr=0.1)\n",
    "    return net, Loss, optimizer"
   ]
  },
  {
   "cell_type": "code",
   "execution_count": 62,
   "id": "bc83364e",
   "metadata": {},
   "outputs": [],
   "source": [
    "def compute_acc(yh, y):\n",
    "    true = (torch.argmax(yh, axis=1) == y).float()\n",
    "    return 100 * torch.mean(true)"
   ]
  },
  {
   "cell_type": "code",
   "execution_count": 63,
   "id": "5a825b79",
   "metadata": {},
   "outputs": [],
   "source": [
    "def train_model(epochs=10):\n",
    "    model, Loss, optimizer = createModel()\n",
    "    losses = []\n",
    "    train_acc = []\n",
    "    test_acc = []\n",
    "    \n",
    "    for i in range(epochs):\n",
    "        batch_acc = []\n",
    "        batch_loss = []\n",
    "        for x, y in train_loader:\n",
    "            yh = model(x)\n",
    "            loss = Loss(yh, y)\n",
    "            optimizer.zero_grad()\n",
    "            loss.backward()\n",
    "            optimizer.step()\n",
    "            # Computing\n",
    "            batch_loss.append(loss.item())\n",
    "            batch_acc.append(compute_acc(yh, y))\n",
    "        train_acc.append(np.mean(batch_acc))\n",
    "        losses.append(np.mean(batch_loss))\n",
    "        # Computing test acc\n",
    "        x, y = next(iter(test_loader))\n",
    "        with torch.no_grad():\n",
    "            yh = model(x)\n",
    "        test_acc.append(compute_acc(yh, y))\n",
    "        print(f\"Train: {train_acc[-1]}, test: {test_acc[-1]}\")\n",
    "    return train_acc, test_acc, losses, model"
   ]
  },
  {
   "cell_type": "code",
   "execution_count": 64,
   "id": "97a6077a",
   "metadata": {},
   "outputs": [
    {
     "name": "stdout",
     "output_type": "stream",
     "text": [
      "Train: 78.73888397216797, test: 93.9047622680664\n",
      "Train: 94.30567169189453, test: 95.02381134033203\n",
      "Train: 95.97269439697266, test: 96.19047546386719\n",
      "Train: 96.68448638916016, test: 96.33332824707031\n",
      "Train: 97.38833618164062, test: 96.47618865966797\n",
      "Train: 97.7111587524414, test: 96.76190948486328\n",
      "Train: 98.09748077392578, test: 96.97618865966797\n",
      "Train: 98.396484375, test: 97.04762268066406\n",
      "Train: 98.5129165649414, test: 97.28571319580078\n",
      "Train: 98.68225860595703, test: 96.9047622680664\n"
     ]
    }
   ],
   "source": [
    "train_acc, test_acc, losses, model = train_model()"
   ]
  },
  {
   "cell_type": "markdown",
   "id": "974bc486",
   "metadata": {},
   "source": [
    "## Visualizing the results"
   ]
  },
  {
   "cell_type": "code",
   "execution_count": 75,
   "id": "e5afabdd",
   "metadata": {},
   "outputs": [
    {
     "data": {
      "image/png": "[encoded data removed]",
      "text/plain": [
       "<Figure size 720x360 with 2 Axes>"
      ]
     },
     "metadata": {
      "needs_background": "light"
     },
     "output_type": "display_data"
    }
   ],
   "source": [
    "fig, ax = plt.subplots(1, 2, figsize=(10, 5))\n",
    "\n",
    "ax[0].plot(losses)\n",
    "ax[0].set_xlabel(\"Epochs\")\n",
    "ax[0].set_ylabel(\"Loss\")\n",
    "ax[0].set_ylim([0, 3])\n",
    "ax[0].set_title(\"Model Loss\")\n",
    "\n",
    "ax[1].plot(train_acc, label=\"Train\")\n",
    "ax[1].plot(test_acc, label=\"Test\")\n",
    "ax[1].set_xlabel(\"Epochs\")\n",
    "ax[1].set_ylabel(\"Loss\")\n",
    "ax[1].set_ylim([10, 100])\n",
    "ax[1].set_title(f\"Model Test Accuracy: {test_acc[-1]:.2f}\")\n",
    "plt.plot();"
   ]
  },
  {
   "cell_type": "markdown",
   "id": "1d6bef5f",
   "metadata": {},
   "source": [
    "## Performance Measure"
   ]
  },
  {
   "cell_type": "code",
   "execution_count": 76,
   "id": "53ed1ee4",
   "metadata": {},
   "outputs": [],
   "source": [
    "yh = model(train_loader.dataset.tensors[0])\n",
    "train_preds = torch.argmax(yh, axis=1)\n",
    "\n",
    "yh = model(test_loader.dataset.tensors[0])\n",
    "test_preds = torch.argmax(yh, axis=1)"
   ]
  },
  {
   "cell_type": "code",
   "execution_count": 77,
   "id": "6506c989",
   "metadata": {},
   "outputs": [
    {
     "data": {
      "text/plain": [
       "tensor([6, 2, 0,  ..., 0, 7, 3])"
      ]
     },
     "execution_count": 77,
     "metadata": {},
     "output_type": "execute_result"
    }
   ],
   "source": [
    "test_preds"
   ]
  },
  {
   "cell_type": "code",
   "execution_count": 82,
   "id": "4b3a3481",
   "metadata": {},
   "outputs": [
    {
     "name": "stdout",
     "output_type": "stream",
     "text": [
      "[0.99576047 0.99502959 0.99413646 0.9834226  0.9980315  0.99530241\n",
      " 0.99701897 0.99546257 0.98791209 0.96433187]\n",
      "0.9906471422549996\n",
      "0.9906408505530111\n"
     ]
    }
   ],
   "source": [
    "print(skm.precision_score(train_loader.dataset.tensors[1],\n",
    "                   train_preds,\n",
    "                   average=None))\n",
    "print(skm.precision_score(train_loader.dataset.tensors[1],\n",
    "                   train_preds,\n",
    "                   average=\"weighted\"))\n",
    "print(skm.precision_score(train_loader.dataset.tensors[1],\n",
    "                   train_preds,\n",
    "                   average=\"macro\"))"
   ]
  },
  {
   "cell_type": "code",
   "execution_count": 86,
   "id": "02ea957f",
   "metadata": {},
   "outputs": [],
   "source": [
    "train_me = [0, 0, 0, 0]\n",
    "test_me = [0, 0, 0, 0]\n",
    "\n",
    "train_me[0] = skm.accuracy_score(train_loader.dataset.tensors[1],\n",
    "                   train_preds)\n",
    "train_me[1] = skm.precision_score(train_loader.dataset.tensors[1],\n",
    "                   train_preds,\n",
    "                   average=\"weighted\")\n",
    "train_me[2] = skm.recall_score(train_loader.dataset.tensors[1],\n",
    "                   train_preds,\n",
    "                   average=\"weighted\")\n",
    "train_me[3] = skm.f1_score(train_loader.dataset.tensors[1],\n",
    "                   train_preds,\n",
    "                   average=\"weighted\")\n",
    "\n",
    "test_me[0] = skm.accuracy_score(test_loader.dataset.tensors[1],\n",
    "                   test_preds)\n",
    "test_me[1] = skm.precision_score(test_loader.dataset.tensors[1],\n",
    "                   test_preds,\n",
    "                   average=\"weighted\")\n",
    "test_me[2] = skm.recall_score(test_loader.dataset.tensors[1],\n",
    "                   test_preds,\n",
    "                   average=\"weighted\")\n",
    "test_me[3] = skm.f1_score(test_loader.dataset.tensors[1],\n",
    "                   test_preds,\n",
    "                   average=\"weighted\")"
   ]
  },
  {
   "cell_type": "code",
   "execution_count": 87,
   "id": "8fd34652",
   "metadata": {},
   "outputs": [
    {
     "data": {
      "image/png": "[encoded data removed]",
      "text/plain": [
       "<Figure size 432x288 with 1 Axes>"
      ]
     },
     "metadata": {
      "needs_background": "light"
     },
     "output_type": "display_data"
    }
   ],
   "source": [
    "plt.bar(np.arange(4)-.1, train_me, .5)\n",
    "plt.bar(np.arange(4)+.1, test_me, .5)\n",
    "plt.xticks([0, 1, 2, 3], [\"Accuracy\", \"Precision\", \"Recall\", \"F1-score\"])\n",
    "plt.ylim([.9, 1])\n",
    "plt.legend([\"Train\", \"Test\"])\n",
    "plt.title(\"Performance metrics\")\n",
    "plt.show()"
   ]
  },
  {
   "cell_type": "code",
   "execution_count": null,
   "id": "1725908e",
   "metadata": {},
   "outputs": [],
   "source": []
  }
 ],
 "metadata": {
  "kernelspec": {
   "display_name": "torch kernel",
   "language": "python",
   "name": "torchenv"
  },
  "language_info": {
   "codemirror_mode": {
    "name": "ipython",
    "version": 3
   },
   "file_extension": ".py",
   "mimetype": "text/x-python",
   "name": "python",
   "nbconvert_exporter": "python",
   "pygments_lexer": "ipython3",
   "version": "3.9.12"
  }
 },
 "nbformat": 4,
 "nbformat_minor": 5
}
