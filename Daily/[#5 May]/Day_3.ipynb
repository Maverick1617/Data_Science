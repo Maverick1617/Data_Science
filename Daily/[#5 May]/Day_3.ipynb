{
  "cells": [
    {
      "cell_type": "markdown",
      "id": "4cd9fe78",
      "metadata": {
        "id": "4cd9fe78"
      },
      "source": [
        "# May-3 Transfer learning"
      ]
    },
    {
      "cell_type": "code",
      "execution_count": 117,
      "id": "638ec253",
      "metadata": {
        "id": "638ec253"
      },
      "outputs": [],
      "source": [
        "import torch\n",
        "import torch.nn as nn\n",
        "import torchvision\n",
        "import torchvision.transforms as T\n",
        "import matplotlib.pyplot as plt\n",
        "import seaborn as sns\n",
        "import numpy as np\n",
        "import pandas as pd\n",
        "import torch.nn.functional as F\n",
        "from torch.utils.data import TensorDataset, DataLoader\n",
        "from sklearn.model_selection import train_test_split\n",
        "import copy\n",
        "from torchsummary import summary"
      ]
    },
    {
      "cell_type": "code",
      "source": [
        "device = \"cuda:0\" if torch.cuda.is_available() else \"cpu\"\n",
        "device"
      ],
      "metadata": {
        "id": "NiOHrQ53NOvV",
        "colab": {
          "base_uri": "https://localhost:8080/",
          "height": 36
        },
        "outputId": "8e2ca6f0-55fe-4342-c3b0-19a66d6a07cd"
      },
      "id": "NiOHrQ53NOvV",
      "execution_count": 53,
      "outputs": [
        {
          "output_type": "execute_result",
          "data": {
            "text/plain": [
              "'cuda:0'"
            ],
            "application/vnd.google.colaboratory.intrinsic+json": {
              "type": "string"
            }
          },
          "metadata": {},
          "execution_count": 53
        }
      ]
    },
    {
      "cell_type": "markdown",
      "source": [
        "## Getting Letters datasets ready"
      ],
      "metadata": {
        "id": "XASJ8WqMPW6P"
      },
      "id": "XASJ8WqMPW6P"
    },
    {
      "cell_type": "code",
      "source": [
        "letters = torchvision.datasets.EMNIST(root=\"emnist\", split=\"letters\", download=True)\n",
        "numbers = torchvision.datasets.EMNIST(root=\"emnist\", split=\"digits\", download=True)"
      ],
      "metadata": {
        "id": "5ASaiZmAPTqH"
      },
      "id": "5ASaiZmAPTqH",
      "execution_count": 54,
      "outputs": []
    },
    {
      "cell_type": "code",
      "source": [
        "letter_cats = letters.classes[1:]\n",
        "llabels = copy.deepcopy(letters.targets) - 1"
      ],
      "metadata": {
        "id": "O0cEWWzwPfSM"
      },
      "id": "O0cEWWzwPfSM",
      "execution_count": 55,
      "outputs": []
    },
    {
      "cell_type": "code",
      "source": [
        "letter_images = letters.data.view([letters.data.shape[0], 1, 28, 28]).float()\n",
        "letter_images = letter_images / torch.max(letter_images)"
      ],
      "metadata": {
        "id": "bLVx0lYYQFUm"
      },
      "id": "bLVx0lYYQFUm",
      "execution_count": 56,
      "outputs": []
    },
    {
      "cell_type": "code",
      "source": [
        "ltrain_data, ltest_data, ltrain_labels, ltest_labels = train_test_split(letter_images, llabels, test_size=0.1)\n",
        "ltrain_data = TensorDataset(ltrain_data, ltrain_labels)\n",
        "ltest_data = TensorDataset(ltest_data, ltest_labels)\n",
        "\n",
        "ltrain_loader = DataLoader(ltrain_data, batch_size=32, shuffle=True, drop_last=True)\n",
        "ltest_loader = DataLoader(ltest_data, batch_size=ltest_data.tensors[0].shape[0])"
      ],
      "metadata": {
        "id": "apbzTiEsQejb"
      },
      "id": "apbzTiEsQejb",
      "execution_count": 57,
      "outputs": []
    },
    {
      "cell_type": "markdown",
      "source": [
        "## Getting Digits Dataset ready"
      ],
      "metadata": {
        "id": "HCU8og0yRrsF"
      },
      "id": "HCU8og0yRrsF"
    },
    {
      "cell_type": "code",
      "source": [
        "number_images = numbers.data.view([numbers.data.shape[0], 1, 28, 28]).float()\n",
        "number_images /= torch.max(number_images)"
      ],
      "metadata": {
        "id": "VHjaYprNRb3M"
      },
      "id": "VHjaYprNRb3M",
      "execution_count": 58,
      "outputs": []
    },
    {
      "cell_type": "code",
      "source": [
        "nlabels = numbers.targets\n",
        "nlabels"
      ],
      "metadata": {
        "colab": {
          "base_uri": "https://localhost:8080/"
        },
        "id": "D7ZLeFqAR5rA",
        "outputId": "5fa8bbb3-a883-4f4a-f3ce-33afa08f7cf8"
      },
      "id": "D7ZLeFqAR5rA",
      "execution_count": 59,
      "outputs": [
        {
          "output_type": "execute_result",
          "data": {
            "text/plain": [
              "tensor([8, 9, 6,  ..., 1, 1, 0])"
            ]
          },
          "metadata": {},
          "execution_count": 59
        }
      ]
    },
    {
      "cell_type": "code",
      "source": [
        "ntrain_data, ntest_data, ntrain_labels, ntest_labels = train_test_split(number_images, nlabels, test_size=0.1)\n",
        "ntrain_data = TensorDataset(ntrain_data, ntrain_labels)\n",
        "ntest_data = TensorDataset(ntest_data, ntest_labels)\n",
        "\n",
        "ntrain_loader = DataLoader(ntrain_data, batch_size=32, shuffle=True, drop_last=True)\n",
        "ntest_loader = DataLoader(ntest_data, batch_size=ntest_data.tensors[0].shape[0])"
      ],
      "metadata": {
        "id": "3h7c_Z1pSVO5"
      },
      "id": "3h7c_Z1pSVO5",
      "execution_count": 60,
      "outputs": []
    },
    {
      "cell_type": "code",
      "source": [
        "fig, axs = plt.subplots(3, 7, figsize=(13, 6))\n",
        "x, y = next(iter(ltrain_loader))\n",
        "\n",
        "for i, ax in enumerate(axs.flatten()):\n",
        "  I = np.squeeze(x[i, :, :])\n",
        "  current = letter_cats[y[i]]\n",
        "  ax.imshow(I.T, cmap=\"gray\", vmin=0, vmax=1)\n",
        "  ax.set_title(f\"Letter: {current}\")\n",
        "  ax.set_yticks([])\n",
        "  ax.set_xticks([])\n",
        "\n",
        "plt.show()"
      ],
      "metadata": {
        "colab": {
          "base_uri": "https://localhost:8080/",
          "height": 323
        },
        "id": "4jl9toOrTCes",
        "outputId": "061be5c3-345e-4020-ed96-7f4263f521c7"
      },
      "id": "4jl9toOrTCes",
      "execution_count": 61,
      "outputs": [
        {
          "output_type": "display_data",
          "data": {
            "text/plain": [
              "<Figure size 936x432 with 21 Axes>"
            ],
            "image/png": "[encoded data removed]"
          },
          "metadata": {}
        }
      ]
    },
    {
      "cell_type": "code",
      "source": [
        "fig, axs = plt.subplots(3, 7, figsize=(13, 6))\n",
        "\n",
        "x, y = next(iter(ntrain_loader))\n",
        "\n",
        "for i, ax in enumerate(axs.flatten()):\n",
        "  I = np.squeeze(x[i, :, :])\n",
        "  ax.imshow(I.T, cmap=\"gray\", vmin=0, vmax=1\n",
        "            )\n",
        "  ax.set_title(f\"Numbers {y[i]}\")\n",
        "  ax.set_yticks([])\n",
        "  ax.set_xticks([])\n",
        "plt.show()"
      ],
      "metadata": {
        "colab": {
          "base_uri": "https://localhost:8080/",
          "height": 323
        },
        "id": "DMhCBETlT8q6",
        "outputId": "04ea0e51-6ac8-4f67-e662-adb6f9a8a3f8"
      },
      "id": "DMhCBETlT8q6",
      "execution_count": 62,
      "outputs": [
        {
          "output_type": "display_data",
          "data": {
            "text/plain": [
              "<Figure size 936x432 with 21 Axes>"
            ],
            "image/png": "[encoded data removed]"
          },
          "metadata": {}
        }
      ]
    },
    {
      "cell_type": "markdown",
      "source": [
        "## Building CNNs Models"
      ],
      "metadata": {
        "id": "n6QFpq5kU9IZ"
      },
      "id": "n6QFpq5kU9IZ"
    },
    {
      "cell_type": "code",
      "source": [
        "def build_letters_model():\n",
        "    class createModel(nn.Module):\n",
        "        def __init__(self):\n",
        "          super().__init__()\n",
        "          self.conv1 = nn.Conv2d(in_channels=1, out_channels=6, kernel_size=3, padding=1)\n",
        "          self.batch_norm_1 = nn.BatchNorm2d(6)\n",
        "          self.conv2 = nn.Conv2d(in_channels=6, out_channels=6, kernel_size=3, padding=1)\n",
        "          self.batch_norm_2 = nn.BatchNorm2d(6)\n",
        "          self.linear_1 = nn.Linear(6 * 7 * 7, 50)\n",
        "          self.linear_2 = nn.Linear(50, 26)\n",
        "        \n",
        "        # forward pass\n",
        "        def forward(self, x):\n",
        "          # 1st CNNs layer\n",
        "          x = F.max_pool2d(self.conv1(x), 2)\n",
        "          x = F.leaky_relu(self.batch_norm_1(x))\n",
        "          # 2nd CNNs layer\n",
        "          x = F.max_pool2d(self.conv2(x), 2)\n",
        "          x = F.leaky_relu(self.batch_norm_2(x))\n",
        "          x = x.view(-1, 6 * 7 * 7)\n",
        "          x = F.leaky_relu(self.linear_1(x))\n",
        "          return self.linear_2(x)\n",
        "    model = createModel()\n",
        "    Loss = nn.CrossEntropyLoss()\n",
        "    optimizer = torch.optim.Adam(model.parameters(), lr=0.001)\n",
        "    return model, Loss, optimizer\n",
        "  "
      ],
      "metadata": {
        "id": "D1xd83ZcULYO"
      },
      "id": "D1xd83ZcULYO",
      "execution_count": 89,
      "outputs": []
    },
    {
      "cell_type": "code",
      "source": [
        "# Testing the model\n",
        "net, LLoss, ooptimizer = build_letters_model()\n",
        "net = net.to(device)\n",
        "x, y = iter(ltrain_loader).next()\n",
        "x = x.to(device)\n",
        "y = y.to(device)\n",
        "print(x.shape, y.shape)\n",
        "yh = net(x)\n",
        "loss = LLoss(yh, y)\n",
        "torch.argmax(yh, axis=1) == y"
      ],
      "metadata": {
        "colab": {
          "base_uri": "https://localhost:8080/"
        },
        "id": "C9MTAoJuYTSM",
        "outputId": "40a63343-3994-4597-fa24-2ecfb756a934"
      },
      "id": "C9MTAoJuYTSM",
      "execution_count": 91,
      "outputs": [
        {
          "output_type": "stream",
          "name": "stdout",
          "text": [
            "torch.Size([32, 1, 28, 28]) torch.Size([32])\n"
          ]
        },
        {
          "output_type": "execute_result",
          "data": {
            "text/plain": [
              "tensor([False, False, False, False, False, False, False, False, False, False,\n",
              "        False, False, False, False, False, False, False, False, False, False,\n",
              "        False, False, False, False, False, False, False, False, False, False,\n",
              "        False, False], device='cuda:0')"
            ]
          },
          "metadata": {},
          "execution_count": 91
        }
      ]
    },
    {
      "cell_type": "markdown",
      "source": [
        "## Training letters Model"
      ],
      "metadata": {
        "id": "SB5t0eGaaYhM"
      },
      "id": "SB5t0eGaaYhM"
    },
    {
      "cell_type": "code",
      "source": [
        "def train_model(model, Loss, optimizer, train_loader, test_loader, epochs=10):\n",
        "    model = model.to(device)\n",
        "    train_accuracy = []\n",
        "    test_accuracy = []\n",
        "    train_loss = []\n",
        "    test_loss = []\n",
        "\n",
        "    for i in range(epochs):\n",
        "        batch_acc = []\n",
        "        batch_loss = []\n",
        "        for x, y in train_loader:\n",
        "            x = x.to(device)\n",
        "            y = y.to(device)\n",
        "            # forward push\n",
        "            yh = model(x)\n",
        "            loss = Loss(yh, y)\n",
        "            # backward push\n",
        "            optimizer.zero_grad()\n",
        "            loss.backward()\n",
        "            optimizer.step()\n",
        "            # Computing batch performance\n",
        "            batch_loss.append(loss.item())\n",
        "            correct = (torch.argmax(yh, axis=1) == y).float()\n",
        "            batch_acc.append(100 * torch.mean(correct.cpu()))\n",
        "        \n",
        "        # Computing total batch performance\n",
        "        train_accuracy.append(np.mean(batch_acc))\n",
        "        train_loss.append(np.mean(batch_loss))\n",
        "        # Computing test performance\n",
        "        x, y = next(iter(test_loader))\n",
        "        x = x.to(device)\n",
        "        y = y.to(device)\n",
        "        with torch.no_grad():\n",
        "          yh = model(x)\n",
        "          loss = Loss(yh, y)\n",
        "        test_loss.append(loss.item())\n",
        "        correct = (torch.argmax(yh, axis=1) == y).float()\n",
        "        test_accuracy.append(100 * torch.mean(correct))\n",
        "        print(f\"Train acc: {train_accuracy[-1]}, Test acc: {test_accuracy[-1]}\")\n",
        "    return model, train_accuracy, train_loss, test_accuracy, test_loss"
      ],
      "metadata": {
        "id": "2TPEjBhTZeF7"
      },
      "id": "2TPEjBhTZeF7",
      "execution_count": 96,
      "outputs": []
    },
    {
      "cell_type": "code",
      "source": [
        "net, Loss, optimizer = build_letters_model()\n",
        "model, train_accuracy, train_loss, test_accuracy, test_loss = train_model(net, Loss, optimizer, ltrain_loader, ltest_loader)"
      ],
      "metadata": {
        "colab": {
          "base_uri": "https://localhost:8080/"
        },
        "id": "d0VoMlj5dtyU",
        "outputId": "7ecba598-e411-42f6-c77b-e5594e356eca"
      },
      "id": "d0VoMlj5dtyU",
      "execution_count": 97,
      "outputs": [
        {
          "output_type": "stream",
          "name": "stdout",
          "text": [
            "Train acc: 82.2943344116211, Test acc: 88.52564239501953\n",
            "Train acc: 89.78276062011719, Test acc: 90.3525619506836\n",
            "Train acc: 90.95708465576172, Test acc: 90.87340545654297\n",
            "Train acc: 91.58297729492188, Test acc: 91.01763153076172\n",
            "Train acc: 92.04059600830078, Test acc: 91.26602935791016\n",
            "Train acc: 92.37268829345703, Test acc: 91.84294891357422\n",
            "Train acc: 92.71456909179688, Test acc: 91.75481414794922\n",
            "Train acc: 92.8641357421875, Test acc: 91.38622283935547\n",
            "Train acc: 93.03418731689453, Test acc: 92.00321197509766\n",
            "Train acc: 93.23272705078125, Test acc: 91.7147445678711\n"
          ]
        }
      ]
    },
    {
      "cell_type": "markdown",
      "source": [
        "## Fine tunning the model"
      ],
      "metadata": {
        "id": "txbiqDCrgkMJ"
      },
      "id": "txbiqDCrgkMJ"
    },
    {
      "cell_type": "code",
      "source": [
        "# Testing on numbers data\n",
        "x, y = next(iter(ntrain_loader))\n",
        "x = x.to(device)\n",
        "y = y.to(device)\n",
        "\n",
        "with torch.no_grad():\n",
        "  yh = net(x)\n",
        "print(100 * torch.mean((torch.argmax(yh, axis=1) == y).float()).cpu())"
      ],
      "metadata": {
        "colab": {
          "base_uri": "https://localhost:8080/"
        },
        "id": "qv6WdqxEeI9X",
        "outputId": "a889ea77-5569-4461-82e2-1080a5ebc998"
      },
      "id": "qv6WdqxEeI9X",
      "execution_count": 103,
      "outputs": [
        {
          "output_type": "stream",
          "name": "stdout",
          "text": [
            "tensor(6.2500)\n"
          ]
        }
      ]
    },
    {
      "cell_type": "code",
      "source": [
        "new_model, Loss, optimizer = build_letters_model()"
      ],
      "metadata": {
        "id": "sOzZKh4xhCb1"
      },
      "id": "sOzZKh4xhCb1",
      "execution_count": 104,
      "outputs": []
    },
    {
      "cell_type": "code",
      "source": [
        "# copying weights\n",
        "for x, y in zip(new_model.named_parameters(), net.named_parameters()):\n",
        "  x[1].data = copy.deepcopy(y[1].data)"
      ],
      "metadata": {
        "id": "yPeUAyqZhkD8"
      },
      "id": "yPeUAyqZhkD8",
      "execution_count": 106,
      "outputs": []
    },
    {
      "cell_type": "code",
      "source": [
        "new_model.linear_2 = nn.Linear(50, 10)\n",
        "\n",
        "for p in new_model.named_parameters():\n",
        "    if not \"linear_2\" in p[0]:\n",
        "      p[1].requires_grad = True"
      ],
      "metadata": {
        "id": "9KIImvZNh48Q"
      },
      "id": "9KIImvZNh48Q",
      "execution_count": 109,
      "outputs": []
    },
    {
      "cell_type": "code",
      "source": [
        "res_model, train_accuracy, train_loss, test_accuracy, test_loss = train_model(new_model, Loss, optimizer, ntrain_loader, ntest_loader, 2)"
      ],
      "metadata": {
        "colab": {
          "base_uri": "https://localhost:8080/"
        },
        "id": "2ICj7fxBiXoT",
        "outputId": "f8631e10-672b-40cd-e31b-eb0e19e9c44f"
      },
      "id": "2ICj7fxBiXoT",
      "execution_count": 110,
      "outputs": [
        {
          "output_type": "stream",
          "name": "stdout",
          "text": [
            "Train acc: 97.125, Test acc: 98.8083267211914\n",
            "Train acc: 98.90694427490234, Test acc: 98.99166870117188\n"
          ]
        }
      ]
    },
    {
      "cell_type": "markdown",
      "source": [
        "## Training Model with tf ResNet18 "
      ],
      "metadata": {
        "id": "HMv9DTDxpAGl"
      },
      "id": "HMv9DTDxpAGl"
    },
    {
      "cell_type": "code",
      "source": [
        "trans = T.Compose([\n",
        "                   T.ToTensor(),\n",
        "                   T.Normalize(mean=[0.485, 0.456, 0.406],\n",
        "                                std=[0.229, 0.224, 0.225])\n",
        "])\n",
        "\n",
        "train_set = torchvision.datasets.STL10(root=\"./data\", download=True, split=\"train\",\n",
        "                                       transform=trans)\n",
        "test_set = torchvision.datasets.STL10(root=\"./data\", download=True, split=\"test\",\n",
        "                                      transform=trans)"
      ],
      "metadata": {
        "colab": {
          "base_uri": "https://localhost:8080/"
        },
        "id": "VnIy6klgigqE",
        "outputId": "32a9acc3-95ed-4036-b3d1-b2f305f211bd"
      },
      "id": "VnIy6klgigqE",
      "execution_count": 134,
      "outputs": [
        {
          "output_type": "stream",
          "name": "stdout",
          "text": [
            "Files already downloaded and verified\n",
            "Files already downloaded and verified\n"
          ]
        }
      ]
    },
    {
      "cell_type": "code",
      "source": [
        "train_loader = DataLoader(train_set, batch_size=32, shuffle=True, drop_last=True)\n",
        "test_loader = DataLoader(test_set, batch_size=256)"
      ],
      "metadata": {
        "id": "InuxCWB3pmeW"
      },
      "id": "InuxCWB3pmeW",
      "execution_count": 135,
      "outputs": []
    },
    {
      "cell_type": "code",
      "source": [
        "resnet = torchvision.models.resnet18(pretrained=True)"
      ],
      "metadata": {
        "id": "zpDxVagKrTiV"
      },
      "id": "zpDxVagKrTiV",
      "execution_count": 136,
      "outputs": []
    },
    {
      "cell_type": "code",
      "source": [
        "summary(resnet.to(device), (3, 96, 96))"
      ],
      "metadata": {
        "colab": {
          "base_uri": "https://localhost:8080/"
        },
        "id": "IDCZBAjvrYu-",
        "outputId": "6d7397b4-7c8d-4ab0-cce6-52980ab7cc98"
      },
      "id": "IDCZBAjvrYu-",
      "execution_count": 137,
      "outputs": [
        {
          "output_type": "stream",
          "name": "stdout",
          "text": [
            "----------------------------------------------------------------\n",
            "        Layer (type)               Output Shape         Param #\n",
            "================================================================\n",
            "            Conv2d-1           [-1, 64, 48, 48]           9,408\n",
            "       BatchNorm2d-2           [-1, 64, 48, 48]             128\n",
            "              ReLU-3           [-1, 64, 48, 48]               0\n",
            "         MaxPool2d-4           [-1, 64, 24, 24]               0\n",
            "            Conv2d-5           [-1, 64, 24, 24]          36,864\n",
            "       BatchNorm2d-6           [-1, 64, 24, 24]             128\n",
            "              ReLU-7           [-1, 64, 24, 24]               0\n",
            "            Conv2d-8           [-1, 64, 24, 24]          36,864\n",
            "       BatchNorm2d-9           [-1, 64, 24, 24]             128\n",
            "             ReLU-10           [-1, 64, 24, 24]               0\n",
            "       BasicBlock-11           [-1, 64, 24, 24]               0\n",
            "           Conv2d-12           [-1, 64, 24, 24]          36,864\n",
            "      BatchNorm2d-13           [-1, 64, 24, 24]             128\n",
            "             ReLU-14           [-1, 64, 24, 24]               0\n",
            "           Conv2d-15           [-1, 64, 24, 24]          36,864\n",
            "      BatchNorm2d-16           [-1, 64, 24, 24]             128\n",
            "             ReLU-17           [-1, 64, 24, 24]               0\n",
            "       BasicBlock-18           [-1, 64, 24, 24]               0\n",
            "           Conv2d-19          [-1, 128, 12, 12]          73,728\n",
            "      BatchNorm2d-20          [-1, 128, 12, 12]             256\n",
            "             ReLU-21          [-1, 128, 12, 12]               0\n",
            "           Conv2d-22          [-1, 128, 12, 12]         147,456\n",
            "      BatchNorm2d-23          [-1, 128, 12, 12]             256\n",
            "           Conv2d-24          [-1, 128, 12, 12]           8,192\n",
            "      BatchNorm2d-25          [-1, 128, 12, 12]             256\n",
            "             ReLU-26          [-1, 128, 12, 12]               0\n",
            "       BasicBlock-27          [-1, 128, 12, 12]               0\n",
            "           Conv2d-28          [-1, 128, 12, 12]         147,456\n",
            "      BatchNorm2d-29          [-1, 128, 12, 12]             256\n",
            "             ReLU-30          [-1, 128, 12, 12]               0\n",
            "           Conv2d-31          [-1, 128, 12, 12]         147,456\n",
            "      BatchNorm2d-32          [-1, 128, 12, 12]             256\n",
            "             ReLU-33          [-1, 128, 12, 12]               0\n",
            "       BasicBlock-34          [-1, 128, 12, 12]               0\n",
            "           Conv2d-35            [-1, 256, 6, 6]         294,912\n",
            "      BatchNorm2d-36            [-1, 256, 6, 6]             512\n",
            "             ReLU-37            [-1, 256, 6, 6]               0\n",
            "           Conv2d-38            [-1, 256, 6, 6]         589,824\n",
            "      BatchNorm2d-39            [-1, 256, 6, 6]             512\n",
            "           Conv2d-40            [-1, 256, 6, 6]          32,768\n",
            "      BatchNorm2d-41            [-1, 256, 6, 6]             512\n",
            "             ReLU-42            [-1, 256, 6, 6]               0\n",
            "       BasicBlock-43            [-1, 256, 6, 6]               0\n",
            "           Conv2d-44            [-1, 256, 6, 6]         589,824\n",
            "      BatchNorm2d-45            [-1, 256, 6, 6]             512\n",
            "             ReLU-46            [-1, 256, 6, 6]               0\n",
            "           Conv2d-47            [-1, 256, 6, 6]         589,824\n",
            "      BatchNorm2d-48            [-1, 256, 6, 6]             512\n",
            "             ReLU-49            [-1, 256, 6, 6]               0\n",
            "       BasicBlock-50            [-1, 256, 6, 6]               0\n",
            "           Conv2d-51            [-1, 512, 3, 3]       1,179,648\n",
            "      BatchNorm2d-52            [-1, 512, 3, 3]           1,024\n",
            "             ReLU-53            [-1, 512, 3, 3]               0\n",
            "           Conv2d-54            [-1, 512, 3, 3]       2,359,296\n",
            "      BatchNorm2d-55            [-1, 512, 3, 3]           1,024\n",
            "           Conv2d-56            [-1, 512, 3, 3]         131,072\n",
            "      BatchNorm2d-57            [-1, 512, 3, 3]           1,024\n",
            "             ReLU-58            [-1, 512, 3, 3]               0\n",
            "       BasicBlock-59            [-1, 512, 3, 3]               0\n",
            "           Conv2d-60            [-1, 512, 3, 3]       2,359,296\n",
            "      BatchNorm2d-61            [-1, 512, 3, 3]           1,024\n",
            "             ReLU-62            [-1, 512, 3, 3]               0\n",
            "           Conv2d-63            [-1, 512, 3, 3]       2,359,296\n",
            "      BatchNorm2d-64            [-1, 512, 3, 3]           1,024\n",
            "             ReLU-65            [-1, 512, 3, 3]               0\n",
            "       BasicBlock-66            [-1, 512, 3, 3]               0\n",
            "AdaptiveAvgPool2d-67            [-1, 512, 1, 1]               0\n",
            "           Linear-68                 [-1, 1000]         513,000\n",
            "================================================================\n",
            "Total params: 11,689,512\n",
            "Trainable params: 11,689,512\n",
            "Non-trainable params: 0\n",
            "----------------------------------------------------------------\n",
            "Input size (MB): 0.11\n",
            "Forward/backward pass size (MB): 11.54\n",
            "Params size (MB): 44.59\n",
            "Estimated Total Size (MB): 56.24\n",
            "----------------------------------------------------------------\n"
          ]
        }
      ]
    },
    {
      "cell_type": "code",
      "source": [
        "for p in resnet.parameters():\n",
        "    p.requires_grad = False"
      ],
      "metadata": {
        "id": "4fnp6DMfrf8z"
      },
      "id": "4fnp6DMfrf8z",
      "execution_count": 120,
      "outputs": []
    },
    {
      "cell_type": "code",
      "source": [
        "resnet.fc = nn.Linear(512, 10)"
      ],
      "metadata": {
        "id": "2mWrcYZ5rzeV"
      },
      "id": "2mWrcYZ5rzeV",
      "execution_count": 138,
      "outputs": []
    },
    {
      "cell_type": "code",
      "source": [
        "optimizer = torch.optim.SGD(resnet.parameters(), lr=0.001, momentum=0.9)\n",
        "Loss = nn.CrossEntropyLoss()"
      ],
      "metadata": {
        "id": "X05p46xvr5Tl"
      },
      "id": "X05p46xvr5Tl",
      "execution_count": 139,
      "outputs": []
    },
    {
      "cell_type": "code",
      "source": [
        "res_model, train_accuracy, train_loss, test_accuracy, test_loss = train_model(resnet, Loss, optimizer, train_loader, test_loader, 5)"
      ],
      "metadata": {
        "colab": {
          "base_uri": "https://localhost:8080/"
        },
        "id": "8GyKsmZMsUhk",
        "outputId": "41aeb656-f996-45c2-9d6d-54180160122c"
      },
      "id": "8GyKsmZMsUhk",
      "execution_count": 123,
      "outputs": [
        {
          "output_type": "stream",
          "name": "stdout",
          "text": [
            "Train acc: 57.41185760498047, Test acc: 73.4375\n",
            "Train acc: 75.56089782714844, Test acc: 77.34375\n",
            "Train acc: 78.10496520996094, Test acc: 78.125\n",
            "Train acc: 79.76763153076172, Test acc: 78.125\n",
            "Train acc: 79.96794891357422, Test acc: 76.171875\n"
          ]
        }
      ]
    },
    {
      "cell_type": "code",
      "source": [
        "for p in resnet.parameters():\n",
        "    p.requires_grad = True"
      ],
      "metadata": {
        "id": "lOVLktOnsbe5"
      },
      "id": "lOVLktOnsbe5",
      "execution_count": 130,
      "outputs": []
    },
    {
      "cell_type": "code",
      "source": [
        "res_model, train_accuracy, train_loss, test_accuracy, test_loss = train_model(resnet, Loss, optimizer, train_loader, test_loader, 15)"
      ],
      "metadata": {
        "colab": {
          "base_uri": "https://localhost:8080/"
        },
        "id": "QtaLJcq5sjZ8",
        "outputId": "642bb02a-7f98-482b-dcea-919cb2701220"
      },
      "id": "QtaLJcq5sjZ8",
      "execution_count": 140,
      "outputs": [
        {
          "output_type": "stream",
          "name": "stdout",
          "text": [
            "Train acc: 69.81169891357422, Test acc: 85.9375\n",
            "Train acc: 91.88701629638672, Test acc: 88.671875\n",
            "Train acc: 95.87339782714844, Test acc: 89.0625\n",
            "Train acc: 98.21714782714844, Test acc: 87.5\n",
            "Train acc: 99.13861846923828, Test acc: 89.0625\n",
            "Train acc: 99.53926086425781, Test acc: 88.671875\n",
            "Train acc: 99.69951629638672, Test acc: 89.84375\n",
            "Train acc: 99.7996826171875, Test acc: 89.0625\n",
            "Train acc: 99.81970977783203, Test acc: 89.84375\n",
            "Train acc: 99.7996826171875, Test acc: 88.28125\n",
            "Train acc: 99.87980651855469, Test acc: 88.671875\n",
            "Train acc: 99.89984130859375, Test acc: 89.453125\n",
            "Train acc: 99.85977935791016, Test acc: 88.671875\n",
            "Train acc: 99.87980651855469, Test acc: 89.0625\n",
            "Train acc: 99.87980651855469, Test acc: 88.671875\n"
          ]
        }
      ]
    },
    {
      "cell_type": "code",
      "source": [
        ""
      ],
      "metadata": {
        "id": "4ZQKMCb7sk2q"
      },
      "id": "4ZQKMCb7sk2q",
      "execution_count": null,
      "outputs": []
    }
  ],
  "metadata": {
    "kernelspec": {
      "display_name": "Python 3",
      "name": "python3"
    },
    "language_info": {
      "name": "python"
    },
    "colab": {
      "name": "Day_3.ipynb",
      "provenance": [],
      "collapsed_sections": []
    },
    "accelerator": "GPU"
  },
  "nbformat": 4,
  "nbformat_minor": 5
}