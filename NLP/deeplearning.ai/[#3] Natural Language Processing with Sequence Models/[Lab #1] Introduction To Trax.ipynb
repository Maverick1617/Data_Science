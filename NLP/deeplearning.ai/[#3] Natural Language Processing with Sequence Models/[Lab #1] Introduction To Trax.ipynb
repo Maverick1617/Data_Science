{
  "nbformat": 4,
  "nbformat_minor": 0,
  "metadata": {
    "colab": {
      "name": "[Lab #1] Introduction to Trax.ipynb",
      "provenance": [],
      "collapsed_sections": []
    },
    "kernelspec": {
      "name": "python3",
      "display_name": "Python 3"
    },
    "language_info": {
      "name": "python"
    },
    "accelerator": "GPU",
    "gpuClass": "standard"
  },
  "cells": [
    {
      "cell_type": "markdown",
      "source": [
        "# Trax : Ungraded Lecture Notebook\n",
        "In this notebook you'll get to know about the Trax framework and learn about some of its basic building blocks.\n",
        "\n",
        "## Background\n",
        "### Why Trax and not TensorFlow or PyTorch?\n",
        "TensorFlow and PyTorch are both extensive frameworks that can do almost anything in deep learning. They offer a lot of flexibility, but that often means verosity of syntax and extra time to code.\n",
        "\n",
        "Trax is much more concise. It runs on TensorFlow backend but allows you to train models with 1 line commands. Trax also runs end to end, allowing you to get data. model and train all with a single terse statements. This means you can focus on learning, instead of spending hours on the idiosyncrasies of big framework implementation.\n",
        "\n",
        "### Why not keras then?\n",
        "Keras is now part of Tensorflow itself from 2.0 onwards. Also, trax is good for implementing new state of the art algorithms like Transformers, Reformers, BERT because it is actively maintained by Google Brain Team for advanced deep learning tasks. It runs smoothly on CPUs,GPUs and TPUs as well with comparatively lesser modifications in code.\n",
        "\n",
        "### How to Code in Trax\n",
        "Building models in Trax relies on 2 key concepts:- layers and combinators. Trax layers are simple objects that process data and perform computations. They can be chained together into composite layers using Trax combinators, allowing you to build layers and models of any complexity.\n",
        "\n",
        "### Trax, JAX, TensorFlow and Tensor2Tensor\n",
        "You already know that Trax uses Tensorflow as a backend, but it also uses the JAX library to speed up computation too. You can view JAX as an enhanced and optimized version of numpy.\n",
        "\n",
        "**Watch out for assignments which import ``import trax.fastmath.numpy as np.`` If you see this line, remember that when calling ``np`` you are really calling Trax’s version of numpy that is compatible with JAX.**\n",
        "\n",
        "As a result of this, where you used to encounter the type ``numpy.ndarray`` now you will find the type ``jax.interpreters.xla.DeviceArray``.\n",
        "\n",
        "Tensor2Tensor is another name you might have heard. It started as an end to end solution much like how Trax is designed, but it grew unwieldy and complicated. So you can view Trax as the new improved version that operates much faster and simpler.\n",
        "\n",
        "### Resources\n",
        "* Trax source code can be found on Github: Trax\n",
        "* JAX library: JAX\n",
        "\n",
        "### Installing Trax\n",
        "Trax has dependencies on JAX and some libraries like JAX which are yet to be supported in Windows but work well in Ubuntu and MacOS. We would suggest that if you are working on Windows, try to install Trax on WSL2.\n",
        "\n",
        "Official maintained documentation - trax-ml not to be confused with this TraX"
      ],
      "metadata": {
        "id": "fNQs04xC4yDg"
      }
    },
    {
      "cell_type": "code",
      "execution_count": 1,
      "metadata": {
        "id": "bSTnSMvH4sJg"
      },
      "outputs": [],
      "source": [
        "# !pip install trax==1.3.1 # Use this version for this notebook (not working on google collab xD)"
      ]
    },
    {
      "cell_type": "code",
      "source": [
        "!pip install trax # default goo brrrrrrrrr"
      ],
      "metadata": {
        "colab": {
          "base_uri": "https://localhost:8080/"
        },
        "id": "PMb7JxqG9BxT",
        "outputId": "c3b80908-f7ca-439a-fe3f-3a2b1536e9c1"
      },
      "execution_count": 2,
      "outputs": [
        {
          "output_type": "stream",
          "name": "stdout",
          "text": [
            "Looking in indexes: https://pypi.org/simple, https://us-python.pkg.dev/colab-wheels/public/simple/\n",
            "Collecting trax\n",
            "  Downloading trax-1.4.1-py2.py3-none-any.whl (637 kB)\n",
            "\u001b[K     |████████████████████████████████| 637 kB 5.1 MB/s \n",
            "\u001b[?25hRequirement already satisfied: absl-py in /usr/local/lib/python3.7/dist-packages (from trax) (1.1.0)\n",
            "Requirement already satisfied: gym in /usr/local/lib/python3.7/dist-packages (from trax) (0.17.3)\n",
            "Requirement already satisfied: gin-config in /usr/local/lib/python3.7/dist-packages (from trax) (0.5.0)\n",
            "Requirement already satisfied: psutil in /usr/local/lib/python3.7/dist-packages (from trax) (5.4.8)\n",
            "Requirement already satisfied: scipy in /usr/local/lib/python3.7/dist-packages (from trax) (1.7.3)\n",
            "Collecting funcsigs\n",
            "  Downloading funcsigs-1.0.2-py2.py3-none-any.whl (17 kB)\n",
            "Requirement already satisfied: six in /usr/local/lib/python3.7/dist-packages (from trax) (1.15.0)\n",
            "Requirement already satisfied: tensorflow-datasets in /usr/local/lib/python3.7/dist-packages (from trax) (4.0.1)\n",
            "Collecting tensorflow-text\n",
            "  Downloading tensorflow_text-2.9.0-cp37-cp37m-manylinux_2_17_x86_64.manylinux2014_x86_64.whl (4.6 MB)\n",
            "\u001b[K     |████████████████████████████████| 4.6 MB 59.0 MB/s \n",
            "\u001b[?25hRequirement already satisfied: matplotlib in /usr/local/lib/python3.7/dist-packages (from trax) (3.2.2)\n",
            "Requirement already satisfied: numpy in /usr/local/lib/python3.7/dist-packages (from trax) (1.21.6)\n",
            "Requirement already satisfied: jax in /usr/local/lib/python3.7/dist-packages (from trax) (0.3.14)\n",
            "Requirement already satisfied: jaxlib in /usr/local/lib/python3.7/dist-packages (from trax) (0.3.14+cuda11.cudnn805)\n",
            "Requirement already satisfied: pyglet<=1.5.0,>=1.4.0 in /usr/local/lib/python3.7/dist-packages (from gym->trax) (1.5.0)\n",
            "Requirement already satisfied: cloudpickle<1.7.0,>=1.2.0 in /usr/local/lib/python3.7/dist-packages (from gym->trax) (1.3.0)\n",
            "Requirement already satisfied: future in /usr/local/lib/python3.7/dist-packages (from pyglet<=1.5.0,>=1.4.0->gym->trax) (0.16.0)\n",
            "Requirement already satisfied: opt-einsum in /usr/local/lib/python3.7/dist-packages (from jax->trax) (3.3.0)\n",
            "Requirement already satisfied: typing-extensions in /usr/local/lib/python3.7/dist-packages (from jax->trax) (4.1.1)\n",
            "Requirement already satisfied: etils[epath] in /usr/local/lib/python3.7/dist-packages (from jax->trax) (0.6.0)\n",
            "Requirement already satisfied: zipp in /usr/local/lib/python3.7/dist-packages (from etils[epath]->jax->trax) (3.8.0)\n",
            "Requirement already satisfied: importlib_resources in /usr/local/lib/python3.7/dist-packages (from etils[epath]->jax->trax) (5.8.0)\n",
            "Requirement already satisfied: flatbuffers<3.0,>=1.12 in /usr/local/lib/python3.7/dist-packages (from jaxlib->trax) (2.0)\n",
            "Requirement already satisfied: kiwisolver>=1.0.1 in /usr/local/lib/python3.7/dist-packages (from matplotlib->trax) (1.4.3)\n",
            "Requirement already satisfied: cycler>=0.10 in /usr/local/lib/python3.7/dist-packages (from matplotlib->trax) (0.11.0)\n",
            "Requirement already satisfied: pyparsing!=2.0.4,!=2.1.2,!=2.1.6,>=2.0.1 in /usr/local/lib/python3.7/dist-packages (from matplotlib->trax) (3.0.9)\n",
            "Requirement already satisfied: python-dateutil>=2.1 in /usr/local/lib/python3.7/dist-packages (from matplotlib->trax) (2.8.2)\n",
            "Requirement already satisfied: promise in /usr/local/lib/python3.7/dist-packages (from tensorflow-datasets->trax) (2.3)\n",
            "Requirement already satisfied: protobuf>=3.6.1 in /usr/local/lib/python3.7/dist-packages (from tensorflow-datasets->trax) (3.17.3)\n",
            "Requirement already satisfied: attrs>=18.1.0 in /usr/local/lib/python3.7/dist-packages (from tensorflow-datasets->trax) (21.4.0)\n",
            "Requirement already satisfied: tensorflow-metadata in /usr/local/lib/python3.7/dist-packages (from tensorflow-datasets->trax) (1.9.0)\n",
            "Requirement already satisfied: termcolor in /usr/local/lib/python3.7/dist-packages (from tensorflow-datasets->trax) (1.1.0)\n",
            "Requirement already satisfied: dill in /usr/local/lib/python3.7/dist-packages (from tensorflow-datasets->trax) (0.3.5.1)\n",
            "Requirement already satisfied: dm-tree in /usr/local/lib/python3.7/dist-packages (from tensorflow-datasets->trax) (0.1.7)\n",
            "Requirement already satisfied: requests>=2.19.0 in /usr/local/lib/python3.7/dist-packages (from tensorflow-datasets->trax) (2.23.0)\n",
            "Requirement already satisfied: tqdm in /usr/local/lib/python3.7/dist-packages (from tensorflow-datasets->trax) (4.64.0)\n",
            "Requirement already satisfied: idna<3,>=2.5 in /usr/local/lib/python3.7/dist-packages (from requests>=2.19.0->tensorflow-datasets->trax) (2.10)\n",
            "Requirement already satisfied: certifi>=2017.4.17 in /usr/local/lib/python3.7/dist-packages (from requests>=2.19.0->tensorflow-datasets->trax) (2022.6.15)\n",
            "Requirement already satisfied: urllib3!=1.25.0,!=1.25.1,<1.26,>=1.21.1 in /usr/local/lib/python3.7/dist-packages (from requests>=2.19.0->tensorflow-datasets->trax) (1.24.3)\n",
            "Requirement already satisfied: chardet<4,>=3.0.2 in /usr/local/lib/python3.7/dist-packages (from requests>=2.19.0->tensorflow-datasets->trax) (3.0.4)\n",
            "Requirement already satisfied: googleapis-common-protos<2,>=1.52.0 in /usr/local/lib/python3.7/dist-packages (from tensorflow-metadata->tensorflow-datasets->trax) (1.56.3)\n",
            "Collecting tensorflow<2.10,>=2.9.0\n",
            "  Downloading tensorflow-2.9.1-cp37-cp37m-manylinux_2_17_x86_64.manylinux2014_x86_64.whl (511.7 MB)\n",
            "\u001b[K     |████████████████████████████████| 511.7 MB 5.8 kB/s \n",
            "\u001b[?25hRequirement already satisfied: tensorflow-hub>=0.8.0 in /usr/local/lib/python3.7/dist-packages (from tensorflow-text->trax) (0.12.0)\n",
            "Requirement already satisfied: tensorflow-io-gcs-filesystem>=0.23.1 in /usr/local/lib/python3.7/dist-packages (from tensorflow<2.10,>=2.9.0->tensorflow-text->trax) (0.26.0)\n",
            "Requirement already satisfied: setuptools in /usr/local/lib/python3.7/dist-packages (from tensorflow<2.10,>=2.9.0->tensorflow-text->trax) (57.4.0)\n",
            "Requirement already satisfied: astunparse>=1.6.0 in /usr/local/lib/python3.7/dist-packages (from tensorflow<2.10,>=2.9.0->tensorflow-text->trax) (1.6.3)\n",
            "Collecting keras<2.10.0,>=2.9.0rc0\n",
            "  Downloading keras-2.9.0-py2.py3-none-any.whl (1.6 MB)\n",
            "\u001b[K     |████████████████████████████████| 1.6 MB 50.7 MB/s \n",
            "\u001b[?25hRequirement already satisfied: google-pasta>=0.1.1 in /usr/local/lib/python3.7/dist-packages (from tensorflow<2.10,>=2.9.0->tensorflow-text->trax) (0.2.0)\n",
            "Requirement already satisfied: wrapt>=1.11.0 in /usr/local/lib/python3.7/dist-packages (from tensorflow<2.10,>=2.9.0->tensorflow-text->trax) (1.14.1)\n",
            "Collecting flatbuffers<3.0,>=1.12\n",
            "  Downloading flatbuffers-1.12-py2.py3-none-any.whl (15 kB)\n",
            "Collecting gast<=0.4.0,>=0.2.1\n",
            "  Downloading gast-0.4.0-py3-none-any.whl (9.8 kB)\n",
            "Collecting tensorflow-estimator<2.10.0,>=2.9.0rc0\n",
            "  Downloading tensorflow_estimator-2.9.0-py2.py3-none-any.whl (438 kB)\n",
            "\u001b[K     |████████████████████████████████| 438 kB 62.2 MB/s \n",
            "\u001b[?25hRequirement already satisfied: libclang>=13.0.0 in /usr/local/lib/python3.7/dist-packages (from tensorflow<2.10,>=2.9.0->tensorflow-text->trax) (14.0.1)\n",
            "Requirement already satisfied: packaging in /usr/local/lib/python3.7/dist-packages (from tensorflow<2.10,>=2.9.0->tensorflow-text->trax) (21.3)\n",
            "Requirement already satisfied: h5py>=2.9.0 in /usr/local/lib/python3.7/dist-packages (from tensorflow<2.10,>=2.9.0->tensorflow-text->trax) (3.1.0)\n",
            "Requirement already satisfied: grpcio<2.0,>=1.24.3 in /usr/local/lib/python3.7/dist-packages (from tensorflow<2.10,>=2.9.0->tensorflow-text->trax) (1.47.0)\n",
            "Collecting tensorboard<2.10,>=2.9\n",
            "  Downloading tensorboard-2.9.1-py3-none-any.whl (5.8 MB)\n",
            "\u001b[K     |████████████████████████████████| 5.8 MB 20.7 MB/s \n",
            "\u001b[?25hRequirement already satisfied: keras-preprocessing>=1.1.1 in /usr/local/lib/python3.7/dist-packages (from tensorflow<2.10,>=2.9.0->tensorflow-text->trax) (1.1.2)\n",
            "Requirement already satisfied: wheel<1.0,>=0.23.0 in /usr/local/lib/python3.7/dist-packages (from astunparse>=1.6.0->tensorflow<2.10,>=2.9.0->tensorflow-text->trax) (0.37.1)\n",
            "Requirement already satisfied: cached-property in /usr/local/lib/python3.7/dist-packages (from h5py>=2.9.0->tensorflow<2.10,>=2.9.0->tensorflow-text->trax) (1.5.2)\n",
            "Requirement already satisfied: google-auth<3,>=1.6.3 in /usr/local/lib/python3.7/dist-packages (from tensorboard<2.10,>=2.9->tensorflow<2.10,>=2.9.0->tensorflow-text->trax) (1.35.0)\n",
            "Requirement already satisfied: tensorboard-plugin-wit>=1.6.0 in /usr/local/lib/python3.7/dist-packages (from tensorboard<2.10,>=2.9->tensorflow<2.10,>=2.9.0->tensorflow-text->trax) (1.8.1)\n",
            "Requirement already satisfied: tensorboard-data-server<0.7.0,>=0.6.0 in /usr/local/lib/python3.7/dist-packages (from tensorboard<2.10,>=2.9->tensorflow<2.10,>=2.9.0->tensorflow-text->trax) (0.6.1)\n",
            "Requirement already satisfied: werkzeug>=1.0.1 in /usr/local/lib/python3.7/dist-packages (from tensorboard<2.10,>=2.9->tensorflow<2.10,>=2.9.0->tensorflow-text->trax) (1.0.1)\n",
            "Requirement already satisfied: google-auth-oauthlib<0.5,>=0.4.1 in /usr/local/lib/python3.7/dist-packages (from tensorboard<2.10,>=2.9->tensorflow<2.10,>=2.9.0->tensorflow-text->trax) (0.4.6)\n",
            "Requirement already satisfied: markdown>=2.6.8 in /usr/local/lib/python3.7/dist-packages (from tensorboard<2.10,>=2.9->tensorflow<2.10,>=2.9.0->tensorflow-text->trax) (3.3.7)\n",
            "Requirement already satisfied: cachetools<5.0,>=2.0.0 in /usr/local/lib/python3.7/dist-packages (from google-auth<3,>=1.6.3->tensorboard<2.10,>=2.9->tensorflow<2.10,>=2.9.0->tensorflow-text->trax) (4.2.4)\n",
            "Requirement already satisfied: rsa<5,>=3.1.4 in /usr/local/lib/python3.7/dist-packages (from google-auth<3,>=1.6.3->tensorboard<2.10,>=2.9->tensorflow<2.10,>=2.9.0->tensorflow-text->trax) (4.8)\n",
            "Requirement already satisfied: pyasn1-modules>=0.2.1 in /usr/local/lib/python3.7/dist-packages (from google-auth<3,>=1.6.3->tensorboard<2.10,>=2.9->tensorflow<2.10,>=2.9.0->tensorflow-text->trax) (0.2.8)\n",
            "Requirement already satisfied: requests-oauthlib>=0.7.0 in /usr/local/lib/python3.7/dist-packages (from google-auth-oauthlib<0.5,>=0.4.1->tensorboard<2.10,>=2.9->tensorflow<2.10,>=2.9.0->tensorflow-text->trax) (1.3.1)\n",
            "Requirement already satisfied: importlib-metadata>=4.4 in /usr/local/lib/python3.7/dist-packages (from markdown>=2.6.8->tensorboard<2.10,>=2.9->tensorflow<2.10,>=2.9.0->tensorflow-text->trax) (4.12.0)\n",
            "Requirement already satisfied: pyasn1<0.5.0,>=0.4.6 in /usr/local/lib/python3.7/dist-packages (from pyasn1-modules>=0.2.1->google-auth<3,>=1.6.3->tensorboard<2.10,>=2.9->tensorflow<2.10,>=2.9.0->tensorflow-text->trax) (0.4.8)\n",
            "Requirement already satisfied: oauthlib>=3.0.0 in /usr/local/lib/python3.7/dist-packages (from requests-oauthlib>=0.7.0->google-auth-oauthlib<0.5,>=0.4.1->tensorboard<2.10,>=2.9->tensorflow<2.10,>=2.9.0->tensorflow-text->trax) (3.2.0)\n",
            "Installing collected packages: tensorflow-estimator, tensorboard, keras, gast, flatbuffers, tensorflow, tensorflow-text, funcsigs, trax\n",
            "  Attempting uninstall: tensorflow-estimator\n",
            "    Found existing installation: tensorflow-estimator 2.8.0\n",
            "    Uninstalling tensorflow-estimator-2.8.0:\n",
            "      Successfully uninstalled tensorflow-estimator-2.8.0\n",
            "  Attempting uninstall: tensorboard\n",
            "    Found existing installation: tensorboard 2.8.0\n",
            "    Uninstalling tensorboard-2.8.0:\n",
            "      Successfully uninstalled tensorboard-2.8.0\n",
            "  Attempting uninstall: keras\n",
            "    Found existing installation: keras 2.8.0\n",
            "    Uninstalling keras-2.8.0:\n",
            "      Successfully uninstalled keras-2.8.0\n",
            "  Attempting uninstall: gast\n",
            "    Found existing installation: gast 0.5.3\n",
            "    Uninstalling gast-0.5.3:\n",
            "      Successfully uninstalled gast-0.5.3\n",
            "  Attempting uninstall: flatbuffers\n",
            "    Found existing installation: flatbuffers 2.0\n",
            "    Uninstalling flatbuffers-2.0:\n",
            "      Successfully uninstalled flatbuffers-2.0\n",
            "  Attempting uninstall: tensorflow\n",
            "    Found existing installation: tensorflow 2.8.2+zzzcolab20220527125636\n",
            "    Uninstalling tensorflow-2.8.2+zzzcolab20220527125636:\n",
            "      Successfully uninstalled tensorflow-2.8.2+zzzcolab20220527125636\n",
            "Successfully installed flatbuffers-1.12 funcsigs-1.0.2 gast-0.4.0 keras-2.9.0 tensorboard-2.9.1 tensorflow-2.9.1 tensorflow-estimator-2.9.0 tensorflow-text-2.9.0 trax-1.4.1\n"
          ]
        }
      ]
    },
    {
      "cell_type": "markdown",
      "source": [
        "### Imports"
      ],
      "metadata": {
        "id": "eiNDHQ5a8LIo"
      }
    },
    {
      "cell_type": "code",
      "source": [
        "import numpy as np\n",
        "from trax import layers\n",
        "from trax import shapes\n",
        "from trax import fastmath"
      ],
      "metadata": {
        "id": "wZ51LDnn8HDF"
      },
      "execution_count": 3,
      "outputs": []
    },
    {
      "cell_type": "code",
      "source": [
        "!pip list | grep trax"
      ],
      "metadata": {
        "colab": {
          "base_uri": "https://localhost:8080/"
        },
        "id": "mgcJbNJk8ctJ",
        "outputId": "0d9b1516-c6e9-4ba4-a61b-a93ca5bce25a"
      },
      "execution_count": 4,
      "outputs": [
        {
          "output_type": "stream",
          "name": "stdout",
          "text": [
            "trax                          1.4.1\n"
          ]
        }
      ]
    },
    {
      "cell_type": "markdown",
      "source": [
        "### Layers\n",
        "\n",
        "Layers are the core building blocks in Trax or as mentioned in the lectures, they are the base classes.\n",
        "\n",
        "They take inputs, compute functions/custom calculations and return outputs.\n",
        "\n",
        "You can also inspect layer properties. Let me show you some examples.\n",
        "\n",
        "### Relu Layer\n",
        "\n",
        "First I'll show you how to build a relu activation function as a layer. A layer like this is one of the simplest types. Notice there is no object initialization so it works just like a math function.\n",
        "\n",
        "**Note: Activation functions are also layers in Trax, which might look odd if you have been using other frameworks for a longer time.**"
      ],
      "metadata": {
        "id": "fxBxnaki8jpm"
      }
    },
    {
      "cell_type": "code",
      "source": [
        "# Layers\n",
        "# Create a relu trax Layer\n",
        "relu = layers.Relu()\n",
        "\n",
        "# Instpect properties\n",
        "print(\"Properties: \")\n",
        "print(\"Name: \", relu.name)\n",
        "print(\"Expected inputs:\", relu.n_in)\n",
        "print(\"Promised outputs:\", relu.n_out, \"\\n\")\n",
        "\n",
        "# Inputs\n",
        "x = np.array([-2, -1, 0, 1, 2])\n",
        "print(\"Inputs\")\n",
        "print(\"x:\", x, \"\\n\")\n",
        "\n",
        "# Outputs\n",
        "y = relu(x)\n",
        "print(\"Outputs\")\n",
        "print(\"y:\", y)"
      ],
      "metadata": {
        "colab": {
          "base_uri": "https://localhost:8080/"
        },
        "id": "lv5ju_D_8jaj",
        "outputId": "73c04d3f-752a-4da8-999d-23d924e99fa9"
      },
      "execution_count": 5,
      "outputs": [
        {
          "output_type": "stream",
          "name": "stdout",
          "text": [
            "Properties: \n",
            "Name:  Serial\n",
            "Expected inputs: 1\n",
            "Promised outputs: 1 \n",
            "\n",
            "Inputs\n",
            "x: [-2 -1  0  1  2] \n",
            "\n",
            "Outputs\n",
            "y: [0 0 0 1 2]\n"
          ]
        }
      ]
    },
    {
      "cell_type": "markdown",
      "source": [
        "### Concatenate Layer\n",
        "\n",
        "Now I'll show you how to build a layer that takes 2 inputs. Notice the change in the expected inputs property from 1 to 2."
      ],
      "metadata": {
        "id": "LSxNuQRB-0AD"
      }
    },
    {
      "cell_type": "code",
      "source": [
        "# Create a concatenate trax layer\n",
        "concat = layers.Concatenate()\n",
        "print(\"Properties\")\n",
        "print(\"Name:\", concat.name)\n",
        "print(\"Expected inputs:\", concat.n_in)\n",
        "print(\"Promised outputs:\", concat.n_out, \"\\n\")\n",
        "\n",
        "# Inputs\n",
        "x1 = np.array([-10, -20, -30])\n",
        "x2 = x1 / -10\n",
        "print(\"Inputs\")\n",
        "print(\"X1:\", x1)\n",
        "print(\"X2:\", x2, \"\\n\")\n",
        "\n",
        "# Outputs\n",
        "y = concat([x1, x2])\n",
        "print(\"Outputs\")\n",
        "print(\"y:\", y)"
      ],
      "metadata": {
        "id": "AbN2Jv6s-HqU",
        "colab": {
          "base_uri": "https://localhost:8080/"
        },
        "outputId": "3820117e-1b5e-41a3-decb-ef909cf65603"
      },
      "execution_count": 6,
      "outputs": [
        {
          "output_type": "stream",
          "name": "stdout",
          "text": [
            "Properties\n",
            "Name: Concatenate\n",
            "Expected inputs: 2\n",
            "Promised outputs: 1 \n",
            "\n",
            "Inputs\n",
            "X1: [-10 -20 -30]\n",
            "X2: [1. 2. 3.] \n",
            "\n",
            "Outputs\n",
            "y: [-10. -20. -30.   1.   2.   3.]\n"
          ]
        }
      ]
    },
    {
      "cell_type": "markdown",
      "source": [
        "### Layers are Configurable\n",
        "You can change the default settings of layers. For example, you can change the expected inputs for a concatenate layer from 2 to 3 using the optional parameter ``n_items``."
      ],
      "metadata": {
        "id": "Rd4N_J7T-36B"
      }
    },
    {
      "cell_type": "code",
      "source": [
        "# Configure a concatenate Layer\n",
        "concat_3 = layers.Concatenate(n_items=3)  # configure the layer's expected inputs\n",
        "print(\"-- Properties --\")\n",
        "print(\"name :\", concat_3.name)\n",
        "print(\"expected inputs :\", concat_3.n_in)\n",
        "print(\"promised outputs :\", concat_3.n_out, \"\\n\")\n",
        "\n",
        "# Inputs\n",
        "x1 = np.array([-10, -20, -30])\n",
        "x2 = x1 / -10\n",
        "x3 = x2 * 0.99\n",
        "print(\"-- Inputs --\")\n",
        "print(\"x1 :\", x1)\n",
        "print(\"x2 :\", x2)\n",
        "print(\"x3 :\", x3, \"\\n\")\n",
        "\n",
        "# Outputs\n",
        "y = concat_3([x1, x2, x3])\n",
        "print(\"-- Outputs --\")\n",
        "print(\"y :\", y)"
      ],
      "metadata": {
        "id": "RyBq42lN-9qZ",
        "colab": {
          "base_uri": "https://localhost:8080/"
        },
        "outputId": "4923bdf2-df2b-4446-ecc7-eeae9efad8aa"
      },
      "execution_count": 7,
      "outputs": [
        {
          "output_type": "stream",
          "name": "stdout",
          "text": [
            "-- Properties --\n",
            "name : Concatenate\n",
            "expected inputs : 3\n",
            "promised outputs : 1 \n",
            "\n",
            "-- Inputs --\n",
            "x1 : [-10 -20 -30]\n",
            "x2 : [1. 2. 3.]\n",
            "x3 : [0.99 1.98 2.97] \n",
            "\n",
            "-- Outputs --\n",
            "y : [-10.   -20.   -30.     1.     2.     3.     0.99   1.98   2.97]\n"
          ]
        }
      ]
    },
    {
      "cell_type": "markdown",
      "source": [
        "**Note: At any point,if you want to refer the function help/ look up the documentation or use help function.**"
      ],
      "metadata": {
        "id": "4pbo4PmX-_R8"
      }
    },
    {
      "cell_type": "code",
      "source": [
        "#help(tl.Concatenate) #Uncomment this to see the function docstring with explaination"
      ],
      "metadata": {
        "id": "gLjJ4r6l_Bo8"
      },
      "execution_count": 8,
      "outputs": []
    },
    {
      "cell_type": "markdown",
      "source": [
        "### Layers can have Weights\n",
        "Some layer types include mutable weights and biases that are used in computation and training. Layers of this type require initialization before use.\n",
        "\n",
        "For example the ``LayerNorm`` layer calculates normalized data, that is also scaled by weights and biases. During initialization you pass the data shape and data type of the inputs, so the layer can initialize compatible arrays of weights and biases."
      ],
      "metadata": {
        "id": "10eYoAUa_FtK"
      }
    },
    {
      "cell_type": "code",
      "source": [
        "# Uncomment any of them to see information regarding the function\n",
        "help(layers.LayerNorm)\n",
        "# help(shapes.signature)"
      ],
      "metadata": {
        "id": "iIZ-5HtW_KW4",
        "colab": {
          "base_uri": "https://localhost:8080/"
        },
        "outputId": "97e4547f-cdef-4860-e669-c530fffd9314"
      },
      "execution_count": 9,
      "outputs": [
        {
          "output_type": "stream",
          "name": "stdout",
          "text": [
            "Help on class LayerNorm in module trax.layers.normalization:\n",
            "\n",
            "class LayerNorm(LayerNorm)\n",
            " |  LayerNorm(*args, **kwargs)\n",
            " |  \n",
            " |  Layer normalization.\n",
            " |  \n",
            " |  Method resolution order:\n",
            " |      LayerNorm\n",
            " |      LayerNorm\n",
            " |      trax.layers.base.Layer\n",
            " |      builtins.object\n",
            " |  \n",
            " |  Methods inherited from LayerNorm:\n",
            " |  \n",
            " |  __init__(self, center=True, epsilon=1e-06)\n",
            " |      Creates a partially initialized, unconnected layer instance.\n",
            " |      \n",
            " |      Args:\n",
            " |        n_in: Number of inputs expected by this layer.\n",
            " |        n_out: Number of outputs promised by this layer.\n",
            " |        name: Class-like name for this layer; for use when printing this layer.\n",
            " |        sublayers_to_print: Sublayers to display when printing out this layer;\n",
            " |          if None (the default), display all sublayers.\n",
            " |  \n",
            " |  forward(self, x)\n",
            " |      Computes this layer's output as part of a forward pass through the model.\n",
            " |      \n",
            " |      A layer subclass overrides this method to define how the layer computes\n",
            " |      outputs from inputs. If the layer depends on weights, state, or randomness\n",
            " |      as part of the computation, the needed information can be accessed as\n",
            " |      properties of the layer object: `self.weights`, `self.state`, and\n",
            " |      `self.rng`. (See numerous examples in `trax.layers.core`.)\n",
            " |      \n",
            " |      Args:\n",
            " |        inputs: Zero or more input tensors, packaged as described in the `Layer`\n",
            " |            class docstring.\n",
            " |      \n",
            " |      Returns:\n",
            " |        Zero or more output tensors, packaged as described in the `Layer` class\n",
            " |        docstring.\n",
            " |  \n",
            " |  init_weights_and_state(self, input_signature)\n",
            " |      Initializes weights and state, to handle input with the given signature.\n",
            " |      \n",
            " |      A layer subclass must override this method if the layer uses weights or\n",
            " |      state. To initialize weights, set `self.weights` to desired (typically\n",
            " |      random) values. To initialize state (uncommon), set `self.state` to desired\n",
            " |      starting values.\n",
            " |      \n",
            " |      Args:\n",
            " |        input_signature: A `ShapeDtype` instance (if this layer takes one input)\n",
            " |            or a list/tuple of `ShapeDtype` instances.\n",
            " |  \n",
            " |  ----------------------------------------------------------------------\n",
            " |  Methods inherited from trax.layers.base.Layer:\n",
            " |  \n",
            " |  __call__(self, x, weights=None, state=None, rng=None)\n",
            " |      Makes layers callable; for use in tests or interactive settings.\n",
            " |      \n",
            " |      This convenience method helps library users play with, test, or otherwise\n",
            " |      probe the behavior of layers outside of a full training environment. It\n",
            " |      presents the layer as callable function from inputs to outputs, with the\n",
            " |      option of manually specifying weights and non-parameter state per individual\n",
            " |      call. For convenience, weights and non-parameter state are cached per layer\n",
            " |      instance, starting from default values of `EMPTY_WEIGHTS` and `EMPTY_STATE`,\n",
            " |      and acquiring non-empty values either by initialization or from values\n",
            " |      explicitly provided via the weights and state keyword arguments, in which\n",
            " |      case the old weights will be preserved, and the state will be updated.\n",
            " |      \n",
            " |      Args:\n",
            " |        x: Zero or more input tensors, packaged as described in the `Layer` class\n",
            " |            docstring.\n",
            " |        weights: Weights or `None`; if `None`, use self's cached weights value.\n",
            " |        state: State or `None`; if `None`, use self's cached state value.\n",
            " |        rng: Single-use random number generator (JAX PRNG key), or `None`;\n",
            " |            if `None`, use a default computed from an integer 0 seed.\n",
            " |      \n",
            " |      Returns:\n",
            " |        Zero or more output tensors, packaged as described in the `Layer` class\n",
            " |        docstring.\n",
            " |  \n",
            " |  __repr__(self)\n",
            " |      Renders this layer as a medium-detailed string, to help in debugging.\n",
            " |      \n",
            " |      Subclasses should aim for high-signal/low-noise when overriding this\n",
            " |      method.\n",
            " |      \n",
            " |      Returns:\n",
            " |        A high signal-to-noise string representing this layer.\n",
            " |  \n",
            " |  __setattr__(self, attr, value)\n",
            " |      Sets class attributes and protects from typos.\n",
            " |      \n",
            " |      In Trax layers, we only allow to set the following public attributes::\n",
            " |      \n",
            " |        - weights\n",
            " |        - state\n",
            " |        - rng\n",
            " |      \n",
            " |      This function prevents from setting other public attributes to avoid typos,\n",
            " |      for example, this is not possible and would be without this function::\n",
            " |      \n",
            " |        [typo]   layer.weighs = some_tensor\n",
            " |      \n",
            " |      If you need to set other public attributes in a derived class (which we\n",
            " |      do not recommend as in almost all cases it suffices to use a private\n",
            " |      attribute), override self._settable_attrs to include the attribute name.\n",
            " |      \n",
            " |      Args:\n",
            " |        attr: Name of the attribute to be set.\n",
            " |        value: Value to be assigned to the attribute.\n",
            " |  \n",
            " |  backward(self, inputs, output, grad, weights, state, new_state, rng)\n",
            " |      Custom backward pass to propagate gradients in a custom way.\n",
            " |      \n",
            " |      Args:\n",
            " |        inputs: Input tensors; can be a (possibly nested) tuple.\n",
            " |        output: The result of running this layer on inputs.\n",
            " |        grad: Gradient signal computed based on subsequent layers; its structure\n",
            " |            and shape must match output.\n",
            " |        weights: This layer's weights.\n",
            " |        state: This layer's state prior to the current forward pass.\n",
            " |        new_state: This layer's state after the current forward pass.\n",
            " |        rng: Single-use random number generator (JAX PRNG key).\n",
            " |      \n",
            " |      Returns:\n",
            " |        The custom gradient signal for the input. Note that we need to return\n",
            " |        a gradient for each argument of forward, so it will usually be a tuple\n",
            " |        of signals: the gradient for inputs and weights.\n",
            " |  \n",
            " |  init(self, input_signature, rng=None, use_cache=False)\n",
            " |      Initializes weights/state of this layer and its sublayers recursively.\n",
            " |      \n",
            " |      Initialization creates layer weights and state, for layers that use them.\n",
            " |      It derives the necessary array shapes and data types from the layer's input\n",
            " |      signature, which is itself just shape and data type information.\n",
            " |      \n",
            " |      For layers without weights or state, this method safely does nothing.\n",
            " |      \n",
            " |      This method is designed to create weights/state only once for each layer\n",
            " |      instance, even if the same layer instance occurs in multiple places in the\n",
            " |      network. This enables weight sharing to be implemented as layer sharing.\n",
            " |      \n",
            " |      Args:\n",
            " |        input_signature: `ShapeDtype` instance (if this layer takes one input)\n",
            " |            or list/tuple of `ShapeDtype` instances.\n",
            " |        rng: Single-use random number generator (JAX PRNG key), or `None`;\n",
            " |            if `None`, use a default computed from an integer 0 seed.\n",
            " |        use_cache: If `True`, and if this layer instance has already been\n",
            " |            initialized elsewhere in the network, then return special marker\n",
            " |            values -- tuple `(GET_WEIGHTS_FROM_CACHE, GET_STATE_FROM_CACHE)`.\n",
            " |            Else return this layer's newly initialized weights and state.\n",
            " |      \n",
            " |      Returns:\n",
            " |        A `(weights, state)` tuple.\n",
            " |  \n",
            " |  init_from_file(self, file_name, weights_only=False, input_signature=None)\n",
            " |      Initializes this layer and its sublayers from a pickled checkpoint.\n",
            " |      \n",
            " |      In the common case (`weights_only=False`), the file must be a gziped pickled\n",
            " |      dictionary containing items with keys `'flat_weights', `'flat_state'` and\n",
            " |      `'input_signature'`, which are used to initialize this layer.\n",
            " |      If `input_signature` is specified, it's used instead of the one in the file.\n",
            " |      If `weights_only` is `True`, the dictionary does not need to have the\n",
            " |      `'flat_state'` item and the state it not restored either.\n",
            " |      \n",
            " |      Args:\n",
            " |        file_name: Name/path of the pickled weights/state file.\n",
            " |        weights_only: If `True`, initialize only the layer's weights. Else\n",
            " |            initialize both weights and state.\n",
            " |        input_signature: Input signature to be used instead of the one from file.\n",
            " |      \n",
            " |      Returns:\n",
            " |        A `(weights, state)` tuple.\n",
            " |  \n",
            " |  output_signature(self, input_signature)\n",
            " |      Returns output signature this layer would give for `input_signature`.\n",
            " |  \n",
            " |  pure_fn(self, x, weights, state, rng, use_cache=False)\n",
            " |      Applies this layer as a pure function with no optional args.\n",
            " |      \n",
            " |      This method exposes the layer's computation as a pure function. This is\n",
            " |      especially useful for JIT compilation. Do not override, use `forward`\n",
            " |      instead.\n",
            " |      \n",
            " |      Args:\n",
            " |        x: Zero or more input tensors, packaged as described in the `Layer` class\n",
            " |            docstring.\n",
            " |        weights: A tuple or list of trainable weights, with one element for this\n",
            " |            layer if this layer has no sublayers, or one for each sublayer if\n",
            " |            this layer has sublayers. If a layer (or sublayer) has no trainable\n",
            " |            weights, the corresponding weights element is an empty tuple.\n",
            " |        state: Layer-specific non-parameter state that can update between batches.\n",
            " |        rng: Single-use random number generator (JAX PRNG key).\n",
            " |        use_cache: if `True`, cache weights and state in the layer object; used\n",
            " |          to implement layer sharing in combinators.\n",
            " |      \n",
            " |      Returns:\n",
            " |        A tuple of `(tensors, state)`. The tensors match the number (`n_out`)\n",
            " |        promised by this layer, and are packaged as described in the `Layer`\n",
            " |        class docstring.\n",
            " |  \n",
            " |  save_to_file(self, file_name, weights_only=False, input_signature=None)\n",
            " |      Saves this layer and its sublayers to a pickled checkpoint.\n",
            " |      \n",
            " |      Args:\n",
            " |        file_name: Name/path of the pickled weights/state file.\n",
            " |        weights_only: If `True`, save only the layer's weights. Else\n",
            " |            save both weights and state.\n",
            " |        input_signature: Input signature to be used.\n",
            " |  \n",
            " |  weights_and_state_signature(self, input_signature, unsafe=False)\n",
            " |      Return a pair containing the signatures of weights and state.\n",
            " |  \n",
            " |  ----------------------------------------------------------------------\n",
            " |  Data descriptors inherited from trax.layers.base.Layer:\n",
            " |  \n",
            " |  __dict__\n",
            " |      dictionary for instance variables (if defined)\n",
            " |  \n",
            " |  __weakref__\n",
            " |      list of weak references to the object (if defined)\n",
            " |  \n",
            " |  has_backward\n",
            " |      Returns `True` if this layer provides its own custom backward pass code.\n",
            " |      \n",
            " |      A layer subclass that provides custom backward pass code (for custom\n",
            " |      gradients) must override this method to return `True`.\n",
            " |  \n",
            " |  n_in\n",
            " |      Returns how many tensors this layer expects as input.\n",
            " |  \n",
            " |  n_out\n",
            " |      Returns how many tensors this layer promises as output.\n",
            " |  \n",
            " |  name\n",
            " |      Returns the name of this layer.\n",
            " |  \n",
            " |  rng\n",
            " |      Returns this layer's current single-use random number generator.\n",
            " |      \n",
            " |      Code that wants to base random samples on this generator must explicitly\n",
            " |      split off new generators from it. (See, for example, the `rng` setter code\n",
            " |      below.)\n",
            " |  \n",
            " |  state\n",
            " |      Returns a tuple containing this layer's state; may be empty.\n",
            " |      \n",
            " |      If the layer has sublayers, the state by convention will be\n",
            " |      a tuple of length `len(sublayers)` containing sublayer states.\n",
            " |      Note that in this case self._state only marks which ones are shared.\n",
            " |  \n",
            " |  sublayers\n",
            " |      Returns a tuple containing this layer's sublayers; may be empty.\n",
            " |  \n",
            " |  weights\n",
            " |      Returns this layer's weights.\n",
            " |      \n",
            " |      Depending on the layer, the weights can be in the form of:\n",
            " |      \n",
            " |        - an empty tuple\n",
            " |        - a tensor (ndarray)\n",
            " |        - a nested structure of tuples and tensors\n",
            " |      \n",
            " |      If the layer has sublayers, the weights by convention will be\n",
            " |      a tuple of length `len(sublayers)` containing the weights of sublayers.\n",
            " |      Note that in this case self._weights only marks which ones are shared.\n",
            "\n"
          ]
        }
      ]
    },
    {
      "cell_type": "code",
      "source": [
        "# Layer initialization\n",
        "norm = layers.LayerNorm()\n",
        "# You first must know what the input data will look like\n",
        "x = np.array([0, 1, 2, 3], dtype=\"float\")\n",
        "\n",
        "# Use the input data signature to get shape and type for initializing weights and biases\n",
        "norm.init(shapes.signature(x)) # We need to convert the input datatype from usual tuple to trax ShapeDtype\n",
        "\n",
        "print(\"Normal shape:\",x.shape, \"Data Type:\",type(x.shape))\n",
        "print(\"Shapes Trax:\",shapes.signature(x),\"Data Type:\",type(shapes.signature(x)))\n",
        "\n",
        "# Inspect properties\n",
        "print(\"-- Properties --\")\n",
        "print(\"name :\", norm.name)\n",
        "print(\"expected inputs :\", norm.n_in)\n",
        "print(\"promised outputs :\", norm.n_out)\n",
        "# Weights and biases\n",
        "print(\"weights :\", norm.weights[0])\n",
        "print(\"biases :\", norm.weights[1], \"\\n\")\n",
        "\n",
        "# Inputs\n",
        "print(\"-- Inputs --\")\n",
        "print(\"x :\", x)\n",
        "\n",
        "# Outputs\n",
        "y = norm(x)\n",
        "print(\"-- Outputs --\")\n",
        "print(\"y :\", y)"
      ],
      "metadata": {
        "id": "UIgzFmv4CkV1",
        "colab": {
          "base_uri": "https://localhost:8080/"
        },
        "outputId": "8c66243f-9044-42d0-f52f-41ed49793769"
      },
      "execution_count": 11,
      "outputs": [
        {
          "output_type": "stream",
          "name": "stderr",
          "text": [
            "/usr/local/lib/python3.7/dist-packages/jax/_src/numpy/lax_numpy.py:1975: UserWarning: Explicitly requested dtype float64 requested in ones is not available, and will be truncated to dtype float32. To enable more dtypes, set the jax_enable_x64 configuration option or the JAX_ENABLE_X64 shell environment variable. See https://github.com/google/jax#current-gotchas for more.\n",
            "  lax_internal._check_user_dtype_supported(dtype, \"ones\")\n",
            "/usr/local/lib/python3.7/dist-packages/jax/_src/numpy/lax_numpy.py:1966: UserWarning: Explicitly requested dtype float64 requested in zeros is not available, and will be truncated to dtype float32. To enable more dtypes, set the jax_enable_x64 configuration option or the JAX_ENABLE_X64 shell environment variable. See https://github.com/google/jax#current-gotchas for more.\n",
            "  lax_internal._check_user_dtype_supported(dtype, \"zeros\")\n"
          ]
        },
        {
          "output_type": "stream",
          "name": "stdout",
          "text": [
            "Normal shape: (4,) Data Type: <class 'tuple'>\n",
            "Shapes Trax: ShapeDtype{shape:(4,), dtype:float64} Data Type: <class 'trax.shapes.ShapeDtype'>\n",
            "-- Properties --\n",
            "name : LayerNorm\n",
            "expected inputs : 1\n",
            "promised outputs : 1\n",
            "weights : [1. 1. 1. 1.]\n",
            "biases : [0. 0. 0. 0.] \n",
            "\n",
            "-- Inputs --\n",
            "x : [0. 1. 2. 3.]\n",
            "-- Outputs --\n",
            "y : [-1.3416404  -0.44721344  0.44721344  1.3416404 ]\n"
          ]
        }
      ]
    },
    {
      "cell_type": "markdown",
      "source": [
        "### Custom Layers\n",
        "This is where things start getting more interesting! You can create your own custom layers too and define custom functions for computations by using ``tl.Fn``. Let me show you how."
      ],
      "metadata": {
        "id": "1Kt5H-uy-UK3"
      }
    },
    {
      "cell_type": "code",
      "source": [
        "help(layers.Fn)"
      ],
      "metadata": {
        "colab": {
          "base_uri": "https://localhost:8080/"
        },
        "id": "Kh5m0tFM9uoZ",
        "outputId": "48880a8f-27ee-4909-fd13-642e75ff5d03"
      },
      "execution_count": 12,
      "outputs": [
        {
          "output_type": "stream",
          "name": "stdout",
          "text": [
            "Help on function Fn in module trax.layers.base:\n",
            "\n",
            "Fn(name, f, n_out=1)\n",
            "    Returns a layer with no weights that applies the function `f`.\n",
            "    \n",
            "    `f` can take and return any number of arguments, and takes only positional\n",
            "    arguments -- no default or keyword arguments. It often uses JAX-numpy (`jnp`).\n",
            "    The following, for example, would create a layer that takes two inputs and\n",
            "    returns two outputs -- element-wise sums and maxima:\n",
            "    \n",
            "        `Fn('SumAndMax', lambda x0, x1: (x0 + x1, jnp.maximum(x0, x1)), n_out=2)`\n",
            "    \n",
            "    The layer's number of inputs (`n_in`) is automatically set to number of\n",
            "    positional arguments in `f`, but you must explicitly set the number of\n",
            "    outputs (`n_out`) whenever it's not the default value 1.\n",
            "    \n",
            "    Args:\n",
            "      name: Class-like name for the resulting layer; for use in debugging.\n",
            "      f: Pure function from input tensors to output tensors, where each input\n",
            "          tensor is a separate positional arg, e.g., `f(x0, x1) --> x0 + x1`.\n",
            "          Output tensors must be packaged as specified in the `Layer` class\n",
            "          docstring.\n",
            "      n_out: Number of outputs promised by the layer; default value 1.\n",
            "    \n",
            "    Returns:\n",
            "      Layer executing the function `f`.\n",
            "\n"
          ]
        }
      ]
    },
    {
      "cell_type": "code",
      "source": [
        "# Define a custom layer\n",
        "# In this example you will create a layer to calculate the input times 2\n",
        "\n",
        "def TimesTwo():\n",
        "    layer_name = \"TimesTwo\" #don't forget to give your custom layer a name to identify\n",
        "\n",
        "    # Custom function for the custom layer\n",
        "    def func(x):\n",
        "        return x * 2\n",
        "\n",
        "    return layers.Fn(layer_name, func)\n",
        "\n",
        "\n",
        "# Test it\n",
        "times_two = TimesTwo()\n",
        "\n",
        "# Inspect properties\n",
        "print(\"-- Properties --\")\n",
        "print(\"name :\", times_two.name)\n",
        "print(\"expected inputs :\", times_two.n_in)\n",
        "print(\"promised outputs :\", times_two.n_out, \"\\n\")\n",
        "\n",
        "# Inputs\n",
        "x = np.array([1, 2, 3])\n",
        "print(\"-- Inputs --\")\n",
        "print(\"x :\", x, \"\\n\")\n",
        "\n",
        "# Outputs\n",
        "y = times_two(x)\n",
        "print(\"-- Outputs --\")\n",
        "print(\"y :\", y)"
      ],
      "metadata": {
        "colab": {
          "base_uri": "https://localhost:8080/"
        },
        "id": "gOPXcvJD-aCg",
        "outputId": "e1f4e04c-f817-4c21-b006-a790d0cd7e09"
      },
      "execution_count": 13,
      "outputs": [
        {
          "output_type": "stream",
          "name": "stdout",
          "text": [
            "-- Properties --\n",
            "name : TimesTwo\n",
            "expected inputs : 1\n",
            "promised outputs : 1 \n",
            "\n",
            "-- Inputs --\n",
            "x : [1 2 3] \n",
            "\n",
            "-- Outputs --\n",
            "y : [2 4 6]\n"
          ]
        }
      ]
    },
    {
      "cell_type": "markdown",
      "source": [
        "### Combinators\n",
        "You can combine layers to build more complex layers. Trax provides a set of objects named combinator layers to make this happen. Combinators are themselves layers, so behavior commutes.\n",
        "\n",
        "#### Serial Combinator\n",
        "This is the most common and easiest to use. For example could build a simple neural network by combining layers into a single layer using the ``Serial`` combinator. This new layer then acts just like a single layer, so you can inspect intputs, outputs and weights. Or even combine it into another layer! Combinators can then be used as trainable models. Try adding more layers\n",
        "\n",
        "**Note:As you must have guessed, if there is serial combinator, there must be a parallel combinator as well. Do try to explore about combinators and other layers from the trax documentation and look at the repo to understand how these layers are written.**"
      ],
      "metadata": {
        "id": "zdYWp25l-9vp"
      }
    },
    {
      "cell_type": "code",
      "source": [
        "# help(tl.Serial)\n",
        "# help(tl.Parallel)"
      ],
      "metadata": {
        "id": "haEppSml-1jo"
      },
      "execution_count": 14,
      "outputs": []
    },
    {
      "cell_type": "code",
      "source": [
        "serial = layers.Serial(\n",
        "    layers.LayerNorm(),\n",
        "    layers.Relu(),\n",
        "    times_two,\n",
        "    layers.Dense(n_units=2),\n",
        "    layers.Dense(n_units=1),\n",
        "    layers.LogSoftmax()\n",
        ")\n",
        "\n",
        "x = np.array([-2, -1, 0, 1, 2]) #input\n",
        "serial.init(shapes.signature(x)) #initialising serial instance\n",
        "\n",
        "print(\"-- Serial Model --\")\n",
        "print(serial,\"\\n\")\n",
        "print(\"-- Properties --\")\n",
        "print(\"name :\", serial.name)\n",
        "print(\"sublayers :\", serial.sublayers)\n",
        "print(\"expected inputs :\", serial.n_in)\n",
        "print(\"promised outputs :\", serial.n_out)\n",
        "print(\"weights & biases:\", serial.weights, \"\\n\")\n",
        "\n",
        "# Inputs\n",
        "print(\"-- Inputs --\")\n",
        "print(\"x :\", x, \"\\n\")\n",
        "\n",
        "# Outputs\n",
        "y = serial(x)\n",
        "print(\"-- Outputs --\")\n",
        "print(\"y :\", y)"
      ],
      "metadata": {
        "colab": {
          "base_uri": "https://localhost:8080/"
        },
        "id": "T22IlgZf_K9z",
        "outputId": "0bd16ffc-597d-49df-8600-6781e5c4503b"
      },
      "execution_count": 18,
      "outputs": [
        {
          "output_type": "stream",
          "name": "stderr",
          "text": [
            "/usr/local/lib/python3.7/dist-packages/jax/_src/numpy/lax_numpy.py:1975: UserWarning: Explicitly requested dtype int64 requested in ones is not available, and will be truncated to dtype int32. To enable more dtypes, set the jax_enable_x64 configuration option or the JAX_ENABLE_X64 shell environment variable. See https://github.com/google/jax#current-gotchas for more.\n",
            "  lax_internal._check_user_dtype_supported(dtype, \"ones\")\n",
            "/usr/local/lib/python3.7/dist-packages/jax/_src/numpy/lax_numpy.py:1966: UserWarning: Explicitly requested dtype int64 requested in zeros is not available, and will be truncated to dtype int32. To enable more dtypes, set the jax_enable_x64 configuration option or the JAX_ENABLE_X64 shell environment variable. See https://github.com/google/jax#current-gotchas for more.\n",
            "  lax_internal._check_user_dtype_supported(dtype, \"zeros\")\n"
          ]
        },
        {
          "output_type": "stream",
          "name": "stdout",
          "text": [
            "-- Serial Model --\n",
            "Serial[\n",
            "  LayerNorm\n",
            "  Serial[\n",
            "    Relu\n",
            "  ]\n",
            "  TimesTwo\n",
            "  Dense_2\n",
            "  Dense_1\n",
            "  LogSoftmax\n",
            "] \n",
            "\n",
            "-- Properties --\n",
            "name : Serial\n",
            "sublayers : [LayerNorm, Serial[\n",
            "  Relu\n",
            "], TimesTwo, Dense_2, Dense_1, LogSoftmax]\n",
            "expected inputs : 1\n",
            "promised outputs : 1\n",
            "weights & biases: ((DeviceArray([1, 1, 1, 1, 1], dtype=int32), DeviceArray([0, 0, 0, 0, 0], dtype=int32)), ((), (), ()), (), (DeviceArray([[ 0.7021563 ,  0.4600886 ],\n",
            "             [ 0.80244267, -0.5547962 ],\n",
            "             [-0.61964595,  0.03438354],\n",
            "             [-0.23469603, -0.32335466],\n",
            "             [-0.7758545 , -0.14016992]], dtype=float32), DeviceArray([ 1.0260850e-06, -1.2701083e-06], dtype=float32)), (DeviceArray([[-0.28807604],\n",
            "             [ 0.27553117]], dtype=float32), DeviceArray([5.4970866e-07], dtype=float32)), ()) \n",
            "\n",
            "-- Inputs --\n",
            "x : [-2 -1  0  1  2] \n",
            "\n",
            "-- Outputs --\n",
            "y : [0.]\n"
          ]
        }
      ]
    },
    {
      "cell_type": "markdown",
      "source": [
        "## JAX\n",
        "Just remember to lookout for which numpy you are using, the regular ol' numpy or Trax's JAX compatible numpy. Both tend to use the alias np so watch those import blocks.\n",
        "\n",
        "**Note:There are certain things which are still not possible in fastmath.numpy which can be done in numpy so you will see in assignments we will switch between them to get our work done.**"
      ],
      "metadata": {
        "id": "PePumN7H_7Eh"
      }
    },
    {
      "cell_type": "code",
      "source": [
        "# Numpy vs fastmath.numpy have different data types\n",
        "# Regular ol' numpy\n",
        "x_numpy = np.array([1, 2, 3])\n",
        "print(\"good old numpy : \", type(x_numpy), \"\\n\")\n",
        "\n",
        "# Fastmath and jax numpy\n",
        "x_jax = fastmath.numpy.array([1, 2, 3])\n",
        "print(\"jax trax numpy : \", type(x_jax))"
      ],
      "metadata": {
        "colab": {
          "base_uri": "https://localhost:8080/"
        },
        "id": "oTQ3AYBN_Ten",
        "outputId": "ac66a2da-55b2-4cf1-b20a-752318b9bc12"
      },
      "execution_count": 19,
      "outputs": [
        {
          "output_type": "stream",
          "name": "stdout",
          "text": [
            "good old numpy :  <class 'numpy.ndarray'> \n",
            "\n",
            "jax trax numpy :  <class 'jaxlib.xla_extension.DeviceArray'>\n"
          ]
        }
      ]
    },
    {
      "cell_type": "markdown",
      "source": [
        "## Summary\n",
        "Trax is a concise framework, built on TensorFlow, for end to end machine learning. The key building blocks are layers and combinators. This notebook is just a taste, but sets you up with some key inuitions to take forward into the rest of the course and assignments where you will build end to end models."
      ],
      "metadata": {
        "id": "gYn643UIABfv"
      }
    }
  ]
}